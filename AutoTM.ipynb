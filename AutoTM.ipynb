{
  "nbformat": 4,
  "nbformat_minor": 0,
  "metadata": {
    "colab": {
      "provenance": [],
      "gpuType": "T4"
    },
    "kernelspec": {
      "name": "python3",
      "display_name": "Python 3"
    },
    "language_info": {
      "name": "python"
    },
    "accelerator": "GPU"
  },
  "cells": [
    {
      "cell_type": "code",
      "execution_count": 1,
      "metadata": {
        "colab": {
          "base_uri": "https://localhost:8080/"
        },
        "id": "XxVLtJcXxOPQ",
        "outputId": "d3254d69-ddaf-4554-d6ad-af66d17842e1"
      },
      "outputs": [
        {
          "output_type": "stream",
          "name": "stdout",
          "text": [
            "\u001b[2K     \u001b[90m━━━━━━━━━━━━━━━━━━━━━━━━━━━━━━━━━━━━━━━━\u001b[0m \u001b[32m3.8/3.8 MB\u001b[0m \u001b[31m11.0 MB/s\u001b[0m eta \u001b[36m0:00:00\u001b[0m\n",
            "\u001b[2K     \u001b[90m━━━━━━━━━━━━━━━━━━━━━━━━━━━━━━━━━━━━━━━━\u001b[0m \u001b[32m468.9/468.9 kB\u001b[0m \u001b[31m10.6 MB/s\u001b[0m eta \u001b[36m0:00:00\u001b[0m\n",
            "\u001b[?25hcreated virtual environment CPython3.10.12.final.0-64 in 2127ms\n",
            "  creator CPython3Posix(dest=/content/autotmenv, clear=False, no_vcs_ignore=False, global=False)\n",
            "  seeder FromAppData(download=False, pip=bundle, setuptools=bundle, wheel=bundle, via=copy, app_data_dir=/root/.local/share/virtualenv)\n",
            "    added seed packages: pip==23.3.1, setuptools==69.0.2, wheel==0.42.0\n",
            "  activators BashActivator,CShellActivator,FishActivator,NushellActivator,PowerShellActivator,PythonActivator\n",
            "--2023-12-19 09:08:10--  https://repo.anaconda.com/miniconda/Miniconda3-latest-Linux-x86_64.sh\n",
            "Resolving repo.anaconda.com (repo.anaconda.com)... 104.16.131.3, 104.16.130.3, 2606:4700::6810:8303, ...\n",
            "Connecting to repo.anaconda.com (repo.anaconda.com)|104.16.131.3|:443... connected.\n",
            "HTTP request sent, awaiting response... 200 OK\n",
            "Length: 141672045 (135M) [text/x-sh]\n",
            "Saving to: ‘Miniconda3-latest-Linux-x86_64.sh’\n",
            "\n",
            "Miniconda3-latest-L 100%[===================>] 135.11M  90.0MB/s    in 1.5s    \n",
            "\n",
            "2023-12-19 09:08:12 (90.0 MB/s) - ‘Miniconda3-latest-Linux-x86_64.sh’ saved [141672045/141672045]\n",
            "\n",
            "PREFIX=/usr/local\n",
            "Unpacking payload ...\n",
            "                                                                                                    \n",
            "Installing base environment...\n",
            "\n",
            "\n",
            "Downloading and Extracting Packages:\n",
            "\n",
            "\n",
            "Downloading and Extracting Packages:\n",
            "\n",
            "Preparing transaction: - \b\b\\ \b\b| \b\b/ \b\b- \b\bdone\n",
            "Executing transaction: | \b\b/ \b\b- \b\b\\ \b\b| \b\b/ \b\b- \b\b\\ \b\b| \b\b/ \b\b- \b\b\\ \b\b| \b\b/ \b\b- \b\b\\ \b\b| \b\b/ \b\b- \b\b\\ \b\b| \b\b/ \b\b- \b\b\\ \b\b| \b\b/ \b\b- \b\bdone\n",
            "installation finished.\n",
            "WARNING:\n",
            "    You currently have a PYTHONPATH environment variable set. This may cause\n",
            "    unexpected behavior when running the Python interpreter in Miniconda3.\n",
            "    For best results, please verify that your PYTHONPATH only points to\n",
            "    directories of packages that are compatible with the Python interpreter\n",
            "    in Miniconda3: /usr/local\n",
            "Channels:\n",
            " - defaults\n",
            "Platform: linux-64\n",
            "Collecting package metadata (repodata.json): ...working... done\n",
            "Solving environment: ...working... done\n",
            "\n",
            "## Package Plan ##\n",
            "\n",
            "  environment location: /usr/local\n",
            "\n",
            "  added / updated specs:\n",
            "    - python=3.9\n",
            "    - ujson\n",
            "\n",
            "\n",
            "The following packages will be downloaded:\n",
            "\n",
            "    package                    |            build\n",
            "    ---------------------------|-----------------\n",
            "    boltons-23.0.0             |   py39h06a4308_0         426 KB\n",
            "    brotli-python-1.0.9        |   py39h6a678d5_7         330 KB\n",
            "    ca-certificates-2023.12.12 |       h06a4308_0         126 KB\n",
            "    certifi-2023.11.17         |   py39h06a4308_0         158 KB\n",
            "    cffi-1.16.0                |   py39h5eee18b_0         251 KB\n",
            "    conda-23.11.0              |   py39h06a4308_0         986 KB\n",
            "    conda-content-trust-0.2.0  |   py39h06a4308_0          51 KB\n",
            "    conda-libmamba-solver-23.12.0|   py39h06a4308_0          79 KB\n",
            "    conda-package-handling-2.2.0|   py39h06a4308_0         267 KB\n",
            "    conda-package-streaming-0.9.0|   py39h06a4308_0          27 KB\n",
            "    cryptography-41.0.7        |   py39hdda0065_0         2.0 MB\n",
            "    distro-1.8.0               |   py39h06a4308_0          31 KB\n",
            "    idna-3.4                   |   py39h06a4308_0          93 KB\n",
            "    libmambapy-1.5.3           |   py39h2dafd23_0         315 KB\n",
            "    menuinst-2.0.1             |   py39h06a4308_1         136 KB\n",
            "    packaging-23.1             |   py39h06a4308_0          77 KB\n",
            "    pip-23.3.1                 |   py39h06a4308_0         2.6 MB\n",
            "    platformdirs-3.10.0        |   py39h06a4308_0          33 KB\n",
            "    pluggy-1.0.0               |   py39h06a4308_1          28 KB\n",
            "    pycosat-0.6.6              |   py39h5eee18b_0          94 KB\n",
            "    pyopenssl-23.2.0           |   py39h06a4308_0          96 KB\n",
            "    pysocks-1.7.1              |   py39h06a4308_0          31 KB\n",
            "    python-3.9.18              |       h955ad1f_0        25.1 MB\n",
            "    requests-2.31.0            |   py39h06a4308_0          96 KB\n",
            "    ruamel.yaml-0.17.21        |   py39h5eee18b_0         178 KB\n",
            "    ruamel.yaml.clib-0.2.6     |   py39h5eee18b_1         140 KB\n",
            "    setuptools-68.2.2          |   py39h06a4308_0         948 KB\n",
            "    tqdm-4.65.0                |   py39hb070fc8_0         131 KB\n",
            "    ujson-5.4.0                |   py39h6a678d5_0          44 KB\n",
            "    urllib3-1.26.18            |   py39h06a4308_0         198 KB\n",
            "    wheel-0.41.2               |   py39h06a4308_0         108 KB\n",
            "    zstandard-0.19.0           |   py39h5eee18b_0         474 KB\n",
            "    ------------------------------------------------------------\n",
            "                                           Total:        35.5 MB\n",
            "\n",
            "The following NEW packages will be INSTALLED:\n",
            "\n",
            "  ruamel.yaml.clib   pkgs/main/linux-64::ruamel.yaml.clib-0.2.6-py39h5eee18b_1 \n",
            "  ujson              pkgs/main/linux-64::ujson-5.4.0-py39h6a678d5_0 \n",
            "\n",
            "The following packages will be REMOVED:\n",
            "\n",
            "  truststore-0.8.0-py311h06a4308_0\n",
            "\n",
            "The following packages will be UPDATED:\n",
            "\n",
            "  ca-certificates                     2023.08.22-h06a4308_0 --> 2023.12.12-h06a4308_0 \n",
            "\n",
            "The following packages will be DOWNGRADED:\n",
            "\n",
            "  boltons                            23.0.0-py311h06a4308_0 --> 23.0.0-py39h06a4308_0 \n",
            "  brotli-python                       1.0.9-py311h6a678d5_7 --> 1.0.9-py39h6a678d5_7 \n",
            "  certifi                        2023.11.17-py311h06a4308_0 --> 2023.11.17-py39h06a4308_0 \n",
            "  cffi                               1.16.0-py311h5eee18b_0 --> 1.16.0-py39h5eee18b_0 \n",
            "  conda                             23.11.0-py311h06a4308_0 --> 23.11.0-py39h06a4308_0 \n",
            "  conda-content-tru~                  0.2.0-py311h06a4308_0 --> 0.2.0-py39h06a4308_0 \n",
            "  conda-libmamba-so~                23.12.0-py311h06a4308_0 --> 23.12.0-py39h06a4308_0 \n",
            "  conda-package-han~                  2.2.0-py311h06a4308_0 --> 2.2.0-py39h06a4308_0 \n",
            "  conda-package-str~                  0.9.0-py311h06a4308_0 --> 0.9.0-py39h06a4308_0 \n",
            "  cryptography                       41.0.7-py311hdda0065_0 --> 41.0.7-py39hdda0065_0 \n",
            "  distro                              1.8.0-py311h06a4308_0 --> 1.8.0-py39h06a4308_0 \n",
            "  idna                                  3.4-py311h06a4308_0 --> 3.4-py39h06a4308_0 \n",
            "  libmambapy                          1.5.3-py311h2dafd23_0 --> 1.5.3-py39h2dafd23_0 \n",
            "  menuinst                            2.0.1-py311h06a4308_1 --> 2.0.1-py39h06a4308_1 \n",
            "  packaging                            23.1-py311h06a4308_0 --> 23.1-py39h06a4308_0 \n",
            "  pip                                23.3.1-py311h06a4308_0 --> 23.3.1-py39h06a4308_0 \n",
            "  platformdirs                       3.10.0-py311h06a4308_0 --> 3.10.0-py39h06a4308_0 \n",
            "  pluggy                              1.0.0-py311h06a4308_1 --> 1.0.0-py39h06a4308_1 \n",
            "  pycosat                             0.6.6-py311h5eee18b_0 --> 0.6.6-py39h5eee18b_0 \n",
            "  pyopenssl                          23.2.0-py311h06a4308_0 --> 23.2.0-py39h06a4308_0 \n",
            "  pysocks                             1.7.1-py311h06a4308_0 --> 1.7.1-py39h06a4308_0 \n",
            "  python                                  3.11.5-h955ad1f_0 --> 3.9.18-h955ad1f_0 \n",
            "  requests                           2.31.0-py311h06a4308_0 --> 2.31.0-py39h06a4308_0 \n",
            "  ruamel.yaml                       0.17.21-py311h5eee18b_0 --> 0.17.21-py39h5eee18b_0 \n",
            "  setuptools                         68.2.2-py311h06a4308_0 --> 68.2.2-py39h06a4308_0 \n",
            "  tqdm                               4.65.0-py311h92b7b1e_0 --> 4.65.0-py39hb070fc8_0 \n",
            "  urllib3                           1.26.18-py311h06a4308_0 --> 1.26.18-py39h06a4308_0 \n",
            "  wheel                              0.41.2-py311h06a4308_0 --> 0.41.2-py39h06a4308_0 \n",
            "  zstandard                          0.19.0-py311h5eee18b_0 --> 0.19.0-py39h5eee18b_0 \n",
            "\n",
            "\n",
            "Preparing transaction: ...working... done\n",
            "Verifying transaction: ...working... done\n",
            "Executing transaction: ...working... done\n"
          ]
        }
      ],
      "source": [
        "!pip install --quiet virtualenv\n",
        "!virtualenv autotmenv\n",
        "!wget https://repo.anaconda.com/miniconda/Miniconda3-latest-Linux-x86_64.sh\n",
        "!chmod +x Miniconda3-latest-Linux-x86_64.sh\n",
        "!./Miniconda3-latest-Linux-x86_64.sh -b -f -p /usr/local\n",
        "!conda install -q -y --prefix /usr/local python=3.9 ujson"
      ]
    },
    {
      "cell_type": "code",
      "source": [
        "import sys\n",
        "import os\n",
        "sys.path.append('/usr/local/lib/python3.9/site-packages/')\n",
        "os.environ['CONDA_PREFIX'] = '/usr/local/envs/autotmenv'"
      ],
      "metadata": {
        "id": "rAaj3qSHxrRb"
      },
      "execution_count": 2,
      "outputs": []
    },
    {
      "cell_type": "code",
      "source": [
        "! pip install --quiet autotm"
      ],
      "metadata": {
        "colab": {
          "base_uri": "https://localhost:8080/"
        },
        "id": "e6wJfEg2xszi",
        "outputId": "fd1d2eca-db0b-4ed5-d339-1183b50786eb"
      },
      "execution_count": 3,
      "outputs": [
        {
          "output_type": "stream",
          "name": "stdout",
          "text": [
            "\u001b[2K     \u001b[90m━━━━━━━━━━━━━━━━━━━━━━━━━━━━━━━━━━━━━━━━\u001b[0m \u001b[32m2.1/2.1 MB\u001b[0m \u001b[31m7.4 MB/s\u001b[0m eta \u001b[36m0:00:00\u001b[0m\n",
            "\u001b[2K     \u001b[90m━━━━━━━━━━━━━━━━━━━━━━━━━━━━━━━━━━━━━━━━\u001b[0m \u001b[32m1.6/1.6 MB\u001b[0m \u001b[31m63.5 MB/s\u001b[0m eta \u001b[36m0:00:00\u001b[0m\n",
            "\u001b[2K     \u001b[90m━━━━━━━━━━━━━━━━━━━━━━━━━━━━━━━━━━━━━━━━\u001b[0m \u001b[32m1.5/1.5 MB\u001b[0m \u001b[31m59.8 MB/s\u001b[0m eta \u001b[36m0:00:00\u001b[0m\n",
            "\u001b[2K     \u001b[90m━━━━━━━━━━━━━━━━━━━━━━━━━━━━━━━━━━━━━━━━\u001b[0m \u001b[32m61.2/61.2 kB\u001b[0m \u001b[31m2.9 MB/s\u001b[0m eta \u001b[36m0:00:00\u001b[0m\n",
            "\u001b[2K     \u001b[90m━━━━━━━━━━━━━━━━━━━━━━━━━━━━━━━━━━━━━━━━\u001b[0m \u001b[32m1.0/1.0 MB\u001b[0m \u001b[31m48.8 MB/s\u001b[0m eta \u001b[36m0:00:00\u001b[0m\n",
            "\u001b[2K     \u001b[90m━━━━━━━━━━━━━━━━━━━━━━━━━━━━━━━━━━━━━━━━\u001b[0m \u001b[32m65.2/65.2 kB\u001b[0m \u001b[31m4.9 MB/s\u001b[0m eta \u001b[36m0:00:00\u001b[0m\n",
            "\u001b[2K     \u001b[90m━━━━━━━━━━━━━━━━━━━━━━━━━━━━━━━━━━━━━━━━\u001b[0m \u001b[32m60.4/60.4 kB\u001b[0m \u001b[31m3.4 MB/s\u001b[0m eta \u001b[36m0:00:00\u001b[0m\n",
            "\u001b[2K     \u001b[90m━━━━━━━━━━━━━━━━━━━━━━━━━━━━━━━━━━━━━━━━\u001b[0m \u001b[32m45.9/45.9 kB\u001b[0m \u001b[31m3.1 MB/s\u001b[0m eta \u001b[36m0:00:00\u001b[0m\n",
            "\u001b[2K     \u001b[90m━━━━━━━━━━━━━━━━━━━━━━━━━━━━━━━━━━━━━━━━\u001b[0m \u001b[32m133.1/133.1 kB\u001b[0m \u001b[31m11.8 MB/s\u001b[0m eta \u001b[36m0:00:00\u001b[0m\n",
            "\u001b[2K     \u001b[90m━━━━━━━━━━━━━━━━━━━━━━━━━━━━━━━━━━━━━━━━\u001b[0m \u001b[32m181.6/181.6 kB\u001b[0m \u001b[31m16.0 MB/s\u001b[0m eta \u001b[36m0:00:00\u001b[0m\n",
            "\u001b[2K     \u001b[90m━━━━━━━━━━━━━━━━━━━━━━━━━━━━━━━━━━━━━━━━\u001b[0m \u001b[32m840.9/840.9 kB\u001b[0m \u001b[31m17.1 MB/s\u001b[0m eta \u001b[36m0:00:00\u001b[0m\n",
            "\u001b[?25h  Preparing metadata (setup.py) ... \u001b[?25l\u001b[?25hdone\n",
            "\u001b[2K     \u001b[90m━━━━━━━━━━━━━━━━━━━━━━━━━━━━━━━━━━━━━━━━\u001b[0m \u001b[32m200.5/200.5 kB\u001b[0m \u001b[31m17.2 MB/s\u001b[0m eta \u001b[36m0:00:00\u001b[0m\n",
            "\u001b[2K     \u001b[90m━━━━━━━━━━━━━━━━━━━━━━━━━━━━━━━━━━━━━━━━\u001b[0m \u001b[32m41.2/41.2 kB\u001b[0m \u001b[31m2.6 MB/s\u001b[0m eta \u001b[36m0:00:00\u001b[0m\n",
            "\u001b[2K     \u001b[90m━━━━━━━━━━━━━━━━━━━━━━━━━━━━━━━━━━━━━━━━\u001b[0m \u001b[32m247.7/247.7 kB\u001b[0m \u001b[31m18.5 MB/s\u001b[0m eta \u001b[36m0:00:00\u001b[0m\n",
            "\u001b[2K     \u001b[90m━━━━━━━━━━━━━━━━━━━━━━━━━━━━━━━━━━━━━━━━\u001b[0m \u001b[32m341.8/341.8 kB\u001b[0m \u001b[31m20.9 MB/s\u001b[0m eta \u001b[36m0:00:00\u001b[0m\n",
            "\u001b[2K     \u001b[90m━━━━━━━━━━━━━━━━━━━━━━━━━━━━━━━━━━━━━━━━\u001b[0m \u001b[32m40.9/40.9 kB\u001b[0m \u001b[31m3.5 MB/s\u001b[0m eta \u001b[36m0:00:00\u001b[0m\n",
            "\u001b[2K     \u001b[90m━━━━━━━━━━━━━━━━━━━━━━━━━━━━━━━━━━━━━━━━\u001b[0m \u001b[32m998.1/998.1 kB\u001b[0m \u001b[31m37.4 MB/s\u001b[0m eta \u001b[36m0:00:00\u001b[0m\n",
            "\u001b[?25h  Preparing metadata (setup.py) ... \u001b[?25l\u001b[?25hdone\n",
            "\u001b[2K     \u001b[90m━━━━━━━━━━━━━━━━━━━━━━━━━━━━━━━━━━━━━━━━\u001b[0m \u001b[32m151.7/151.7 kB\u001b[0m \u001b[31m12.0 MB/s\u001b[0m eta \u001b[36m0:00:00\u001b[0m\n",
            "\u001b[2K     \u001b[90m━━━━━━━━━━━━━━━━━━━━━━━━━━━━━━━━━━━━━━━━\u001b[0m \u001b[32m157.2/157.2 kB\u001b[0m \u001b[31m12.0 MB/s\u001b[0m eta \u001b[36m0:00:00\u001b[0m\n",
            "\u001b[2K   \u001b[90m━━━━━━━━━━━━━━━━━━━━━━━━━━━━━━━━━━━━━━━━\u001b[0m \u001b[32m60.7/60.7 kB\u001b[0m \u001b[31m5.2 MB/s\u001b[0m eta \u001b[36m0:00:00\u001b[0m\n",
            "\u001b[2K   \u001b[90m━━━━━━━━━━━━━━━━━━━━━━━━━━━━━━━━━━━━━━━━\u001b[0m \u001b[32m6.6/6.6 MB\u001b[0m \u001b[31m40.6 MB/s\u001b[0m eta \u001b[36m0:00:00\u001b[0m\n",
            "\u001b[2K   \u001b[90m━━━━━━━━━━━━━━━━━━━━━━━━━━━━━━━━━━━━━━━━\u001b[0m \u001b[32m18.2/18.2 MB\u001b[0m \u001b[31m29.2 MB/s\u001b[0m eta \u001b[36m0:00:00\u001b[0m\n",
            "\u001b[2K   \u001b[90m━━━━━━━━━━━━━━━━━━━━━━━━━━━━━━━━━━━━━━━━\u001b[0m \u001b[32m381.9/381.9 kB\u001b[0m \u001b[31m24.3 MB/s\u001b[0m eta \u001b[36m0:00:00\u001b[0m\n",
            "\u001b[2K   \u001b[90m━━━━━━━━━━━━━━━━━━━━━━━━━━━━━━━━━━━━━━━━\u001b[0m \u001b[32m2.1/2.1 MB\u001b[0m \u001b[31m30.1 MB/s\u001b[0m eta \u001b[36m0:00:00\u001b[0m\n",
            "\u001b[2K   \u001b[90m━━━━━━━━━━━━━━━━━━━━━━━━━━━━━━━━━━━━━━━━\u001b[0m \u001b[32m86.7/86.7 kB\u001b[0m \u001b[31m6.6 MB/s\u001b[0m eta \u001b[36m0:00:00\u001b[0m\n",
            "\u001b[2K   \u001b[90m━━━━━━━━━━━━━━━━━━━━━━━━━━━━━━━━━━━━━━━━\u001b[0m \u001b[32m97.9/97.9 kB\u001b[0m \u001b[31m9.4 MB/s\u001b[0m eta \u001b[36m0:00:00\u001b[0m\n",
            "\u001b[2K   \u001b[90m━━━━━━━━━━━━━━━━━━━━━━━━━━━━━━━━━━━━━━━━\u001b[0m \u001b[32m115.3/115.3 kB\u001b[0m \u001b[31m10.1 MB/s\u001b[0m eta \u001b[36m0:00:00\u001b[0m\n",
            "\u001b[2K   \u001b[90m━━━━━━━━━━━━━━━━━━━━━━━━━━━━━━━━━━━━━━━━\u001b[0m \u001b[32m26.6/26.6 MB\u001b[0m \u001b[31m13.2 MB/s\u001b[0m eta \u001b[36m0:00:00\u001b[0m\n",
            "\u001b[2K   \u001b[90m━━━━━━━━━━━━━━━━━━━━━━━━━━━━━━━━━━━━━━━━\u001b[0m \u001b[32m36.6/36.6 MB\u001b[0m \u001b[31m8.7 MB/s\u001b[0m eta \u001b[36m0:00:00\u001b[0m\n",
            "\u001b[2K   \u001b[90m━━━━━━━━━━━━━━━━━━━━━━━━━━━━━━━━━━━━━━━━\u001b[0m \u001b[32m19.1/19.1 MB\u001b[0m \u001b[31m13.7 MB/s\u001b[0m eta \u001b[36m0:00:00\u001b[0m\n",
            "\u001b[2K   \u001b[90m━━━━━━━━━━━━━━━━━━━━━━━━━━━━━━━━━━━━━━━━\u001b[0m \u001b[32m12.3/12.3 MB\u001b[0m \u001b[31m7.2 MB/s\u001b[0m eta \u001b[36m0:00:00\u001b[0m\n",
            "\u001b[2K   \u001b[90m━━━━━━━━━━━━━━━━━━━━━━━━━━━━━━━━━━━━━━━━\u001b[0m \u001b[32m738.9/738.9 kB\u001b[0m \u001b[31m5.0 MB/s\u001b[0m eta \u001b[36m0:00:00\u001b[0m\n",
            "\u001b[2K   \u001b[90m━━━━━━━━━━━━━━━━━━━━━━━━━━━━━━━━━━━━━━━━\u001b[0m \u001b[32m10.9/10.9 MB\u001b[0m \u001b[31m5.4 MB/s\u001b[0m eta \u001b[36m0:00:00\u001b[0m\n",
            "\u001b[2K   \u001b[90m━━━━━━━━━━━━━━━━━━━━━━━━━━━━━━━━━━━━━━━━\u001b[0m \u001b[32m15.6/15.6 MB\u001b[0m \u001b[31m5.4 MB/s\u001b[0m eta \u001b[36m0:00:00\u001b[0m\n",
            "\u001b[2K   \u001b[90m━━━━━━━━━━━━━━━━━━━━━━━━━━━━━━━━━━━━━━━━\u001b[0m \u001b[32m676.3/676.3 kB\u001b[0m \u001b[31m4.0 MB/s\u001b[0m eta \u001b[36m0:00:00\u001b[0m\n",
            "\u001b[2K   \u001b[90m━━━━━━━━━━━━━━━━━━━━━━━━━━━━━━━━━━━━━━━━\u001b[0m \u001b[32m325.1/325.1 kB\u001b[0m \u001b[31m3.8 MB/s\u001b[0m eta \u001b[36m0:00:00\u001b[0m\n",
            "\u001b[2K   \u001b[90m━━━━━━━━━━━━━━━━━━━━━━━━━━━━━━━━━━━━━━━━\u001b[0m \u001b[32m230.6/230.6 kB\u001b[0m \u001b[31m4.0 MB/s\u001b[0m eta \u001b[36m0:00:00\u001b[0m\n",
            "\u001b[2K   \u001b[90m━━━━━━━━━━━━━━━━━━━━━━━━━━━━━━━━━━━━━━━━\u001b[0m \u001b[32m46.9/46.9 kB\u001b[0m \u001b[31m2.7 MB/s\u001b[0m eta \u001b[36m0:00:00\u001b[0m\n",
            "\u001b[2K   \u001b[90m━━━━━━━━━━━━━━━━━━━━━━━━━━━━━━━━━━━━━━━━\u001b[0m \u001b[32m150.3/150.3 kB\u001b[0m \u001b[31m4.3 MB/s\u001b[0m eta \u001b[36m0:00:00\u001b[0m\n",
            "\u001b[2K   \u001b[90m━━━━━━━━━━━━━━━━━━━━━━━━━━━━━━━━━━━━━━━━\u001b[0m \u001b[32m300.4/300.4 kB\u001b[0m \u001b[31m4.3 MB/s\u001b[0m eta \u001b[36m0:00:00\u001b[0m\n",
            "\u001b[2K   \u001b[90m━━━━━━━━━━━━━━━━━━━━━━━━━━━━━━━━━━━━━━━━\u001b[0m \u001b[32m148.1/148.1 kB\u001b[0m \u001b[31m4.4 MB/s\u001b[0m eta \u001b[36m0:00:00\u001b[0m\n",
            "\u001b[2K   \u001b[90m━━━━━━━━━━━━━━━━━━━━━━━━━━━━━━━━━━━━━━━━\u001b[0m \u001b[32m99.7/99.7 kB\u001b[0m \u001b[31m3.8 MB/s\u001b[0m eta \u001b[36m0:00:00\u001b[0m\n",
            "\u001b[2K   \u001b[90m━━━━━━━━━━━━━━━━━━━━━━━━━━━━━━━━━━━━━━━━\u001b[0m \u001b[32m190.6/190.6 kB\u001b[0m \u001b[31m3.7 MB/s\u001b[0m eta \u001b[36m0:00:00\u001b[0m\n",
            "\u001b[2K   \u001b[90m━━━━━━━━━━━━━━━━━━━━━━━━━━━━━━━━━━━━━━━━\u001b[0m \u001b[32m80.2/80.2 kB\u001b[0m \u001b[31m3.8 MB/s\u001b[0m eta \u001b[36m0:00:00\u001b[0m\n",
            "\u001b[2K   \u001b[90m━━━━━━━━━━━━━━━━━━━━━━━━━━━━━━━━━━━━━━━━\u001b[0m \u001b[32m302.2/302.2 kB\u001b[0m \u001b[31m4.4 MB/s\u001b[0m eta \u001b[36m0:00:00\u001b[0m\n",
            "\u001b[2K   \u001b[90m━━━━━━━━━━━━━━━━━━━━━━━━━━━━━━━━━━━━━━━━\u001b[0m \u001b[32m102.2/102.2 kB\u001b[0m \u001b[31m4.3 MB/s\u001b[0m eta \u001b[36m0:00:00\u001b[0m\n",
            "\u001b[2K   \u001b[90m━━━━━━━━━━━━━━━━━━━━━━━━━━━━━━━━━━━━━━━━\u001b[0m \u001b[32m49.4/49.4 kB\u001b[0m \u001b[31m3.7 MB/s\u001b[0m eta \u001b[36m0:00:00\u001b[0m\n",
            "\u001b[2K   \u001b[90m━━━━━━━━━━━━━━━━━━━━━━━━━━━━━━━━━━━━━━━━\u001b[0m \u001b[32m11.6/11.6 MB\u001b[0m \u001b[31m2.8 MB/s\u001b[0m eta \u001b[36m0:00:00\u001b[0m\n",
            "\u001b[2K   \u001b[90m━━━━━━━━━━━━━━━━━━━━━━━━━━━━━━━━━━━━━━━━\u001b[0m \u001b[32m1.6/1.6 MB\u001b[0m \u001b[31m2.0 MB/s\u001b[0m eta \u001b[36m0:00:00\u001b[0m\n",
            "\u001b[2K   \u001b[90m━━━━━━━━━━━━━━━━━━━━━━━━━━━━━━━━━━━━━━━━\u001b[0m \u001b[32m157.5/157.5 kB\u001b[0m \u001b[31m1.6 MB/s\u001b[0m eta \u001b[36m0:00:00\u001b[0m\n",
            "\u001b[2K   \u001b[90m━━━━━━━━━━━━━━━━━━━━━━━━━━━━━━━━━━━━━━━━\u001b[0m \u001b[32m38.0/38.0 MB\u001b[0m \u001b[31m2.5 MB/s\u001b[0m eta \u001b[36m0:00:00\u001b[0m\n",
            "\u001b[2K   \u001b[90m━━━━━━━━━━━━━━━━━━━━━━━━━━━━━━━━━━━━━━━━\u001b[0m \u001b[32m502.5/502.5 kB\u001b[0m \u001b[31m2.9 MB/s\u001b[0m eta \u001b[36m0:00:00\u001b[0m\n",
            "\u001b[2K   \u001b[90m━━━━━━━━━━━━━━━━━━━━━━━━━━━━━━━━━━━━━━━━\u001b[0m \u001b[32m773.3/773.3 kB\u001b[0m \u001b[31m2.5 MB/s\u001b[0m eta \u001b[36m0:00:00\u001b[0m\n",
            "\u001b[2K   \u001b[90m━━━━━━━━━━━━━━━━━━━━━━━━━━━━━━━━━━━━━━━━\u001b[0m \u001b[32m57.0/57.0 kB\u001b[0m \u001b[31m1.6 MB/s\u001b[0m eta \u001b[36m0:00:00\u001b[0m\n",
            "\u001b[2K   \u001b[90m━━━━━━━━━━━━━━━━━━━━━━━━━━━━━━━━━━━━━━━━\u001b[0m \u001b[32m3.1/3.1 MB\u001b[0m \u001b[31m2.2 MB/s\u001b[0m eta \u001b[36m0:00:00\u001b[0m\n",
            "\u001b[2K   \u001b[90m━━━━━━━━━━━━━━━━━━━━━━━━━━━━━━━━━━━━━━━━\u001b[0m \u001b[32m492.4/492.4 kB\u001b[0m \u001b[31m2.4 MB/s\u001b[0m eta \u001b[36m0:00:00\u001b[0m\n",
            "\u001b[2K   \u001b[90m━━━━━━━━━━━━━━━━━━━━━━━━━━━━━━━━━━━━━━━━\u001b[0m \u001b[32m937.7/937.7 kB\u001b[0m \u001b[31m2.6 MB/s\u001b[0m eta \u001b[36m0:00:00\u001b[0m\n",
            "\u001b[2K   \u001b[90m━━━━━━━━━━━━━━━━━━━━━━━━━━━━━━━━━━━━━━━━\u001b[0m \u001b[32m50.1/50.1 kB\u001b[0m \u001b[31m2.0 MB/s\u001b[0m eta \u001b[36m0:00:00\u001b[0m\n",
            "\u001b[2K   \u001b[90m━━━━━━━━━━━━━━━━━━━━━━━━━━━━━━━━━━━━━━━━\u001b[0m \u001b[32m10.2/10.2 MB\u001b[0m \u001b[31m2.7 MB/s\u001b[0m eta \u001b[36m0:00:00\u001b[0m\n",
            "\u001b[2K   \u001b[90m━━━━━━━━━━━━━━━━━━━━━━━━━━━━━━━━━━━━━━━━\u001b[0m \u001b[32m45.0/45.0 kB\u001b[0m \u001b[31m1.6 MB/s\u001b[0m eta \u001b[36m0:00:00\u001b[0m\n",
            "\u001b[2K   \u001b[90m━━━━━━━━━━━━━━━━━━━━━━━━━━━━━━━━━━━━━━━━\u001b[0m \u001b[32m311.0/311.0 kB\u001b[0m \u001b[31m2.3 MB/s\u001b[0m eta \u001b[36m0:00:00\u001b[0m\n",
            "\u001b[2K   \u001b[90m━━━━━━━━━━━━━━━━━━━━━━━━━━━━━━━━━━━━━━━━\u001b[0m \u001b[32m4.6/4.6 MB\u001b[0m \u001b[31m2.3 MB/s\u001b[0m eta \u001b[36m0:00:00\u001b[0m\n",
            "\u001b[2K   \u001b[90m━━━━━━━━━━━━━━━━━━━━━━━━━━━━━━━━━━━━━━━━\u001b[0m \u001b[32m62.7/62.7 kB\u001b[0m \u001b[31m1.7 MB/s\u001b[0m eta \u001b[36m0:00:00\u001b[0m\n",
            "\u001b[2K   \u001b[90m━━━━━━━━━━━━━━━━━━━━━━━━━━━━━━━━━━━━━━━━\u001b[0m \u001b[32m610.9/610.9 kB\u001b[0m \u001b[31m2.1 MB/s\u001b[0m eta \u001b[36m0:00:00\u001b[0m\n",
            "\u001b[2K   \u001b[90m━━━━━━━━━━━━━━━━━━━━━━━━━━━━━━━━━━━━━━━━\u001b[0m \u001b[32m1.6/1.6 MB\u001b[0m \u001b[31m2.0 MB/s\u001b[0m eta \u001b[36m0:00:00\u001b[0m\n",
            "\u001b[2K   \u001b[90m━━━━━━━━━━━━━━━━━━━━━━━━━━━━━━━━━━━━━━━━\u001b[0m \u001b[32m3.6/3.6 MB\u001b[0m \u001b[31m2.0 MB/s\u001b[0m eta \u001b[36m0:00:00\u001b[0m\n",
            "\u001b[2K   \u001b[90m━━━━━━━━━━━━━━━━━━━━━━━━━━━━━━━━━━━━━━━━\u001b[0m \u001b[32m103.1/103.1 kB\u001b[0m \u001b[31m1.6 MB/s\u001b[0m eta \u001b[36m0:00:00\u001b[0m\n",
            "\u001b[2K   \u001b[90m━━━━━━━━━━━━━━━━━━━━━━━━━━━━━━━━━━━━━━━━\u001b[0m \u001b[32m58.5/58.5 kB\u001b[0m \u001b[31m1.5 MB/s\u001b[0m eta \u001b[36m0:00:00\u001b[0m\n",
            "\u001b[2K   \u001b[90m━━━━━━━━━━━━━━━━━━━━━━━━━━━━━━━━━━━━━━━━\u001b[0m \u001b[32m226.7/226.7 kB\u001b[0m \u001b[31m1.8 MB/s\u001b[0m eta \u001b[36m0:00:00\u001b[0m\n",
            "\u001b[2K   \u001b[90m━━━━━━━━━━━━━━━━━━━━━━━━━━━━━━━━━━━━━━━━\u001b[0m \u001b[32m78.6/78.6 kB\u001b[0m \u001b[31m1.5 MB/s\u001b[0m eta \u001b[36m0:00:00\u001b[0m\n",
            "\u001b[?25h  Building wheel for langdetect (setup.py) ... \u001b[?25l\u001b[?25hdone\n",
            "  Building wheel for future (setup.py) ... \u001b[?25l\u001b[?25hdone\n",
            "\u001b[33mWARNING: Running pip as the 'root' user can result in broken permissions and conflicting behaviour with the system package manager. It is recommended to use a virtual environment instead: https://pip.pypa.io/warnings/venv\u001b[0m\u001b[33m\n",
            "\u001b[0m"
          ]
        }
      ]
    },
    {
      "cell_type": "code",
      "source": [
        "import time\n",
        "import logging\n",
        "import os\n",
        "import uuid\n",
        "import pandas as pd\n",
        "import numpy as np\n",
        "from sklearn.model_selection import train_test_split\n",
        "from autotm.base import AutoTM\n",
        "from matplotlib import offsetbox\n",
        "import matplotlib.pyplot as plt\n",
        "import matplotlib.patheffects as PathEffects\n",
        "import seaborn as sns\n",
        "import plotly.graph_objects as go\n",
        "from sklearn.cluster import KMeans\n",
        "%matplotlib inline\n",
        "sns.set(style='white', context='notebook', rc={'figure.figsize':(14,10)})\n",
        "from sklearn.preprocessing import StandardScaler\n",
        "from sklearn.manifold import TSNE\n",
        "import warnings\n",
        "warnings.filterwarnings('ignore')"
      ],
      "metadata": {
        "colab": {
          "base_uri": "https://localhost:8080/"
        },
        "id": "nY9CasYtxuVw",
        "outputId": "aa3c2190-eba5-412e-f611-12ebabdff99d"
      },
      "execution_count": 4,
      "outputs": [
        {
          "output_type": "stream",
          "name": "stderr",
          "text": [
            "/usr/local/lib/python3.9/site-packages/artm/master_component.py:654: DeprecationWarning: invalid escape sequence '\\*'\n",
            "  \"\"\"\n",
            "/usr/local/lib/python3.9/site-packages/artm/master_component.py:760: DeprecationWarning: invalid escape sequence '\\d'\n",
            "  \"\"\"\n",
            "[nltk_data] Downloading package stopwords to /root/nltk_data...\n",
            "[nltk_data]   Unzipping corpora/stopwords.zip.\n",
            "[nltk_data] Downloading package wordnet to /root/nltk_data...\n",
            "Installing mystem to /root/.local/bin/mystem from http://download.cdn.yandex.net/mystem/mystem-3.1-linux-64bit.tar.gz\n"
          ]
        }
      ]
    },
    {
      "cell_type": "code",
      "source": [
        "df = pd.read_csv('./ready_data.csv', sep=';')"
      ],
      "metadata": {
        "id": "txfv3Bhhx6wx"
      },
      "execution_count": 8,
      "outputs": []
    },
    {
      "cell_type": "code",
      "source": [
        "working_dir_path = 'autotm_artifacts'"
      ],
      "metadata": {
        "id": "EPRDC692x_zx"
      },
      "execution_count": 9,
      "outputs": []
    },
    {
      "cell_type": "code",
      "source": [
        "! mkdir $working_dir_path"
      ],
      "metadata": {
        "id": "xZDeFE8Byg2S"
      },
      "execution_count": 10,
      "outputs": []
    },
    {
      "cell_type": "code",
      "source": [
        "df"
      ],
      "metadata": {
        "colab": {
          "base_uri": "https://localhost:8080/",
          "height": 423
        },
        "id": "6mw7HqySy3oK",
        "outputId": "70db16dd-1b34-4eb2-84a1-11ac4f42b477"
      },
      "execution_count": 11,
      "outputs": [
        {
          "output_type": "execute_result",
          "data": {
            "text/plain": [
              "                                                    url  \\\n",
              "0     https://quote.rbc.ru/news/article/658076219a79...   \n",
              "1     https://quote.rbc.ru/news/article/655763ec9a79...   \n",
              "2     https://quote.rbc.ru/news/article/65804e8e9a79...   \n",
              "3     https://quote.rbc.ru/news/article/658047e09a79...   \n",
              "4     https://quote.rbc.ru/news/article/658029209a79...   \n",
              "...                                                 ...   \n",
              "4995  https://quote.rbc.ru/news/article/635ae4489a79...   \n",
              "4996  https://quote.rbc.ru/news/article/635aa40a9a79...   \n",
              "4997  https://quote.rbc.ru/news/article/627e10719a79...   \n",
              "4998  https://quote.rbc.ru/news/article/635a8e169a79...   \n",
              "4999  https://quote.rbc.ru/news/article/635a7ad89a79...   \n",
              "\n",
              "                                                  title            timestamp  \\\n",
              "0     Путин продлил срок замещения еврооблигаций рос...  2023-12-18 18:12:16   \n",
              "1     Акции АЛРОСА слабо отреагировали на санкции ЕС...  2023-12-18 15:45:04   \n",
              "2     Цены на газ в Европе выросли на 10% на новостя...  2023-12-18 14:11:12   \n",
              "3     ЦБ установил курсы доллара, евро и юаня на 19 ...  2023-12-18 13:49:52   \n",
              "4     Совет директоров «Мать и дитя» утвердил дивиде...  2023-12-18 12:07:28   \n",
              "...                                                 ...                  ...   \n",
              "4995  Акции Amazon обрушились на 21% на отчете и пот...  2022-10-27 21:07:12   \n",
              "4996  Акции банка «Санкт-Петербург» взлетели на 9% п...  2022-10-27 16:12:48   \n",
              "4997  Фондовая биржа: что это, как работает и как на...  2022-10-27 15:13:04   \n",
              "4998  ЕЦБ повысил ставку до максимального уровня за ...  2022-10-27 14:04:48   \n",
              "4999  «Инвестпалата» обратится в Минфин Бельгии для ...  2022-10-27 13:30:40   \n",
              "\n",
              "                      tag                                       article_text  \n",
              "0               Евробонды  Компании обязаны заместить свои облигации в ин...  \n",
              "1                  АЛРОСА  ЕС включил в новый пакет антироссийских санкци...  \n",
              "2                   Brent  Биржевые цены на газ в Европе растут на фоне с...  \n",
              "3                      ЦБ  Центральный банк России установил официальный ...  \n",
              "4           «Мать и Дитя»  На новости о дивполитике, а также обновленной ...  \n",
              "...                   ...                                                ...  \n",
              "4995                Apple  Квартальные отчетности и прогнозы Apple и Amaz...  \n",
              "4996      Банки и финансы  Обыкновенные акции банка «Санкт-Петербург» выр...  \n",
              "4997             Мосбиржа  Что из себя представляет фондовая биржа, каким...  \n",
              "4998                  ЕЦБ  Европейский регулятор поднял ключевую ставку н...  \n",
              "4999  Открытие Инвестиции  Воронежский брокер, получивший портфели клиент...  \n",
              "\n",
              "[5000 rows x 5 columns]"
            ],
            "text/html": [
              "\n",
              "  <div id=\"df-27dace8d-a1e9-410d-90b2-fc630e59b1cf\" class=\"colab-df-container\">\n",
              "    <div>\n",
              "<style scoped>\n",
              "    .dataframe tbody tr th:only-of-type {\n",
              "        vertical-align: middle;\n",
              "    }\n",
              "\n",
              "    .dataframe tbody tr th {\n",
              "        vertical-align: top;\n",
              "    }\n",
              "\n",
              "    .dataframe thead th {\n",
              "        text-align: right;\n",
              "    }\n",
              "</style>\n",
              "<table border=\"1\" class=\"dataframe\">\n",
              "  <thead>\n",
              "    <tr style=\"text-align: right;\">\n",
              "      <th></th>\n",
              "      <th>url</th>\n",
              "      <th>title</th>\n",
              "      <th>timestamp</th>\n",
              "      <th>tag</th>\n",
              "      <th>article_text</th>\n",
              "    </tr>\n",
              "  </thead>\n",
              "  <tbody>\n",
              "    <tr>\n",
              "      <th>0</th>\n",
              "      <td>https://quote.rbc.ru/news/article/658076219a79...</td>\n",
              "      <td>Путин продлил срок замещения еврооблигаций рос...</td>\n",
              "      <td>2023-12-18 18:12:16</td>\n",
              "      <td>Евробонды</td>\n",
              "      <td>Компании обязаны заместить свои облигации в ин...</td>\n",
              "    </tr>\n",
              "    <tr>\n",
              "      <th>1</th>\n",
              "      <td>https://quote.rbc.ru/news/article/655763ec9a79...</td>\n",
              "      <td>Акции АЛРОСА слабо отреагировали на санкции ЕС...</td>\n",
              "      <td>2023-12-18 15:45:04</td>\n",
              "      <td>АЛРОСА</td>\n",
              "      <td>ЕС включил в новый пакет антироссийских санкци...</td>\n",
              "    </tr>\n",
              "    <tr>\n",
              "      <th>2</th>\n",
              "      <td>https://quote.rbc.ru/news/article/65804e8e9a79...</td>\n",
              "      <td>Цены на газ в Европе выросли на 10% на новостя...</td>\n",
              "      <td>2023-12-18 14:11:12</td>\n",
              "      <td>Brent</td>\n",
              "      <td>Биржевые цены на газ в Европе растут на фоне с...</td>\n",
              "    </tr>\n",
              "    <tr>\n",
              "      <th>3</th>\n",
              "      <td>https://quote.rbc.ru/news/article/658047e09a79...</td>\n",
              "      <td>ЦБ установил курсы доллара, евро и юаня на 19 ...</td>\n",
              "      <td>2023-12-18 13:49:52</td>\n",
              "      <td>ЦБ</td>\n",
              "      <td>Центральный банк России установил официальный ...</td>\n",
              "    </tr>\n",
              "    <tr>\n",
              "      <th>4</th>\n",
              "      <td>https://quote.rbc.ru/news/article/658029209a79...</td>\n",
              "      <td>Совет директоров «Мать и дитя» утвердил дивиде...</td>\n",
              "      <td>2023-12-18 12:07:28</td>\n",
              "      <td>«Мать и Дитя»</td>\n",
              "      <td>На новости о дивполитике, а также обновленной ...</td>\n",
              "    </tr>\n",
              "    <tr>\n",
              "      <th>...</th>\n",
              "      <td>...</td>\n",
              "      <td>...</td>\n",
              "      <td>...</td>\n",
              "      <td>...</td>\n",
              "      <td>...</td>\n",
              "    </tr>\n",
              "    <tr>\n",
              "      <th>4995</th>\n",
              "      <td>https://quote.rbc.ru/news/article/635ae4489a79...</td>\n",
              "      <td>Акции Amazon обрушились на 21% на отчете и пот...</td>\n",
              "      <td>2022-10-27 21:07:12</td>\n",
              "      <td>Apple</td>\n",
              "      <td>Квартальные отчетности и прогнозы Apple и Amaz...</td>\n",
              "    </tr>\n",
              "    <tr>\n",
              "      <th>4996</th>\n",
              "      <td>https://quote.rbc.ru/news/article/635aa40a9a79...</td>\n",
              "      <td>Акции банка «Санкт-Петербург» взлетели на 9% п...</td>\n",
              "      <td>2022-10-27 16:12:48</td>\n",
              "      <td>Банки и финансы</td>\n",
              "      <td>Обыкновенные акции банка «Санкт-Петербург» выр...</td>\n",
              "    </tr>\n",
              "    <tr>\n",
              "      <th>4997</th>\n",
              "      <td>https://quote.rbc.ru/news/article/627e10719a79...</td>\n",
              "      <td>Фондовая биржа: что это, как работает и как на...</td>\n",
              "      <td>2022-10-27 15:13:04</td>\n",
              "      <td>Мосбиржа</td>\n",
              "      <td>Что из себя представляет фондовая биржа, каким...</td>\n",
              "    </tr>\n",
              "    <tr>\n",
              "      <th>4998</th>\n",
              "      <td>https://quote.rbc.ru/news/article/635a8e169a79...</td>\n",
              "      <td>ЕЦБ повысил ставку до максимального уровня за ...</td>\n",
              "      <td>2022-10-27 14:04:48</td>\n",
              "      <td>ЕЦБ</td>\n",
              "      <td>Европейский регулятор поднял ключевую ставку н...</td>\n",
              "    </tr>\n",
              "    <tr>\n",
              "      <th>4999</th>\n",
              "      <td>https://quote.rbc.ru/news/article/635a7ad89a79...</td>\n",
              "      <td>«Инвестпалата» обратится в Минфин Бельгии для ...</td>\n",
              "      <td>2022-10-27 13:30:40</td>\n",
              "      <td>Открытие Инвестиции</td>\n",
              "      <td>Воронежский брокер, получивший портфели клиент...</td>\n",
              "    </tr>\n",
              "  </tbody>\n",
              "</table>\n",
              "<p>5000 rows × 5 columns</p>\n",
              "</div>\n",
              "    <div class=\"colab-df-buttons\">\n",
              "\n",
              "  <div class=\"colab-df-container\">\n",
              "    <button class=\"colab-df-convert\" onclick=\"convertToInteractive('df-27dace8d-a1e9-410d-90b2-fc630e59b1cf')\"\n",
              "            title=\"Convert this dataframe to an interactive table.\"\n",
              "            style=\"display:none;\">\n",
              "\n",
              "  <svg xmlns=\"http://www.w3.org/2000/svg\" height=\"24px\" viewBox=\"0 -960 960 960\">\n",
              "    <path d=\"M120-120v-720h720v720H120Zm60-500h600v-160H180v160Zm220 220h160v-160H400v160Zm0 220h160v-160H400v160ZM180-400h160v-160H180v160Zm440 0h160v-160H620v160ZM180-180h160v-160H180v160Zm440 0h160v-160H620v160Z\"/>\n",
              "  </svg>\n",
              "    </button>\n",
              "\n",
              "  <style>\n",
              "    .colab-df-container {\n",
              "      display:flex;\n",
              "      gap: 12px;\n",
              "    }\n",
              "\n",
              "    .colab-df-convert {\n",
              "      background-color: #E8F0FE;\n",
              "      border: none;\n",
              "      border-radius: 50%;\n",
              "      cursor: pointer;\n",
              "      display: none;\n",
              "      fill: #1967D2;\n",
              "      height: 32px;\n",
              "      padding: 0 0 0 0;\n",
              "      width: 32px;\n",
              "    }\n",
              "\n",
              "    .colab-df-convert:hover {\n",
              "      background-color: #E2EBFA;\n",
              "      box-shadow: 0px 1px 2px rgba(60, 64, 67, 0.3), 0px 1px 3px 1px rgba(60, 64, 67, 0.15);\n",
              "      fill: #174EA6;\n",
              "    }\n",
              "\n",
              "    .colab-df-buttons div {\n",
              "      margin-bottom: 4px;\n",
              "    }\n",
              "\n",
              "    [theme=dark] .colab-df-convert {\n",
              "      background-color: #3B4455;\n",
              "      fill: #D2E3FC;\n",
              "    }\n",
              "\n",
              "    [theme=dark] .colab-df-convert:hover {\n",
              "      background-color: #434B5C;\n",
              "      box-shadow: 0px 1px 3px 1px rgba(0, 0, 0, 0.15);\n",
              "      filter: drop-shadow(0px 1px 2px rgba(0, 0, 0, 0.3));\n",
              "      fill: #FFFFFF;\n",
              "    }\n",
              "  </style>\n",
              "\n",
              "    <script>\n",
              "      const buttonEl =\n",
              "        document.querySelector('#df-27dace8d-a1e9-410d-90b2-fc630e59b1cf button.colab-df-convert');\n",
              "      buttonEl.style.display =\n",
              "        google.colab.kernel.accessAllowed ? 'block' : 'none';\n",
              "\n",
              "      async function convertToInteractive(key) {\n",
              "        const element = document.querySelector('#df-27dace8d-a1e9-410d-90b2-fc630e59b1cf');\n",
              "        const dataTable =\n",
              "          await google.colab.kernel.invokeFunction('convertToInteractive',\n",
              "                                                    [key], {});\n",
              "        if (!dataTable) return;\n",
              "\n",
              "        const docLinkHtml = 'Like what you see? Visit the ' +\n",
              "          '<a target=\"_blank\" href=https://colab.research.google.com/notebooks/data_table.ipynb>data table notebook</a>'\n",
              "          + ' to learn more about interactive tables.';\n",
              "        element.innerHTML = '';\n",
              "        dataTable['output_type'] = 'display_data';\n",
              "        await google.colab.output.renderOutput(dataTable, element);\n",
              "        const docLink = document.createElement('div');\n",
              "        docLink.innerHTML = docLinkHtml;\n",
              "        element.appendChild(docLink);\n",
              "      }\n",
              "    </script>\n",
              "  </div>\n",
              "\n",
              "\n",
              "<div id=\"df-e357722b-92ea-43ed-9601-24c2fd1f8698\">\n",
              "  <button class=\"colab-df-quickchart\" onclick=\"quickchart('df-e357722b-92ea-43ed-9601-24c2fd1f8698')\"\n",
              "            title=\"Suggest charts\"\n",
              "            style=\"display:none;\">\n",
              "\n",
              "<svg xmlns=\"http://www.w3.org/2000/svg\" height=\"24px\"viewBox=\"0 0 24 24\"\n",
              "     width=\"24px\">\n",
              "    <g>\n",
              "        <path d=\"M19 3H5c-1.1 0-2 .9-2 2v14c0 1.1.9 2 2 2h14c1.1 0 2-.9 2-2V5c0-1.1-.9-2-2-2zM9 17H7v-7h2v7zm4 0h-2V7h2v10zm4 0h-2v-4h2v4z\"/>\n",
              "    </g>\n",
              "</svg>\n",
              "  </button>\n",
              "\n",
              "<style>\n",
              "  .colab-df-quickchart {\n",
              "      --bg-color: #E8F0FE;\n",
              "      --fill-color: #1967D2;\n",
              "      --hover-bg-color: #E2EBFA;\n",
              "      --hover-fill-color: #174EA6;\n",
              "      --disabled-fill-color: #AAA;\n",
              "      --disabled-bg-color: #DDD;\n",
              "  }\n",
              "\n",
              "  [theme=dark] .colab-df-quickchart {\n",
              "      --bg-color: #3B4455;\n",
              "      --fill-color: #D2E3FC;\n",
              "      --hover-bg-color: #434B5C;\n",
              "      --hover-fill-color: #FFFFFF;\n",
              "      --disabled-bg-color: #3B4455;\n",
              "      --disabled-fill-color: #666;\n",
              "  }\n",
              "\n",
              "  .colab-df-quickchart {\n",
              "    background-color: var(--bg-color);\n",
              "    border: none;\n",
              "    border-radius: 50%;\n",
              "    cursor: pointer;\n",
              "    display: none;\n",
              "    fill: var(--fill-color);\n",
              "    height: 32px;\n",
              "    padding: 0;\n",
              "    width: 32px;\n",
              "  }\n",
              "\n",
              "  .colab-df-quickchart:hover {\n",
              "    background-color: var(--hover-bg-color);\n",
              "    box-shadow: 0 1px 2px rgba(60, 64, 67, 0.3), 0 1px 3px 1px rgba(60, 64, 67, 0.15);\n",
              "    fill: var(--button-hover-fill-color);\n",
              "  }\n",
              "\n",
              "  .colab-df-quickchart-complete:disabled,\n",
              "  .colab-df-quickchart-complete:disabled:hover {\n",
              "    background-color: var(--disabled-bg-color);\n",
              "    fill: var(--disabled-fill-color);\n",
              "    box-shadow: none;\n",
              "  }\n",
              "\n",
              "  .colab-df-spinner {\n",
              "    border: 2px solid var(--fill-color);\n",
              "    border-color: transparent;\n",
              "    border-bottom-color: var(--fill-color);\n",
              "    animation:\n",
              "      spin 1s steps(1) infinite;\n",
              "  }\n",
              "\n",
              "  @keyframes spin {\n",
              "    0% {\n",
              "      border-color: transparent;\n",
              "      border-bottom-color: var(--fill-color);\n",
              "      border-left-color: var(--fill-color);\n",
              "    }\n",
              "    20% {\n",
              "      border-color: transparent;\n",
              "      border-left-color: var(--fill-color);\n",
              "      border-top-color: var(--fill-color);\n",
              "    }\n",
              "    30% {\n",
              "      border-color: transparent;\n",
              "      border-left-color: var(--fill-color);\n",
              "      border-top-color: var(--fill-color);\n",
              "      border-right-color: var(--fill-color);\n",
              "    }\n",
              "    40% {\n",
              "      border-color: transparent;\n",
              "      border-right-color: var(--fill-color);\n",
              "      border-top-color: var(--fill-color);\n",
              "    }\n",
              "    60% {\n",
              "      border-color: transparent;\n",
              "      border-right-color: var(--fill-color);\n",
              "    }\n",
              "    80% {\n",
              "      border-color: transparent;\n",
              "      border-right-color: var(--fill-color);\n",
              "      border-bottom-color: var(--fill-color);\n",
              "    }\n",
              "    90% {\n",
              "      border-color: transparent;\n",
              "      border-bottom-color: var(--fill-color);\n",
              "    }\n",
              "  }\n",
              "</style>\n",
              "\n",
              "  <script>\n",
              "    async function quickchart(key) {\n",
              "      const quickchartButtonEl =\n",
              "        document.querySelector('#' + key + ' button');\n",
              "      quickchartButtonEl.disabled = true;  // To prevent multiple clicks.\n",
              "      quickchartButtonEl.classList.add('colab-df-spinner');\n",
              "      try {\n",
              "        const charts = await google.colab.kernel.invokeFunction(\n",
              "            'suggestCharts', [key], {});\n",
              "      } catch (error) {\n",
              "        console.error('Error during call to suggestCharts:', error);\n",
              "      }\n",
              "      quickchartButtonEl.classList.remove('colab-df-spinner');\n",
              "      quickchartButtonEl.classList.add('colab-df-quickchart-complete');\n",
              "    }\n",
              "    (() => {\n",
              "      let quickchartButtonEl =\n",
              "        document.querySelector('#df-e357722b-92ea-43ed-9601-24c2fd1f8698 button');\n",
              "      quickchartButtonEl.style.display =\n",
              "        google.colab.kernel.accessAllowed ? 'block' : 'none';\n",
              "    })();\n",
              "  </script>\n",
              "</div>\n",
              "    </div>\n",
              "  </div>\n"
            ]
          },
          "metadata": {},
          "execution_count": 11
        }
      ]
    },
    {
      "cell_type": "code",
      "source": [
        "autotm = AutoTM(\n",
        "      topic_count=20,\n",
        "      texts_column_name='article_text',\n",
        "      preprocessing_params={\n",
        "          \"lang\": \"ru\",\n",
        "      },\n",
        "      alg_params={\n",
        "          \"num_iterations\": 5,\n",
        "      },\n",
        "      working_dir_path=working_dir_path\n",
        "  )\n",
        ""
      ],
      "metadata": {
        "id": "irT1GZMPyij_"
      },
      "execution_count": 24,
      "outputs": []
    },
    {
      "cell_type": "code",
      "source": [
        "mixtures = autotm.fit_predict(df.iloc[:500])"
      ],
      "metadata": {
        "colab": {
          "base_uri": "https://localhost:8080/"
        },
        "id": "gtgCzRcFzDTY",
        "outputId": "64288f8b-ed7b-4bd5-f910-227dde712b50"
      },
      "execution_count": 25,
      "outputs": [
        {
          "output_type": "stream",
          "name": "stdout",
          "text": [
            "Saved to autotm_artifacts/1659e6bd-8d17-49de-9ba8-9790c2047501/prep_df.csv\n",
            "Starting...\n",
            "part 1/1\n",
            "autotm_artifacts/1659e6bd-8d17-49de-9ba8-9790c2047501/cooc_df.txt is ready!\n",
            "autotm_artifacts/1659e6bd-8d17-49de-9ba8-9790c2047501/cooc_tf.txt is ready!\n",
            "Calculating pPMI...\n",
            "Calculating pPMI...\n",
            "autotm_artifacts/1659e6bd-8d17-49de-9ba8-9790c2047501/ppmi_tf.txt is ready!\n",
            "autotm_artifacts/1659e6bd-8d17-49de-9ba8-9790c2047501/ppmi_df.txt is ready!\n"
          ]
        },
        {
          "output_type": "stream",
          "name": "stderr",
          "text": [
            "2023-12-19 09:26:14,499 - GA_algo - INFO - Starting experiment: 1702977974\n",
            "2023-12-19 09:26:14,502 - GA_algo - INFO - ALGORITHM PARAMS  number of individuals 11; number of fitness evals unlimited; number of early stopping iterations 500; crossover prob None\n",
            "2023-12-19 09:26:14,508 - root - INFO - Calculating fitness...\n",
            "2023-12-19 09:26:14,510 - root - INFO - Doing fitness calculating with individual {\"id\": \"3ae4d526-1e8e-4178-915e-8484c76c4ab2\", \"data_path\": \"autotm_artifacts/1659e6bd-8d17-49de-9ba8-9790c2047501\", \"params\": [0.0, 18.0, 28.479780881352447, 5.034225737341891, 0.0, -416.152403497338, -929.3032793406788, 0.0, 773.696598611597, -100.21350806502153, 0.0, 0.0, 0.28724639900675775, 0.5398170752791501, 0.07047084994570707, 0.0], \"exp_id\": 0, \"alg_id\": \"ga\", \"iteration_id\": 0, \"tag\": \"v0\", \"fitness_value\": null, \"fitness_name\": \"default\", \"dataset\": \"__noname__\", \"topic_count\": 20, \"train_option\": \"offline\", \"force_dataset_settings_checkout\": false}\n",
            "2023-12-19 09:26:14,513 - root - INFO - Loading dataset entities\n",
            "2023-12-19 09:26:14,515 - root - INFO - Reading dictionary from autotm_artifacts/1659e6bd-8d17-49de-9ba8-9790c2047501/dictionary.txt\n",
            "2023-12-19 09:26:15,145 - root - INFO - Dataset entities initialization took  0.63\n",
            "2023-12-19 09:26:15,146 - root - INFO - Using TM model: <class 'autotm.fitness.tm.TopicModel'> according to fitness name: default, topics count: 20\n",
            "20it [00:00, 741.39it/s]\n",
            "0it [00:00, ?it/s]\n",
            "0it [00:00, ?it/s]\n",
            "0it [00:00, ?it/s]\n",
            "20it [00:00, 738.23it/s]\n",
            "0it [00:00, ?it/s]\n",
            "0it [00:00, ?it/s]\n",
            "0it [00:00, ?it/s]\n",
            "20it [00:00, 756.45it/s]\n",
            "0it [00:00, ?it/s]\n",
            "0it [00:00, ?it/s]\n",
            "0it [00:00, ?it/s]\n",
            "20it [00:00, 711.03it/s]\n",
            "0it [00:00, ?it/s]\n",
            "0it [00:00, ?it/s]\n",
            "0it [00:00, ?it/s]\n"
          ]
        },
        {
          "output_type": "stream",
          "name": "stdout",
          "text": [
            "Training is complete\n"
          ]
        },
        {
          "output_type": "stream",
          "name": "stderr",
          "text": [
            "2023-12-19 09:26:17,843 - root - INFO - Building dictionary\n"
          ]
        },
        {
          "output_type": "stream",
          "name": "stdout",
          "text": [
            "Wow! all topics\n"
          ]
        },
        {
          "output_type": "stream",
          "name": "stderr",
          "text": [
            "20it [00:00, 492.68it/s]\n",
            "0it [00:00, ?it/s]\n",
            "0it [00:00, ?it/s]\n",
            "0it [00:00, ?it/s]\n"
          ]
        },
        {
          "output_type": "stream",
          "name": "stdout",
          "text": [
            "COMPONENTS:  0.4417517461030571 0.20114094800820484\n"
          ]
        },
        {
          "output_type": "stream",
          "name": "stderr",
          "text": [
            "20it [00:00, 8668.60it/s]\n",
            "0it [00:00, ?it/s]\n",
            "20it [00:00, 4828.81it/s]\n",
            "0it [00:00, ?it/s]\n",
            "20it [00:00, 3158.72it/s]\n",
            "0it [00:00, ?it/s]\n",
            "20it [00:00, 1126.26it/s]\n",
            "0it [00:00, ?it/s]\n",
            "20it [00:00, 969.57it/s]\n",
            "0it [00:00, ?it/s]\n",
            "20it [00:00, 1013.25it/s]\n",
            "0it [00:00, ?it/s]\n",
            "20it [00:00, 810.04it/s]\n",
            "0it [00:00, ?it/s]\n",
            "20it [00:00, 674.85it/s]\n",
            "0it [00:00, ?it/s]\n",
            "20it [00:00, 507.70it/s]\n",
            "0it [00:00, ?it/s]\n",
            "20it [00:00, 433.79it/s]\n",
            "0it [00:00, ?it/s]\n",
            "2023-12-19 09:26:18,555 - root - INFO - Fitness estimation took  4.04\n",
            "2023-12-19 09:26:18,900 - root - INFO - Deleting bigartm logs: []\n",
            "2023-12-19 09:26:18,976 - root - INFO - Doing fitness calculating with individual {\"id\": \"3d6fe22c-91ee-472f-85ef-fb84f2761f71\", \"data_path\": \"autotm_artifacts/1659e6bd-8d17-49de-9ba8-9790c2047501\", \"params\": [25115.106433559387, 16.0, 10.189594421189662, 81.44554736824588, 5.0, -548.1771090657164, -963.7067170539552, 2.0, -657.8864167990411, -862.3845767423936, 8.0, 2.0, 0.5937690221909057, 0.4175547062483904, 0.2105551880040223, 22788.75150982361], \"exp_id\": 0, \"alg_id\": \"ga\", \"iteration_id\": 0, \"tag\": \"v0\", \"fitness_value\": null, \"fitness_name\": \"default\", \"dataset\": \"__noname__\", \"topic_count\": 20, \"train_option\": \"offline\", \"force_dataset_settings_checkout\": false}\n",
            "2023-12-19 09:26:18,978 - root - INFO - Loading dataset entities\n",
            "2023-12-19 09:26:18,980 - root - INFO - Reading dictionary from autotm_artifacts/1659e6bd-8d17-49de-9ba8-9790c2047501/dictionary.txt\n",
            "2023-12-19 09:26:20,051 - root - INFO - Dataset entities initialization took  1.07\n",
            "2023-12-19 09:26:20,055 - root - INFO - Using TM model: <class 'autotm.fitness.tm.TopicModel'> according to fitness name: default, topics count: 20\n",
            "20it [00:00, 677.10it/s]\n",
            "0it [00:00, ?it/s]\n",
            "2it [00:00, 515.81it/s]\n",
            "0it [00:00, ?it/s]\n",
            "20it [00:00, 601.54it/s]\n",
            "0it [00:00, ?it/s]\n",
            "2it [00:00, 558.79it/s]\n",
            "0it [00:00, ?it/s]\n",
            "20it [00:00, 683.28it/s]\n",
            "0it [00:00, ?it/s]\n",
            "2it [00:00, 753.83it/s]\n",
            "0it [00:00, ?it/s]\n",
            "0it [00:00, ?it/s]\n",
            "20it [00:00, 204102.38it/s]\n",
            "2it [00:00, 402.20it/s]\n",
            "0it [00:00, ?it/s]\n"
          ]
        },
        {
          "output_type": "stream",
          "name": "stdout",
          "text": [
            "Training is complete\n"
          ]
        },
        {
          "output_type": "stream",
          "name": "stderr",
          "text": [
            "2023-12-19 09:26:24,321 - root - INFO - Building dictionary\n",
            "0it [00:00, ?it/s]\n",
            "20it [00:00, 202135.13it/s]\n",
            "2it [00:00, 537.15it/s]\n",
            "0it [00:00, ?it/s]\n"
          ]
        },
        {
          "output_type": "stream",
          "name": "stdout",
          "text": [
            "COMPONENTS:  0.0 0\n"
          ]
        },
        {
          "output_type": "stream",
          "name": "stderr",
          "text": [
            "0it [00:00, ?it/s]\n",
            "20it [00:00, 204600.20it/s]\n",
            "0it [00:00, ?it/s]\n",
            "20it [00:00, 225500.22it/s]\n",
            "0it [00:00, ?it/s]\n",
            "20it [00:00, 62045.92it/s]\n",
            "0it [00:00, ?it/s]\n",
            "20it [00:00, 220173.44it/s]\n",
            "0it [00:00, ?it/s]\n",
            "20it [00:00, 223696.21it/s]\n",
            "0it [00:00, ?it/s]\n",
            "20it [00:00, 157680.60it/s]\n",
            "0it [00:00, ?it/s]\n",
            "20it [00:00, 207638.81it/s]\n",
            "0it [00:00, ?it/s]\n",
            "20it [00:00, 221920.85it/s]\n",
            "0it [00:00, ?it/s]\n",
            "20it [00:00, 219597.07it/s]\n",
            "0it [00:00, ?it/s]\n",
            "20it [00:00, 213450.59it/s]\n",
            "2023-12-19 09:26:24,696 - root - INFO - Fitness estimation took  5.72\n",
            "2023-12-19 09:26:24,995 - root - INFO - Deleting bigartm logs: []\n",
            "2023-12-19 09:26:25,037 - root - INFO - Doing fitness calculating with individual {\"id\": \"6d1acd86-52b7-420d-bc8c-109019746497\", \"data_path\": \"autotm_artifacts/1659e6bd-8d17-49de-9ba8-9790c2047501\", \"params\": [94547.97270155583, 0.0, 13.257932540871353, 53.71919828181556, 22.0, -501.5587254879759, -212.51959037213135, 5.0, -338.9607800936441, -285.96407346328783, 18.0, 0.0, 0.4561746144288956, 0.09350849870439293, 0.5564163025270626, 71864.17191933337], \"exp_id\": 0, \"alg_id\": \"ga\", \"iteration_id\": 0, \"tag\": \"v0\", \"fitness_value\": null, \"fitness_name\": \"default\", \"dataset\": \"__noname__\", \"topic_count\": 20, \"train_option\": \"offline\", \"force_dataset_settings_checkout\": false}\n",
            "2023-12-19 09:26:25,038 - root - INFO - Loading dataset entities\n",
            "2023-12-19 09:26:25,040 - root - INFO - Reading dictionary from autotm_artifacts/1659e6bd-8d17-49de-9ba8-9790c2047501/dictionary.txt\n",
            "2023-12-19 09:26:25,646 - root - INFO - Dataset entities initialization took  0.61\n",
            "2023-12-19 09:26:25,647 - root - INFO - Using TM model: <class 'autotm.fitness.tm.TopicModel'> according to fitness name: default, topics count: 20\n",
            "2023-12-19 09:26:25,674 - root - WARNING - Fitness calculation problem\n",
            "2023-12-19 09:26:25,675 - root - INFO - Fitness estimation took  0.64\n",
            "2023-12-19 09:26:25,797 - root - INFO - Deleting bigartm logs: []\n",
            "2023-12-19 09:26:25,834 - root - INFO - Doing fitness calculating with individual {\"id\": \"99489b2d-200d-460e-8c8f-6dcd05644a11\", \"data_path\": \"autotm_artifacts/1659e6bd-8d17-49de-9ba8-9790c2047501\", \"params\": [98633.2220808761, 28.0, 99.47507070060276, 11.146846281631372, 7.0, -129.20783827543164, -755.2214579795462, 25.0, -286.24307106519063, 927.4292556078076, 29.0, 4.0, 0.5202512404944241, 0.3353393609599058, 0.05647051138561909, 94634.40610399056], \"exp_id\": 0, \"alg_id\": \"ga\", \"iteration_id\": 0, \"tag\": \"v0\", \"fitness_value\": null, \"fitness_name\": \"default\", \"dataset\": \"__noname__\", \"topic_count\": 20, \"train_option\": \"offline\", \"force_dataset_settings_checkout\": false}\n",
            "2023-12-19 09:26:25,836 - root - INFO - Loading dataset entities\n",
            "2023-12-19 09:26:25,838 - root - INFO - Reading dictionary from autotm_artifacts/1659e6bd-8d17-49de-9ba8-9790c2047501/dictionary.txt\n",
            "2023-12-19 09:26:26,437 - root - INFO - Dataset entities initialization took  0.60\n",
            "2023-12-19 09:26:26,440 - root - INFO - Using TM model: <class 'autotm.fitness.tm.TopicModel'> according to fitness name: default, topics count: 20\n",
            "20it [00:00, 674.76it/s]\n",
            "0it [00:00, ?it/s]\n",
            "4it [00:00, 631.05it/s]\n",
            "0it [00:00, ?it/s]\n",
            "20it [00:00, 473.55it/s]\n",
            "0it [00:00, ?it/s]\n",
            "4it [00:00, 358.29it/s]\n",
            "0it [00:00, ?it/s]\n",
            "20it [00:00, 494.51it/s]\n",
            "0it [00:00, ?it/s]\n",
            "4it [00:00, 462.55it/s]\n",
            "0it [00:00, ?it/s]\n",
            "20it [00:00, 709.26it/s]\n",
            "0it [00:00, ?it/s]\n",
            "4it [00:00, 1053.71it/s]\n",
            "0it [00:00, ?it/s]\n"
          ]
        },
        {
          "output_type": "stream",
          "name": "stdout",
          "text": [
            "Training is complete\n"
          ]
        },
        {
          "output_type": "stream",
          "name": "stderr",
          "text": [
            "2023-12-19 09:26:36,842 - root - INFO - Building dictionary\n"
          ]
        },
        {
          "output_type": "stream",
          "name": "stdout",
          "text": [
            "Wow! all topics\n"
          ]
        },
        {
          "output_type": "stream",
          "name": "stderr",
          "text": [
            "20it [00:00, 751.75it/s]\n",
            "0it [00:00, ?it/s]\n",
            "4it [00:00, 730.17it/s]\n",
            "0it [00:00, ?it/s]\n"
          ]
        },
        {
          "output_type": "stream",
          "name": "stdout",
          "text": [
            "COMPONENTS:  0.6007492317617676 0.4156078912525274\n"
          ]
        },
        {
          "output_type": "stream",
          "name": "stderr",
          "text": [
            "20it [00:00, 7078.99it/s]\n",
            "0it [00:00, ?it/s]\n",
            "20it [00:00, 6131.13it/s]\n",
            "0it [00:00, ?it/s]\n",
            "20it [00:00, 3519.60it/s]\n",
            "0it [00:00, ?it/s]\n",
            "20it [00:00, 2815.44it/s]\n",
            "0it [00:00, ?it/s]\n",
            "20it [00:00, 1505.20it/s]\n",
            "0it [00:00, ?it/s]\n",
            "20it [00:00, 1214.67it/s]\n",
            "0it [00:00, ?it/s]\n",
            "20it [00:00, 1367.07it/s]\n",
            "0it [00:00, ?it/s]\n",
            "20it [00:00, 744.90it/s]\n",
            "0it [00:00, ?it/s]\n",
            "20it [00:00, 795.13it/s]\n",
            "0it [00:00, ?it/s]\n",
            "20it [00:00, 614.82it/s]\n",
            "0it [00:00, ?it/s]\n",
            "2023-12-19 09:26:38,023 - root - INFO - Fitness estimation took  12.19\n",
            "2023-12-19 09:26:38,766 - root - INFO - Deleting bigartm logs: []\n",
            "2023-12-19 09:26:38,806 - root - INFO - Doing fitness calculating with individual {\"id\": \"a75267fe-8c46-485d-8cf3-b7b94ac4ee4a\", \"data_path\": \"autotm_artifacts/1659e6bd-8d17-49de-9ba8-9790c2047501\", \"params\": [15922.33394201198, 23.0, 70.37554883098134, 9.476342311924512, 26.0, -660.3622745474751, -448.03606649907147, 2.0, 87.28950148023705, 500.5960242268975, 6.0, 0.0, 0.5239784388588118, 0.48289280593359163, 0.07280390203909981, 26612.628185460064], \"exp_id\": 0, \"alg_id\": \"ga\", \"iteration_id\": 0, \"tag\": \"v0\", \"fitness_value\": null, \"fitness_name\": \"default\", \"dataset\": \"__noname__\", \"topic_count\": 20, \"train_option\": \"offline\", \"force_dataset_settings_checkout\": false}\n",
            "2023-12-19 09:26:38,807 - root - INFO - Loading dataset entities\n",
            "2023-12-19 09:26:38,810 - root - INFO - Reading dictionary from autotm_artifacts/1659e6bd-8d17-49de-9ba8-9790c2047501/dictionary.txt\n",
            "2023-12-19 09:26:39,458 - root - INFO - Dataset entities initialization took  0.65\n",
            "2023-12-19 09:26:39,462 - root - INFO - Using TM model: <class 'autotm.fitness.tm.TopicModel'> according to fitness name: default, topics count: 20\n",
            "20it [00:00, 715.77it/s]\n",
            "0it [00:00, ?it/s]\n",
            "0it [00:00, ?it/s]\n",
            "0it [00:00, ?it/s]\n",
            "20it [00:00, 747.97it/s]\n",
            "0it [00:00, ?it/s]\n",
            "0it [00:00, ?it/s]\n",
            "0it [00:00, ?it/s]\n",
            "20it [00:00, 728.42it/s]\n",
            "0it [00:00, ?it/s]\n",
            "0it [00:00, ?it/s]\n",
            "0it [00:00, ?it/s]\n",
            "20it [00:00, 704.82it/s]\n",
            "0it [00:00, ?it/s]\n",
            "0it [00:00, ?it/s]\n",
            "0it [00:00, ?it/s]\n"
          ]
        },
        {
          "output_type": "stream",
          "name": "stdout",
          "text": [
            "Training is complete\n"
          ]
        },
        {
          "output_type": "stream",
          "name": "stderr",
          "text": [
            "2023-12-19 09:26:43,398 - root - INFO - Building dictionary\n"
          ]
        },
        {
          "output_type": "stream",
          "name": "stdout",
          "text": [
            "Wow! all topics\n"
          ]
        },
        {
          "output_type": "stream",
          "name": "stderr",
          "text": [
            "20it [00:00, 726.17it/s]\n",
            "0it [00:00, ?it/s]\n",
            "0it [00:00, ?it/s]\n",
            "0it [00:00, ?it/s]\n"
          ]
        },
        {
          "output_type": "stream",
          "name": "stdout",
          "text": [
            "COMPONENTS:  0.5912940402371396 0.22781553389218678\n"
          ]
        },
        {
          "output_type": "stream",
          "name": "stderr",
          "text": [
            "20it [00:00, 9293.83it/s]\n",
            "0it [00:00, ?it/s]\n",
            "20it [00:00, 3540.84it/s]\n",
            "0it [00:00, ?it/s]\n",
            "20it [00:00, 2962.81it/s]\n",
            "0it [00:00, ?it/s]\n",
            "20it [00:00, 818.93it/s]\n",
            "0it [00:00, ?it/s]\n",
            "20it [00:00, 1245.56it/s]\n",
            "0it [00:00, ?it/s]\n",
            "20it [00:00, 1509.18it/s]\n",
            "0it [00:00, ?it/s]\n",
            "20it [00:00, 1261.31it/s]\n",
            "0it [00:00, ?it/s]\n",
            "20it [00:00, 920.74it/s]\n",
            "0it [00:00, ?it/s]\n",
            "20it [00:00, 513.04it/s]\n",
            "0it [00:00, ?it/s]\n",
            "20it [00:00, 399.56it/s]\n",
            "0it [00:00, ?it/s]\n",
            "2023-12-19 09:26:44,071 - root - INFO - Fitness estimation took  5.26\n",
            "2023-12-19 09:26:44,519 - root - INFO - Deleting bigartm logs: []\n",
            "2023-12-19 09:26:44,583 - root - INFO - Doing fitness calculating with individual {\"id\": \"707bdda3-6c39-4d75-b83e-5092b246ab12\", \"data_path\": \"autotm_artifacts/1659e6bd-8d17-49de-9ba8-9790c2047501\", \"params\": [38314.54891130799, 5.0, 19.865005976488426, 10.982491561421382, 8.0, -63.03179428946976, 983.8670042680499, 0.0, 117.85773236764771, 357.3753665350173, 24.0, 2.0, 0.9899363975083936, 0.08340240787513353, 0.8525385856502157, 90498.49519777676], \"exp_id\": 0, \"alg_id\": \"ga\", \"iteration_id\": 0, \"tag\": \"v0\", \"fitness_value\": null, \"fitness_name\": \"default\", \"dataset\": \"__noname__\", \"topic_count\": 20, \"train_option\": \"offline\", \"force_dataset_settings_checkout\": false}\n",
            "2023-12-19 09:26:44,588 - root - INFO - Loading dataset entities\n",
            "2023-12-19 09:26:44,591 - root - INFO - Reading dictionary from autotm_artifacts/1659e6bd-8d17-49de-9ba8-9790c2047501/dictionary.txt\n",
            "2023-12-19 09:26:45,583 - root - INFO - Dataset entities initialization took  0.99\n",
            "2023-12-19 09:26:45,584 - root - INFO - Using TM model: <class 'autotm.fitness.tm.TopicModel'> according to fitness name: default, topics count: 20\n",
            "20it [00:00, 285.82it/s]\n",
            "0it [00:00, ?it/s]\n",
            "2it [00:00, 298.48it/s]\n",
            "0it [00:00, ?it/s]\n",
            "20it [00:00, 424.84it/s]\n",
            "0it [00:00, ?it/s]\n",
            "2it [00:00, 390.17it/s]\n",
            "0it [00:00, ?it/s]\n",
            "20it [00:00, 377.16it/s]\n",
            "0it [00:00, ?it/s]\n",
            "2it [00:00, 461.50it/s]\n",
            "0it [00:00, ?it/s]\n",
            "2023-12-19 09:26:49,135 - root - WARNING - Fitness calculation problem\n",
            "2023-12-19 09:26:49,136 - root - INFO - Fitness estimation took  4.55\n",
            "2023-12-19 09:26:49,487 - root - INFO - Deleting bigartm logs: []\n",
            "2023-12-19 09:26:49,547 - root - INFO - Doing fitness calculating with individual {\"id\": \"76d34830-19cd-4d24-821c-e1c82844c2c7\", \"data_path\": \"autotm_artifacts/1659e6bd-8d17-49de-9ba8-9790c2047501\", \"params\": [95530.81189857732, 0.0, 87.40471353016987, 50.70449719626065, 0.0, -29.36003819311543, 120.89059561700219, 26.0, -353.6413196545318, -228.36349726238518, 10.0, 0.0, 0.6551756559789748, 0.47206290205909907, 0.9524706658972251, 9888.141695156915], \"exp_id\": 0, \"alg_id\": \"ga\", \"iteration_id\": 0, \"tag\": \"v0\", \"fitness_value\": null, \"fitness_name\": \"default\", \"dataset\": \"__noname__\", \"topic_count\": 20, \"train_option\": \"offline\", \"force_dataset_settings_checkout\": false}\n",
            "2023-12-19 09:26:49,551 - root - INFO - Loading dataset entities\n",
            "2023-12-19 09:26:49,553 - root - INFO - Reading dictionary from autotm_artifacts/1659e6bd-8d17-49de-9ba8-9790c2047501/dictionary.txt\n",
            "2023-12-19 09:26:50,548 - root - INFO - Dataset entities initialization took  1.00\n",
            "2023-12-19 09:26:50,553 - root - INFO - Using TM model: <class 'autotm.fitness.tm.TopicModel'> according to fitness name: default, topics count: 20\n",
            "2023-12-19 09:26:50,589 - root - WARNING - Fitness calculation problem\n",
            "2023-12-19 09:26:50,594 - root - INFO - Fitness estimation took  1.04\n",
            "2023-12-19 09:26:50,784 - root - INFO - Deleting bigartm logs: []\n",
            "2023-12-19 09:26:50,840 - root - INFO - Doing fitness calculating with individual {\"id\": \"f5e2e3a5-ffac-4fd9-ac74-62ce29ced650\", \"data_path\": \"autotm_artifacts/1659e6bd-8d17-49de-9ba8-9790c2047501\", \"params\": [13722.555993139795, 13.0, 35.36646406814098, 69.47587987257629, 4.0, -282.79671652885054, 542.0948933201053, 24.0, -720.7593703775055, -922.9703678465282, 21.0, 2.0, 0.9306060634954084, 0.3382581659148661, 0.7286558208865347, 96834.90698906193], \"exp_id\": 0, \"alg_id\": \"ga\", \"iteration_id\": 0, \"tag\": \"v0\", \"fitness_value\": null, \"fitness_name\": \"default\", \"dataset\": \"__noname__\", \"topic_count\": 20, \"train_option\": \"offline\", \"force_dataset_settings_checkout\": false}\n",
            "2023-12-19 09:26:50,843 - root - INFO - Loading dataset entities\n",
            "2023-12-19 09:26:50,848 - root - INFO - Reading dictionary from autotm_artifacts/1659e6bd-8d17-49de-9ba8-9790c2047501/dictionary.txt\n",
            "2023-12-19 09:26:51,626 - root - INFO - Dataset entities initialization took  0.78\n",
            "2023-12-19 09:26:51,628 - root - INFO - Using TM model: <class 'autotm.fitness.tm.TopicModel'> according to fitness name: default, topics count: 20\n",
            "20it [00:00, 715.10it/s]\n",
            "0it [00:00, ?it/s]\n",
            "2it [00:00, 530.42it/s]\n",
            "0it [00:00, ?it/s]\n",
            "20it [00:00, 741.34it/s]\n",
            "0it [00:00, ?it/s]\n",
            "2it [00:00, 625.41it/s]\n",
            "0it [00:00, ?it/s]\n",
            "20it [00:00, 761.31it/s]\n",
            "0it [00:00, ?it/s]\n",
            "2it [00:00, 554.84it/s]\n",
            "0it [00:00, ?it/s]\n",
            "0it [00:00, ?it/s]\n",
            "20it [00:00, 186000.18it/s]\n",
            "2it [00:00, 407.02it/s]\n",
            "0it [00:00, ?it/s]\n"
          ]
        },
        {
          "output_type": "stream",
          "name": "stdout",
          "text": [
            "Training is complete\n"
          ]
        },
        {
          "output_type": "stream",
          "name": "stderr",
          "text": [
            "2023-12-19 09:26:56,351 - root - INFO - Building dictionary\n",
            "0it [00:00, ?it/s]\n",
            "20it [00:00, 212369.82it/s]\n",
            "2it [00:00, 296.76it/s]\n",
            "0it [00:00, ?it/s]\n"
          ]
        },
        {
          "output_type": "stream",
          "name": "stdout",
          "text": [
            "COMPONENTS:  0.0 0\n"
          ]
        },
        {
          "output_type": "stream",
          "name": "stderr",
          "text": [
            "0it [00:00, ?it/s]\n",
            "20it [00:00, 192841.56it/s]\n",
            "0it [00:00, ?it/s]\n",
            "20it [00:00, 48970.27it/s]\n",
            "0it [00:00, ?it/s]\n",
            "20it [00:00, 226719.14it/s]\n",
            "0it [00:00, ?it/s]\n",
            "20it [00:00, 207638.81it/s]\n",
            "0it [00:00, ?it/s]\n",
            "20it [00:00, 221335.30it/s]\n",
            "0it [00:00, ?it/s]\n",
            "20it [00:00, 238312.73it/s]\n",
            "0it [00:00, ?it/s]\n",
            "20it [00:00, 229824.88it/s]\n",
            "0it [00:00, ?it/s]\n",
            "20it [00:00, 237637.62it/s]\n",
            "0it [00:00, ?it/s]\n",
            "20it [00:00, 225500.22it/s]\n",
            "0it [00:00, ?it/s]\n",
            "20it [00:00, 223696.21it/s]\n",
            "2023-12-19 09:26:56,678 - root - INFO - Fitness estimation took  5.83\n",
            "2023-12-19 09:26:56,966 - root - INFO - Deleting bigartm logs: []\n",
            "2023-12-19 09:26:57,006 - root - INFO - Doing fitness calculating with individual {\"id\": \"1511a44b-8887-4443-b5cc-79fe8951c0ba\", \"data_path\": \"autotm_artifacts/1659e6bd-8d17-49de-9ba8-9790c2047501\", \"params\": [99386.86872187459, 0.0, 53.634779578732704, 46.64025635835457, 18.0, 940.152484255764, -891.3867491603287, 21.0, 552.3186850124189, -278.1172077089318, 6.0, 3.0, 0.7001260306932217, 0.32113552416972135, 0.36952837554281626, 65630.46930880583], \"exp_id\": 0, \"alg_id\": \"ga\", \"iteration_id\": 0, \"tag\": \"v0\", \"fitness_value\": null, \"fitness_name\": \"default\", \"dataset\": \"__noname__\", \"topic_count\": 20, \"train_option\": \"offline\", \"force_dataset_settings_checkout\": false}\n",
            "2023-12-19 09:26:57,007 - root - INFO - Loading dataset entities\n",
            "2023-12-19 09:26:57,010 - root - INFO - Reading dictionary from autotm_artifacts/1659e6bd-8d17-49de-9ba8-9790c2047501/dictionary.txt\n",
            "2023-12-19 09:26:57,633 - root - INFO - Dataset entities initialization took  0.62\n",
            "2023-12-19 09:26:57,635 - root - INFO - Using TM model: <class 'autotm.fitness.tm.TopicModel'> according to fitness name: default, topics count: 20\n",
            "6it [00:00, 2628.56it/s]\n",
            "14it [00:00, 147909.96it/s]\n",
            "3it [00:00, 490.20it/s]\n",
            "0it [00:00, ?it/s]\n"
          ]
        },
        {
          "output_type": "stream",
          "name": "stdout",
          "text": [
            "Early stopping is triggered\n"
          ]
        },
        {
          "output_type": "stream",
          "name": "stderr",
          "text": [
            "2023-12-19 09:27:00,008 - root - INFO - Building dictionary\n",
            "6it [00:00, 2275.60it/s]\n",
            "14it [00:00, 154121.41it/s]\n",
            "3it [00:00, 259.71it/s]\n",
            "0it [00:00, ?it/s]\n"
          ]
        },
        {
          "output_type": "stream",
          "name": "stdout",
          "text": [
            "COMPONENTS:  0.0005150460703806129 0.0\n"
          ]
        },
        {
          "output_type": "stream",
          "name": "stderr",
          "text": [
            "6it [00:00, 7521.17it/s]\n",
            "14it [00:00, 151731.93it/s]\n",
            "6it [00:00, 14794.72it/s]\n",
            "14it [00:00, 168252.88it/s]\n",
            "6it [00:00, 11351.30it/s]\n",
            "14it [00:00, 173728.57it/s]\n",
            "6it [00:00, 16246.50it/s]\n",
            "14it [00:00, 151340.87it/s]\n",
            "6it [00:00, 14438.22it/s]\n",
            "14it [00:00, 189420.18it/s]\n",
            "6it [00:00, 15887.52it/s]\n",
            "14it [00:00, 179025.17it/s]\n",
            "6it [00:00, 16018.98it/s]\n",
            "14it [00:00, 173216.09it/s]\n",
            "6it [00:00, 16777.22it/s]\n",
            "14it [00:00, 97541.95it/s]\n",
            "6it [00:00, 17685.05it/s]\n",
            "14it [00:00, 198379.24it/s]\n",
            "6it [00:00, 16256.99it/s]\n",
            "14it [00:00, 150179.68it/s]\n",
            "2023-12-19 09:27:00,197 - root - INFO - Fitness estimation took  3.19\n",
            "2023-12-19 09:27:00,432 - root - INFO - Deleting bigartm logs: []\n",
            "2023-12-19 09:27:00,491 - root - INFO - Doing fitness calculating with individual {\"id\": \"48954bc8-6aa7-40ef-bc00-0d74f64710ef\", \"data_path\": \"autotm_artifacts/1659e6bd-8d17-49de-9ba8-9790c2047501\", \"params\": [87865.30703140119, 4.0, 97.93233934395792, 7.748676820219924, 8.0, -718.3144387042657, 321.1826254602711, 21.0, -965.3499705924864, 603.9022592343265, 12.0, 1.0, 0.18346445316640514, 0.9201655460836005, 0.8961651612275792, 30896.870611871942], \"exp_id\": 0, \"alg_id\": \"ga\", \"iteration_id\": 0, \"tag\": \"v0\", \"fitness_value\": null, \"fitness_name\": \"default\", \"dataset\": \"__noname__\", \"topic_count\": 20, \"train_option\": \"offline\", \"force_dataset_settings_checkout\": false}\n",
            "2023-12-19 09:27:00,493 - root - INFO - Loading dataset entities\n",
            "2023-12-19 09:27:00,495 - root - INFO - Reading dictionary from autotm_artifacts/1659e6bd-8d17-49de-9ba8-9790c2047501/dictionary.txt\n",
            "2023-12-19 09:27:01,460 - root - INFO - Dataset entities initialization took  0.96\n",
            "2023-12-19 09:27:01,464 - root - INFO - Using TM model: <class 'autotm.fitness.tm.TopicModel'> according to fitness name: default, topics count: 20\n",
            "20it [00:00, 527.75it/s]\n",
            "0it [00:00, ?it/s]\n",
            "1it [00:00, 527.65it/s]\n",
            "0it [00:00, ?it/s]\n",
            "20it [00:00, 734.28it/s]\n",
            "0it [00:00, ?it/s]\n",
            "1it [00:00, 424.01it/s]\n",
            "0it [00:00, ?it/s]\n",
            "20it [00:00, 580.85it/s]\n",
            "0it [00:00, ?it/s]\n",
            "1it [00:00, 524.09it/s]\n",
            "0it [00:00, ?it/s]\n",
            "1it [00:00, 268.88it/s]\n",
            "19it [00:00, 196769.82it/s]\n",
            "1it [00:00, 669.38it/s]\n",
            "0it [00:00, ?it/s]\n",
            "2023-12-19 09:27:05,131 - root - INFO - Building dictionary\n"
          ]
        },
        {
          "output_type": "stream",
          "name": "stdout",
          "text": [
            "Early stopping is triggered\n"
          ]
        },
        {
          "output_type": "stream",
          "name": "stderr",
          "text": [
            "1it [00:00, 334.23it/s]\n",
            "19it [00:00, 179485.98it/s]\n",
            "1it [00:00, 416.23it/s]\n",
            "0it [00:00, ?it/s]\n"
          ]
        },
        {
          "output_type": "stream",
          "name": "stdout",
          "text": [
            "COMPONENTS:  0.0 0\n"
          ]
        },
        {
          "output_type": "stream",
          "name": "stderr",
          "text": [
            "1it [00:00, 1432.48it/s]\n",
            "19it [00:00, 153253.42it/s]\n",
            "1it [00:00, 3518.71it/s]\n",
            "19it [00:00, 133041.36it/s]\n",
            "1it [00:00, 1903.04it/s]\n",
            "19it [00:00, 199229.44it/s]\n",
            "1it [00:00, 696.50it/s]\n",
            "19it [00:00, 200230.59it/s]\n",
            "1it [00:00, 1214.33it/s]\n",
            "19it [00:00, 21313.66it/s]\n",
            "1it [00:00, 540.57it/s]\n",
            "19it [00:00, 200734.95it/s]\n",
            "1it [00:00, 512.00it/s]\n",
            "19it [00:00, 199728.76it/s]\n",
            "1it [00:00, 345.78it/s]\n",
            "19it [00:00, 191566.77it/s]\n",
            "1it [00:00, 565.27it/s]\n",
            "19it [00:00, 202778.06it/s]\n",
            "1it [00:00, 479.90it/s]\n",
            "19it [00:00, 228999.36it/s]\n",
            "2023-12-19 09:27:05,423 - root - INFO - Fitness estimation took  4.93\n",
            "2023-12-19 09:27:05,662 - root - INFO - Deleting bigartm logs: []\n",
            "2023-12-19 09:27:05,700 - root - INFO - Doing fitness calculating with individual {\"id\": \"6932d04c-0a19-42fb-a5b0-72d1368d889f\", \"data_path\": \"autotm_artifacts/1659e6bd-8d17-49de-9ba8-9790c2047501\", \"params\": [12399.960277637323, 17.0, 79.35544895413649, 71.12129896799874, 7.0, 389.57421914968427, -865.4661182787178, 21.0, -581.2648021964976, -595.8585898011528, 29.0, 1.0, 0.9609792888292359, 0.13056841268079034, 0.9253274209331299, 6945.306416931551], \"exp_id\": 0, \"alg_id\": \"ga\", \"iteration_id\": 0, \"tag\": \"v0\", \"fitness_value\": null, \"fitness_name\": \"default\", \"dataset\": \"__noname__\", \"topic_count\": 20, \"train_option\": \"offline\", \"force_dataset_settings_checkout\": false}\n",
            "2023-12-19 09:27:05,703 - root - INFO - Loading dataset entities\n",
            "2023-12-19 09:27:05,705 - root - INFO - Reading dictionary from autotm_artifacts/1659e6bd-8d17-49de-9ba8-9790c2047501/dictionary.txt\n",
            "2023-12-19 09:27:06,302 - root - INFO - Dataset entities initialization took  0.60\n",
            "2023-12-19 09:27:06,303 - root - INFO - Using TM model: <class 'autotm.fitness.tm.TopicModel'> according to fitness name: default, topics count: 20\n",
            "20it [00:00, 690.76it/s]\n",
            "0it [00:00, ?it/s]\n",
            "1it [00:00, 366.76it/s]\n",
            "0it [00:00, ?it/s]\n",
            "20it [00:00, 697.59it/s]\n",
            "0it [00:00, ?it/s]\n",
            "1it [00:00, 548.28it/s]\n",
            "0it [00:00, ?it/s]\n",
            "20it [00:00, 723.39it/s]\n",
            "0it [00:00, ?it/s]\n",
            "1it [00:00, 540.16it/s]\n",
            "0it [00:00, ?it/s]\n",
            "0it [00:00, ?it/s]\n",
            "20it [00:00, 146398.05it/s]\n",
            "1it [00:00, 439.01it/s]\n",
            "0it [00:00, ?it/s]\n"
          ]
        },
        {
          "output_type": "stream",
          "name": "stdout",
          "text": [
            "Training is complete\n"
          ]
        },
        {
          "output_type": "stream",
          "name": "stderr",
          "text": [
            "2023-12-19 09:27:12,812 - root - INFO - Building dictionary\n",
            "0it [00:00, ?it/s]\n",
            "20it [00:00, 223101.28it/s]\n",
            "1it [00:00, 256.25it/s]\n",
            "0it [00:00, ?it/s]\n"
          ]
        },
        {
          "output_type": "stream",
          "name": "stdout",
          "text": [
            "COMPONENTS:  0.0 0\n"
          ]
        },
        {
          "output_type": "stream",
          "name": "stderr",
          "text": [
            "0it [00:00, ?it/s]\n",
            "20it [00:00, 204600.20it/s]\n",
            "0it [00:00, ?it/s]\n",
            "20it [00:00, 205603.14it/s]\n",
            "0it [00:00, ?it/s]\n",
            "20it [00:00, 249660.95it/s]\n",
            "0it [00:00, ?it/s]\n",
            "20it [00:00, 233016.89it/s]\n",
            "0it [00:00, ?it/s]\n",
            "20it [00:00, 219023.71it/s]\n",
            "0it [00:00, ?it/s]\n",
            "20it [00:00, 201649.23it/s]\n",
            "0it [00:00, ?it/s]\n",
            "20it [00:00, 234975.01it/s]\n",
            "0it [00:00, ?it/s]\n",
            "20it [00:00, 187664.61it/s]\n",
            "0it [00:00, ?it/s]\n",
            "20it [00:00, 228572.43it/s]\n",
            "0it [00:00, ?it/s]\n",
            "20it [00:00, 261327.35it/s]\n",
            "2023-12-19 09:27:13,397 - root - INFO - Fitness estimation took  7.69\n",
            "2023-12-19 09:27:13,813 - root - INFO - Deleting bigartm logs: []\n",
            "2023-12-19 09:27:13,877 - root - INFO - The fitness results have been obtained\n",
            "2023-12-19 09:27:13,881 - GA_algo - INFO - POPULATION IS CREATED\n",
            "2023-12-19 09:27:13,883 - GA_algo - INFO - ENTERING GENERATION 0\n",
            "2023-12-19 09:27:13,884 - GA_algo - INFO - PAIRS ARE CREATED\n",
            "2023-12-19 09:27:13,890 - GA_algo - INFO - CURRENT COUNTER: 29\n",
            "2023-12-19 09:27:13,892 - root - INFO - Calculating fitness...\n",
            "2023-12-19 09:27:13,894 - root - INFO - Doing fitness calculating with individual {\"id\": \"2411b1a1-ca3c-4723-8a84-f907fb5f8d59\", \"data_path\": \"autotm_artifacts/1659e6bd-8d17-49de-9ba8-9790c2047501\", \"params\": [0, 15.0, 7.09114591988034, 2.7664355876474476, 0, -291.47833636579566, -1000.0, 0, 1000.0, -406.9388981572795, 0, 0.0, 0.28724639900675775, 0.5398170752791501, 0.07047084994570707, 0], \"exp_id\": 0, \"alg_id\": \"ga\", \"iteration_id\": 0, \"tag\": \"v0\", \"fitness_value\": null, \"fitness_name\": \"default\", \"dataset\": \"__noname__\", \"topic_count\": 20, \"train_option\": \"offline\", \"force_dataset_settings_checkout\": false}\n",
            "2023-12-19 09:27:13,896 - root - INFO - Loading dataset entities\n",
            "2023-12-19 09:27:13,898 - root - INFO - Reading dictionary from autotm_artifacts/1659e6bd-8d17-49de-9ba8-9790c2047501/dictionary.txt\n",
            "2023-12-19 09:27:14,831 - root - INFO - Dataset entities initialization took  0.93\n",
            "2023-12-19 09:27:14,833 - root - INFO - Using TM model: <class 'autotm.fitness.tm.TopicModel'> according to fitness name: default, topics count: 20\n",
            "20it [00:00, 802.12it/s]\n",
            "0it [00:00, ?it/s]\n",
            "0it [00:00, ?it/s]\n",
            "0it [00:00, ?it/s]\n",
            "20it [00:00, 771.47it/s]\n",
            "0it [00:00, ?it/s]\n",
            "0it [00:00, ?it/s]\n",
            "0it [00:00, ?it/s]\n",
            "20it [00:00, 771.88it/s]\n",
            "0it [00:00, ?it/s]\n",
            "0it [00:00, ?it/s]\n",
            "0it [00:00, ?it/s]\n",
            "20it [00:00, 729.30it/s]\n",
            "0it [00:00, ?it/s]\n",
            "0it [00:00, ?it/s]\n",
            "0it [00:00, ?it/s]\n",
            "2023-12-19 09:27:17,506 - root - INFO - Building dictionary\n"
          ]
        },
        {
          "output_type": "stream",
          "name": "stdout",
          "text": [
            "Training is complete\n",
            "Wow! all topics\n"
          ]
        },
        {
          "output_type": "stream",
          "name": "stderr",
          "text": [
            "20it [00:00, 774.20it/s]\n",
            "0it [00:00, ?it/s]\n",
            "0it [00:00, ?it/s]\n",
            "0it [00:00, ?it/s]\n"
          ]
        },
        {
          "output_type": "stream",
          "name": "stdout",
          "text": [
            "COMPONENTS:  0.43970788795408283 0.20374191381957296\n"
          ]
        },
        {
          "output_type": "stream",
          "name": "stderr",
          "text": [
            "20it [00:00, 8044.31it/s]\n",
            "0it [00:00, ?it/s]\n",
            "20it [00:00, 5294.17it/s]\n",
            "0it [00:00, ?it/s]\n",
            "20it [00:00, 3608.31it/s]\n",
            "0it [00:00, ?it/s]\n",
            "20it [00:00, 3088.25it/s]\n",
            "0it [00:00, ?it/s]\n",
            "20it [00:00, 2107.11it/s]\n",
            "0it [00:00, ?it/s]\n",
            "20it [00:00, 1011.76it/s]\n",
            "0it [00:00, ?it/s]\n",
            "20it [00:00, 1356.98it/s]\n",
            "0it [00:00, ?it/s]\n",
            "20it [00:00, 708.72it/s]\n",
            "0it [00:00, ?it/s]\n",
            "20it [00:00, 722.35it/s]\n",
            "0it [00:00, ?it/s]\n",
            "20it [00:00, 516.32it/s]\n",
            "0it [00:00, ?it/s]\n",
            "2023-12-19 09:27:18,007 - root - INFO - Fitness estimation took  4.11\n",
            "2023-12-19 09:27:18,239 - root - INFO - Deleting bigartm logs: []\n",
            "2023-12-19 09:27:18,276 - root - INFO - Doing fitness calculating with individual {\"id\": \"6652ad22-e025-426e-b423-cdd8bab880b7\", \"data_path\": \"autotm_artifacts/1659e6bd-8d17-49de-9ba8-9790c2047501\", \"params\": [100000.0, 30, 100.0, 0, 7.0, -394.0017585407771, -698.9509772041916, 27.0, -135.65968131292692, 1000.0, 29.0, 5.0, 0.9609792888292359, 0.13056841268079034, 0.9253274209331299, 100000.0], \"exp_id\": 0, \"alg_id\": \"ga\", \"iteration_id\": 0, \"tag\": \"v0\", \"fitness_value\": null, \"fitness_name\": \"default\", \"dataset\": \"__noname__\", \"topic_count\": 20, \"train_option\": \"offline\", \"force_dataset_settings_checkout\": false}\n",
            "2023-12-19 09:27:18,278 - root - INFO - Loading dataset entities\n",
            "2023-12-19 09:27:18,280 - root - INFO - Reading dictionary from autotm_artifacts/1659e6bd-8d17-49de-9ba8-9790c2047501/dictionary.txt\n",
            "2023-12-19 09:27:18,885 - root - INFO - Dataset entities initialization took  0.60\n",
            "2023-12-19 09:27:18,887 - root - INFO - Using TM model: <class 'autotm.fitness.tm.TopicModel'> according to fitness name: default, topics count: 20\n",
            "20it [00:00, 724.32it/s]\n",
            "0it [00:00, ?it/s]\n",
            "5it [00:00, 526.80it/s]\n",
            "0it [00:00, ?it/s]\n",
            "20it [00:00, 746.50it/s]\n",
            "0it [00:00, ?it/s]\n",
            "5it [00:00, 655.67it/s]\n",
            "0it [00:00, ?it/s]\n",
            "20it [00:00, 734.26it/s]\n",
            "0it [00:00, ?it/s]\n",
            "5it [00:00, 639.51it/s]\n",
            "0it [00:00, ?it/s]\n",
            "20it [00:00, 658.14it/s]\n",
            "0it [00:00, ?it/s]\n",
            "5it [00:00, 886.71it/s]\n",
            "0it [00:00, ?it/s]\n"
          ]
        },
        {
          "output_type": "stream",
          "name": "stdout",
          "text": [
            "Training is complete\n"
          ]
        },
        {
          "output_type": "stream",
          "name": "stderr",
          "text": [
            "2023-12-19 09:27:29,808 - root - INFO - Building dictionary\n"
          ]
        },
        {
          "output_type": "stream",
          "name": "stdout",
          "text": [
            "Wow! all topics\n"
          ]
        },
        {
          "output_type": "stream",
          "name": "stderr",
          "text": [
            "20it [00:00, 666.87it/s]\n",
            "0it [00:00, ?it/s]\n",
            "5it [00:00, 867.70it/s]\n",
            "0it [00:00, ?it/s]\n"
          ]
        },
        {
          "output_type": "stream",
          "name": "stdout",
          "text": [
            "COMPONENTS:  0.6025157675650668 0.3614578698552936\n"
          ]
        },
        {
          "output_type": "stream",
          "name": "stderr",
          "text": [
            "20it [00:00, 15191.25it/s]\n",
            "0it [00:00, ?it/s]\n",
            "20it [00:00, 5187.12it/s]\n",
            "0it [00:00, ?it/s]\n",
            "20it [00:00, 4021.38it/s]\n",
            "0it [00:00, ?it/s]\n",
            "20it [00:00, 2608.48it/s]\n",
            "0it [00:00, ?it/s]\n",
            "20it [00:00, 1096.16it/s]\n",
            "0it [00:00, ?it/s]\n",
            "20it [00:00, 1339.78it/s]\n",
            "0it [00:00, ?it/s]\n",
            "20it [00:00, 772.34it/s]\n",
            "0it [00:00, ?it/s]\n",
            "20it [00:00, 762.67it/s]\n",
            "0it [00:00, ?it/s]\n",
            "20it [00:00, 784.31it/s]\n",
            "0it [00:00, ?it/s]\n",
            "20it [00:00, 573.59it/s]\n",
            "0it [00:00, ?it/s]\n",
            "2023-12-19 09:27:31,065 - root - INFO - Fitness estimation took  12.79\n",
            "2023-12-19 09:27:31,844 - root - INFO - Deleting bigartm logs: []\n",
            "2023-12-19 09:27:31,884 - root - INFO - Doing fitness calculating with individual {\"id\": \"d23061a4-03c7-4cdc-94e6-70a8ce6d70bf\", \"data_path\": \"autotm_artifacts/1659e6bd-8d17-49de-9ba8-9790c2047501\", \"params\": [0, 20.0, 55.51620485402375, 8.623318224038687, 30, -931.5903211392925, -291.17529685632485, 0, 278.02971387681225, 282.63842910549744, 0, 0, 0.5239784388588118, 0.48289280593359163, 0.07280390203909981, 0], \"exp_id\": 0, \"alg_id\": \"ga\", \"iteration_id\": 0, \"tag\": \"v0\", \"fitness_value\": null, \"fitness_name\": \"default\", \"dataset\": \"__noname__\", \"topic_count\": 20, \"train_option\": \"offline\", \"force_dataset_settings_checkout\": false}\n",
            "2023-12-19 09:27:31,887 - root - INFO - Loading dataset entities\n",
            "2023-12-19 09:27:31,889 - root - INFO - Reading dictionary from autotm_artifacts/1659e6bd-8d17-49de-9ba8-9790c2047501/dictionary.txt\n",
            "2023-12-19 09:27:32,478 - root - INFO - Dataset entities initialization took  0.59\n",
            "2023-12-19 09:27:32,479 - root - INFO - Using TM model: <class 'autotm.fitness.tm.TopicModel'> according to fitness name: default, topics count: 20\n",
            "20it [00:00, 639.72it/s]\n",
            "0it [00:00, ?it/s]\n",
            "0it [00:00, ?it/s]\n",
            "0it [00:00, ?it/s]\n",
            "20it [00:00, 652.37it/s]\n",
            "0it [00:00, ?it/s]\n",
            "0it [00:00, ?it/s]\n",
            "0it [00:00, ?it/s]\n",
            "20it [00:00, 730.89it/s]\n",
            "0it [00:00, ?it/s]\n",
            "0it [00:00, ?it/s]\n",
            "0it [00:00, ?it/s]\n",
            "20it [00:00, 673.58it/s]\n",
            "0it [00:00, ?it/s]\n",
            "0it [00:00, ?it/s]\n",
            "0it [00:00, ?it/s]\n"
          ]
        },
        {
          "output_type": "stream",
          "name": "stdout",
          "text": [
            "Training is complete\n"
          ]
        },
        {
          "output_type": "stream",
          "name": "stderr",
          "text": [
            "2023-12-19 09:27:35,370 - root - INFO - Building dictionary\n"
          ]
        },
        {
          "output_type": "stream",
          "name": "stdout",
          "text": [
            "Wow! all topics\n"
          ]
        },
        {
          "output_type": "stream",
          "name": "stderr",
          "text": [
            "20it [00:00, 736.86it/s]\n",
            "0it [00:00, ?it/s]\n",
            "0it [00:00, ?it/s]\n",
            "0it [00:00, ?it/s]"
          ]
        },
        {
          "output_type": "stream",
          "name": "stdout",
          "text": [
            "COMPONENTS:  0.4413855243284502 0.20692958300201253\n"
          ]
        },
        {
          "output_type": "stream",
          "name": "stderr",
          "text": [
            "\n",
            "20it [00:00, 15092.85it/s]\n",
            "0it [00:00, ?it/s]\n",
            "20it [00:00, 5335.59it/s]\n",
            "0it [00:00, ?it/s]\n",
            "20it [00:00, 4089.61it/s]\n",
            "0it [00:00, ?it/s]\n",
            "20it [00:00, 1460.77it/s]\n",
            "0it [00:00, ?it/s]\n",
            "20it [00:00, 1948.71it/s]\n",
            "0it [00:00, ?it/s]\n",
            "20it [00:00, 1412.13it/s]\n",
            "0it [00:00, ?it/s]\n",
            "20it [00:00, 839.10it/s]\n",
            "0it [00:00, ?it/s]\n",
            "20it [00:00, 797.87it/s]\n",
            "0it [00:00, ?it/s]\n",
            "20it [00:00, 696.27it/s]\n",
            "0it [00:00, ?it/s]\n",
            "20it [00:00, 580.32it/s]\n",
            "0it [00:00, ?it/s]\n",
            "2023-12-19 09:27:35,922 - root - INFO - Fitness estimation took  4.04\n",
            "2023-12-19 09:27:36,193 - root - INFO - Deleting bigartm logs: []\n",
            "2023-12-19 09:27:36,231 - root - INFO - Doing fitness calculating with individual {\"id\": \"227011cf-9a62-46c1-a7a7-77f098b3bc68\", \"data_path\": \"autotm_artifacts/1659e6bd-8d17-49de-9ba8-9790c2047501\", \"params\": [100000.0, 30, 100.0, 0, 8.0, 85.25433175239326, -648.5019341453228, 30, -96.00611585331706, 1000.0, 30, 5.0, 0.5937690221909057, 0.4175547062483904, 0.2105551880040223, 100000.0], \"exp_id\": 0, \"alg_id\": \"ga\", \"iteration_id\": 0, \"tag\": \"v0\", \"fitness_value\": null, \"fitness_name\": \"default\", \"dataset\": \"__noname__\", \"topic_count\": 20, \"train_option\": \"offline\", \"force_dataset_settings_checkout\": false}\n",
            "2023-12-19 09:27:36,233 - root - INFO - Loading dataset entities\n",
            "2023-12-19 09:27:36,235 - root - INFO - Reading dictionary from autotm_artifacts/1659e6bd-8d17-49de-9ba8-9790c2047501/dictionary.txt\n",
            "2023-12-19 09:27:36,870 - root - INFO - Dataset entities initialization took  0.63\n",
            "2023-12-19 09:27:36,872 - root - INFO - Using TM model: <class 'autotm.fitness.tm.TopicModel'> according to fitness name: default, topics count: 20\n",
            "20it [00:00, 486.21it/s]\n",
            "0it [00:00, ?it/s]\n",
            "5it [00:00, 260.96it/s]\n",
            "0it [00:00, ?it/s]\n",
            "20it [00:00, 731.54it/s]\n",
            "0it [00:00, ?it/s]\n",
            "5it [00:00, 425.69it/s]\n",
            "0it [00:00, ?it/s]\n",
            "20it [00:00, 744.26it/s]\n",
            "0it [00:00, ?it/s]\n",
            "5it [00:00, 562.37it/s]\n",
            "0it [00:00, ?it/s]\n",
            "20it [00:00, 524.27it/s]\n",
            "0it [00:00, ?it/s]\n",
            "5it [00:00, 648.77it/s]\n",
            "0it [00:00, ?it/s]\n"
          ]
        },
        {
          "output_type": "stream",
          "name": "stdout",
          "text": [
            "Training is complete\n"
          ]
        },
        {
          "output_type": "stream",
          "name": "stderr",
          "text": [
            "2023-12-19 09:27:48,376 - root - INFO - Building dictionary\n"
          ]
        },
        {
          "output_type": "stream",
          "name": "stdout",
          "text": [
            "Wow! all topics\n"
          ]
        },
        {
          "output_type": "stream",
          "name": "stderr",
          "text": [
            "20it [00:00, 733.64it/s]\n",
            "0it [00:00, ?it/s]\n",
            "5it [00:00, 829.64it/s]\n",
            "0it [00:00, ?it/s]\n"
          ]
        },
        {
          "output_type": "stream",
          "name": "stdout",
          "text": [
            "COMPONENTS:  0.5979233674984947 0.3468772233573013\n"
          ]
        },
        {
          "output_type": "stream",
          "name": "stderr",
          "text": [
            "20it [00:00, 15027.96it/s]\n",
            "0it [00:00, ?it/s]\n",
            "20it [00:00, 4692.14it/s]\n",
            "0it [00:00, ?it/s]\n",
            "20it [00:00, 4129.27it/s]\n",
            "0it [00:00, ?it/s]\n",
            "20it [00:00, 2845.14it/s]\n",
            "0it [00:00, ?it/s]\n",
            "20it [00:00, 1106.15it/s]\n",
            "0it [00:00, ?it/s]\n",
            "20it [00:00, 933.30it/s]\n",
            "0it [00:00, ?it/s]\n",
            "20it [00:00, 741.17it/s]\n",
            "0it [00:00, ?it/s]\n",
            "20it [00:00, 901.94it/s]\n",
            "0it [00:00, ?it/s]\n",
            "20it [00:00, 670.39it/s]\n",
            "0it [00:00, ?it/s]\n",
            "20it [00:00, 657.92it/s]\n",
            "0it [00:00, ?it/s]\n",
            "2023-12-19 09:27:49,664 - root - INFO - Fitness estimation took  13.43\n",
            "2023-12-19 09:27:50,451 - root - INFO - Deleting bigartm logs: []\n",
            "2023-12-19 09:27:50,493 - root - INFO - Doing fitness calculating with individual {\"id\": \"daa4ba0a-da3c-4e3d-a84d-30f690e1892c\", \"data_path\": \"autotm_artifacts/1659e6bd-8d17-49de-9ba8-9790c2047501\", \"params\": [100000.0, 30, 100.0, 0, 8.0, 83.28394445274805, -649.4824277883736, 30, -97.75393217180351, 1000.0, 30, 5.0, 0.5202512404944241, 0.3353393609599058, 0.05647051138561909, 100000.0], \"exp_id\": 0, \"alg_id\": \"ga\", \"iteration_id\": 0, \"tag\": \"v0\", \"fitness_value\": null, \"fitness_name\": \"default\", \"dataset\": \"__noname__\", \"topic_count\": 20, \"train_option\": \"offline\", \"force_dataset_settings_checkout\": false}\n",
            "2023-12-19 09:27:50,494 - root - INFO - Loading dataset entities\n",
            "2023-12-19 09:27:50,497 - root - INFO - Reading dictionary from autotm_artifacts/1659e6bd-8d17-49de-9ba8-9790c2047501/dictionary.txt\n",
            "2023-12-19 09:27:51,101 - root - INFO - Dataset entities initialization took  0.60\n",
            "2023-12-19 09:27:51,102 - root - INFO - Using TM model: <class 'autotm.fitness.tm.TopicModel'> according to fitness name: default, topics count: 20\n",
            "20it [00:00, 723.46it/s]\n",
            "0it [00:00, ?it/s]\n",
            "5it [00:00, 447.05it/s]\n",
            "0it [00:00, ?it/s]\n",
            "20it [00:00, 729.22it/s]\n",
            "0it [00:00, ?it/s]\n",
            "5it [00:00, 480.33it/s]\n",
            "0it [00:00, ?it/s]\n",
            "20it [00:00, 758.96it/s]\n",
            "0it [00:00, ?it/s]\n",
            "5it [00:00, 671.86it/s]\n",
            "0it [00:00, ?it/s]\n",
            "20it [00:00, 768.93it/s]\n",
            "0it [00:00, ?it/s]\n",
            "5it [00:00, 1032.88it/s]\n",
            "0it [00:00, ?it/s]\n"
          ]
        },
        {
          "output_type": "stream",
          "name": "stdout",
          "text": [
            "Training is complete\n"
          ]
        },
        {
          "output_type": "stream",
          "name": "stderr",
          "text": [
            "2023-12-19 09:28:02,330 - root - INFO - Building dictionary\n"
          ]
        },
        {
          "output_type": "stream",
          "name": "stdout",
          "text": [
            "Wow! all topics\n"
          ]
        },
        {
          "output_type": "stream",
          "name": "stderr",
          "text": [
            "20it [00:00, 364.30it/s]\n",
            "0it [00:00, ?it/s]\n",
            "5it [00:00, 507.22it/s]\n",
            "0it [00:00, ?it/s]\n"
          ]
        },
        {
          "output_type": "stream",
          "name": "stdout",
          "text": [
            "COMPONENTS:  0.5979233674984947 0.34687722335730137\n"
          ]
        },
        {
          "output_type": "stream",
          "name": "stderr",
          "text": [
            "20it [00:00, 10240.00it/s]\n",
            "0it [00:00, ?it/s]\n",
            "20it [00:00, 5311.26it/s]\n",
            "0it [00:00, ?it/s]\n",
            "20it [00:00, 3201.39it/s]\n",
            "0it [00:00, ?it/s]\n",
            "20it [00:00, 951.16it/s]\n",
            "0it [00:00, ?it/s]\n",
            "20it [00:00, 1352.28it/s]\n",
            "0it [00:00, ?it/s]\n",
            "20it [00:00, 831.06it/s]\n",
            "0it [00:00, ?it/s]\n",
            "20it [00:00, 631.93it/s]\n",
            "0it [00:00, ?it/s]\n",
            "20it [00:00, 529.75it/s]\n",
            "0it [00:00, ?it/s]\n",
            "20it [00:00, 445.64it/s]\n",
            "0it [00:00, ?it/s]\n",
            "20it [00:00, 392.30it/s]\n",
            "0it [00:00, ?it/s]\n",
            "2023-12-19 09:28:04,416 - root - INFO - Fitness estimation took  13.92\n",
            "2023-12-19 09:28:05,431 - root - INFO - Deleting bigartm logs: []\n",
            "2023-12-19 09:28:05,474 - root - INFO - Doing fitness calculating with individual {\"id\": \"22d990d5-9e33-4b61-8d8a-c5c32fe1904d\", \"data_path\": \"autotm_artifacts/1659e6bd-8d17-49de-9ba8-9790c2047501\", \"params\": [100000.0, 30, 100.0, 0, 0.0, 61.452205483979554, -1000.0, 30, -259.24928360437696, 1000.0, 30, 5, 0.5202512404944241, 0.3353393609599058, 0.05647051138561909, 100000.0], \"exp_id\": 0, \"alg_id\": \"ga\", \"iteration_id\": 0, \"tag\": \"v0\", \"fitness_value\": null, \"fitness_name\": \"default\", \"dataset\": \"__noname__\", \"topic_count\": 20, \"train_option\": \"offline\", \"force_dataset_settings_checkout\": false}\n",
            "2023-12-19 09:28:05,476 - root - INFO - Loading dataset entities\n",
            "2023-12-19 09:28:05,480 - root - INFO - Reading dictionary from autotm_artifacts/1659e6bd-8d17-49de-9ba8-9790c2047501/dictionary.txt\n",
            "2023-12-19 09:28:06,440 - root - INFO - Dataset entities initialization took  0.96\n",
            "2023-12-19 09:28:06,443 - root - INFO - Using TM model: <class 'autotm.fitness.tm.TopicModel'> according to fitness name: default, topics count: 20\n",
            "20it [00:00, 632.17it/s]\n",
            "0it [00:00, ?it/s]\n",
            "5it [00:00, 503.12it/s]\n",
            "0it [00:00, ?it/s]\n",
            "20it [00:00, 729.27it/s]\n",
            "0it [00:00, ?it/s]\n",
            "5it [00:00, 421.62it/s]\n",
            "0it [00:00, ?it/s]\n",
            "20it [00:00, 681.97it/s]\n",
            "0it [00:00, ?it/s]\n",
            "5it [00:00, 403.86it/s]\n",
            "0it [00:00, ?it/s]\n",
            "20it [00:00, 719.45it/s]\n",
            "0it [00:00, ?it/s]\n",
            "5it [00:00, 863.91it/s]\n",
            "0it [00:00, ?it/s]\n"
          ]
        },
        {
          "output_type": "stream",
          "name": "stdout",
          "text": [
            "Training is complete\n"
          ]
        },
        {
          "output_type": "stream",
          "name": "stderr",
          "text": [
            "2023-12-19 09:28:16,230 - root - INFO - Building dictionary\n"
          ]
        },
        {
          "output_type": "stream",
          "name": "stdout",
          "text": [
            "Wow! all topics\n"
          ]
        },
        {
          "output_type": "stream",
          "name": "stderr",
          "text": [
            "20it [00:00, 730.40it/s]\n",
            "0it [00:00, ?it/s]\n",
            "5it [00:00, 498.61it/s]\n",
            "0it [00:00, ?it/s]\n"
          ]
        },
        {
          "output_type": "stream",
          "name": "stdout",
          "text": [
            "COMPONENTS:  0.614756617759016 0.37904647704074745\n"
          ]
        },
        {
          "output_type": "stream",
          "name": "stderr",
          "text": [
            "20it [00:00, 5600.25it/s]\n",
            "0it [00:00, ?it/s]\n",
            "20it [00:00, 3612.82it/s]\n",
            "0it [00:00, ?it/s]\n",
            "20it [00:00, 4607.61it/s]\n",
            "0it [00:00, ?it/s]\n",
            "20it [00:00, 2140.22it/s]\n",
            "0it [00:00, ?it/s]\n",
            "20it [00:00, 835.34it/s]\n",
            "0it [00:00, ?it/s]\n",
            "20it [00:00, 1271.81it/s]\n",
            "0it [00:00, ?it/s]\n",
            "20it [00:00, 699.62it/s]\n",
            "0it [00:00, ?it/s]\n",
            "20it [00:00, 831.30it/s]\n",
            "0it [00:00, ?it/s]\n",
            "20it [00:00, 668.24it/s]\n",
            "0it [00:00, ?it/s]\n",
            "20it [00:00, 644.48it/s]\n",
            "0it [00:00, ?it/s]\n",
            "2023-12-19 09:28:17,419 - root - INFO - Fitness estimation took  11.94\n",
            "2023-12-19 09:28:18,140 - root - INFO - Deleting bigartm logs: []\n",
            "2023-12-19 09:28:18,178 - root - INFO - Doing fitness calculating with individual {\"id\": \"b8f59ff4-a898-4754-a84b-fe5059964324\", \"data_path\": \"autotm_artifacts/1659e6bd-8d17-49de-9ba8-9790c2047501\", \"params\": [100000.0, 30, 100.0, 14.262568022001322, 10.0, 17.0533951293024, -666.4885632271003, 30, -826.5149640060574, 1000.0, 30, 5, 0.5202512404944241, 0.3353393609599058, 0.05647051138561909, 100000.0], \"exp_id\": 0, \"alg_id\": \"ga\", \"iteration_id\": 0, \"tag\": \"v0\", \"fitness_value\": null, \"fitness_name\": \"default\", \"dataset\": \"__noname__\", \"topic_count\": 20, \"train_option\": \"offline\", \"force_dataset_settings_checkout\": false}\n",
            "2023-12-19 09:28:18,180 - root - INFO - Loading dataset entities\n",
            "2023-12-19 09:28:18,182 - root - INFO - Reading dictionary from autotm_artifacts/1659e6bd-8d17-49de-9ba8-9790c2047501/dictionary.txt\n",
            "2023-12-19 09:28:18,916 - root - INFO - Dataset entities initialization took  0.73\n",
            "2023-12-19 09:28:18,923 - root - INFO - Using TM model: <class 'autotm.fitness.tm.TopicModel'> according to fitness name: default, topics count: 20\n",
            "20it [00:00, 718.34it/s]\n",
            "0it [00:00, ?it/s]\n",
            "5it [00:00, 484.95it/s]\n",
            "0it [00:00, ?it/s]\n",
            "20it [00:00, 686.31it/s]\n",
            "0it [00:00, ?it/s]\n",
            "5it [00:00, 675.69it/s]\n",
            "0it [00:00, ?it/s]\n",
            "20it [00:00, 707.60it/s]\n",
            "0it [00:00, ?it/s]\n",
            "5it [00:00, 647.37it/s]\n",
            "0it [00:00, ?it/s]\n",
            "20it [00:00, 642.73it/s]\n",
            "0it [00:00, ?it/s]\n",
            "5it [00:00, 764.41it/s]\n",
            "0it [00:00, ?it/s]\n"
          ]
        },
        {
          "output_type": "stream",
          "name": "stdout",
          "text": [
            "Training is complete\n"
          ]
        },
        {
          "output_type": "stream",
          "name": "stderr",
          "text": [
            "2023-12-19 09:28:30,417 - root - INFO - Building dictionary\n"
          ]
        },
        {
          "output_type": "stream",
          "name": "stdout",
          "text": [
            "Wow! all topics\n"
          ]
        },
        {
          "output_type": "stream",
          "name": "stderr",
          "text": [
            "20it [00:00, 697.20it/s]\n",
            "0it [00:00, ?it/s]\n",
            "5it [00:00, 499.77it/s]\n",
            "0it [00:00, ?it/s]\n"
          ]
        },
        {
          "output_type": "stream",
          "name": "stdout",
          "text": [
            "COMPONENTS:  0.6124497606493564 0.2946165125571445\n"
          ]
        },
        {
          "output_type": "stream",
          "name": "stderr",
          "text": [
            "20it [00:00, 10535.81it/s]\n",
            "0it [00:00, ?it/s]\n",
            "20it [00:00, 4941.74it/s]\n",
            "0it [00:00, ?it/s]\n",
            "20it [00:00, 2734.85it/s]\n",
            "0it [00:00, ?it/s]\n",
            "20it [00:00, 2299.89it/s]\n",
            "0it [00:00, ?it/s]\n",
            "20it [00:00, 2099.30it/s]\n",
            "0it [00:00, ?it/s]\n",
            "20it [00:00, 819.00it/s]\n",
            "0it [00:00, ?it/s]\n",
            "20it [00:00, 1052.79it/s]\n",
            "0it [00:00, ?it/s]\n",
            "20it [00:00, 906.65it/s]\n",
            "0it [00:00, ?it/s]\n",
            "20it [00:00, 708.31it/s]\n",
            "0it [00:00, ?it/s]\n",
            "20it [00:00, 441.89it/s]\n",
            "0it [00:00, ?it/s]\n",
            "2023-12-19 09:28:31,775 - root - INFO - Fitness estimation took  13.60\n",
            "2023-12-19 09:28:32,867 - root - INFO - Deleting bigartm logs: []\n",
            "2023-12-19 09:28:32,936 - root - INFO - Doing fitness calculating with individual {\"id\": \"051ad829-7f3f-4e5b-a68f-8b9816ac72be\", \"data_path\": \"autotm_artifacts/1659e6bd-8d17-49de-9ba8-9790c2047501\", \"params\": [37827.35096799966, 14.0, 0.9318465602682657, 100.0, 7.0, -615.002640791518, -981.1203367888957, 3.0, -1000.0, -1000.0, 12.0, 3.0, 0.5937690221909057, 0.4175547062483904, 0.2105551880040223, 34323.489879093424], \"exp_id\": 0, \"alg_id\": \"ga\", \"iteration_id\": 0, \"tag\": \"v0\", \"fitness_value\": null, \"fitness_name\": \"default\", \"dataset\": \"__noname__\", \"topic_count\": 20, \"train_option\": \"offline\", \"force_dataset_settings_checkout\": false}\n",
            "2023-12-19 09:28:32,939 - root - INFO - Loading dataset entities\n",
            "2023-12-19 09:28:32,940 - root - INFO - Reading dictionary from autotm_artifacts/1659e6bd-8d17-49de-9ba8-9790c2047501/dictionary.txt\n",
            "2023-12-19 09:28:33,884 - root - INFO - Dataset entities initialization took  0.94\n",
            "2023-12-19 09:28:33,887 - root - INFO - Using TM model: <class 'autotm.fitness.tm.TopicModel'> according to fitness name: default, topics count: 20\n",
            "20it [00:00, 707.23it/s]\n",
            "0it [00:00, ?it/s]\n",
            "3it [00:00, 387.72it/s]\n",
            "0it [00:00, ?it/s]\n",
            "20it [00:00, 701.05it/s]\n",
            "0it [00:00, ?it/s]\n",
            "3it [00:00, 325.60it/s]\n",
            "0it [00:00, ?it/s]\n",
            "20it [00:00, 640.14it/s]\n",
            "0it [00:00, ?it/s]\n",
            "3it [00:00, 437.27it/s]\n",
            "0it [00:00, ?it/s]\n",
            "0it [00:00, ?it/s]\n",
            "20it [00:00, 195995.51it/s]\n",
            "3it [00:00, 319.66it/s]\n",
            "0it [00:00, ?it/s]\n"
          ]
        },
        {
          "output_type": "stream",
          "name": "stdout",
          "text": [
            "Training is complete\n"
          ]
        },
        {
          "output_type": "stream",
          "name": "stderr",
          "text": [
            "2023-12-19 09:28:38,886 - root - INFO - Building dictionary\n",
            "0it [00:00, ?it/s]\n",
            "20it [00:00, 191958.99it/s]\n",
            "3it [00:00, 442.81it/s]\n",
            "0it [00:00, ?it/s]\n"
          ]
        },
        {
          "output_type": "stream",
          "name": "stdout",
          "text": [
            "COMPONENTS:  0.0 0\n"
          ]
        },
        {
          "output_type": "stream",
          "name": "stderr",
          "text": [
            "0it [00:00, ?it/s]\n",
            "20it [00:00, 170847.41it/s]\n",
            "0it [00:00, ?it/s]\n",
            "20it [00:00, 202135.13it/s]\n",
            "0it [00:00, ?it/s]\n",
            "20it [00:00, 226719.14it/s]\n",
            "0it [00:00, ?it/s]\n",
            "20it [00:00, 204102.38it/s]\n",
            "0it [00:00, ?it/s]\n",
            "20it [00:00, 234318.66it/s]\n",
            "0it [00:00, ?it/s]\n",
            "20it [00:00, 240361.26it/s]\n",
            "0it [00:00, ?it/s]\n",
            "20it [00:00, 288268.32it/s]\n",
            "0it [00:00, ?it/s]\n",
            "20it [00:00, 233016.89it/s]\n",
            "0it [00:00, ?it/s]\n",
            "20it [00:00, 233016.89it/s]\n",
            "0it [00:00, ?it/s]\n",
            "20it [00:00, 192841.56it/s]\n",
            "2023-12-19 09:28:39,318 - root - INFO - Fitness estimation took  6.38\n",
            "2023-12-19 09:28:39,712 - root - INFO - Deleting bigartm logs: []\n",
            "2023-12-19 09:28:39,751 - root - INFO - Doing fitness calculating with individual {\"id\": \"047f9f7f-1ed0-4ceb-aa79-674997f88cc8\", \"data_path\": \"autotm_artifacts/1659e6bd-8d17-49de-9ba8-9790c2047501\", \"params\": [100000.0, 30, 100.0, 0, 8.0, -51.44783580812788, -1000.0, 25.0, -66.25325871133168, 1000.0, 30, 5.0, 0.9306060634954084, 0.3382581659148661, 0.7286558208865347, 93520.32182784835], \"exp_id\": 0, \"alg_id\": \"ga\", \"iteration_id\": 0, \"tag\": \"v0\", \"fitness_value\": null, \"fitness_name\": \"default\", \"dataset\": \"__noname__\", \"topic_count\": 20, \"train_option\": \"offline\", \"force_dataset_settings_checkout\": false}\n",
            "2023-12-19 09:28:39,753 - root - INFO - Loading dataset entities\n",
            "2023-12-19 09:28:39,756 - root - INFO - Reading dictionary from autotm_artifacts/1659e6bd-8d17-49de-9ba8-9790c2047501/dictionary.txt\n",
            "2023-12-19 09:28:40,333 - root - INFO - Dataset entities initialization took  0.58\n",
            "2023-12-19 09:28:40,335 - root - INFO - Using TM model: <class 'autotm.fitness.tm.TopicModel'> according to fitness name: default, topics count: 20\n",
            "20it [00:00, 717.26it/s]\n",
            "0it [00:00, ?it/s]\n",
            "5it [00:00, 372.07it/s]\n",
            "0it [00:00, ?it/s]\n",
            "20it [00:00, 476.54it/s]\n",
            "0it [00:00, ?it/s]\n",
            "5it [00:00, 341.27it/s]\n",
            "0it [00:00, ?it/s]\n",
            "20it [00:00, 503.10it/s]\n",
            "0it [00:00, ?it/s]\n",
            "5it [00:00, 454.75it/s]\n",
            "0it [00:00, ?it/s]\n",
            "20it [00:00, 702.36it/s]\n",
            "0it [00:00, ?it/s]\n",
            "5it [00:00, 586.09it/s]\n",
            "0it [00:00, ?it/s]\n"
          ]
        },
        {
          "output_type": "stream",
          "name": "stdout",
          "text": [
            "Training is complete\n"
          ]
        },
        {
          "output_type": "stream",
          "name": "stderr",
          "text": [
            "2023-12-19 09:28:51,495 - root - INFO - Building dictionary\n"
          ]
        },
        {
          "output_type": "stream",
          "name": "stdout",
          "text": [
            "Wow! all topics\n"
          ]
        },
        {
          "output_type": "stream",
          "name": "stderr",
          "text": [
            "20it [00:00, 722.36it/s]\n",
            "0it [00:00, ?it/s]\n",
            "5it [00:00, 716.80it/s]\n",
            "0it [00:00, ?it/s]\n"
          ]
        },
        {
          "output_type": "stream",
          "name": "stdout",
          "text": [
            "COMPONENTS:  0.5989976935541771 0.37079006603217257\n"
          ]
        },
        {
          "output_type": "stream",
          "name": "stderr",
          "text": [
            "20it [00:00, 15014.51it/s]\n",
            "0it [00:00, ?it/s]\n",
            "20it [00:00, 5324.41it/s]\n",
            "0it [00:00, ?it/s]\n",
            "20it [00:00, 3266.85it/s]\n",
            "0it [00:00, ?it/s]\n",
            "20it [00:00, 2142.90it/s]\n",
            "0it [00:00, ?it/s]\n",
            "20it [00:00, 1181.19it/s]\n",
            "0it [00:00, ?it/s]\n",
            "20it [00:00, 1581.89it/s]\n",
            "0it [00:00, ?it/s]\n",
            "20it [00:00, 925.30it/s]\n",
            "0it [00:00, ?it/s]\n",
            "20it [00:00, 627.80it/s]\n",
            "0it [00:00, ?it/s]\n",
            "20it [00:00, 784.16it/s]\n",
            "0it [00:00, ?it/s]\n",
            "20it [00:00, 597.94it/s]\n",
            "0it [00:00, ?it/s]\n",
            "2023-12-19 09:28:52,822 - root - INFO - Fitness estimation took  13.07\n",
            "2023-12-19 09:28:53,618 - root - INFO - Deleting bigartm logs: []\n",
            "2023-12-19 09:28:53,657 - root - INFO - Doing fitness calculating with individual {\"id\": \"bdeec484-6db9-4ca3-b26a-c488fee7ef21\", \"data_path\": \"autotm_artifacts/1659e6bd-8d17-49de-9ba8-9790c2047501\", \"params\": [100000.0, 30, 100.0, 0, 8.0, 83.00256095431658, -649.6224483475403, 30, -98.00353115693696, 1000.0, 30, 5.0, 0.5202512404944241, 0.3353393609599058, 0.05647051138561909, 100000.0], \"exp_id\": 0, \"alg_id\": \"ga\", \"iteration_id\": 0, \"tag\": \"v0\", \"fitness_value\": null, \"fitness_name\": \"default\", \"dataset\": \"__noname__\", \"topic_count\": 20, \"train_option\": \"offline\", \"force_dataset_settings_checkout\": false}\n",
            "2023-12-19 09:28:53,658 - root - INFO - Loading dataset entities\n",
            "2023-12-19 09:28:53,661 - root - INFO - Reading dictionary from autotm_artifacts/1659e6bd-8d17-49de-9ba8-9790c2047501/dictionary.txt\n",
            "2023-12-19 09:28:54,244 - root - INFO - Dataset entities initialization took  0.58\n",
            "2023-12-19 09:28:54,246 - root - INFO - Using TM model: <class 'autotm.fitness.tm.TopicModel'> according to fitness name: default, topics count: 20\n",
            "20it [00:00, 712.64it/s]\n",
            "0it [00:00, ?it/s]\n",
            "5it [00:00, 504.51it/s]\n",
            "0it [00:00, ?it/s]\n",
            "20it [00:00, 459.80it/s]\n",
            "0it [00:00, ?it/s]\n",
            "5it [00:00, 437.29it/s]\n",
            "0it [00:00, ?it/s]\n",
            "20it [00:00, 446.20it/s]\n",
            "0it [00:00, ?it/s]\n",
            "5it [00:00, 480.47it/s]\n",
            "0it [00:00, ?it/s]\n",
            "20it [00:00, 696.31it/s]\n",
            "0it [00:00, ?it/s]\n",
            "5it [00:00, 621.80it/s]\n",
            "0it [00:00, ?it/s]\n"
          ]
        },
        {
          "output_type": "stream",
          "name": "stdout",
          "text": [
            "Training is complete\n"
          ]
        },
        {
          "output_type": "stream",
          "name": "stderr",
          "text": [
            "2023-12-19 09:29:05,410 - root - INFO - Building dictionary\n"
          ]
        },
        {
          "output_type": "stream",
          "name": "stdout",
          "text": [
            "Wow! all topics\n"
          ]
        },
        {
          "output_type": "stream",
          "name": "stderr",
          "text": [
            "20it [00:00, 686.75it/s]\n",
            "0it [00:00, ?it/s]\n",
            "5it [00:00, 731.02it/s]\n",
            "0it [00:00, ?it/s]\n"
          ]
        },
        {
          "output_type": "stream",
          "name": "stdout",
          "text": [
            "COMPONENTS:  0.5985465239813165 0.3468772233573013\n"
          ]
        },
        {
          "output_type": "stream",
          "name": "stderr",
          "text": [
            "20it [00:00, 14740.13it/s]\n",
            "0it [00:00, ?it/s]\n",
            "20it [00:00, 4750.60it/s]\n",
            "0it [00:00, ?it/s]\n",
            "20it [00:00, 2468.62it/s]\n",
            "0it [00:00, ?it/s]\n",
            "20it [00:00, 1476.27it/s]\n",
            "0it [00:00, ?it/s]\n",
            "20it [00:00, 2035.58it/s]\n",
            "0it [00:00, ?it/s]\n",
            "20it [00:00, 917.29it/s]\n",
            "0it [00:00, ?it/s]\n",
            "20it [00:00, 885.36it/s]\n",
            "0it [00:00, ?it/s]\n",
            "20it [00:00, 800.23it/s]\n",
            "0it [00:00, ?it/s]\n",
            "20it [00:00, 681.00it/s]\n",
            "0it [00:00, ?it/s]\n",
            "20it [00:00, 534.25it/s]\n",
            "0it [00:00, ?it/s]\n",
            "2023-12-19 09:29:06,751 - root - INFO - Fitness estimation took  13.09\n",
            "2023-12-19 09:29:07,558 - root - INFO - Deleting bigartm logs: []\n",
            "2023-12-19 09:29:07,595 - root - INFO - Doing fitness calculating with individual {\"id\": \"077b1547-6eb6-4b82-a19b-2cc82eabce4a\", \"data_path\": \"autotm_artifacts/1659e6bd-8d17-49de-9ba8-9790c2047501\", \"params\": [0, 20.0, 55.46378718542356, 8.620309105061692, 30, -932.5471023998502, -290.62195642270575, 0, 278.7025670833631, 281.8695641402818, 0, 0, 0.5202512404944241, 0.3353393609599058, 0.05647051138561909, 0], \"exp_id\": 0, \"alg_id\": \"ga\", \"iteration_id\": 0, \"tag\": \"v0\", \"fitness_value\": null, \"fitness_name\": \"default\", \"dataset\": \"__noname__\", \"topic_count\": 20, \"train_option\": \"offline\", \"force_dataset_settings_checkout\": false}\n",
            "2023-12-19 09:29:07,596 - root - INFO - Loading dataset entities\n",
            "2023-12-19 09:29:07,599 - root - INFO - Reading dictionary from autotm_artifacts/1659e6bd-8d17-49de-9ba8-9790c2047501/dictionary.txt\n",
            "2023-12-19 09:29:08,174 - root - INFO - Dataset entities initialization took  0.58\n",
            "2023-12-19 09:29:08,176 - root - INFO - Using TM model: <class 'autotm.fitness.tm.TopicModel'> according to fitness name: default, topics count: 20\n",
            "20it [00:00, 685.46it/s]\n",
            "0it [00:00, ?it/s]\n",
            "0it [00:00, ?it/s]\n",
            "0it [00:00, ?it/s]\n",
            "20it [00:00, 749.33it/s]\n",
            "0it [00:00, ?it/s]\n",
            "0it [00:00, ?it/s]\n",
            "0it [00:00, ?it/s]\n",
            "20it [00:00, 745.22it/s]\n",
            "0it [00:00, ?it/s]\n",
            "0it [00:00, ?it/s]\n",
            "0it [00:00, ?it/s]\n",
            "20it [00:00, 720.39it/s]\n",
            "0it [00:00, ?it/s]\n",
            "0it [00:00, ?it/s]\n",
            "0it [00:00, ?it/s]\n"
          ]
        },
        {
          "output_type": "stream",
          "name": "stdout",
          "text": [
            "Training is complete\n"
          ]
        },
        {
          "output_type": "stream",
          "name": "stderr",
          "text": [
            "2023-12-19 09:29:11,080 - root - INFO - Building dictionary\n"
          ]
        },
        {
          "output_type": "stream",
          "name": "stdout",
          "text": [
            "Wow! all topics\n"
          ]
        },
        {
          "output_type": "stream",
          "name": "stderr",
          "text": [
            "20it [00:00, 668.24it/s]\n",
            "0it [00:00, ?it/s]\n",
            "0it [00:00, ?it/s]\n",
            "0it [00:00, ?it/s]"
          ]
        },
        {
          "output_type": "stream",
          "name": "stdout",
          "text": [
            "COMPONENTS:  0.4413855243284502 0.20692958300201253\n"
          ]
        },
        {
          "output_type": "stream",
          "name": "stderr",
          "text": [
            "\n",
            "20it [00:00, 8365.19it/s]\n",
            "0it [00:00, ?it/s]\n",
            "20it [00:00, 5609.23it/s]\n",
            "0it [00:00, ?it/s]\n",
            "20it [00:00, 2311.42it/s]\n",
            "0it [00:00, ?it/s]\n",
            "20it [00:00, 1038.70it/s]\n",
            "0it [00:00, ?it/s]\n",
            "20it [00:00, 1094.73it/s]\n",
            "0it [00:00, ?it/s]\n",
            "20it [00:00, 807.81it/s]\n",
            "0it [00:00, ?it/s]\n",
            "20it [00:00, 866.76it/s]\n",
            "0it [00:00, ?it/s]\n",
            "20it [00:00, 577.52it/s]\n",
            "0it [00:00, ?it/s]\n",
            "20it [00:00, 573.35it/s]\n",
            "0it [00:00, ?it/s]\n",
            "20it [00:00, 431.45it/s]\n",
            "0it [00:00, ?it/s]\n",
            "2023-12-19 09:29:11,743 - root - INFO - Fitness estimation took  4.15\n",
            "2023-12-19 09:29:12,109 - root - INFO - Deleting bigartm logs: []\n",
            "2023-12-19 09:29:12,163 - root - INFO - Doing fitness calculating with individual {\"id\": \"03651814-034b-4478-9e0f-1d65db29992e\", \"data_path\": \"autotm_artifacts/1659e6bd-8d17-49de-9ba8-9790c2047501\", \"params\": [100000.0, 30, 100.0, 12.88693533016621, 6.0, 172.4539697852006, -1000.0, 27.0, 61.504883258743234, 1000.0, 30, 5.0, 0.5202512404944241, 0.3353393609599058, 0.05647051138561909, 100000.0], \"exp_id\": 0, \"alg_id\": \"ga\", \"iteration_id\": 0, \"tag\": \"v0\", \"fitness_value\": null, \"fitness_name\": \"default\", \"dataset\": \"__noname__\", \"topic_count\": 20, \"train_option\": \"offline\", \"force_dataset_settings_checkout\": false}\n",
            "2023-12-19 09:29:12,165 - root - INFO - Loading dataset entities\n",
            "2023-12-19 09:29:12,167 - root - INFO - Reading dictionary from autotm_artifacts/1659e6bd-8d17-49de-9ba8-9790c2047501/dictionary.txt\n",
            "2023-12-19 09:29:13,098 - root - INFO - Dataset entities initialization took  0.93\n",
            "2023-12-19 09:29:13,102 - root - INFO - Using TM model: <class 'autotm.fitness.tm.TopicModel'> according to fitness name: default, topics count: 20\n",
            "20it [00:00, 677.86it/s]\n",
            "0it [00:00, ?it/s]\n",
            "5it [00:00, 565.00it/s]\n",
            "0it [00:00, ?it/s]\n",
            "20it [00:00, 706.30it/s]\n",
            "0it [00:00, ?it/s]\n",
            "5it [00:00, 464.59it/s]\n",
            "0it [00:00, ?it/s]\n",
            "20it [00:00, 702.34it/s]\n",
            "0it [00:00, ?it/s]\n",
            "5it [00:00, 499.37it/s]\n",
            "0it [00:00, ?it/s]\n",
            "20it [00:00, 771.18it/s]\n",
            "0it [00:00, ?it/s]\n",
            "5it [00:00, 770.08it/s]\n",
            "0it [00:00, ?it/s]\n"
          ]
        },
        {
          "output_type": "stream",
          "name": "stdout",
          "text": [
            "Training is complete\n"
          ]
        },
        {
          "output_type": "stream",
          "name": "stderr",
          "text": [
            "2023-12-19 09:29:23,266 - root - INFO - Building dictionary\n"
          ]
        },
        {
          "output_type": "stream",
          "name": "stdout",
          "text": [
            "Wow! all topics\n"
          ]
        },
        {
          "output_type": "stream",
          "name": "stderr",
          "text": [
            "20it [00:00, 728.54it/s]\n",
            "0it [00:00, ?it/s]\n",
            "5it [00:00, 840.54it/s]\n",
            "0it [00:00, ?it/s]\n"
          ]
        },
        {
          "output_type": "stream",
          "name": "stdout",
          "text": [
            "COMPONENTS:  0.59793015143928 0.3394687933000962\n"
          ]
        },
        {
          "output_type": "stream",
          "name": "stderr",
          "text": [
            "20it [00:00, 6317.20it/s]\n",
            "0it [00:00, ?it/s]\n",
            "20it [00:00, 4613.43it/s]\n",
            "0it [00:00, ?it/s]\n",
            "20it [00:00, 1885.67it/s]\n",
            "0it [00:00, ?it/s]\n",
            "20it [00:00, 1497.91it/s]\n",
            "0it [00:00, ?it/s]\n",
            "20it [00:00, 1142.13it/s]\n",
            "0it [00:00, ?it/s]\n",
            "20it [00:00, 962.39it/s]\n",
            "0it [00:00, ?it/s]\n",
            "20it [00:00, 638.63it/s]\n",
            "0it [00:00, ?it/s]\n",
            "20it [00:00, 828.92it/s]\n",
            "0it [00:00, ?it/s]\n",
            "20it [00:00, 721.28it/s]\n",
            "0it [00:00, ?it/s]\n",
            "20it [00:00, 491.48it/s]\n",
            "0it [00:00, ?it/s]\n",
            "2023-12-19 09:29:24,561 - root - INFO - Fitness estimation took  12.40\n",
            "2023-12-19 09:29:25,488 - root - INFO - Deleting bigartm logs: []\n",
            "2023-12-19 09:29:25,547 - root - INFO - Doing fitness calculating with individual {\"id\": \"85abc171-e48e-4400-95bc-5d834daa95eb\", \"data_path\": \"autotm_artifacts/1659e6bd-8d17-49de-9ba8-9790c2047501\", \"params\": [0, 30, 61.69667165816607, 0, 30, -981.9512075238653, -737.988316539878, 0, 312.00894638170064, 872.1086769444535, 3.0, 0.0, 0.5239784388588118, 0.48289280593359163, 0.07280390203909981, 35136.22676423629], \"exp_id\": 0, \"alg_id\": \"ga\", \"iteration_id\": 0, \"tag\": \"v0\", \"fitness_value\": null, \"fitness_name\": \"default\", \"dataset\": \"__noname__\", \"topic_count\": 20, \"train_option\": \"offline\", \"force_dataset_settings_checkout\": false}\n",
            "2023-12-19 09:29:25,549 - root - INFO - Loading dataset entities\n",
            "2023-12-19 09:29:25,551 - root - INFO - Reading dictionary from autotm_artifacts/1659e6bd-8d17-49de-9ba8-9790c2047501/dictionary.txt\n",
            "2023-12-19 09:29:26,481 - root - INFO - Dataset entities initialization took  0.93\n",
            "2023-12-19 09:29:26,485 - root - INFO - Using TM model: <class 'autotm.fitness.tm.TopicModel'> according to fitness name: default, topics count: 20\n",
            "20it [00:00, 688.40it/s]\n",
            "0it [00:00, ?it/s]\n",
            "0it [00:00, ?it/s]\n",
            "0it [00:00, ?it/s]\n",
            "20it [00:00, 677.75it/s]\n",
            "0it [00:00, ?it/s]\n",
            "0it [00:00, ?it/s]\n",
            "0it [00:00, ?it/s]\n",
            "20it [00:00, 747.53it/s]\n",
            "0it [00:00, ?it/s]\n",
            "0it [00:00, ?it/s]\n",
            "0it [00:00, ?it/s]\n",
            "2023-12-19 09:29:30,636 - root - WARNING - Fitness calculation problem\n",
            "2023-12-19 09:29:30,637 - root - INFO - Fitness estimation took  5.09\n",
            "2023-12-19 09:29:30,989 - root - INFO - Deleting bigartm logs: []\n",
            "2023-12-19 09:29:31,026 - root - INFO - Doing fitness calculating with individual {\"id\": \"9ed25318-63dc-49ff-af19-2b01a6949dee\", \"data_path\": \"autotm_artifacts/1659e6bd-8d17-49de-9ba8-9790c2047501\", \"params\": [0, 25.0, 0, 3.655895774012894, 0, -262.72212452373344, -1000.0, 0, 1000.0, -457.7457788960321, 0, 0.0, 0.18346445316640514, 0.9201655460836005, 0.8961651612275792, 0], \"exp_id\": 0, \"alg_id\": \"ga\", \"iteration_id\": 0, \"tag\": \"v0\", \"fitness_value\": null, \"fitness_name\": \"default\", \"dataset\": \"__noname__\", \"topic_count\": 20, \"train_option\": \"offline\", \"force_dataset_settings_checkout\": false}\n",
            "2023-12-19 09:29:31,027 - root - INFO - Loading dataset entities\n",
            "2023-12-19 09:29:31,030 - root - INFO - Reading dictionary from autotm_artifacts/1659e6bd-8d17-49de-9ba8-9790c2047501/dictionary.txt\n",
            "2023-12-19 09:29:31,622 - root - INFO - Dataset entities initialization took  0.59\n",
            "2023-12-19 09:29:31,624 - root - INFO - Using TM model: <class 'autotm.fitness.tm.TopicModel'> according to fitness name: default, topics count: 20\n",
            "20it [00:00, 731.65it/s]\n",
            "0it [00:00, ?it/s]\n",
            "0it [00:00, ?it/s]\n",
            "0it [00:00, ?it/s]\n",
            "20it [00:00, 689.38it/s]\n",
            "0it [00:00, ?it/s]\n",
            "0it [00:00, ?it/s]\n",
            "0it [00:00, ?it/s]\n",
            "20it [00:00, 673.59it/s]\n",
            "0it [00:00, ?it/s]\n",
            "0it [00:00, ?it/s]\n",
            "0it [00:00, ?it/s]\n",
            "20it [00:00, 662.62it/s]\n",
            "0it [00:00, ?it/s]\n",
            "0it [00:00, ?it/s]\n",
            "0it [00:00, ?it/s]\n"
          ]
        },
        {
          "output_type": "stream",
          "name": "stdout",
          "text": [
            "Training is complete\n"
          ]
        },
        {
          "output_type": "stream",
          "name": "stderr",
          "text": [
            "2023-12-19 09:29:35,175 - root - INFO - Building dictionary\n"
          ]
        },
        {
          "output_type": "stream",
          "name": "stdout",
          "text": [
            "Wow! all topics\n"
          ]
        },
        {
          "output_type": "stream",
          "name": "stderr",
          "text": [
            "20it [00:00, 723.34it/s]\n",
            "0it [00:00, ?it/s]\n",
            "0it [00:00, ?it/s]\n",
            "0it [00:00, ?it/s]\n"
          ]
        },
        {
          "output_type": "stream",
          "name": "stdout",
          "text": [
            "COMPONENTS:  0.4433342089487562 0.19096051912315046\n"
          ]
        },
        {
          "output_type": "stream",
          "name": "stderr",
          "text": [
            "20it [00:00, 8491.35it/s]\n",
            "0it [00:00, ?it/s]\n",
            "20it [00:00, 5067.11it/s]\n",
            "0it [00:00, ?it/s]\n",
            "20it [00:00, 3553.89it/s]\n",
            "0it [00:00, ?it/s]\n",
            "20it [00:00, 2906.15it/s]\n",
            "0it [00:00, ?it/s]\n",
            "20it [00:00, 1329.16it/s]\n",
            "0it [00:00, ?it/s]\n",
            "20it [00:00, 1029.72it/s]\n",
            "0it [00:00, ?it/s]\n",
            "20it [00:00, 1028.94it/s]\n",
            "0it [00:00, ?it/s]\n",
            "20it [00:00, 1144.75it/s]\n",
            "0it [00:00, ?it/s]\n",
            "20it [00:00, 545.47it/s]\n",
            "0it [00:00, ?it/s]\n",
            "20it [00:00, 780.10it/s]\n",
            "0it [00:00, ?it/s]\n",
            "2023-12-19 09:29:35,780 - root - INFO - Fitness estimation took  4.75\n",
            "2023-12-19 09:29:36,123 - root - INFO - Deleting bigartm logs: []\n",
            "2023-12-19 09:29:36,167 - root - INFO - Doing fitness calculating with individual {\"id\": \"4348f357-5350-4a90-9a7d-93953dc57ba5\", \"data_path\": \"autotm_artifacts/1659e6bd-8d17-49de-9ba8-9790c2047501\", \"params\": [100000.0, 30, 100.0, 0, 6.0, -392.57648697979516, -699.2538569526826, 27.0, -136.47020680669613, 1000.0, 29.0, 5.0, 0.5202512404944241, 0.3353393609599058, 0.05647051138561909, 100000.0], \"exp_id\": 0, \"alg_id\": \"ga\", \"iteration_id\": 0, \"tag\": \"v0\", \"fitness_value\": null, \"fitness_name\": \"default\", \"dataset\": \"__noname__\", \"topic_count\": 20, \"train_option\": \"offline\", \"force_dataset_settings_checkout\": false}\n",
            "2023-12-19 09:29:36,169 - root - INFO - Loading dataset entities\n",
            "2023-12-19 09:29:36,171 - root - INFO - Reading dictionary from autotm_artifacts/1659e6bd-8d17-49de-9ba8-9790c2047501/dictionary.txt\n",
            "2023-12-19 09:29:36,817 - root - INFO - Dataset entities initialization took  0.65\n",
            "2023-12-19 09:29:36,819 - root - INFO - Using TM model: <class 'autotm.fitness.tm.TopicModel'> according to fitness name: default, topics count: 20\n",
            "20it [00:00, 694.05it/s]\n",
            "0it [00:00, ?it/s]\n",
            "5it [00:00, 617.61it/s]\n",
            "0it [00:00, ?it/s]\n",
            "20it [00:00, 722.87it/s]\n",
            "0it [00:00, ?it/s]\n",
            "5it [00:00, 417.14it/s]\n",
            "0it [00:00, ?it/s]\n",
            "20it [00:00, 741.97it/s]\n",
            "0it [00:00, ?it/s]\n",
            "5it [00:00, 515.21it/s]\n",
            "0it [00:00, ?it/s]\n",
            "20it [00:00, 717.12it/s]\n",
            "0it [00:00, ?it/s]\n",
            "5it [00:00, 609.02it/s]\n",
            "0it [00:00, ?it/s]\n"
          ]
        },
        {
          "output_type": "stream",
          "name": "stdout",
          "text": [
            "Training is complete\n"
          ]
        },
        {
          "output_type": "stream",
          "name": "stderr",
          "text": [
            "2023-12-19 09:29:47,767 - root - INFO - Building dictionary\n"
          ]
        },
        {
          "output_type": "stream",
          "name": "stdout",
          "text": [
            "Wow! all topics\n"
          ]
        },
        {
          "output_type": "stream",
          "name": "stderr",
          "text": [
            "20it [00:00, 710.43it/s]\n",
            "0it [00:00, ?it/s]\n",
            "5it [00:00, 450.25it/s]\n",
            "0it [00:00, ?it/s]\n"
          ]
        },
        {
          "output_type": "stream",
          "name": "stdout",
          "text": [
            "COMPONENTS:  0.6017808801421745 0.34771048600977267\n"
          ]
        },
        {
          "output_type": "stream",
          "name": "stderr",
          "text": [
            "20it [00:00, 10890.05it/s]\n",
            "0it [00:00, ?it/s]\n",
            "20it [00:00, 4744.42it/s]\n",
            "0it [00:00, ?it/s]\n",
            "20it [00:00, 3066.91it/s]\n",
            "0it [00:00, ?it/s]\n",
            "20it [00:00, 1994.01it/s]\n",
            "0it [00:00, ?it/s]\n",
            "20it [00:00, 937.00it/s]\n",
            "0it [00:00, ?it/s]\n",
            "20it [00:00, 814.18it/s]\n",
            "0it [00:00, ?it/s]\n",
            "20it [00:00, 1211.81it/s]\n",
            "0it [00:00, ?it/s]\n",
            "20it [00:00, 742.58it/s]\n",
            "0it [00:00, ?it/s]\n",
            "20it [00:00, 656.64it/s]\n",
            "0it [00:00, ?it/s]\n",
            "20it [00:00, 548.69it/s]\n",
            "0it [00:00, ?it/s]\n",
            "2023-12-19 09:29:49,050 - root - INFO - Fitness estimation took  12.88\n",
            "2023-12-19 09:29:49,813 - root - INFO - Deleting bigartm logs: []\n",
            "2023-12-19 09:29:49,850 - root - INFO - Doing fitness calculating with individual {\"id\": \"277cf478-5b40-46a6-966a-2b3b3b4444bd\", \"data_path\": \"autotm_artifacts/1659e6bd-8d17-49de-9ba8-9790c2047501\", \"params\": [100000.0, 30, 100.0, 0, 0.0, 58.99965457912077, -1000.0, 30, -259.5965175426326, 1000.0, 30, 5, 0.5202512404944241, 0.3353393609599058, 0.05647051138561909, 100000.0], \"exp_id\": 0, \"alg_id\": \"ga\", \"iteration_id\": 0, \"tag\": \"v0\", \"fitness_value\": null, \"fitness_name\": \"default\", \"dataset\": \"__noname__\", \"topic_count\": 20, \"train_option\": \"offline\", \"force_dataset_settings_checkout\": false}\n",
            "2023-12-19 09:29:49,851 - root - INFO - Loading dataset entities\n",
            "2023-12-19 09:29:49,854 - root - INFO - Reading dictionary from autotm_artifacts/1659e6bd-8d17-49de-9ba8-9790c2047501/dictionary.txt\n",
            "2023-12-19 09:29:50,433 - root - INFO - Dataset entities initialization took  0.58\n",
            "2023-12-19 09:29:50,435 - root - INFO - Using TM model: <class 'autotm.fitness.tm.TopicModel'> according to fitness name: default, topics count: 20\n",
            "20it [00:00, 668.06it/s]\n",
            "0it [00:00, ?it/s]\n",
            "5it [00:00, 492.52it/s]\n",
            "0it [00:00, ?it/s]\n",
            "20it [00:00, 725.13it/s]\n",
            "0it [00:00, ?it/s]\n",
            "5it [00:00, 654.54it/s]\n",
            "0it [00:00, ?it/s]\n",
            "20it [00:00, 740.39it/s]\n",
            "0it [00:00, ?it/s]\n",
            "5it [00:00, 448.20it/s]\n",
            "0it [00:00, ?it/s]\n",
            "20it [00:00, 708.84it/s]\n",
            "0it [00:00, ?it/s]\n",
            "5it [00:00, 961.38it/s]\n",
            "0it [00:00, ?it/s]\n"
          ]
        },
        {
          "output_type": "stream",
          "name": "stdout",
          "text": [
            "Training is complete\n"
          ]
        },
        {
          "output_type": "stream",
          "name": "stderr",
          "text": [
            "2023-12-19 09:30:00,556 - root - INFO - Building dictionary\n"
          ]
        },
        {
          "output_type": "stream",
          "name": "stdout",
          "text": [
            "Wow! all topics\n"
          ]
        },
        {
          "output_type": "stream",
          "name": "stderr",
          "text": [
            "20it [00:00, 756.45it/s]\n",
            "0it [00:00, ?it/s]\n",
            "5it [00:00, 676.06it/s]\n",
            "0it [00:00, ?it/s]\n"
          ]
        },
        {
          "output_type": "stream",
          "name": "stdout",
          "text": [
            "COMPONENTS:  0.614756617759016 0.37904647704074745\n"
          ]
        },
        {
          "output_type": "stream",
          "name": "stderr",
          "text": [
            "20it [00:00, 8508.58it/s]\n",
            "0it [00:00, ?it/s]\n",
            "20it [00:00, 2155.35it/s]\n",
            "0it [00:00, ?it/s]\n",
            "20it [00:00, 3725.79it/s]\n",
            "0it [00:00, ?it/s]\n",
            "20it [00:00, 2264.19it/s]\n",
            "0it [00:00, ?it/s]\n",
            "20it [00:00, 835.39it/s]\n",
            "0it [00:00, ?it/s]\n",
            "20it [00:00, 945.76it/s]\n",
            "0it [00:00, ?it/s]\n",
            "20it [00:00, 1171.69it/s]\n",
            "0it [00:00, ?it/s]\n",
            "20it [00:00, 826.45it/s]\n",
            "0it [00:00, ?it/s]\n",
            "20it [00:00, 573.00it/s]\n",
            "0it [00:00, ?it/s]\n",
            "20it [00:00, 620.17it/s]\n",
            "0it [00:00, ?it/s]\n",
            "2023-12-19 09:30:01,750 - root - INFO - Fitness estimation took  11.90\n",
            "2023-12-19 09:30:02,471 - root - INFO - Deleting bigartm logs: []\n",
            "2023-12-19 09:30:02,512 - root - INFO - Doing fitness calculating with individual {\"id\": \"191bb37c-182c-439e-820f-f9520129c2f1\", \"data_path\": \"autotm_artifacts/1659e6bd-8d17-49de-9ba8-9790c2047501\", \"params\": [100000.0, 30, 100.0, 12.863481543048364, 6.0, 168.38802164662923, -1000.0, 27.0, 56.817763080469945, 1000.0, 30, 5.0, 0.18346445316640514, 0.9201655460836005, 0.8961651612275792, 100000.0], \"exp_id\": 0, \"alg_id\": \"ga\", \"iteration_id\": 0, \"tag\": \"v0\", \"fitness_value\": null, \"fitness_name\": \"default\", \"dataset\": \"__noname__\", \"topic_count\": 20, \"train_option\": \"offline\", \"force_dataset_settings_checkout\": false}\n",
            "2023-12-19 09:30:02,514 - root - INFO - Loading dataset entities\n",
            "2023-12-19 09:30:02,516 - root - INFO - Reading dictionary from autotm_artifacts/1659e6bd-8d17-49de-9ba8-9790c2047501/dictionary.txt\n",
            "2023-12-19 09:30:03,106 - root - INFO - Dataset entities initialization took  0.59\n",
            "2023-12-19 09:30:03,108 - root - INFO - Using TM model: <class 'autotm.fitness.tm.TopicModel'> according to fitness name: default, topics count: 20\n",
            "20it [00:00, 655.66it/s]\n",
            "0it [00:00, ?it/s]\n",
            "5it [00:00, 461.54it/s]\n",
            "0it [00:00, ?it/s]\n",
            "20it [00:00, 562.99it/s]\n",
            "0it [00:00, ?it/s]\n",
            "5it [00:00, 423.80it/s]\n",
            "0it [00:00, ?it/s]\n",
            "20it [00:00, 678.51it/s]\n",
            "0it [00:00, ?it/s]\n",
            "5it [00:00, 490.95it/s]\n",
            "0it [00:00, ?it/s]\n",
            "20it [00:00, 705.54it/s]\n",
            "0it [00:00, ?it/s]\n",
            "5it [00:00, 636.91it/s]\n",
            "0it [00:00, ?it/s]\n"
          ]
        },
        {
          "output_type": "stream",
          "name": "stdout",
          "text": [
            "Training is complete\n"
          ]
        },
        {
          "output_type": "stream",
          "name": "stderr",
          "text": [
            "2023-12-19 09:30:14,519 - root - INFO - Building dictionary\n"
          ]
        },
        {
          "output_type": "stream",
          "name": "stdout",
          "text": [
            "Wow! all topics\n"
          ]
        },
        {
          "output_type": "stream",
          "name": "stderr",
          "text": [
            "20it [00:00, 688.59it/s]\n",
            "0it [00:00, ?it/s]\n",
            "5it [00:00, 773.00it/s]\n",
            "0it [00:00, ?it/s]\n"
          ]
        },
        {
          "output_type": "stream",
          "name": "stdout",
          "text": [
            "COMPONENTS:  0.5982886023906435 0.3394687933000962\n"
          ]
        },
        {
          "output_type": "stream",
          "name": "stderr",
          "text": [
            "20it [00:00, 6838.35it/s]\n",
            "0it [00:00, ?it/s]\n",
            "20it [00:00, 4791.30it/s]\n",
            "0it [00:00, ?it/s]\n",
            "20it [00:00, 3467.66it/s]\n",
            "0it [00:00, ?it/s]\n",
            "20it [00:00, 1066.97it/s]\n",
            "0it [00:00, ?it/s]\n",
            "20it [00:00, 1026.62it/s]\n",
            "0it [00:00, ?it/s]\n",
            "20it [00:00, 730.74it/s]\n",
            "0it [00:00, ?it/s]\n",
            "20it [00:00, 755.53it/s]\n",
            "0it [00:00, ?it/s]\n",
            "20it [00:00, 696.53it/s]\n",
            "0it [00:00, ?it/s]\n",
            "20it [00:00, 609.94it/s]\n",
            "0it [00:00, ?it/s]\n",
            "20it [00:00, 605.23it/s]\n",
            "0it [00:00, ?it/s]\n",
            "2023-12-19 09:30:15,808 - root - INFO - Fitness estimation took  13.29\n",
            "2023-12-19 09:30:16,574 - root - INFO - Deleting bigartm logs: []\n",
            "2023-12-19 09:30:16,613 - root - INFO - Doing fitness calculating with individual {\"id\": \"200478e7-7bc7-4738-aad3-a83c7112fe57\", \"data_path\": \"autotm_artifacts/1659e6bd-8d17-49de-9ba8-9790c2047501\", \"params\": [100000.0, 30, 100.0, 0, 0.0, 59.20590640683989, -1000.0, 30, -259.56731625907537, 1000.0, 30, 5, 0.4561746144288956, 0.09350849870439293, 0.5564163025270626, 100000.0], \"exp_id\": 0, \"alg_id\": \"ga\", \"iteration_id\": 0, \"tag\": \"v0\", \"fitness_value\": null, \"fitness_name\": \"default\", \"dataset\": \"__noname__\", \"topic_count\": 20, \"train_option\": \"offline\", \"force_dataset_settings_checkout\": false}\n",
            "2023-12-19 09:30:16,614 - root - INFO - Loading dataset entities\n",
            "2023-12-19 09:30:16,617 - root - INFO - Reading dictionary from autotm_artifacts/1659e6bd-8d17-49de-9ba8-9790c2047501/dictionary.txt\n",
            "2023-12-19 09:30:17,193 - root - INFO - Dataset entities initialization took  0.58\n",
            "2023-12-19 09:30:17,195 - root - INFO - Using TM model: <class 'autotm.fitness.tm.TopicModel'> according to fitness name: default, topics count: 20\n",
            "20it [00:00, 675.38it/s]\n",
            "0it [00:00, ?it/s]\n",
            "5it [00:00, 400.12it/s]\n",
            "0it [00:00, ?it/s]\n",
            "20it [00:00, 675.79it/s]\n",
            "0it [00:00, ?it/s]\n",
            "5it [00:00, 587.17it/s]\n",
            "0it [00:00, ?it/s]\n",
            "20it [00:00, 725.87it/s]\n",
            "0it [00:00, ?it/s]\n",
            "5it [00:00, 404.59it/s]\n",
            "0it [00:00, ?it/s]\n",
            "20it [00:00, 719.16it/s]\n",
            "0it [00:00, ?it/s]\n",
            "5it [00:00, 670.53it/s]\n",
            "0it [00:00, ?it/s]\n"
          ]
        },
        {
          "output_type": "stream",
          "name": "stdout",
          "text": [
            "Training is complete\n"
          ]
        },
        {
          "output_type": "stream",
          "name": "stderr",
          "text": [
            "2023-12-19 09:30:27,377 - root - INFO - Building dictionary\n"
          ]
        },
        {
          "output_type": "stream",
          "name": "stdout",
          "text": [
            "Wow! all topics\n"
          ]
        },
        {
          "output_type": "stream",
          "name": "stderr",
          "text": [
            "20it [00:00, 699.51it/s]\n",
            "0it [00:00, ?it/s]\n",
            "5it [00:00, 688.92it/s]\n",
            "0it [00:00, ?it/s]\n"
          ]
        },
        {
          "output_type": "stream",
          "name": "stdout",
          "text": [
            "COMPONENTS:  0.614756617759016 0.37904647704074745\n"
          ]
        },
        {
          "output_type": "stream",
          "name": "stderr",
          "text": [
            "20it [00:00, 14993.04it/s]\n",
            "0it [00:00, ?it/s]\n",
            "20it [00:00, 5308.24it/s]\n",
            "0it [00:00, ?it/s]\n",
            "20it [00:00, 1864.76it/s]\n",
            "0it [00:00, ?it/s]\n",
            "20it [00:00, 3268.12it/s]\n",
            "0it [00:00, ?it/s]\n",
            "20it [00:00, 1183.85it/s]\n",
            "0it [00:00, ?it/s]\n",
            "20it [00:00, 1190.73it/s]\n",
            "0it [00:00, ?it/s]\n",
            "20it [00:00, 1020.61it/s]\n",
            "0it [00:00, ?it/s]\n",
            "20it [00:00, 682.65it/s]\n",
            "0it [00:00, ?it/s]\n",
            "20it [00:00, 776.11it/s]\n",
            "0it [00:00, ?it/s]\n",
            "20it [00:00, 578.05it/s]\n",
            "0it [00:00, ?it/s]\n",
            "2023-12-19 09:30:28,556 - root - INFO - Fitness estimation took  11.94\n",
            "2023-12-19 09:30:29,269 - root - INFO - Deleting bigartm logs: []\n",
            "2023-12-19 09:30:29,309 - root - INFO - The fitness results have been obtained\n",
            "2023-12-19 09:30:29,310 - GA_algo - INFO - ize of the new generation is 18\n",
            "2023-12-19 09:30:29,313 - GA_algo - INFO - TIME OF THE FITNESS FUNCTION IN CROSSOVER: 195.42035675048828\n",
            "2023-12-19 09:30:29,316 - GA_algo - INFO - CROSSOVER IS OVER\n",
            "2023-12-19 09:30:29,976 - root - INFO - Calculating fitness...\n",
            "2023-12-19 09:30:29,979 - root - INFO - Doing fitness calculating with individual {\"id\": \"99489b2d-200d-460e-8c8f-6dcd05644a11\", \"data_path\": \"autotm_artifacts/1659e6bd-8d17-49de-9ba8-9790c2047501\", \"params\": [98633.2220808761, 28.0, 99.47507070060276, 11.146846281631372, 7.0, -129.20783827543164, -755.2214579795462, 25.0, -286.24307106519063, 927.4292556078076, 29.0, 4.0, 0.5202512404944241, 0.3353393609599058, 0.05647051138561909, 94634.40610399056], \"exp_id\": null, \"alg_id\": \"ga\", \"iteration_id\": 0, \"tag\": \"v0\", \"fitness_value\": {\"avg_coherence_score\": 1.016357123014295, \"perplexityScore\": 1329.470947265625, \"backgroundTokensRatioScore\": 0.6059259176254272, \"contrast\": 0.9688869714736938, \"purity\": 0.9841049909591675, \"kernelSize\": 131.4499969482422, \"npmi_50_list\": null, \"npmi_50\": null, \"sparsity_phi\": 0.8345000147819519, \"sparsity_theta\": 0.0, \"topic_significance_uni\": null, \"topic_significance_vacuous\": null, \"topic_significance_back\": null, \"switchP_list\": [NaN], \"switchP\": NaN, \"all_topics\": true, \"coherence_10_list\": [0.2311696587921079, 0.6098294177121731, 0.71998482686751, 0.36904810836062146, 0.06523923535220935, 0.32530730154281684, 0.6451052469170714, 0.21107969589741457, 0.5724680203647429, 0.37026184397180084, 0.5380095842009973, 0.2495119113834, 0.35950356138260364, 1.0393720140703138, 1.0182675711128277, 0.5462886134659494, 0.3940834520827018, 0.5236474445125601, 0.6715842086261083, 0.2592866902031657], \"coherence_10\": 0.48595242034095476, \"coherence_15_list\": [0.25159786165530634, 0.9852360357352374, 0.5742800859659268, 0.41603109193148274, 0.08965305580027917, 0.39114141503818833, 0.8130284736473947, 0.267940789166698, 0.4774327617394991, 0.38415239124161843, 0.41852069424537747, 0.24789728951706946, 0.48180430799380985, 0.9619333337963576, 0.8844131927000612, 0.6743052955914037, 0.5794906187031225, 0.47936887541415696, 0.49112411267287565, 0.17836113654117236], \"coherence_15\": 0.5023856409548519, \"coherence_20_list\": [0.24845244179916753, 0.8042879065596827, 0.5801163326191981, 0.46040723229619684, 0.1259934718107608, 0.38036476607409997, 0.6670794083369801, 0.4161078436728443, 0.49735433552702907, 0.43422402087488193, 0.38808752970270327, 0.2193731511927473, 0.4135153034665299, 0.7851861656349913, 0.7270214061590761, 0.6297803212770319, 0.7045548346614557, 0.39758104035546743, 0.733260456134122, 0.23597289609068642], \"coherence_20\": 0.4924360432122826, \"coherence_25_list\": [0.30546052473714613, 0.7781350209397008, 0.535411271643723, 0.4323855923749414, 0.13551945796311285, 0.3534045377373893, 0.6611738703024426, 0.45609451845882665, 0.5514823651588493, 0.5722392360190743, 0.38982352637599554, 0.30478273632069136, 0.4684238646465925, 0.8639294610871072, 0.7679139954429363, 0.591237512274342, 0.6330271679678745, 0.5374719490316533, 0.7063523479348135, 0.26007120587552957], \"coherence_25\": 0.5152170081146371, \"coherence_30_list\": [0.3142667511922698, 0.7708312059431207, 0.5230615450086232, 0.468749916670107, 0.20058312975682172, 0.4327299052818318, 0.6284829123171133, 0.49966817861133894, 0.6237444147232193, 0.5913474492321895, 0.4191517623751776, 0.3277708902045011, 0.5014052973697665, 0.8243752745293886, 0.7095774908189099, 0.5813907065125021, 0.6013502967762917, 0.5365632193263679, 0.6490962194339062, 0.3410518990589956], \"coherence_30\": 0.5272599232571221, \"coherence_35_list\": [0.3742302141030758, 0.7401923608893275, 0.5761298364934702, 0.5010420210993655, 0.34297104590854116, 0.4814936985884668, 0.6372405036327082, 0.5113376344211853, 0.7129871367593735, 0.5418211100576247, 0.43112674033788273, 0.42150501795253215, 0.48345896517970866, 0.7971996872148358, 0.6740360783094228, 0.640146273174178, 0.6552522067515828, 0.5710907326933683, 0.5855520351423578, 0.39454928681669194], \"coherence_35\": 0.5536681292762851, \"coherence_40_list\": [0.4761682859933848, 0.8434874151875096, 0.5640093808342025, 0.4892505550099509, 0.3653369097577945, 0.501605795124603, 0.6029883401814223, 0.4830888753264521, 0.6885084409774295, 0.529344346276464, 0.5213386992257502, 0.4917801340732445, 0.4680969051634964, 0.8144273848767359, 0.627302783274079, 0.6730804676970884, 0.75665767802283, 0.6196222306622498, 0.596543550933742, 0.44835267489611574], \"coherence_40\": 0.5780495426747272, \"coherence_45_list\": [0.5383200106869784, 0.8049273340496076, 0.5682269097069756, 0.4670444053711382, 0.4228316387534919, 0.5551450313733484, 0.6877059512595208, 0.49499627474348545, 0.6843109742353428, 0.5382112472737125, 0.5762033810119074, 0.5064098581893296, 0.4478123332647978, 0.8582328384769039, 0.594229600650129, 0.6962592135913641, 0.8015163815774742, 0.6447061593128723, 0.5562126634963112, 0.44704263807602024], \"coherence_45\": 0.5945172422550355, \"coherence_50_list\": [0.5837230557341032, 0.8152703428017136, 0.5389922467479101, 0.4906522936252003, 0.46511690224972213, 0.5404193168255066, 0.6485780614147247, 0.519862846356916, 0.7305698269207558, 0.5293477577488928, 0.6188290398714525, 0.5259279494347748, 0.4156078912525274, 0.8628374062044561, 0.5418453703554836, 0.6671286828156545, 0.8458820364344444, 0.7007744405463521, 0.49123800252326577, 0.4823811653714966], \"coherence_50\": 0.6007492317617676, \"coherence_55_list\": [0.5943999603368183, 0.8210269138962386, 0.4903804043931441, 0.476256451326245, 0.4908257153329251, 0.5425351859153771, 0.5979143623790533, 0.5401894740282207, 0.7696602767291705, 0.49559821648666275, 0.6398919005181438, 0.5511180783801521, 0.3719649188819885, 0.8375154376855823, 0.5521380968636849, 0.6531048248859113, 0.8199841400785595, 0.7002808958886528, 0.5070251474689831, 0.4375272902117856], \"coherence_55\": 0.5944668845843651, \"npmi_15\": null, \"npmi_25\": null}, \"fitness_name\": \"default\", \"dataset\": \"__noname__\", \"topic_count\": 20, \"train_option\": \"offline\", \"force_dataset_settings_checkout\": false}\n",
            "2023-12-19 09:30:29,983 - root - INFO - Loading dataset entities\n",
            "2023-12-19 09:30:29,985 - root - INFO - Reading dictionary from autotm_artifacts/1659e6bd-8d17-49de-9ba8-9790c2047501/dictionary.txt\n",
            "2023-12-19 09:30:30,585 - root - INFO - Dataset entities initialization took  0.60\n",
            "2023-12-19 09:30:30,591 - root - INFO - Using TM model: <class 'autotm.fitness.tm.TopicModel'> according to fitness name: default, topics count: 20\n",
            "20it [00:00, 709.29it/s]\n",
            "0it [00:00, ?it/s]\n",
            "4it [00:00, 339.00it/s]\n",
            "0it [00:00, ?it/s]\n",
            "20it [00:00, 620.37it/s]\n",
            "0it [00:00, ?it/s]\n",
            "4it [00:00, 383.31it/s]\n",
            "0it [00:00, ?it/s]\n",
            "20it [00:00, 621.95it/s]\n",
            "0it [00:00, ?it/s]\n",
            "4it [00:00, 280.18it/s]\n",
            "0it [00:00, ?it/s]\n",
            "20it [00:00, 662.87it/s]\n",
            "0it [00:00, ?it/s]\n",
            "4it [00:00, 603.35it/s]\n",
            "0it [00:00, ?it/s]\n"
          ]
        },
        {
          "output_type": "stream",
          "name": "stdout",
          "text": [
            "Training is complete\n"
          ]
        },
        {
          "output_type": "stream",
          "name": "stderr",
          "text": [
            "2023-12-19 09:30:41,052 - root - INFO - Building dictionary\n"
          ]
        },
        {
          "output_type": "stream",
          "name": "stdout",
          "text": [
            "Wow! all topics\n"
          ]
        },
        {
          "output_type": "stream",
          "name": "stderr",
          "text": [
            "20it [00:00, 787.89it/s]\n",
            "0it [00:00, ?it/s]\n",
            "4it [00:00, 688.78it/s]\n",
            "0it [00:00, ?it/s]\n"
          ]
        },
        {
          "output_type": "stream",
          "name": "stdout",
          "text": [
            "COMPONENTS:  0.6007492317617676 0.4156078912525273\n"
          ]
        },
        {
          "output_type": "stream",
          "name": "stderr",
          "text": [
            "20it [00:00, 8999.69it/s]\n",
            "0it [00:00, ?it/s]\n",
            "20it [00:00, 4814.67it/s]\n",
            "0it [00:00, ?it/s]\n",
            "20it [00:00, 3835.84it/s]\n",
            "0it [00:00, ?it/s]\n",
            "20it [00:00, 2839.65it/s]\n",
            "0it [00:00, ?it/s]\n",
            "20it [00:00, 1224.79it/s]\n",
            "0it [00:00, ?it/s]\n",
            "20it [00:00, 1003.69it/s]\n",
            "0it [00:00, ?it/s]\n",
            "20it [00:00, 745.75it/s]\n",
            "0it [00:00, ?it/s]\n",
            "20it [00:00, 563.93it/s]\n",
            "0it [00:00, ?it/s]\n",
            "20it [00:00, 649.84it/s]\n",
            "0it [00:00, ?it/s]\n",
            "20it [00:00, 621.64it/s]\n",
            "0it [00:00, ?it/s]\n",
            "2023-12-19 09:30:42,313 - root - INFO - Fitness estimation took  12.33\n",
            "2023-12-19 09:30:43,056 - root - INFO - Deleting bigartm logs: []\n",
            "2023-12-19 09:30:43,093 - root - INFO - Doing fitness calculating with individual {\"id\": \"22d990d5-9e33-4b61-8d8a-c5c32fe1904d\", \"data_path\": \"autotm_artifacts/1659e6bd-8d17-49de-9ba8-9790c2047501\", \"params\": [100000.0, 30, 100.0, 0, 0.0, 61.452205483979554, -1000.0, 30, -259.24928360437696, 1000.0, 30, 5, 0.5202512404944241, 0.3353393609599058, 0.05647051138561909, 100000.0], \"exp_id\": null, \"alg_id\": \"ga\", \"iteration_id\": 0, \"tag\": \"v0\", \"fitness_value\": {\"avg_coherence_score\": 0.9938030947997635, \"perplexityScore\": 1253.5184326171875, \"backgroundTokensRatioScore\": 0.695555567741394, \"contrast\": 0.9493274688720703, \"purity\": 0.9684630632400513, \"kernelSize\": 129.14999389648438, \"npmi_50_list\": null, \"npmi_50\": null, \"sparsity_phi\": 0.7726110816001892, \"sparsity_theta\": 0.0, \"topic_significance_uni\": null, \"topic_significance_vacuous\": null, \"topic_significance_back\": null, \"switchP_list\": [NaN], \"switchP\": NaN, \"all_topics\": true, \"coherence_10_list\": [0.18698031248969027, 0.4498444129253177, 0.3346050316056632, 0.23301996669316133, 0.1202863280787282, 0.47572379729870706, 0.44073204774368013, 0.2919132416147001, 0.2701798077793842, 0.40539405192238304, 0.34095065265827396, 0.26003037308868665, 0.6703847005549133, 0.8442292713255156, 0.8668685217241039, 0.6946046012886931, 0.27989384079261515, 0.576794056331124, 0.19934834209426247, 0.2193330222275805], \"coherence_10\": 0.4080558190118593, \"coherence_15_list\": [0.2850397597168885, 0.6457421274002937, 0.42316958057717613, 0.2640883957247321, 0.15425880574659936, 0.40737469325611164, 0.5357174103323774, 0.4249338541801078, 0.42666010308063723, 0.4232418525193054, 0.3490958424748606, 0.2426817338529457, 0.6143218211654339, 0.5397889773251162, 0.6792969679390822, 0.5520318324079017, 0.539607204318497, 0.5078834407828824, 0.24280571906171963, 0.2439883650271987], \"coherence_15\": 0.42508642434449334, \"coherence_20_list\": [0.30904224963420546, 0.6156813633198586, 0.4559607429609056, 0.3283930704843747, 0.15519656614119226, 0.363632306321636, 0.5898855862280354, 0.3787456799673827, 0.3722170207696229, 0.43474684532881386, 0.34969597404996444, 0.37108971186973927, 0.5187679299121956, 0.6780610592333768, 0.6729227601904944, 0.5418239777891467, 0.6847487500590744, 0.4828641216693048, 0.3253179853089469, 0.2861395885039659], \"coherence_20\": 0.44574666448711187, \"coherence_25_list\": [0.4112541667822231, 0.705975453193841, 0.44390495691367526, 0.3876137761396084, 0.19298788697410516, 0.4408984833384342, 0.5418157151251224, 0.4928454383588431, 0.4241740247007065, 0.4002189379732312, 0.41753185144668653, 0.3430878412763769, 0.4805145037137746, 0.6182431711983076, 0.6760757808630096, 0.5831079800665344, 0.6982099311093474, 0.527364322034663, 0.352086005192226, 0.3394773259923436], \"coherence_25\": 0.47386937761965287, \"coherence_30_list\": [0.5185815555409399, 0.7454016421678925, 0.4216430243262338, 0.37318782905617215, 0.31122800807994117, 0.5659138815798918, 0.6069678724615992, 0.5025203024265398, 0.4416103387211623, 0.41389303671825606, 0.4306154210272902, 0.4354477787536484, 0.41365908374710403, 0.7272603772611393, 0.678364943466398, 0.5476717015026182, 0.8051342594639836, 0.5480451598088449, 0.45038547963072106, 0.46531091652714146], \"coherence_30\": 0.5201421306133759, \"coherence_35_list\": [0.6725362012735769, 0.7184225784261742, 0.4105539304145346, 0.42922502813790936, 0.39905119098800523, 0.648071616194699, 0.5528203223663217, 0.49554179488631545, 0.5683363058048639, 0.42588869211172076, 0.4439509986527714, 0.48230826753106937, 0.4176914338067248, 0.7484968672930934, 0.707235647809758, 0.6297342266706217, 0.8886452068184048, 0.6283061397103588, 0.44342371415531723, 0.48245181614463567], \"coherence_35\": 0.5596345989598438, \"coherence_40_list\": [0.6496331159262115, 0.7654447217476955, 0.4462511238029638, 0.40293966027292216, 0.44880312234245634, 0.6770620124487386, 0.6064190675869893, 0.48348524731354797, 0.6207130033264142, 0.4518997904021792, 0.5199032808859361, 0.5088270625367035, 0.36256895634556086, 0.8176074573681122, 0.6714328095708268, 0.6461345295307083, 0.9207583664624344, 0.6846339626285372, 0.445796277809063, 0.5413492222857709], \"coherence_40\": 0.5835831395296885, \"coherence_45_list\": [0.6383568290830818, 0.8269993504201305, 0.4379638724530778, 0.4268764237136548, 0.5108912726331825, 0.700282147857647, 0.6049675157904993, 0.4763635379786662, 0.6325763065846493, 0.4459333134885292, 0.5660821859377526, 0.5604496336152691, 0.383830583811464, 0.822646365549574, 0.6667174276118778, 0.6647554216165501, 0.9386534641814422, 0.6843006221059089, 0.4286479308949873, 0.550232923012974], \"coherence_45\": 0.5983763564170459, \"coherence_50_list\": [0.6434818367103563, 0.8230965975914835, 0.434029584796667, 0.4387537912464052, 0.5093011863328205, 0.6810968759131886, 0.6301182851226352, 0.5012678233974458, 0.70996180162255, 0.4609531628794834, 0.6164525919564751, 0.6048267018170496, 0.37904647704074745, 0.8825791466798728, 0.6135389442824853, 0.6680304020517872, 0.9704437869838707, 0.7343728451371225, 0.416258629371341, 0.5775218842465315], \"coherence_50\": 0.614756617759016, \"coherence_55_list\": [0.6690324247745992, 0.7732199848955054, 0.4354918449873989, 0.48066636464140844, 0.5319292513709187, 0.6762231443949264, 0.6124020152975516, 0.5249892765597542, 0.6808960993051449, 0.44455450448983874, 0.6328702925988441, 0.6083351664125007, 0.37974311089644125, 0.9353825721595134, 0.633389932262423, 0.6424502269607952, 0.980758711713512, 0.7165837024711127, 0.4251704926838748, 0.5704868548552429], \"coherence_55\": 0.6177287986865654, \"npmi_15\": null, \"npmi_25\": null}, \"fitness_name\": \"default\", \"dataset\": \"__noname__\", \"topic_count\": 20, \"train_option\": \"offline\", \"force_dataset_settings_checkout\": false}\n",
            "2023-12-19 09:30:43,095 - root - INFO - Loading dataset entities\n",
            "2023-12-19 09:30:43,098 - root - INFO - Reading dictionary from autotm_artifacts/1659e6bd-8d17-49de-9ba8-9790c2047501/dictionary.txt\n",
            "2023-12-19 09:30:43,681 - root - INFO - Dataset entities initialization took  0.58\n",
            "2023-12-19 09:30:43,683 - root - INFO - Using TM model: <class 'autotm.fitness.tm.TopicModel'> according to fitness name: default, topics count: 20\n",
            "20it [00:00, 727.91it/s]\n",
            "0it [00:00, ?it/s]\n",
            "5it [00:00, 599.03it/s]\n",
            "0it [00:00, ?it/s]\n",
            "20it [00:00, 674.92it/s]\n",
            "0it [00:00, ?it/s]\n",
            "5it [00:00, 604.30it/s]\n",
            "0it [00:00, ?it/s]\n",
            "20it [00:00, 714.80it/s]\n",
            "0it [00:00, ?it/s]\n",
            "5it [00:00, 329.01it/s]\n",
            "0it [00:00, ?it/s]\n",
            "20it [00:00, 689.85it/s]\n",
            "0it [00:00, ?it/s]\n",
            "5it [00:00, 625.06it/s]\n",
            "0it [00:00, ?it/s]\n"
          ]
        },
        {
          "output_type": "stream",
          "name": "stdout",
          "text": [
            "Training is complete\n"
          ]
        },
        {
          "output_type": "stream",
          "name": "stderr",
          "text": [
            "2023-12-19 09:30:53,793 - root - INFO - Building dictionary\n"
          ]
        },
        {
          "output_type": "stream",
          "name": "stdout",
          "text": [
            "Wow! all topics\n"
          ]
        },
        {
          "output_type": "stream",
          "name": "stderr",
          "text": [
            "20it [00:00, 688.94it/s]\n",
            "0it [00:00, ?it/s]\n",
            "5it [00:00, 580.94it/s]\n",
            "0it [00:00, ?it/s]\n"
          ]
        },
        {
          "output_type": "stream",
          "name": "stdout",
          "text": [
            "COMPONENTS:  0.614756617759016 0.37904647704074745\n"
          ]
        },
        {
          "output_type": "stream",
          "name": "stderr",
          "text": [
            "20it [00:00, 6895.12it/s]\n",
            "0it [00:00, ?it/s]\n",
            "20it [00:00, 5752.71it/s]\n",
            "0it [00:00, ?it/s]\n",
            "20it [00:00, 4133.13it/s]\n",
            "0it [00:00, ?it/s]\n",
            "20it [00:00, 1571.05it/s]\n",
            "0it [00:00, ?it/s]\n",
            "20it [00:00, 957.67it/s]\n",
            "0it [00:00, ?it/s]\n",
            "20it [00:00, 988.56it/s]\n",
            "0it [00:00, ?it/s]\n",
            "20it [00:00, 823.32it/s]\n",
            "0it [00:00, ?it/s]\n",
            "20it [00:00, 773.41it/s]\n",
            "0it [00:00, ?it/s]\n",
            "20it [00:00, 594.50it/s]\n",
            "0it [00:00, ?it/s]\n",
            "20it [00:00, 525.72it/s]\n",
            "0it [00:00, ?it/s]\n",
            "2023-12-19 09:30:55,013 - root - INFO - Fitness estimation took  11.92\n",
            "2023-12-19 09:30:55,729 - root - INFO - Deleting bigartm logs: []\n",
            "2023-12-19 09:30:55,765 - root - INFO - Doing fitness calculating with individual {\"id\": \"277cf478-5b40-46a6-966a-2b3b3b4444bd\", \"data_path\": \"autotm_artifacts/1659e6bd-8d17-49de-9ba8-9790c2047501\", \"params\": [100000.0, 30, 100.0, 0, 0.0, 58.99965457912077, -1000.0, 30, -259.5965175426326, 1000.0, 30, 5, 0.5202512404944241, 0.3353393609599058, 0.05647051138561909, 100000.0], \"exp_id\": null, \"alg_id\": \"ga\", \"iteration_id\": 0, \"tag\": \"v0\", \"fitness_value\": {\"avg_coherence_score\": 0.9938030947997635, \"perplexityScore\": 1253.4688720703125, \"backgroundTokensRatioScore\": 0.695555567741394, \"contrast\": 0.9493325352668762, \"purity\": 0.9684644937515259, \"kernelSize\": 129.14999389648438, \"npmi_50_list\": null, \"npmi_50\": null, \"sparsity_phi\": 0.7726110816001892, \"sparsity_theta\": 0.0, \"topic_significance_uni\": null, \"topic_significance_vacuous\": null, \"topic_significance_back\": null, \"switchP_list\": [NaN], \"switchP\": NaN, \"all_topics\": true, \"coherence_10_list\": [0.18698031248969027, 0.4498444129253177, 0.3346050316056632, 0.23301996669316133, 0.1202863280787282, 0.47572379729870706, 0.44073204774368013, 0.2919132416147001, 0.2701798077793842, 0.40539405192238304, 0.34095065265827396, 0.26003037308868665, 0.6703847005549133, 0.8442292713255156, 0.8668685217241039, 0.6946046012886931, 0.27989384079261515, 0.576794056331124, 0.19934834209426247, 0.2193330222275805], \"coherence_10\": 0.4080558190118593, \"coherence_15_list\": [0.2850397597168885, 0.6457421274002937, 0.42316958057717613, 0.2640883957247321, 0.15425880574659936, 0.40737469325611164, 0.5357174103323774, 0.4249338541801078, 0.42666010308063723, 0.4232418525193054, 0.3490958424748606, 0.2426817338529457, 0.6143218211654339, 0.5397889773251162, 0.6792969679390822, 0.5520318324079017, 0.539607204318497, 0.5078834407828824, 0.24280571906171963, 0.2439883650271987], \"coherence_15\": 0.42508642434449334, \"coherence_20_list\": [0.30904224963420546, 0.6156813633198586, 0.4559607429609056, 0.3283930704843747, 0.15519656614119226, 0.363632306321636, 0.5898855862280354, 0.3787456799673827, 0.3722170207696229, 0.43474684532881386, 0.34969597404996444, 0.37108971186973927, 0.5187679299121956, 0.6780610592333768, 0.6729227601904944, 0.5418239777891467, 0.6847487500590744, 0.4828641216693048, 0.3253179853089469, 0.2861395885039659], \"coherence_20\": 0.44574666448711187, \"coherence_25_list\": [0.4112541667822231, 0.705975453193841, 0.44390495691367526, 0.3876137761396084, 0.19298788697410516, 0.4408984833384342, 0.5418157151251224, 0.4928454383588431, 0.4241740247007065, 0.4002189379732312, 0.41753185144668653, 0.3430878412763769, 0.4805145037137746, 0.6182431711983076, 0.6760757808630096, 0.5831079800665344, 0.6982099311093474, 0.527364322034663, 0.352086005192226, 0.3394773259923436], \"coherence_25\": 0.47386937761965287, \"coherence_30_list\": [0.5185815555409399, 0.7454016421678925, 0.4216430243262338, 0.37318782905617215, 0.31122800807994117, 0.5659138815798918, 0.6069678724615992, 0.5025203024265398, 0.4416103387211623, 0.41389303671825606, 0.4306154210272902, 0.4354477787536484, 0.4136590837471039, 0.7272603772611393, 0.678364943466398, 0.5476717015026182, 0.8051342594639836, 0.5480451598088449, 0.45038547963072106, 0.46531091652714146], \"coherence_30\": 0.5201421306133759, \"coherence_35_list\": [0.6725362012735769, 0.7184225784261742, 0.4105539304145346, 0.42922502813790936, 0.39905119098800523, 0.648071616194699, 0.5528203223663217, 0.49554179488631545, 0.5683363058048639, 0.42588869211172076, 0.4439509986527714, 0.48230826753106937, 0.4176914338067248, 0.7484968672930934, 0.707235647809758, 0.6297342266706217, 0.8886452068184048, 0.6283061397103588, 0.44342371415531723, 0.48245181614463567], \"coherence_35\": 0.5596345989598438, \"coherence_40_list\": [0.6496331159262115, 0.7654447217476955, 0.4462511238029638, 0.40293966027292216, 0.44880312234245634, 0.6770620124487386, 0.6064190675869893, 0.48348524731354797, 0.6207130033264142, 0.4518997904021792, 0.5199032808859361, 0.5088270625367035, 0.36256895634556086, 0.8176074573681122, 0.6449550401234628, 0.6461345295307083, 0.9207583664624344, 0.6846339626285372, 0.445796277809063, 0.5413492222857709], \"coherence_40\": 0.5822592510573203, \"coherence_45_list\": [0.6383568290830818, 0.8269993504201305, 0.4379638724530778, 0.4268764237136548, 0.5108912726331825, 0.700282147857647, 0.6049675157904993, 0.4763635379786662, 0.6325763065846493, 0.4459333134885292, 0.5660821859377526, 0.5604496336152691, 0.383830583811464, 0.822646365549574, 0.6667174276118778, 0.6647554216165501, 0.9386534641814422, 0.6843006221059089, 0.4286479308949873, 0.550232923012974], \"coherence_45\": 0.5983763564170459, \"coherence_50_list\": [0.6434818367103563, 0.8230965975914835, 0.434029584796667, 0.4387537912464052, 0.5093011863328205, 0.6810968759131886, 0.6301182851226352, 0.5012678233974458, 0.70996180162255, 0.4609531628794834, 0.6164525919564751, 0.6048267018170496, 0.37904647704074745, 0.8825791466798728, 0.6135389442824853, 0.6680304020517872, 0.9704437869838707, 0.7343728451371225, 0.416258629371341, 0.5775218842465315], \"coherence_50\": 0.614756617759016, \"coherence_55_list\": [0.6690324247745992, 0.7732199848955054, 0.435491844987399, 0.48066636464140844, 0.5319292513709187, 0.6762231443949264, 0.6124020152975517, 0.5249892765597542, 0.6808960993051449, 0.44455450448983874, 0.6328702925988441, 0.6083351664125007, 0.37974311089644125, 0.9353825721595134, 0.6147599833650768, 0.6424502269607952, 0.980758711713512, 0.7165837024711127, 0.4251704926838748, 0.5704868548552429], \"coherence_55\": 0.6167973012416981, \"npmi_15\": null, \"npmi_25\": null}, \"fitness_name\": \"default\", \"dataset\": \"__noname__\", \"topic_count\": 20, \"train_option\": \"offline\", \"force_dataset_settings_checkout\": false}\n",
            "2023-12-19 09:30:55,767 - root - INFO - Loading dataset entities\n",
            "2023-12-19 09:30:55,769 - root - INFO - Reading dictionary from autotm_artifacts/1659e6bd-8d17-49de-9ba8-9790c2047501/dictionary.txt\n",
            "2023-12-19 09:30:56,338 - root - INFO - Dataset entities initialization took  0.57\n",
            "2023-12-19 09:30:56,339 - root - INFO - Using TM model: <class 'autotm.fitness.tm.TopicModel'> according to fitness name: default, topics count: 20\n",
            "20it [00:00, 701.04it/s]\n",
            "0it [00:00, ?it/s]\n",
            "5it [00:00, 355.47it/s]\n",
            "0it [00:00, ?it/s]\n",
            "20it [00:00, 726.39it/s]\n",
            "0it [00:00, ?it/s]\n",
            "5it [00:00, 520.06it/s]\n",
            "0it [00:00, ?it/s]\n",
            "20it [00:00, 709.80it/s]\n",
            "0it [00:00, ?it/s]\n",
            "5it [00:00, 331.17it/s]\n",
            "0it [00:00, ?it/s]\n",
            "20it [00:00, 713.37it/s]\n",
            "0it [00:00, ?it/s]\n",
            "5it [00:00, 586.62it/s]\n",
            "0it [00:00, ?it/s]\n"
          ]
        },
        {
          "output_type": "stream",
          "name": "stdout",
          "text": [
            "Training is complete\n"
          ]
        },
        {
          "output_type": "stream",
          "name": "stderr",
          "text": [
            "2023-12-19 09:31:06,468 - root - INFO - Building dictionary\n"
          ]
        },
        {
          "output_type": "stream",
          "name": "stdout",
          "text": [
            "Wow! all topics\n"
          ]
        },
        {
          "output_type": "stream",
          "name": "stderr",
          "text": [
            "20it [00:00, 727.91it/s]\n",
            "0it [00:00, ?it/s]\n",
            "5it [00:00, 585.80it/s]\n",
            "0it [00:00, ?it/s]\n"
          ]
        },
        {
          "output_type": "stream",
          "name": "stdout",
          "text": [
            "COMPONENTS:  0.614756617759016 0.3790464770407474\n"
          ]
        },
        {
          "output_type": "stream",
          "name": "stderr",
          "text": [
            "20it [00:00, 15321.66it/s]\n",
            "0it [00:00, ?it/s]\n",
            "20it [00:00, 5259.65it/s]\n",
            "0it [00:00, ?it/s]\n",
            "20it [00:00, 2074.64it/s]\n",
            "0it [00:00, ?it/s]\n",
            "20it [00:00, 1333.15it/s]\n",
            "0it [00:00, ?it/s]\n",
            "20it [00:00, 883.30it/s]\n",
            "0it [00:00, ?it/s]\n",
            "20it [00:00, 956.54it/s]\n",
            "0it [00:00, ?it/s]\n",
            "20it [00:00, 855.30it/s]\n",
            "0it [00:00, ?it/s]\n",
            "20it [00:00, 689.92it/s]\n",
            "0it [00:00, ?it/s]\n",
            "20it [00:00, 630.25it/s]\n",
            "0it [00:00, ?it/s]\n",
            "20it [00:00, 538.79it/s]\n",
            "0it [00:00, ?it/s]\n",
            "2023-12-19 09:31:07,704 - root - INFO - Fitness estimation took  11.94\n",
            "2023-12-19 09:31:08,417 - root - INFO - Deleting bigartm logs: []\n",
            "2023-12-19 09:31:08,454 - root - INFO - Doing fitness calculating with individual {\"id\": \"c980f244-8f19-4b19-bae7-d5e4af63b43e\", \"data_path\": \"autotm_artifacts/1659e6bd-8d17-49de-9ba8-9790c2047501\", \"params\": [100000.0, 30.0, 100.0, 0.0, 30.0, 59.20590640683989, -1000.0, 0.0, -259.56731625907537, 1000.0, 30.0, 5.0, 0.4561746144288956, 0.09350849870439293, 0.5564163025270626, 100000.0], \"exp_id\": 0, \"alg_id\": \"ga\", \"iteration_id\": 0, \"tag\": \"v0\", \"fitness_value\": null, \"fitness_name\": \"default\", \"dataset\": \"__noname__\", \"topic_count\": 20, \"train_option\": \"offline\", \"force_dataset_settings_checkout\": false}\n",
            "2023-12-19 09:31:08,456 - root - INFO - Loading dataset entities\n",
            "2023-12-19 09:31:08,458 - root - INFO - Reading dictionary from autotm_artifacts/1659e6bd-8d17-49de-9ba8-9790c2047501/dictionary.txt\n",
            "2023-12-19 09:31:09,050 - root - INFO - Dataset entities initialization took  0.59\n",
            "2023-12-19 09:31:09,051 - root - INFO - Using TM model: <class 'autotm.fitness.tm.TopicModel'> according to fitness name: default, topics count: 20\n",
            "20it [00:00, 720.13it/s]\n",
            "0it [00:00, ?it/s]\n",
            "5it [00:00, 477.15it/s]\n",
            "0it [00:00, ?it/s]\n",
            "20it [00:00, 707.61it/s]\n",
            "0it [00:00, ?it/s]\n",
            "5it [00:00, 333.35it/s]\n",
            "0it [00:00, ?it/s]\n",
            "20it [00:00, 728.06it/s]\n",
            "0it [00:00, ?it/s]\n",
            "5it [00:00, 257.29it/s]\n",
            "0it [00:00, ?it/s]\n",
            "2023-12-19 09:31:18,663 - root - WARNING - Fitness calculation problem\n",
            "2023-12-19 09:31:18,665 - root - INFO - Fitness estimation took  10.21\n",
            "2023-12-19 09:31:19,380 - root - INFO - Deleting bigartm logs: []\n",
            "2023-12-19 09:31:19,416 - root - INFO - Doing fitness calculating with individual {\"id\": \"9cdbb6d2-3fa5-49d2-b1bc-4f42db33e255\", \"data_path\": \"autotm_artifacts/1659e6bd-8d17-49de-9ba8-9790c2047501\", \"params\": [100000.0, 8.0, 0.0, 0.0, 25.0, -51.44783580812788, 100.0, 30.0, -66.25325871133168, 1000.0, 30.0, 5.0, 0.9306060634954084, 0.3382581659148661, 0.7286558208865347, 93520.32182784835], \"exp_id\": 0, \"alg_id\": \"ga\", \"iteration_id\": 0, \"tag\": \"v0\", \"fitness_value\": null, \"fitness_name\": \"default\", \"dataset\": \"__noname__\", \"topic_count\": 20, \"train_option\": \"offline\", \"force_dataset_settings_checkout\": false}\n",
            "2023-12-19 09:31:19,418 - root - INFO - Loading dataset entities\n",
            "2023-12-19 09:31:19,420 - root - INFO - Reading dictionary from autotm_artifacts/1659e6bd-8d17-49de-9ba8-9790c2047501/dictionary.txt\n",
            "2023-12-19 09:31:19,999 - root - INFO - Dataset entities initialization took  0.58\n",
            "2023-12-19 09:31:20,001 - root - INFO - Using TM model: <class 'autotm.fitness.tm.TopicModel'> according to fitness name: default, topics count: 20\n",
            "20it [00:00, 710.01it/s]\n",
            "0it [00:00, ?it/s]\n",
            "5it [00:00, 416.89it/s]\n",
            "0it [00:00, ?it/s]\n",
            "20it [00:00, 411.83it/s]\n",
            "0it [00:00, ?it/s]\n",
            "5it [00:00, 407.73it/s]\n",
            "0it [00:00, ?it/s]\n",
            "20it [00:00, 494.25it/s]\n",
            "0it [00:00, ?it/s]\n",
            "5it [00:00, 410.45it/s]\n",
            "0it [00:00, ?it/s]\n",
            "20it [00:00, 628.04it/s]\n",
            "0it [00:00, ?it/s]\n",
            "5it [00:00, 2436.28it/s]\n",
            "0it [00:00, ?it/s]\n"
          ]
        },
        {
          "output_type": "stream",
          "name": "stdout",
          "text": [
            "Training is complete\n"
          ]
        },
        {
          "output_type": "stream",
          "name": "stderr",
          "text": [
            "2023-12-19 09:31:30,392 - root - INFO - Building dictionary\n"
          ]
        },
        {
          "output_type": "stream",
          "name": "stdout",
          "text": [
            "Wow! all topics\n"
          ]
        },
        {
          "output_type": "stream",
          "name": "stderr",
          "text": [
            "20it [00:00, 715.58it/s]\n",
            "0it [00:00, ?it/s]\n",
            "5it [00:00, 2563.76it/s]\n",
            "0it [00:00, ?it/s]\n"
          ]
        },
        {
          "output_type": "stream",
          "name": "stdout",
          "text": [
            "COMPONENTS:  0.6057435068670353 0.37904647704074745\n"
          ]
        },
        {
          "output_type": "stream",
          "name": "stderr",
          "text": [
            "20it [00:00, 10721.64it/s]\n",
            "0it [00:00, ?it/s]\n",
            "20it [00:00, 5395.30it/s]\n",
            "0it [00:00, ?it/s]\n",
            "20it [00:00, 3271.56it/s]\n",
            "0it [00:00, ?it/s]\n",
            "20it [00:00, 1062.45it/s]\n",
            "0it [00:00, ?it/s]\n",
            "20it [00:00, 1182.66it/s]\n",
            "0it [00:00, ?it/s]\n",
            "20it [00:00, 1033.21it/s]\n",
            "0it [00:00, ?it/s]\n",
            "20it [00:00, 734.14it/s]\n",
            "0it [00:00, ?it/s]\n",
            "20it [00:00, 709.75it/s]\n",
            "0it [00:00, ?it/s]\n",
            "20it [00:00, 487.99it/s]\n",
            "0it [00:00, ?it/s]\n",
            "20it [00:00, 532.27it/s]\n",
            "0it [00:00, ?it/s]\n",
            "2023-12-19 09:31:31,596 - root - INFO - Fitness estimation took  12.18\n",
            "2023-12-19 09:31:32,311 - root - INFO - Deleting bigartm logs: []\n",
            "2023-12-19 09:31:32,347 - root - INFO - Doing fitness calculating with individual {\"id\": \"b53f2b23-eaf2-4ba4-8f9f-7cede50011f8\", \"data_path\": \"autotm_artifacts/1659e6bd-8d17-49de-9ba8-9790c2047501\", \"params\": [100000.0, 30.0, 100.0, 0.0, 7.0, -698.9509772041916, -394.0017585407771, 27.0, -135.65968131292692, 1000.0, 29.0, 5.0, 0.9609792888292359, 0.13056841268079034, 0.9253274209331299, 100000.0], \"exp_id\": 0, \"alg_id\": \"ga\", \"iteration_id\": 0, \"tag\": \"v0\", \"fitness_value\": null, \"fitness_name\": \"default\", \"dataset\": \"__noname__\", \"topic_count\": 20, \"train_option\": \"offline\", \"force_dataset_settings_checkout\": false}\n",
            "2023-12-19 09:31:32,348 - root - INFO - Loading dataset entities\n",
            "2023-12-19 09:31:32,350 - root - INFO - Reading dictionary from autotm_artifacts/1659e6bd-8d17-49de-9ba8-9790c2047501/dictionary.txt\n",
            "2023-12-19 09:31:32,935 - root - INFO - Dataset entities initialization took  0.58\n",
            "2023-12-19 09:31:32,936 - root - INFO - Using TM model: <class 'autotm.fitness.tm.TopicModel'> according to fitness name: default, topics count: 20\n",
            "20it [00:00, 439.30it/s]\n",
            "0it [00:00, ?it/s]\n",
            "5it [00:00, 325.93it/s]\n",
            "0it [00:00, ?it/s]\n",
            "20it [00:00, 464.58it/s]\n",
            "0it [00:00, ?it/s]\n",
            "5it [00:00, 476.76it/s]\n",
            "0it [00:00, ?it/s]\n",
            "20it [00:00, 431.52it/s]\n",
            "0it [00:00, ?it/s]\n",
            "5it [00:00, 343.42it/s]\n",
            "0it [00:00, ?it/s]\n",
            "20it [00:00, 712.46it/s]\n",
            "0it [00:00, ?it/s]\n",
            "5it [00:00, 661.65it/s]\n",
            "0it [00:00, ?it/s]\n"
          ]
        },
        {
          "output_type": "stream",
          "name": "stdout",
          "text": [
            "Training is complete\n"
          ]
        },
        {
          "output_type": "stream",
          "name": "stderr",
          "text": [
            "2023-12-19 09:31:43,998 - root - INFO - Building dictionary\n"
          ]
        },
        {
          "output_type": "stream",
          "name": "stdout",
          "text": [
            "Wow! all topics\n"
          ]
        },
        {
          "output_type": "stream",
          "name": "stderr",
          "text": [
            "20it [00:00, 695.15it/s]\n",
            "0it [00:00, ?it/s]\n",
            "5it [00:00, 655.67it/s]\n",
            "0it [00:00, ?it/s]\n"
          ]
        },
        {
          "output_type": "stream",
          "name": "stdout",
          "text": [
            "COMPONENTS:  0.601199530932867 0.3483148392969525\n"
          ]
        },
        {
          "output_type": "stream",
          "name": "stderr",
          "text": [
            "20it [00:00, 11034.74it/s]\n",
            "0it [00:00, ?it/s]\n",
            "20it [00:00, 5505.42it/s]\n",
            "0it [00:00, ?it/s]\n",
            "20it [00:00, 3438.80it/s]\n",
            "0it [00:00, ?it/s]\n",
            "20it [00:00, 1261.22it/s]\n",
            "0it [00:00, ?it/s]\n",
            "20it [00:00, 1227.52it/s]\n",
            "0it [00:00, ?it/s]\n",
            "20it [00:00, 943.32it/s]\n",
            "0it [00:00, ?it/s]\n",
            "20it [00:00, 673.68it/s]\n",
            "0it [00:00, ?it/s]\n",
            "20it [00:00, 650.44it/s]\n",
            "0it [00:00, ?it/s]\n",
            "20it [00:00, 491.48it/s]\n",
            "0it [00:00, ?it/s]\n",
            "20it [00:00, 509.44it/s]\n",
            "0it [00:00, ?it/s]\n",
            "2023-12-19 09:31:45,290 - root - INFO - Fitness estimation took  12.94\n",
            "2023-12-19 09:31:46,055 - root - INFO - Deleting bigartm logs: []\n",
            "2023-12-19 09:31:46,093 - root - INFO - Doing fitness calculating with individual {\"id\": \"4348f357-5350-4a90-9a7d-93953dc57ba5\", \"data_path\": \"autotm_artifacts/1659e6bd-8d17-49de-9ba8-9790c2047501\", \"params\": [100000.0, 30, 100.0, 0, 6.0, -392.57648697979516, -699.2538569526826, 27.0, -136.47020680669613, 1000.0, 29.0, 5.0, 0.5202512404944241, 0.3353393609599058, 0.05647051138561909, 100000.0], \"exp_id\": null, \"alg_id\": \"ga\", \"iteration_id\": 0, \"tag\": \"v0\", \"fitness_value\": {\"avg_coherence_score\": 0.9494913661519471, \"perplexityScore\": 1408.3272705078125, \"backgroundTokensRatioScore\": 0.5355555415153503, \"contrast\": 0.9676591753959656, \"purity\": 0.9836212992668152, \"kernelSize\": 129.25, \"npmi_50_list\": null, \"npmi_50\": null, \"sparsity_phi\": 0.8465370535850525, \"sparsity_theta\": 0.0, \"topic_significance_uni\": null, \"topic_significance_vacuous\": null, \"topic_significance_back\": null, \"switchP_list\": [NaN], \"switchP\": NaN, \"all_topics\": true, \"coherence_10_list\": [0.1838890849395426, 0.47264557845811167, 0.6515059839274947, 0.26759969102210857, 0.08191205605108401, 0.6276627329881685, 0.508766804596508, 0.45746642781918634, 0.5692051953333983, 0.528220669137969, 0.3004214667926056, 0.2992188526778489, 0.37176286988047813, 0.898499369001301, 1.0999562543064139, 0.7646587959661698, 0.27989384079261515, 0.45910653635081805, 0.46416059805375137, 0.2193330222275805], \"coherence_10\": 0.47529429151615776, \"coherence_15_list\": [0.2638298270217055, 0.4618331159040624, 0.5173362404905677, 0.4342372944998906, 0.12235342263388399, 0.5779568610392054, 0.7639325907009573, 0.38796005728579536, 0.5322365360757645, 0.45328852433938444, 0.35368370028661034, 0.2895381581716515, 0.3740537971957712, 0.7447972982456955, 0.9373511886294194, 0.7557968926022883, 0.4237072800822703, 0.4609338365437623, 0.6711149810915392, 0.2717715047803566], \"coherence_15\": 0.48988565538102924, \"coherence_20_list\": [0.28933884675387567, 0.4619690916072707, 0.6346545275403014, 0.500955988635909, 0.16862208272017043, 0.535450266324817, 0.7403507915215503, 0.48552186373966094, 0.5239074875085279, 0.5104291351988547, 0.41113229600043977, 0.3091977514943635, 0.4045183173256703, 0.8156857424624953, 0.9693554765570691, 0.6779586868462832, 0.5697258883595137, 0.44315967997549915, 0.6335315023493845, 0.24015230313477254], \"coherence_20\": 0.5162808863028214, \"coherence_25_list\": [0.3790944066751437, 0.4987475368847326, 0.6517107572179922, 0.4419072108370196, 0.16843641789263633, 0.5141824563721498, 0.696436307716729, 0.4702948394761702, 0.5444874540491664, 0.5791819118540172, 0.43499184745118596, 0.32669579369132373, 0.42423847366638573, 0.7935193773281888, 0.921636331605987, 0.6263768405597132, 0.629058657070856, 0.5314353250134093, 0.5836247668707226, 0.24945829868449146], \"coherence_25\": 0.523275750545901, \"coherence_30_list\": [0.4138185583986081, 0.5135554228929589, 0.5949749598048963, 0.4755700567171926, 0.20198202067182483, 0.53165258932983, 0.6592034171902633, 0.504243515266531, 0.6716965878812031, 0.5808140688538427, 0.44654320840622036, 0.3434587287260181, 0.3971175972620066, 0.7882735352551999, 0.8696668924529325, 0.6196087865847754, 0.6268671392396886, 0.5542697820830667, 0.5365764172024001, 0.3330940258132391], \"coherence_30\": 0.5331493655016349, \"coherence_35_list\": [0.4767749130133829, 0.545039021886964, 0.5401659766263653, 0.5131820516933554, 0.2816782698976978, 0.6125274445253773, 0.7012116975469563, 0.5115059060117024, 0.6993480282461181, 0.5724097271119047, 0.4745492922934219, 0.4198120445920196, 0.4032229637317484, 0.7481291200427144, 0.7695396996429394, 0.6271975742215743, 0.6718594374318033, 0.6032854446273136, 0.46780249509424465, 0.3653266557312079], \"coherence_35\": 0.5502283881984407, \"coherence_40_list\": [0.5805774325964707, 0.6210245715350189, 0.45973358609627774, 0.5143342921812991, 0.3337871551783825, 0.5726289225035504, 0.6640356322772619, 0.4872338886431253, 0.6853229455023079, 0.5555145402064258, 0.5115840378688139, 0.4789473666258554, 0.4026129104071279, 0.8108483269091489, 0.725395438233945, 0.6588160005436791, 0.7688416154893347, 0.671577120461778, 0.42397927283252573, 0.4100021537694289], \"coherence_40\": 0.5668398604930879, \"coherence_45_list\": [0.6470008773655789, 0.6093210915261942, 0.431139648708192, 0.505256044423887, 0.3890162304713031, 0.7047482840046372, 0.70634013270554, 0.5338193360276988, 0.6835228707102075, 0.5506256421661141, 0.5350879399306662, 0.49746475020883774, 0.3732033645084982, 0.7558058767282753, 0.6898237916175443, 0.6758149936517319, 0.8634933767243449, 0.6572363969538579, 0.43019364357592715, 0.43108925499682627], \"coherence_45\": 0.5835001773502931, \"coherence_50_list\": [0.6780940401473833, 0.639902182400499, 0.3989733589714073, 0.5208532135303594, 0.45138576493471666, 0.6993217009940607, 0.6628400352188129, 0.5447774899908686, 0.7615386485611477, 0.544447390649537, 0.5825735197633347, 0.5441041013589185, 0.34771048600977267, 0.8421387822193783, 0.686448999334371, 0.6695740145020793, 0.8791450776093035, 0.7076326911149252, 0.4333371580459681, 0.44081894748664563], \"coherence_50\": 0.6017808801421745, \"coherence_55_list\": [0.7073115430257797, 0.6922187122238062, 0.36761124698149333, 0.48315018837141005, 0.46608199583208854, 0.6950136061430241, 0.6163228518696986, 0.5461368792725109, 0.7322852382765818, 0.5373475563605923, 0.6438315266141273, 0.5553778748184706, 0.3265426188991734, 0.8139371314885924, 0.6668955662163641, 0.6475594329102103, 0.856402287167673, 0.6890362991870189, 0.41655782406900654, 0.4427900201626598], \"coherence_55\": 0.595120519994514, \"npmi_15\": null, \"npmi_25\": null}, \"fitness_name\": \"default\", \"dataset\": \"__noname__\", \"topic_count\": 20, \"train_option\": \"offline\", \"force_dataset_settings_checkout\": false}\n",
            "2023-12-19 09:31:46,095 - root - INFO - Loading dataset entities\n",
            "2023-12-19 09:31:46,097 - root - INFO - Reading dictionary from autotm_artifacts/1659e6bd-8d17-49de-9ba8-9790c2047501/dictionary.txt\n",
            "2023-12-19 09:31:46,682 - root - INFO - Dataset entities initialization took  0.59\n",
            "2023-12-19 09:31:46,684 - root - INFO - Using TM model: <class 'autotm.fitness.tm.TopicModel'> according to fitness name: default, topics count: 20\n",
            "20it [00:00, 455.39it/s]\n",
            "0it [00:00, ?it/s]\n",
            "5it [00:00, 496.96it/s]\n",
            "0it [00:00, ?it/s]\n",
            "20it [00:00, 402.63it/s]\n",
            "0it [00:00, ?it/s]\n",
            "5it [00:00, 363.22it/s]\n",
            "0it [00:00, ?it/s]\n",
            "20it [00:00, 458.40it/s]\n",
            "0it [00:00, ?it/s]\n",
            "5it [00:00, 299.50it/s]\n",
            "0it [00:00, ?it/s]\n",
            "20it [00:00, 679.61it/s]\n",
            "0it [00:00, ?it/s]\n",
            "5it [00:00, 500.60it/s]\n",
            "0it [00:00, ?it/s]\n"
          ]
        },
        {
          "output_type": "stream",
          "name": "stdout",
          "text": [
            "Training is complete\n"
          ]
        },
        {
          "output_type": "stream",
          "name": "stderr",
          "text": [
            "2023-12-19 09:31:57,474 - root - INFO - Building dictionary\n"
          ]
        },
        {
          "output_type": "stream",
          "name": "stdout",
          "text": [
            "Wow! all topics\n"
          ]
        },
        {
          "output_type": "stream",
          "name": "stderr",
          "text": [
            "20it [00:00, 643.76it/s]\n",
            "0it [00:00, ?it/s]\n",
            "5it [00:00, 683.02it/s]\n",
            "0it [00:00, ?it/s]\n"
          ]
        },
        {
          "output_type": "stream",
          "name": "stdout",
          "text": [
            "COMPONENTS:  0.6012004859543525 0.34771048600977267\n"
          ]
        },
        {
          "output_type": "stream",
          "name": "stderr",
          "text": [
            "20it [00:00, 7343.61it/s]\n",
            "0it [00:00, ?it/s]\n",
            "20it [00:00, 4875.40it/s]\n",
            "0it [00:00, ?it/s]\n",
            "20it [00:00, 4743.08it/s]\n",
            "0it [00:00, ?it/s]\n",
            "20it [00:00, 1245.86it/s]\n",
            "0it [00:00, ?it/s]\n",
            "20it [00:00, 895.09it/s]\n",
            "0it [00:00, ?it/s]\n",
            "20it [00:00, 752.13it/s]\n",
            "0it [00:00, ?it/s]\n",
            "20it [00:00, 686.57it/s]\n",
            "0it [00:00, ?it/s]\n",
            "20it [00:00, 670.28it/s]\n",
            "0it [00:00, ?it/s]\n",
            "20it [00:00, 593.56it/s]\n",
            "0it [00:00, ?it/s]\n",
            "20it [00:00, 519.65it/s]\n",
            "0it [00:00, ?it/s]\n",
            "2023-12-19 09:31:58,787 - root - INFO - Fitness estimation took  12.69\n",
            "2023-12-19 09:31:59,542 - root - INFO - Deleting bigartm logs: []\n",
            "2023-12-19 09:31:59,582 - root - INFO - Doing fitness calculating with individual {\"id\": \"d55ce2d4-e43d-4c12-a3d8-5f8cfa32107d\", \"data_path\": \"autotm_artifacts/1659e6bd-8d17-49de-9ba8-9790c2047501\", \"params\": [15922.33394201198, 23.0, 0.0, 9.476342311924512, 2.0, -660.3622745474751, 70.37554883098134, 26.0, 87.28950148023705, 500.5960242268975, 6.0, 0.0, 0.5239784388588118, 0.48289280593359163, 0.07280390203909981, 26612.628185460064], \"exp_id\": 0, \"alg_id\": \"ga\", \"iteration_id\": 0, \"tag\": \"v0\", \"fitness_value\": null, \"fitness_name\": \"default\", \"dataset\": \"__noname__\", \"topic_count\": 20, \"train_option\": \"offline\", \"force_dataset_settings_checkout\": false}\n",
            "2023-12-19 09:31:59,585 - root - INFO - Loading dataset entities\n",
            "2023-12-19 09:31:59,588 - root - INFO - Reading dictionary from autotm_artifacts/1659e6bd-8d17-49de-9ba8-9790c2047501/dictionary.txt\n",
            "2023-12-19 09:32:00,162 - root - INFO - Dataset entities initialization took  0.57\n",
            "2023-12-19 09:32:00,164 - root - INFO - Using TM model: <class 'autotm.fitness.tm.TopicModel'> according to fitness name: default, topics count: 20\n",
            "20it [00:00, 668.91it/s]\n",
            "0it [00:00, ?it/s]\n",
            "0it [00:00, ?it/s]\n",
            "0it [00:00, ?it/s]\n",
            "20it [00:00, 693.16it/s]\n",
            "0it [00:00, ?it/s]\n",
            "0it [00:00, ?it/s]\n",
            "0it [00:00, ?it/s]\n",
            "20it [00:00, 801.17it/s]\n",
            "0it [00:00, ?it/s]\n",
            "0it [00:00, ?it/s]\n",
            "0it [00:00, ?it/s]\n",
            "20it [00:00, 517.44it/s]\n",
            "0it [00:00, ?it/s]\n",
            "0it [00:00, ?it/s]\n",
            "0it [00:00, ?it/s]\n"
          ]
        },
        {
          "output_type": "stream",
          "name": "stdout",
          "text": [
            "Training is complete\n"
          ]
        },
        {
          "output_type": "stream",
          "name": "stderr",
          "text": [
            "2023-12-19 09:32:04,699 - root - INFO - Building dictionary\n"
          ]
        },
        {
          "output_type": "stream",
          "name": "stdout",
          "text": [
            "Wow! all topics\n"
          ]
        },
        {
          "output_type": "stream",
          "name": "stderr",
          "text": [
            "20it [00:00, 500.29it/s]\n",
            "0it [00:00, ?it/s]\n",
            "0it [00:00, ?it/s]\n",
            "0it [00:00, ?it/s]\n"
          ]
        },
        {
          "output_type": "stream",
          "name": "stdout",
          "text": [
            "COMPONENTS:  0.5912940402371396 0.22781553389218678\n"
          ]
        },
        {
          "output_type": "stream",
          "name": "stderr",
          "text": [
            "20it [00:00, 3692.82it/s]\n",
            "0it [00:00, ?it/s]\n",
            "20it [00:00, 4918.85it/s]\n",
            "0it [00:00, ?it/s]\n",
            "20it [00:00, 2158.84it/s]\n",
            "0it [00:00, ?it/s]\n",
            "20it [00:00, 1500.40it/s]\n",
            "0it [00:00, ?it/s]\n",
            "20it [00:00, 854.92it/s]\n",
            "0it [00:00, ?it/s]\n",
            "20it [00:00, 656.76it/s]\n",
            "0it [00:00, ?it/s]\n",
            "20it [00:00, 497.65it/s]\n",
            "0it [00:00, ?it/s]\n",
            "20it [00:00, 408.15it/s]\n",
            "0it [00:00, ?it/s]\n",
            "20it [00:00, 358.13it/s]\n",
            "0it [00:00, ?it/s]\n",
            "20it [00:00, 250.74it/s]\n",
            "0it [00:00, ?it/s]\n",
            "2023-12-19 09:32:05,833 - root - INFO - Fitness estimation took  6.25\n",
            "2023-12-19 09:32:06,295 - root - INFO - Deleting bigartm logs: []\n",
            "2023-12-19 09:32:06,350 - root - INFO - Doing fitness calculating with individual {\"id\": \"d2093ea5-405b-4192-915e-3cd0be8abc68\", \"data_path\": \"autotm_artifacts/1659e6bd-8d17-49de-9ba8-9790c2047501\", \"params\": [53.90268498048781, 0.0, 5.034225737341891, 28.479780881352447, 18.0, -929.3032793406788, -416.152403497338, 0.0, 773.696598611597, -100.21350806502153, 0.0, 0.0, 0.28724639900675775, 0.5398170752791501, 0.07047084994570707, 0.0], \"exp_id\": 0, \"alg_id\": \"ga\", \"iteration_id\": 0, \"tag\": \"v0\", \"fitness_value\": null, \"fitness_name\": \"default\", \"dataset\": \"__noname__\", \"topic_count\": 20, \"train_option\": \"offline\", \"force_dataset_settings_checkout\": false}\n",
            "2023-12-19 09:32:06,352 - root - INFO - Loading dataset entities\n",
            "2023-12-19 09:32:06,354 - root - INFO - Reading dictionary from autotm_artifacts/1659e6bd-8d17-49de-9ba8-9790c2047501/dictionary.txt\n",
            "2023-12-19 09:32:07,017 - root - INFO - Dataset entities initialization took  0.66\n",
            "2023-12-19 09:32:07,018 - root - INFO - Using TM model: <class 'autotm.fitness.tm.TopicModel'> according to fitness name: default, topics count: 20\n",
            "2023-12-19 09:32:07,047 - root - WARNING - Fitness calculation problem\n",
            "2023-12-19 09:32:07,048 - root - INFO - Fitness estimation took  0.70\n",
            "2023-12-19 09:32:07,174 - root - INFO - Deleting bigartm logs: []\n",
            "2023-12-19 09:32:07,215 - root - INFO - Doing fitness calculating with individual {\"id\": \"0d075a76-2b80-4f9f-91ee-575653a76019\", \"data_path\": \"autotm_artifacts/1659e6bd-8d17-49de-9ba8-9790c2047501\", \"params\": [33.66615040269026, 0.0, 46.64025635835457, 53.634779578732704, 18.0, -891.3867491603287, 940.152484255764, 21.0, 552.3186850124189, -278.1172077089318, 6.0, 3.0, 0.7001260306932217, 0.32113552416972135, 0.36952837554281626, 65630.46930880583], \"exp_id\": 0, \"alg_id\": \"ga\", \"iteration_id\": 0, \"tag\": \"v0\", \"fitness_value\": null, \"fitness_name\": \"default\", \"dataset\": \"__noname__\", \"topic_count\": 20, \"train_option\": \"offline\", \"force_dataset_settings_checkout\": false}\n",
            "2023-12-19 09:32:07,216 - root - INFO - Loading dataset entities\n",
            "2023-12-19 09:32:07,221 - root - INFO - Reading dictionary from autotm_artifacts/1659e6bd-8d17-49de-9ba8-9790c2047501/dictionary.txt\n",
            "2023-12-19 09:32:07,846 - root - INFO - Dataset entities initialization took  0.62\n",
            "2023-12-19 09:32:07,847 - root - INFO - Using TM model: <class 'autotm.fitness.tm.TopicModel'> according to fitness name: default, topics count: 20\n",
            "20it [00:00, 710.10it/s]\n",
            "0it [00:00, ?it/s]\n",
            "3it [00:00, 260.43it/s]\n",
            "0it [00:00, ?it/s]\n",
            "20it [00:00, 723.22it/s]\n",
            "0it [00:00, ?it/s]\n",
            "3it [00:00, 451.19it/s]\n",
            "0it [00:00, ?it/s]\n",
            "20it [00:00, 696.29it/s]\n",
            "0it [00:00, ?it/s]\n",
            "3it [00:00, 346.14it/s]\n",
            "0it [00:00, ?it/s]\n"
          ]
        },
        {
          "output_type": "stream",
          "name": "stdout",
          "text": [
            "Training is complete\n"
          ]
        },
        {
          "output_type": "stream",
          "name": "stderr",
          "text": [
            "2023-12-19 09:32:11,473 - root - INFO - Building dictionary\n"
          ]
        },
        {
          "output_type": "stream",
          "name": "stdout",
          "text": [
            "Wow! all topics\n"
          ]
        },
        {
          "output_type": "stream",
          "name": "stderr",
          "text": [
            "20it [00:00, 692.36it/s]\n",
            "0it [00:00, ?it/s]\n",
            "3it [00:00, 515.82it/s]\n",
            "0it [00:00, ?it/s]\n"
          ]
        },
        {
          "output_type": "stream",
          "name": "stdout",
          "text": [
            "COMPONENTS:  0.4544812767822295 0.1947615871684637\n"
          ]
        },
        {
          "output_type": "stream",
          "name": "stderr",
          "text": [
            "20it [00:00, 6765.01it/s]\n",
            "0it [00:00, ?it/s]\n",
            "20it [00:00, 5415.85it/s]\n",
            "0it [00:00, ?it/s]\n",
            "20it [00:00, 1996.19it/s]\n",
            "0it [00:00, ?it/s]\n",
            "20it [00:00, 1473.55it/s]\n",
            "0it [00:00, ?it/s]\n",
            "20it [00:00, 1333.35it/s]\n",
            "0it [00:00, ?it/s]\n",
            "20it [00:00, 992.86it/s]\n",
            "0it [00:00, ?it/s]\n",
            "20it [00:00, 604.02it/s]\n",
            "0it [00:00, ?it/s]\n",
            "20it [00:00, 580.90it/s]\n",
            "0it [00:00, ?it/s]\n",
            "20it [00:00, 534.78it/s]\n",
            "0it [00:00, ?it/s]\n",
            "20it [00:00, 503.01it/s]\n",
            "0it [00:00, ?it/s]\n",
            "2023-12-19 09:32:12,158 - root - INFO - Fitness estimation took  4.94\n",
            "2023-12-19 09:32:12,503 - root - INFO - Deleting bigartm logs: []\n",
            "2023-12-19 09:32:12,538 - root - INFO - Doing fitness calculating with individual {\"id\": \"3d6fe22c-91ee-472f-85ef-fb84f2761f71\", \"data_path\": \"autotm_artifacts/1659e6bd-8d17-49de-9ba8-9790c2047501\", \"params\": [25115.106433559387, 16.0, 10.189594421189662, 81.44554736824588, 5.0, -548.1771090657164, -963.7067170539552, 2.0, -657.8864167990411, -862.3845767423936, 8.0, 2.0, 0.5937690221909057, 0.4175547062483904, 0.2105551880040223, 22788.75150982361], \"exp_id\": null, \"alg_id\": \"ga\", \"iteration_id\": 0, \"tag\": \"v0\", \"fitness_value\": {\"avg_coherence_score\": 0.0, \"perplexityScore\": 1122.7158203125, \"backgroundTokensRatioScore\": 0.34481480717658997, \"contrast\": 0.0, \"purity\": 0.0, \"kernelSize\": 0.0, \"npmi_50_list\": null, \"npmi_50\": null, \"sparsity_phi\": 1.0, \"sparsity_theta\": 1.0, \"topic_significance_uni\": null, \"topic_significance_vacuous\": null, \"topic_significance_back\": null, \"switchP_list\": [NaN], \"switchP\": NaN, \"all_topics\": false, \"coherence_10_list\": [0, 0, 0, 0, 0, 0, 0, 0, 0, 0, 0, 0, 0, 0, 0, 0, 0, 0, 0, 0], \"coherence_10\": 0.0, \"coherence_15_list\": [0, 0, 0, 0, 0, 0, 0, 0, 0, 0, 0, 0, 0, 0, 0, 0, 0, 0, 0, 0], \"coherence_15\": 0.0, \"coherence_20_list\": [0, 0, 0, 0, 0, 0, 0, 0, 0, 0, 0, 0, 0, 0, 0, 0, 0, 0, 0, 0], \"coherence_20\": 0.0, \"coherence_25_list\": [0, 0, 0, 0, 0, 0, 0, 0, 0, 0, 0, 0, 0, 0, 0, 0, 0, 0, 0, 0], \"coherence_25\": 0.0, \"coherence_30_list\": [0, 0, 0, 0, 0, 0, 0, 0, 0, 0, 0, 0, 0, 0, 0, 0, 0, 0, 0, 0], \"coherence_30\": 0.0, \"coherence_35_list\": [0, 0, 0, 0, 0, 0, 0, 0, 0, 0, 0, 0, 0, 0, 0, 0, 0, 0, 0, 0], \"coherence_35\": 0.0, \"coherence_40_list\": [0, 0, 0, 0, 0, 0, 0, 0, 0, 0, 0, 0, 0, 0, 0, 0, 0, 0, 0, 0], \"coherence_40\": 0.0, \"coherence_45_list\": [0, 0, 0, 0, 0, 0, 0, 0, 0, 0, 0, 0, 0, 0, 0, 0, 0, 0, 0, 0], \"coherence_45\": 0.0, \"coherence_50_list\": [0, 0, 0, 0, 0, 0, 0, 0, 0, 0, 0, 0, 0, 0, 0, 0, 0, 0, 0, 0], \"coherence_50\": 0.0, \"coherence_55_list\": [0, 0, 0, 0, 0, 0, 0, 0, 0, 0, 0, 0, 0, 0, 0, 0, 0, 0, 0, 0], \"coherence_55\": 0.0, \"npmi_15\": null, \"npmi_25\": null}, \"fitness_name\": \"default\", \"dataset\": \"__noname__\", \"topic_count\": 20, \"train_option\": \"offline\", \"force_dataset_settings_checkout\": false}\n",
            "2023-12-19 09:32:12,539 - root - INFO - Loading dataset entities\n",
            "2023-12-19 09:32:12,542 - root - INFO - Reading dictionary from autotm_artifacts/1659e6bd-8d17-49de-9ba8-9790c2047501/dictionary.txt\n",
            "2023-12-19 09:32:13,125 - root - INFO - Dataset entities initialization took  0.58\n",
            "2023-12-19 09:32:13,126 - root - INFO - Using TM model: <class 'autotm.fitness.tm.TopicModel'> according to fitness name: default, topics count: 20\n",
            "20it [00:00, 696.61it/s]\n",
            "0it [00:00, ?it/s]\n",
            "2it [00:00, 494.87it/s]\n",
            "0it [00:00, ?it/s]\n",
            "20it [00:00, 715.60it/s]\n",
            "0it [00:00, ?it/s]\n",
            "2it [00:00, 527.75it/s]\n",
            "0it [00:00, ?it/s]\n",
            "20it [00:00, 740.40it/s]\n",
            "0it [00:00, ?it/s]\n",
            "2it [00:00, 163.36it/s]\n",
            "0it [00:00, ?it/s]\n",
            "0it [00:00, ?it/s]\n",
            "20it [00:00, 115704.94it/s]\n",
            "2it [00:00, 500.54it/s]\n",
            "0it [00:00, ?it/s]\n"
          ]
        },
        {
          "output_type": "stream",
          "name": "stdout",
          "text": [
            "Training is complete\n"
          ]
        },
        {
          "output_type": "stream",
          "name": "stderr",
          "text": [
            "2023-12-19 09:32:17,484 - root - INFO - Building dictionary\n",
            "0it [00:00, ?it/s]\n",
            "20it [00:00, 191520.73it/s]\n",
            "2it [00:00, 470.45it/s]\n",
            "0it [00:00, ?it/s]\n"
          ]
        },
        {
          "output_type": "stream",
          "name": "stdout",
          "text": [
            "COMPONENTS:  0.0 0\n"
          ]
        },
        {
          "output_type": "stream",
          "name": "stderr",
          "text": [
            "0it [00:00, ?it/s]\n",
            "20it [00:00, 217321.45it/s]\n",
            "0it [00:00, ?it/s]\n",
            "20it [00:00, 221335.30it/s]\n",
            "0it [00:00, ?it/s]\n",
            "20it [00:00, 221920.85it/s]\n",
            "0it [00:00, ?it/s]\n",
            "20it [00:00, 254200.24it/s]\n",
            "0it [00:00, ?it/s]\n",
            "20it [00:00, 253432.27it/s]\n",
            "0it [00:00, ?it/s]\n",
            "20it [00:00, 251155.93it/s]\n",
            "0it [00:00, ?it/s]\n",
            "20it [00:00, 240361.26it/s]\n",
            "0it [00:00, ?it/s]\n",
            "20it [00:00, 250406.21it/s]\n",
            "0it [00:00, ?it/s]\n",
            "20it [00:00, 227333.55it/s]\n",
            "0it [00:00, ?it/s]\n",
            "20it [00:00, 240361.26it/s]\n",
            "2023-12-19 09:32:18,026 - root - INFO - Fitness estimation took  5.49\n",
            "2023-12-19 09:32:18,490 - root - INFO - Deleting bigartm logs: []\n",
            "2023-12-19 09:32:18,542 - root - INFO - The fitness results have been obtained\n",
            "2023-12-19 09:32:18,544 - GA_algo - INFO - TIME OF THE FITNESS FUNCTION IN MUTATION: 108.56739091873169\n",
            "2023-12-19 09:32:18,545 - GA_algo - INFO - MUTATION IS OVER\n",
            "2023-12-19 09:32:18,546 - GA_algo - INFO - Population len 11. Best params so far: [98633.2220808761, 28.0, 99.47507070060276, 11.146846281631372, 7.0, -129.20783827543164, -755.2214579795462, 25.0, -286.24307106519063, 927.4292556078076, 29.0, 4.0, 0.5202512404944241, 0.3353393609599058, 0.05647051138561909, 94634.40610399056], with fitness: 1.016357123014295.ITERATION TIME: 304.6636309623718DATASET __noname__.TOPICS NUM 20.RUN ID 36f347f7-954e-433c-a4a6-0f4090f060e3.\n",
            "2023-12-19 09:32:18,547 - root - INFO - Sending a best individual to be logged\n",
            "2023-12-19 09:32:18,548 - root - INFO - Doing fitness calculating with individual {\"id\": \"99489b2d-200d-460e-8c8f-6dcd05644a11\", \"data_path\": \"autotm_artifacts/1659e6bd-8d17-49de-9ba8-9790c2047501\", \"params\": [98633.2220808761, 28.0, 99.47507070060276, 11.146846281631372, 7.0, -129.20783827543164, -755.2214579795462, 25.0, -286.24307106519063, 927.4292556078076, 29.0, 4.0, 0.5202512404944241, 0.3353393609599058, 0.05647051138561909, 94634.40610399056], \"exp_id\": null, \"alg_id\": \"ga\", \"iteration_id\": 0, \"tag\": \"v0\", \"fitness_value\": {\"avg_coherence_score\": 1.016357123014295, \"perplexityScore\": 1329.470947265625, \"backgroundTokensRatioScore\": 0.6059259176254272, \"contrast\": 0.9688870310783386, \"purity\": 0.984105110168457, \"kernelSize\": 131.4499969482422, \"npmi_50_list\": null, \"npmi_50\": null, \"sparsity_phi\": 0.8345000147819519, \"sparsity_theta\": 0.0, \"topic_significance_uni\": null, \"topic_significance_vacuous\": null, \"topic_significance_back\": null, \"switchP_list\": [NaN], \"switchP\": NaN, \"all_topics\": true, \"coherence_10_list\": [0.2311696587921079, 0.6098294177121731, 0.71998482686751, 0.36904810836062146, 0.06523923535220935, 0.32530730154281684, 0.6451052469170714, 0.21107969589741457, 0.5724680203647429, 0.37026184397180084, 0.5380095842009973, 0.2495119113834, 0.35950356138260353, 1.0393720140703138, 1.0182675711128277, 0.5462886134659494, 0.3940834520827018, 0.5236474445125601, 0.6715842086261083, 0.2592866902031657], \"coherence_10\": 0.48595242034095476, \"coherence_15_list\": [0.25159786165530634, 0.9852360357352374, 0.5742800859659268, 0.41603109193148274, 0.08965305580027917, 0.39114141503818833, 0.8130284736473947, 0.267940789166698, 0.4774327617394991, 0.38415239124161843, 0.41852069424537747, 0.24789728951706946, 0.48180430799380997, 0.9619333337963576, 0.8844131927000612, 0.6743052955914037, 0.5794906187031225, 0.47936887541415696, 0.49112411267287565, 0.17836113654117236], \"coherence_15\": 0.5023856409548519, \"coherence_20_list\": [0.24845244179916753, 0.7791473129790313, 0.5801163326191981, 0.46040723229619684, 0.1259934718107608, 0.38036476607409997, 0.6670794083369801, 0.4161078436728443, 0.49735433552702907, 0.43422402087488193, 0.38808752970270327, 0.2193731511927473, 0.4135153034665299, 0.7851861656349913, 0.7270214061590761, 0.6297803212770319, 0.7045548346614557, 0.39758104035546743, 0.733260456134122, 0.23597289609068642], \"coherence_20\": 0.49117901353325005, \"coherence_25_list\": [0.30546052473714613, 0.7781350209397008, 0.535411271643723, 0.4323855923749414, 0.13551945796311285, 0.3534045377373893, 0.6611738703024426, 0.45609451845882665, 0.5514823651588493, 0.5722392360190743, 0.38982352637599554, 0.30478273632069136, 0.4684238646465924, 0.8639294610871072, 0.7679139954429363, 0.591237512274342, 0.6330271679678745, 0.5374719490316533, 0.7063523479348135, 0.26007120587552957], \"coherence_25\": 0.5152170081146371, \"coherence_30_list\": [0.3142667511922698, 0.7708312059431207, 0.5230615450086232, 0.468749916670107, 0.20058312975682172, 0.4327299052818318, 0.6284829123171133, 0.49966817861133894, 0.6237444147232193, 0.5913474492321895, 0.4191517623751776, 0.3277708902045011, 0.5014052973697665, 0.8243752745293886, 0.7095774908189099, 0.5813907065125021, 0.6013502967762917, 0.5365632193263679, 0.6490962194339062, 0.3410518990589956], \"coherence_30\": 0.5272599232571221, \"coherence_35_list\": [0.3742302141030758, 0.7401923608893275, 0.5761298364934702, 0.4613422141240806, 0.34297104590854116, 0.4814936985884668, 0.6372405036327082, 0.5113376344211853, 0.7129871367593735, 0.5418211100576247, 0.43112674033788273, 0.42150501795253215, 0.5116798910884027, 0.7971996872148358, 0.6740360783094228, 0.640146273174178, 0.6552522067515828, 0.5710907326933683, 0.5855520351423578, 0.39454928681669194], \"coherence_35\": 0.5530941852229555, \"coherence_40_list\": [0.4761682859933848, 0.8434874151875097, 0.5640093808342025, 0.4892505550099509, 0.3653369097577945, 0.501605795124603, 0.6191385296267694, 0.4830888753264521, 0.6885084409774295, 0.529344346276464, 0.5213386992257502, 0.4917801340732445, 0.4680969051634964, 0.8144273848767359, 0.627302783274079, 0.6730804676970884, 0.75665767802283, 0.6196222306622498, 0.596543550933742, 0.44835267489611574], \"coherence_40\": 0.5788570521469947, \"coherence_45_list\": [0.5383200106869784, 0.8049273340496076, 0.5684206089259173, 0.4670444053711382, 0.4228316387534919, 0.5551450313733484, 0.6877059512595208, 0.49499627474348545, 0.6843109742353428, 0.5382112472737125, 0.5762033810119074, 0.5064098581893296, 0.4478123332647978, 0.8582328384769039, 0.594229600650129, 0.6962592135913641, 0.8015163815774742, 0.6447061593128723, 0.5562126634963112, 0.44704263807602024], \"coherence_45\": 0.5945269272159825, \"coherence_50_list\": [0.5837230557341032, 0.8152703428017136, 0.5389922467479101, 0.4906522936252003, 0.46511690224972213, 0.5404193168255066, 0.6485780614147247, 0.519862846356916, 0.7305698269207558, 0.5293477577488928, 0.6188290398714525, 0.5259279494347748, 0.4156078912525273, 0.8628374062044561, 0.5418453703554836, 0.6671286828156545, 0.8458820364344444, 0.7007744405463521, 0.49123800252326577, 0.4823811653714966], \"coherence_50\": 0.6007492317617676, \"coherence_55_list\": [0.5943999603368183, 0.8210269138962386, 0.4903804043931441, 0.476256451326245, 0.4908257153329251, 0.5425351859153771, 0.5979143623790533, 0.5401894740282207, 0.7696602767291705, 0.49559821648666275, 0.6398919005181438, 0.5511180783801521, 0.37196491888198857, 0.8375154376855823, 0.5521380968636849, 0.6531048248859113, 0.8199841400785594, 0.7002808958886528, 0.5070251474689831, 0.4375272902117856], \"coherence_55\": 0.5944668845843651, \"npmi_15\": null, \"npmi_25\": null}, \"fitness_name\": \"default\", \"dataset\": \"__noname__\", \"topic_count\": 20, \"train_option\": \"offline\", \"force_dataset_settings_checkout\": false}\n",
            "2023-12-19 09:32:18,550 - root - INFO - Loading dataset entities\n",
            "2023-12-19 09:32:18,552 - root - INFO - Reading dictionary from autotm_artifacts/1659e6bd-8d17-49de-9ba8-9790c2047501/dictionary.txt\n",
            "2023-12-19 09:32:19,502 - root - INFO - Dataset entities initialization took  0.95\n",
            "2023-12-19 09:32:19,504 - root - INFO - Using TM model: <class 'autotm.fitness.tm.TopicModel'> according to fitness name: default, topics count: 20\n",
            "20it [00:00, 704.34it/s]\n",
            "0it [00:00, ?it/s]\n",
            "4it [00:00, 512.83it/s]\n",
            "0it [00:00, ?it/s]\n",
            "20it [00:00, 703.49it/s]\n",
            "0it [00:00, ?it/s]\n",
            "4it [00:00, 338.79it/s]\n",
            "0it [00:00, ?it/s]\n",
            "20it [00:00, 675.24it/s]\n",
            "0it [00:00, ?it/s]\n",
            "4it [00:00, 411.11it/s]\n",
            "0it [00:00, ?it/s]\n",
            "20it [00:00, 669.20it/s]\n",
            "0it [00:00, ?it/s]\n",
            "4it [00:00, 754.17it/s]\n",
            "0it [00:00, ?it/s]\n"
          ]
        },
        {
          "output_type": "stream",
          "name": "stdout",
          "text": [
            "Training is complete\n"
          ]
        },
        {
          "output_type": "stream",
          "name": "stderr",
          "text": [
            "2023-12-19 09:32:28,873 - root - INFO - Building dictionary\n"
          ]
        },
        {
          "output_type": "stream",
          "name": "stdout",
          "text": [
            "Wow! all topics\n"
          ]
        },
        {
          "output_type": "stream",
          "name": "stderr",
          "text": [
            "20it [00:00, 664.89it/s]\n",
            "0it [00:00, ?it/s]\n",
            "4it [00:00, 403.75it/s]\n",
            "0it [00:00, ?it/s]\n"
          ]
        },
        {
          "output_type": "stream",
          "name": "stdout",
          "text": [
            "COMPONENTS:  0.6007492317617676 0.4156078912525274\n"
          ]
        },
        {
          "output_type": "stream",
          "name": "stderr",
          "text": [
            "20it [00:00, 14450.66it/s]\n",
            "0it [00:00, ?it/s]\n",
            "20it [00:00, 4689.78it/s]\n",
            "0it [00:00, ?it/s]\n",
            "20it [00:00, 3127.63it/s]\n",
            "0it [00:00, ?it/s]\n",
            "20it [00:00, 2534.25it/s]\n",
            "0it [00:00, ?it/s]\n",
            "20it [00:00, 1086.76it/s]\n",
            "0it [00:00, ?it/s]\n",
            "20it [00:00, 956.75it/s]\n",
            "0it [00:00, ?it/s]\n",
            "20it [00:00, 678.40it/s]\n",
            "0it [00:00, ?it/s]\n",
            "20it [00:00, 590.21it/s]\n",
            "0it [00:00, ?it/s]\n",
            "20it [00:00, 451.90it/s]\n",
            "0it [00:00, ?it/s]\n",
            "20it [00:00, 495.37it/s]\n",
            "0it [00:00, ?it/s]\n",
            "2023-12-19 09:32:30,147 - root - INFO - Fitness estimation took  11.60\n",
            "2023-12-19 09:32:31,096 - root - INFO - Logging params and artifacts to mlflow\n",
            "2023-12-19 09:32:31,104 - root - INFO - Created experiment_None\n",
            "2023-12-19 09:32:31,114 - root - INFO - Experiment exists, omitting creation\n",
            "2023-12-19 09:32:31,135 - root - DEBUG - Params dict: {'val_decor': 98633.2220808761, 'var_n_0': 28.0, 'var_sm_0': 99.47507070060276, 'var_sm_1': 11.146846281631372, 'var_n_1': 7.0, 'var_sp_0': -129.20783827543164, 'var_sp_1': -755.2214579795462, 'var_n_2': 25.0, 'var_sp_2': -286.24307106519063, 'var_sp_3': 927.4292556078076, 'var_n_3': 29.0, 'var_n_4': 4.0, 'ext_mutation_prob': 0.5202512404944241, 'ext_elem_mutation_prob': 0.3353393609599058, 'ext_mutation_selector': 0.05647051138561909, 'val_decor_2': 94634.40610399056}\n"
          ]
        },
        {
          "output_type": "stream",
          "name": "stdout",
          "text": [
            "Experiment run name: fitness-__noname__-f51c004c-5802-4c3e-843d-fb9b8d0f9c33_tmp_0\n"
          ]
        },
        {
          "output_type": "stream",
          "name": "stderr",
          "text": [
            "2023-12-19 09:32:31,822 - root - INFO - Logged params and artifacts to mlflow\n",
            "2023-12-19 09:32:31,837 - root - INFO - Deleting bigartm logs: []\n",
            "2023-12-19 09:32:31,895 - GA_algo - INFO - ENTERING GENERATION 1\n",
            "2023-12-19 09:32:31,897 - GA_algo - INFO - PAIRS ARE CREATED\n",
            "2023-12-19 09:32:31,900 - GA_algo - INFO - CURRENT COUNTER: 45\n",
            "2023-12-19 09:32:31,901 - root - INFO - Calculating fitness...\n",
            "2023-12-19 09:32:31,903 - root - INFO - Doing fitness calculating with individual {\"id\": \"72362e79-0461-4fed-88c8-f513c308e58e\", \"data_path\": \"autotm_artifacts/1659e6bd-8d17-49de-9ba8-9790c2047501\", \"params\": [100000.0, 30, 100.0, 0.0, 0, 115.70114645684164, -1000.0, 30.0, -358.85500844901156, 1000.0, 30.0, 5.0, 0.5202512404944241, 0.3353393609599058, 0.05647051138561909, 100000.0], \"exp_id\": 0, \"alg_id\": \"ga\", \"iteration_id\": 1, \"tag\": \"v0\", \"fitness_value\": null, \"fitness_name\": \"default\", \"dataset\": \"__noname__\", \"topic_count\": 20, \"train_option\": \"offline\", \"force_dataset_settings_checkout\": false}\n",
            "2023-12-19 09:32:31,905 - root - INFO - Loading dataset entities\n",
            "2023-12-19 09:32:31,907 - root - INFO - Reading dictionary from autotm_artifacts/1659e6bd-8d17-49de-9ba8-9790c2047501/dictionary.txt\n",
            "2023-12-19 09:32:32,828 - root - INFO - Dataset entities initialization took  0.92\n",
            "2023-12-19 09:32:32,830 - root - INFO - Using TM model: <class 'autotm.fitness.tm.TopicModel'> according to fitness name: default, topics count: 20\n",
            "20it [00:00, 699.31it/s]\n",
            "0it [00:00, ?it/s]\n",
            "5it [00:00, 433.13it/s]\n",
            "0it [00:00, ?it/s]\n",
            "20it [00:00, 587.76it/s]\n",
            "0it [00:00, ?it/s]\n",
            "5it [00:00, 409.36it/s]\n",
            "0it [00:00, ?it/s]\n",
            "20it [00:00, 653.23it/s]\n",
            "0it [00:00, ?it/s]\n",
            "5it [00:00, 457.63it/s]\n",
            "0it [00:00, ?it/s]\n",
            "20it [00:00, 664.14it/s]\n",
            "0it [00:00, ?it/s]\n",
            "5it [00:00, 441.99it/s]\n",
            "0it [00:00, ?it/s]\n"
          ]
        },
        {
          "output_type": "stream",
          "name": "stdout",
          "text": [
            "Training is complete\n"
          ]
        },
        {
          "output_type": "stream",
          "name": "stderr",
          "text": [
            "2023-12-19 09:32:42,206 - root - INFO - Building dictionary\n"
          ]
        },
        {
          "output_type": "stream",
          "name": "stdout",
          "text": [
            "Wow! all topics\n"
          ]
        },
        {
          "output_type": "stream",
          "name": "stderr",
          "text": [
            "20it [00:00, 336.95it/s]\n",
            "0it [00:00, ?it/s]\n",
            "5it [00:00, 457.44it/s]\n",
            "0it [00:00, ?it/s]\n"
          ]
        },
        {
          "output_type": "stream",
          "name": "stdout",
          "text": [
            "COMPONENTS:  0.6143735185882776 0.3790464770407474\n"
          ]
        },
        {
          "output_type": "stream",
          "name": "stderr",
          "text": [
            "20it [00:00, 10846.40it/s]\n",
            "0it [00:00, ?it/s]\n",
            "20it [00:00, 5573.83it/s]\n",
            "0it [00:00, ?it/s]\n",
            "20it [00:00, 3229.99it/s]\n",
            "0it [00:00, ?it/s]\n",
            "20it [00:00, 1196.41it/s]\n",
            "0it [00:00, ?it/s]\n",
            "20it [00:00, 1304.22it/s]\n",
            "0it [00:00, ?it/s]\n",
            "20it [00:00, 808.91it/s]\n",
            "0it [00:00, ?it/s]\n",
            "20it [00:00, 643.38it/s]\n",
            "0it [00:00, ?it/s]\n",
            "20it [00:00, 569.30it/s]\n",
            "0it [00:00, ?it/s]\n",
            "20it [00:00, 408.47it/s]\n",
            "0it [00:00, ?it/s]\n",
            "20it [00:00, 368.92it/s]\n",
            "0it [00:00, ?it/s]\n",
            "2023-12-19 09:32:43,498 - root - INFO - Fitness estimation took  11.59\n",
            "2023-12-19 09:32:44,421 - root - INFO - Deleting bigartm logs: []\n",
            "2023-12-19 09:32:44,482 - root - INFO - Doing fitness calculating with individual {\"id\": \"02079e1f-fd45-4381-8af5-b63f915888d5\", \"data_path\": \"autotm_artifacts/1659e6bd-8d17-49de-9ba8-9790c2047501\", \"params\": [97940.71436621057, 26.0, 99.20910387131745, 16.794638023225, 0, -224.67175374834932, -631.1990938763856, 30, -299.75892154776363, 890.6597119625408, 28.0, 3.0, 0.5202512404944241, 0.3353393609599058, 0.05647051138561909, 91915.81143344557], \"exp_id\": 0, \"alg_id\": \"ga\", \"iteration_id\": 1, \"tag\": \"v0\", \"fitness_value\": null, \"fitness_name\": \"default\", \"dataset\": \"__noname__\", \"topic_count\": 20, \"train_option\": \"offline\", \"force_dataset_settings_checkout\": false}\n",
            "2023-12-19 09:32:44,487 - root - INFO - Loading dataset entities\n",
            "2023-12-19 09:32:44,489 - root - INFO - Reading dictionary from autotm_artifacts/1659e6bd-8d17-49de-9ba8-9790c2047501/dictionary.txt\n",
            "2023-12-19 09:32:45,421 - root - INFO - Dataset entities initialization took  0.93\n",
            "2023-12-19 09:32:45,426 - root - INFO - Using TM model: <class 'autotm.fitness.tm.TopicModel'> according to fitness name: default, topics count: 20\n",
            "20it [00:00, 706.20it/s]\n",
            "0it [00:00, ?it/s]\n",
            "3it [00:00, 464.69it/s]\n",
            "0it [00:00, ?it/s]\n",
            "20it [00:00, 530.56it/s]\n",
            "0it [00:00, ?it/s]\n",
            "3it [00:00, 477.29it/s]\n",
            "0it [00:00, ?it/s]\n",
            "20it [00:00, 687.51it/s]\n",
            "0it [00:00, ?it/s]\n",
            "3it [00:00, 455.18it/s]\n",
            "0it [00:00, ?it/s]\n",
            "20it [00:00, 648.51it/s]\n",
            "0it [00:00, ?it/s]\n",
            "3it [00:00, 1166.60it/s]\n",
            "0it [00:00, ?it/s]\n"
          ]
        },
        {
          "output_type": "stream",
          "name": "stdout",
          "text": [
            "Training is complete\n"
          ]
        },
        {
          "output_type": "stream",
          "name": "stderr",
          "text": [
            "2023-12-19 09:32:53,579 - root - INFO - Building dictionary\n"
          ]
        },
        {
          "output_type": "stream",
          "name": "stdout",
          "text": [
            "Wow! all topics\n"
          ]
        },
        {
          "output_type": "stream",
          "name": "stderr",
          "text": [
            "20it [00:00, 738.41it/s]\n",
            "0it [00:00, ?it/s]\n",
            "3it [00:00, 1265.12it/s]\n",
            "0it [00:00, ?it/s]\n"
          ]
        },
        {
          "output_type": "stream",
          "name": "stdout",
          "text": [
            "COMPONENTS:  0.6681722920717499 0.4168148985023213\n"
          ]
        },
        {
          "output_type": "stream",
          "name": "stderr",
          "text": [
            "20it [00:00, 6420.18it/s]\n",
            "0it [00:00, ?it/s]\n",
            "20it [00:00, 4802.82it/s]\n",
            "0it [00:00, ?it/s]\n",
            "20it [00:00, 2218.45it/s]\n",
            "0it [00:00, ?it/s]\n",
            "20it [00:00, 1416.64it/s]\n",
            "0it [00:00, ?it/s]\n",
            "20it [00:00, 1255.35it/s]\n",
            "0it [00:00, ?it/s]\n",
            "20it [00:00, 987.55it/s]\n",
            "0it [00:00, ?it/s]\n",
            "20it [00:00, 699.91it/s]\n",
            "0it [00:00, ?it/s]\n",
            "20it [00:00, 584.10it/s]\n",
            "0it [00:00, ?it/s]\n",
            "20it [00:00, 504.88it/s]\n",
            "0it [00:00, ?it/s]\n",
            "20it [00:00, 535.63it/s]\n",
            "0it [00:00, ?it/s]\n",
            "2023-12-19 09:32:54,668 - root - INFO - Fitness estimation took  10.18\n",
            "2023-12-19 09:32:55,306 - root - INFO - Deleting bigartm logs: []\n",
            "2023-12-19 09:32:55,343 - root - INFO - Doing fitness calculating with individual {\"id\": \"36208672-c885-42cd-955d-7a1579614e2d\", \"data_path\": \"autotm_artifacts/1659e6bd-8d17-49de-9ba8-9790c2047501\", \"params\": [100000.0, 30, 100.0, 0, 1.0, -601.2885713107983, -1000.0, 30.0, -484.81317691796664, 1000.0, 30, 5, 0.9609792888292359, 0.13056841268079034, 0.9253274209331299, 100000.0], \"exp_id\": 0, \"alg_id\": \"ga\", \"iteration_id\": 1, \"tag\": \"v0\", \"fitness_value\": null, \"fitness_name\": \"default\", \"dataset\": \"__noname__\", \"topic_count\": 20, \"train_option\": \"offline\", \"force_dataset_settings_checkout\": false}\n",
            "2023-12-19 09:32:55,344 - root - INFO - Loading dataset entities\n",
            "2023-12-19 09:32:55,347 - root - INFO - Reading dictionary from autotm_artifacts/1659e6bd-8d17-49de-9ba8-9790c2047501/dictionary.txt\n",
            "2023-12-19 09:32:55,928 - root - INFO - Dataset entities initialization took  0.58\n",
            "2023-12-19 09:32:55,929 - root - INFO - Using TM model: <class 'autotm.fitness.tm.TopicModel'> according to fitness name: default, topics count: 20\n",
            "20it [00:00, 642.67it/s]\n",
            "0it [00:00, ?it/s]\n",
            "5it [00:00, 462.36it/s]\n",
            "0it [00:00, ?it/s]\n",
            "20it [00:00, 657.46it/s]\n",
            "0it [00:00, ?it/s]\n",
            "5it [00:00, 371.03it/s]\n",
            "0it [00:00, ?it/s]\n",
            "20it [00:00, 752.02it/s]\n",
            "0it [00:00, ?it/s]\n",
            "5it [00:00, 451.51it/s]\n",
            "0it [00:00, ?it/s]\n",
            "20it [00:00, 680.01it/s]\n",
            "0it [00:00, ?it/s]\n",
            "5it [00:00, 494.84it/s]\n",
            "0it [00:00, ?it/s]\n"
          ]
        },
        {
          "output_type": "stream",
          "name": "stdout",
          "text": [
            "Training is complete\n"
          ]
        },
        {
          "output_type": "stream",
          "name": "stderr",
          "text": [
            "2023-12-19 09:33:06,202 - root - INFO - Building dictionary\n"
          ]
        },
        {
          "output_type": "stream",
          "name": "stdout",
          "text": [
            "Wow! all topics\n"
          ]
        },
        {
          "output_type": "stream",
          "name": "stderr",
          "text": [
            "20it [00:00, 433.22it/s]\n",
            "0it [00:00, ?it/s]\n",
            "5it [00:00, 458.52it/s]\n",
            "0it [00:00, ?it/s]\n"
          ]
        },
        {
          "output_type": "stream",
          "name": "stdout",
          "text": [
            "COMPONENTS:  0.6077611890382564 0.39414152253251866\n"
          ]
        },
        {
          "output_type": "stream",
          "name": "stderr",
          "text": [
            "20it [00:00, 8309.67it/s]\n",
            "0it [00:00, ?it/s]\n",
            "20it [00:00, 4487.09it/s]\n",
            "0it [00:00, ?it/s]\n",
            "20it [00:00, 3310.42it/s]\n",
            "0it [00:00, ?it/s]\n",
            "20it [00:00, 819.35it/s]\n",
            "0it [00:00, ?it/s]\n",
            "20it [00:00, 991.22it/s]\n",
            "0it [00:00, ?it/s]\n",
            "20it [00:00, 660.64it/s]\n",
            "0it [00:00, ?it/s]\n",
            "20it [00:00, 571.98it/s]\n",
            "0it [00:00, ?it/s]\n",
            "20it [00:00, 454.77it/s]\n",
            "0it [00:00, ?it/s]\n",
            "20it [00:00, 365.73it/s]\n",
            "0it [00:00, ?it/s]\n",
            "20it [00:00, 286.71it/s]\n",
            "0it [00:00, ?it/s]\n",
            "2023-12-19 09:33:08,100 - root - INFO - Fitness estimation took  12.76\n",
            "2023-12-19 09:33:09,021 - root - INFO - Deleting bigartm logs: []\n",
            "2023-12-19 09:33:09,076 - root - INFO - Doing fitness calculating with individual {\"id\": \"92a4b53a-3ec8-4e5a-be11-1eaf9cee329a\", \"data_path\": \"autotm_artifacts/1659e6bd-8d17-49de-9ba8-9790c2047501\", \"params\": [97933.92387235696, 26.0, 99.20649589153427, 16.8500183378347, 7.0, 5.542088279663005, -783.8567194844202, 23.0, -362.87285429133635, 890.2991623905489, 28.0, 3.0, 0.5202512404944241, 0.3353393609599058, 0.05647051138561909, 91889.15382370366], \"exp_id\": 0, \"alg_id\": \"ga\", \"iteration_id\": 1, \"tag\": \"v0\", \"fitness_value\": null, \"fitness_name\": \"default\", \"dataset\": \"__noname__\", \"topic_count\": 20, \"train_option\": \"offline\", \"force_dataset_settings_checkout\": false}\n",
            "2023-12-19 09:33:09,079 - root - INFO - Loading dataset entities\n",
            "2023-12-19 09:33:09,081 - root - INFO - Reading dictionary from autotm_artifacts/1659e6bd-8d17-49de-9ba8-9790c2047501/dictionary.txt\n",
            "2023-12-19 09:33:09,998 - root - INFO - Dataset entities initialization took  0.92\n",
            "2023-12-19 09:33:10,000 - root - INFO - Using TM model: <class 'autotm.fitness.tm.TopicModel'> according to fitness name: default, topics count: 20\n",
            "20it [00:00, 698.41it/s]\n",
            "0it [00:00, ?it/s]\n",
            "3it [00:00, 315.42it/s]\n",
            "0it [00:00, ?it/s]\n",
            "20it [00:00, 665.48it/s]\n",
            "0it [00:00, ?it/s]\n",
            "3it [00:00, 367.22it/s]\n",
            "0it [00:00, ?it/s]\n",
            "20it [00:00, 713.66it/s]\n",
            "0it [00:00, ?it/s]\n",
            "3it [00:00, 315.20it/s]\n",
            "0it [00:00, ?it/s]\n",
            "20it [00:00, 688.02it/s]\n",
            "0it [00:00, ?it/s]\n",
            "3it [00:00, 327.77it/s]\n",
            "0it [00:00, ?it/s]\n"
          ]
        },
        {
          "output_type": "stream",
          "name": "stdout",
          "text": [
            "Training is complete\n"
          ]
        },
        {
          "output_type": "stream",
          "name": "stderr",
          "text": [
            "2023-12-19 09:33:19,966 - root - INFO - Building dictionary\n"
          ]
        },
        {
          "output_type": "stream",
          "name": "stdout",
          "text": [
            "Wow! all topics\n"
          ]
        },
        {
          "output_type": "stream",
          "name": "stderr",
          "text": [
            "20it [00:00, 711.27it/s]\n",
            "0it [00:00, ?it/s]\n",
            "3it [00:00, 294.38it/s]\n",
            "0it [00:00, ?it/s]\n"
          ]
        },
        {
          "output_type": "stream",
          "name": "stdout",
          "text": [
            "COMPONENTS:  0.6320287221203894 0.41080908916382547\n"
          ]
        },
        {
          "output_type": "stream",
          "name": "stderr",
          "text": [
            "20it [00:00, 10677.96it/s]\n",
            "0it [00:00, ?it/s]\n",
            "20it [00:00, 5932.54it/s]\n",
            "0it [00:00, ?it/s]\n",
            "20it [00:00, 3104.25it/s]\n",
            "0it [00:00, ?it/s]\n",
            "20it [00:00, 880.27it/s]\n",
            "0it [00:00, ?it/s]\n",
            "20it [00:00, 1209.27it/s]\n",
            "0it [00:00, ?it/s]\n",
            "20it [00:00, 968.83it/s]\n",
            "0it [00:00, ?it/s]\n",
            "20it [00:00, 761.25it/s]\n",
            "0it [00:00, ?it/s]\n",
            "20it [00:00, 633.81it/s]\n",
            "0it [00:00, ?it/s]\n",
            "20it [00:00, 504.33it/s]\n",
            "0it [00:00, ?it/s]\n",
            "20it [00:00, 388.60it/s]\n",
            "0it [00:00, ?it/s]\n",
            "2023-12-19 09:33:21,162 - root - INFO - Fitness estimation took  12.08\n",
            "2023-12-19 09:33:21,874 - root - INFO - Deleting bigartm logs: []\n",
            "2023-12-19 09:33:21,912 - root - INFO - Doing fitness calculating with individual {\"id\": \"d5ad258e-0616-46a2-81c6-63525deae547\", \"data_path\": \"autotm_artifacts/1659e6bd-8d17-49de-9ba8-9790c2047501\", \"params\": [100000.0, 30, 100.0, 0, 7.0, -987.8484284808271, -210.83948173831567, 28.0, -59.30394390848792, 1000.0, 29.0, 5.0, 0.9609792888292359, 0.13056841268079034, 0.9253274209331299, 100000.0], \"exp_id\": 0, \"alg_id\": \"ga\", \"iteration_id\": 1, \"tag\": \"v0\", \"fitness_value\": null, \"fitness_name\": \"default\", \"dataset\": \"__noname__\", \"topic_count\": 20, \"train_option\": \"offline\", \"force_dataset_settings_checkout\": false}\n",
            "2023-12-19 09:33:21,914 - root - INFO - Loading dataset entities\n",
            "2023-12-19 09:33:21,915 - root - INFO - Reading dictionary from autotm_artifacts/1659e6bd-8d17-49de-9ba8-9790c2047501/dictionary.txt\n",
            "2023-12-19 09:33:22,508 - root - INFO - Dataset entities initialization took  0.59\n",
            "2023-12-19 09:33:22,510 - root - INFO - Using TM model: <class 'autotm.fitness.tm.TopicModel'> according to fitness name: default, topics count: 20\n",
            "20it [00:00, 650.63it/s]\n",
            "0it [00:00, ?it/s]\n",
            "5it [00:00, 462.34it/s]\n",
            "0it [00:00, ?it/s]\n",
            "20it [00:00, 780.66it/s]\n",
            "0it [00:00, ?it/s]\n",
            "5it [00:00, 442.11it/s]\n",
            "0it [00:00, ?it/s]\n",
            "20it [00:00, 667.95it/s]\n",
            "0it [00:00, ?it/s]\n",
            "5it [00:00, 498.24it/s]\n",
            "0it [00:00, ?it/s]\n",
            "20it [00:00, 593.07it/s]\n",
            "0it [00:00, ?it/s]\n",
            "5it [00:00, 665.87it/s]\n",
            "0it [00:00, ?it/s]\n"
          ]
        },
        {
          "output_type": "stream",
          "name": "stdout",
          "text": [
            "Training is complete\n"
          ]
        },
        {
          "output_type": "stream",
          "name": "stderr",
          "text": [
            "2023-12-19 09:33:33,452 - root - INFO - Building dictionary\n"
          ]
        },
        {
          "output_type": "stream",
          "name": "stdout",
          "text": [
            "Wow! all topics\n"
          ]
        },
        {
          "output_type": "stream",
          "name": "stderr",
          "text": [
            "20it [00:00, 697.71it/s]\n",
            "0it [00:00, ?it/s]\n",
            "5it [00:00, 662.13it/s]\n",
            "0it [00:00, ?it/s]\n"
          ]
        },
        {
          "output_type": "stream",
          "name": "stdout",
          "text": [
            "COMPONENTS:  0.6018866478027259 0.35036826367767426\n"
          ]
        },
        {
          "output_type": "stream",
          "name": "stderr",
          "text": [
            "20it [00:00, 6409.88it/s]\n",
            "0it [00:00, ?it/s]\n",
            "20it [00:00, 2916.46it/s]\n",
            "0it [00:00, ?it/s]\n",
            "20it [00:00, 2959.78it/s]\n",
            "0it [00:00, ?it/s]\n",
            "20it [00:00, 947.19it/s]\n",
            "0it [00:00, ?it/s]\n",
            "20it [00:00, 956.03it/s]\n",
            "0it [00:00, ?it/s]\n",
            "20it [00:00, 842.91it/s]\n",
            "0it [00:00, ?it/s]\n",
            "20it [00:00, 706.18it/s]\n",
            "0it [00:00, ?it/s]\n",
            "20it [00:00, 500.57it/s]\n",
            "0it [00:00, ?it/s]\n",
            "20it [00:00, 458.98it/s]\n",
            "0it [00:00, ?it/s]\n",
            "20it [00:00, 419.22it/s]\n",
            "0it [00:00, ?it/s]\n",
            "2023-12-19 09:33:34,789 - root - INFO - Fitness estimation took  12.88\n",
            "2023-12-19 09:33:35,559 - root - INFO - Deleting bigartm logs: []\n",
            "2023-12-19 09:33:35,596 - root - INFO - Doing fitness calculating with individual {\"id\": \"09628864-4e18-4fb3-9d60-92720fc0896e\", \"data_path\": \"autotm_artifacts/1659e6bd-8d17-49de-9ba8-9790c2047501\", \"params\": [100000.0, 30, 100.0, 0, 0, 425.91434509541006, -1000.0, 30, -436.5277272172068, 1000.0, 30, 5, 0.5239784388588118, 0.48289280593359163, 0.07280390203909981, 100000.0], \"exp_id\": 0, \"alg_id\": \"ga\", \"iteration_id\": 1, \"tag\": \"v0\", \"fitness_value\": null, \"fitness_name\": \"default\", \"dataset\": \"__noname__\", \"topic_count\": 20, \"train_option\": \"offline\", \"force_dataset_settings_checkout\": false}\n",
            "2023-12-19 09:33:35,597 - root - INFO - Loading dataset entities\n",
            "2023-12-19 09:33:35,600 - root - INFO - Reading dictionary from autotm_artifacts/1659e6bd-8d17-49de-9ba8-9790c2047501/dictionary.txt\n",
            "2023-12-19 09:33:36,318 - root - INFO - Dataset entities initialization took  0.72\n",
            "2023-12-19 09:33:36,320 - root - INFO - Using TM model: <class 'autotm.fitness.tm.TopicModel'> according to fitness name: default, topics count: 20\n",
            "20it [00:00, 683.66it/s]\n",
            "0it [00:00, ?it/s]\n",
            "5it [00:00, 504.39it/s]\n",
            "0it [00:00, ?it/s]\n",
            "20it [00:00, 684.71it/s]\n",
            "0it [00:00, ?it/s]\n",
            "5it [00:00, 383.97it/s]\n",
            "0it [00:00, ?it/s]\n",
            "20it [00:00, 684.87it/s]\n",
            "0it [00:00, ?it/s]\n",
            "5it [00:00, 328.32it/s]\n",
            "0it [00:00, ?it/s]\n",
            "20it [00:00, 569.00it/s]\n",
            "0it [00:00, ?it/s]\n",
            "5it [00:00, 577.03it/s]\n",
            "0it [00:00, ?it/s]\n"
          ]
        },
        {
          "output_type": "stream",
          "name": "stdout",
          "text": [
            "Training is complete\n"
          ]
        },
        {
          "output_type": "stream",
          "name": "stderr",
          "text": [
            "2023-12-19 09:33:46,538 - root - INFO - Building dictionary\n"
          ]
        },
        {
          "output_type": "stream",
          "name": "stdout",
          "text": [
            "Wow! all topics\n"
          ]
        },
        {
          "output_type": "stream",
          "name": "stderr",
          "text": [
            "20it [00:00, 636.84it/s]\n",
            "0it [00:00, ?it/s]\n",
            "5it [00:00, 765.58it/s]\n",
            "0it [00:00, ?it/s]\n"
          ]
        },
        {
          "output_type": "stream",
          "name": "stdout",
          "text": [
            "COMPONENTS:  0.6156772590472854 0.37904647704074745\n"
          ]
        },
        {
          "output_type": "stream",
          "name": "stderr",
          "text": [
            "20it [00:00, 6363.68it/s]\n",
            "0it [00:00, ?it/s]\n",
            "20it [00:00, 4653.87it/s]\n",
            "0it [00:00, ?it/s]\n",
            "20it [00:00, 3027.83it/s]\n",
            "0it [00:00, ?it/s]\n",
            "20it [00:00, 1263.57it/s]\n",
            "0it [00:00, ?it/s]\n",
            "20it [00:00, 1056.49it/s]\n",
            "0it [00:00, ?it/s]\n",
            "20it [00:00, 697.84it/s]\n",
            "0it [00:00, ?it/s]\n",
            "20it [00:00, 786.81it/s]\n",
            "0it [00:00, ?it/s]\n",
            "20it [00:00, 574.92it/s]\n",
            "0it [00:00, ?it/s]\n",
            "20it [00:00, 469.05it/s]\n",
            "0it [00:00, ?it/s]\n",
            "20it [00:00, 477.90it/s]\n",
            "0it [00:00, ?it/s]\n",
            "2023-12-19 09:33:47,775 - root - INFO - Fitness estimation took  12.18\n",
            "2023-12-19 09:33:48,498 - root - INFO - Deleting bigartm logs: []\n",
            "2023-12-19 09:33:48,534 - root - INFO - The fitness results have been obtained\n",
            "2023-12-19 09:33:48,535 - GA_algo - INFO - ize of the new generation is 6\n",
            "2023-12-19 09:33:48,538 - GA_algo - INFO - TIME OF THE FITNESS FUNCTION IN CROSSOVER: 76.63646578788757\n",
            "2023-12-19 09:33:48,540 - GA_algo - INFO - CROSSOVER IS OVER\n",
            "2023-12-19 09:33:49,202 - root - INFO - Calculating fitness...\n",
            "2023-12-19 09:33:49,204 - root - INFO - Doing fitness calculating with individual {\"id\": \"02079e1f-fd45-4381-8af5-b63f915888d5\", \"data_path\": \"autotm_artifacts/1659e6bd-8d17-49de-9ba8-9790c2047501\", \"params\": [97940.71436621057, 26.0, 99.20910387131745, 16.794638023225, 0, -224.67175374834932, -631.1990938763856, 30, -299.75892154776363, 890.6597119625408, 28.0, 3.0, 0.5202512404944241, 0.3353393609599058, 0.05647051138561909, 91915.81143344557], \"exp_id\": null, \"alg_id\": \"ga\", \"iteration_id\": 1, \"tag\": \"v0\", \"fitness_value\": {\"avg_coherence_score\": 1.0849871905740711, \"perplexityScore\": 1266.679931640625, \"backgroundTokensRatioScore\": 0.7362962961196899, \"contrast\": 0.9077223539352417, \"purity\": 0.9363976716995239, \"kernelSize\": 128.0, \"npmi_50_list\": null, \"npmi_50\": null, \"sparsity_phi\": 0.7010926008224487, \"sparsity_theta\": 0.0, \"topic_significance_uni\": null, \"topic_significance_vacuous\": null, \"topic_significance_back\": null, \"switchP_list\": [NaN], \"switchP\": NaN, \"all_topics\": true, \"coherence_10_list\": [0.1680474755820239, 0.6692599244732553, 0.38487492501700565, 0.3074133460514089, 0.08141511007935925, 0.35483742826413867, 0.3117301109715401, 0.31038233939701426, 0.5886248450535021, 0.22061875372674264, 0.39276347219820185, 0.2382132495356094, 0.2313949528755773, 0.7781967553390249, 0.8546693703375623, 0.696176160378254, 0.34580299388045305, 0.4989909105575018, 0.17281539694595013, 0.18502639506370772], \"coherence_10\": 0.3895626957863917, \"coherence_15_list\": [0.29620972451695077, 0.8222665900099193, 0.42475775378243796, 0.39028151010019874, 0.14268860161391564, 0.2830810432069662, 0.53860843079682, 0.33360137755888497, 0.35855825662284035, 0.2597392094606549, 0.41117228727856436, 0.3342221956065941, 0.2680343209571203, 0.7880429890004832, 0.6244839354834198, 0.5692058649502886, 0.6419278662238231, 0.4230854148824897, 0.30419993487055647, 0.24689805531948703], \"coherence_15\": 0.42305326811212074, \"coherence_20_list\": [0.443358748484985, 0.8209753007448833, 0.49657856807924766, 0.4176023902681301, 0.22128332696205782, 0.3719058290111205, 0.5793711499829559, 0.3851349916379495, 0.43135229582157913, 0.30347915754668486, 0.5412817878904977, 0.3676769863419061, 0.2966044309922716, 0.8384411327148689, 0.5174455367131211, 0.6131395307642421, 0.6745692809109292, 0.40291013621277794, 0.33266384344389144, 0.372233766613446], \"coherence_20\": 0.47140040955687734, \"coherence_25_list\": [0.5374308161937426, 0.8536551951016028, 0.5268560772991459, 0.42227677147736986, 0.3816160413263102, 0.44745433798803164, 0.5644042360950434, 0.506566145240002, 0.4881727141222344, 0.3868056662609676, 0.6145837698353273, 0.4158219640049793, 0.44735533201006605, 0.8800924100758888, 0.6458247692117365, 0.6068641838368434, 0.6562011354489075, 0.5856607939164727, 0.47284949080178745, 0.4528569092523018], \"coherence_25\": 0.5446674379749381, \"coherence_30_list\": [0.6499838820120295, 0.9490143917829725, 0.5060409148765037, 0.45347007996865574, 0.5249929899823519, 0.5547749035570941, 0.5553888734290762, 0.5367914151312753, 0.6888549378872038, 0.3896119158586483, 0.6867109205323657, 0.4841394081826123, 0.408738659604182, 1.0056714933517628, 0.5560545956985926, 0.6742988212279272, 0.8169791725427857, 0.6345685552196448, 0.5871150466506451, 0.510512811682551], \"coherence_30\": 0.608685689458944, \"coherence_35_list\": [0.7894955888419727, 1.0432369562258001, 0.504922365636664, 0.4597235390962599, 0.5829769293561405, 0.6132864685584374, 0.5445861741011573, 0.5763909657324643, 0.7122722841013246, 0.41376924249940916, 0.781647538491259, 0.550231102294055, 0.41183016809988654, 1.1345696174520852, 0.5320658090970665, 0.6469813195925005, 0.9232697850559785, 0.6927745830320091, 0.5425470994813462, 0.5834592454991254], \"coherence_35\": 0.6520018391122472, \"coherence_40_list\": [0.7605371147108255, 0.9742946216250308, 0.4956841561699894, 0.47792574283464234, 0.5457061812449419, 0.7453975787234435, 0.5388713263992422, 0.5233113989227137, 0.6879203455068211, 0.44212354493200906, 0.7720195287175853, 0.7051674940956449, 0.4342119352366252, 1.0556407414244606, 0.5355904202228101, 0.7043911241566522, 0.9451655520159014, 0.712715977864469, 0.5294200515284178, 0.604225758164381], \"coherence_40\": 0.6595160297248303, \"coherence_45_list\": [0.7756363714779339, 0.9277369990153983, 0.5167097627236343, 0.47449569371356326, 0.566036791067211, 0.7115645832425747, 0.5671979683017002, 0.543664521133458, 0.7245799757897168, 0.47006776593580574, 0.7899830790128262, 0.7614159488188627, 0.41743109171833326, 1.0506171985712638, 0.5585644690771726, 0.7050083233824767, 0.9908102801765858, 0.7584932335750424, 0.49762331125525705, 0.5684380479512541], \"coherence_45\": 0.6688037707970034, \"coherence_50_list\": [0.802002603036492, 0.8919728689204879, 0.5062322811222836, 0.49858217290871454, 0.6045806379021907, 0.6968689994774065, 0.5843811735361678, 0.5620953136374793, 0.7621504909743287, 0.4768537354308074, 0.8214898071263061, 0.7134756099555218, 0.4168148985023213, 1.0133258322572347, 0.540422744204169, 0.6846396481341452, 1.0170597623689355, 0.7352930350346507, 0.48744281012642465, 0.5477614167789294], \"coherence_50\": 0.6681722920717499, \"coherence_55_list\": [0.8360587088556475, 0.8901683567782601, 0.5104955252749404, 0.5173370240112288, 0.6028039082656746, 0.7134007905691054, 0.5971433308402752, 0.5553087485966325, 0.7807575799163781, 0.4717169822691892, 0.8038361560157773, 0.6746972850519007, 0.3899042734933228, 0.9498877089971764, 0.532084174716023, 0.6933777645677494, 0.9573375936289539, 0.7559931025865738, 0.5101963865108213, 0.5074292455904243], \"coherence_55\": 0.6624967323268028, \"npmi_15\": null, \"npmi_25\": null}, \"fitness_name\": \"default\", \"dataset\": \"__noname__\", \"topic_count\": 20, \"train_option\": \"offline\", \"force_dataset_settings_checkout\": false}\n",
            "2023-12-19 09:33:49,206 - root - INFO - Loading dataset entities\n",
            "2023-12-19 09:33:49,208 - root - INFO - Reading dictionary from autotm_artifacts/1659e6bd-8d17-49de-9ba8-9790c2047501/dictionary.txt\n",
            "2023-12-19 09:33:50,122 - root - INFO - Dataset entities initialization took  0.91\n",
            "2023-12-19 09:33:50,124 - root - INFO - Using TM model: <class 'autotm.fitness.tm.TopicModel'> according to fitness name: default, topics count: 20\n",
            "20it [00:00, 646.20it/s]\n",
            "0it [00:00, ?it/s]\n",
            "3it [00:00, 431.32it/s]\n",
            "0it [00:00, ?it/s]\n",
            "20it [00:00, 634.19it/s]\n",
            "0it [00:00, ?it/s]\n",
            "3it [00:00, 383.65it/s]\n",
            "0it [00:00, ?it/s]\n",
            "20it [00:00, 726.86it/s]\n",
            "0it [00:00, ?it/s]\n",
            "3it [00:00, 549.38it/s]\n",
            "0it [00:00, ?it/s]\n",
            "20it [00:00, 687.43it/s]\n",
            "0it [00:00, ?it/s]\n",
            "3it [00:00, 911.81it/s]\n",
            "0it [00:00, ?it/s]\n"
          ]
        },
        {
          "output_type": "stream",
          "name": "stdout",
          "text": [
            "Training is complete\n"
          ]
        },
        {
          "output_type": "stream",
          "name": "stderr",
          "text": [
            "2023-12-19 09:33:58,657 - root - INFO - Building dictionary\n"
          ]
        },
        {
          "output_type": "stream",
          "name": "stdout",
          "text": [
            "Wow! all topics\n"
          ]
        },
        {
          "output_type": "stream",
          "name": "stderr",
          "text": [
            "20it [00:00, 694.77it/s]\n",
            "0it [00:00, ?it/s]\n",
            "3it [00:00, 517.30it/s]\n",
            "0it [00:00, ?it/s]\n"
          ]
        },
        {
          "output_type": "stream",
          "name": "stdout",
          "text": [
            "COMPONENTS:  0.6681722920717499 0.4168148985023213\n"
          ]
        },
        {
          "output_type": "stream",
          "name": "stderr",
          "text": [
            "20it [00:00, 6796.25it/s]\n",
            "0it [00:00, ?it/s]\n",
            "20it [00:00, 4982.25it/s]\n",
            "0it [00:00, ?it/s]\n",
            "20it [00:00, 3145.10it/s]\n",
            "0it [00:00, ?it/s]\n",
            "20it [00:00, 819.24it/s]\n",
            "0it [00:00, ?it/s]\n",
            "20it [00:00, 766.83it/s]\n",
            "0it [00:00, ?it/s]\n",
            "20it [00:00, 1002.21it/s]\n",
            "0it [00:00, ?it/s]\n",
            "20it [00:00, 634.82it/s]\n",
            "0it [00:00, ?it/s]\n",
            "20it [00:00, 573.55it/s]\n",
            "0it [00:00, ?it/s]\n",
            "20it [00:00, 538.01it/s]\n",
            "0it [00:00, ?it/s]\n",
            "20it [00:00, 414.40it/s]\n",
            "0it [00:00, ?it/s]\n",
            "2023-12-19 09:33:59,770 - root - INFO - Fitness estimation took  10.56\n",
            "2023-12-19 09:34:00,408 - root - INFO - Deleting bigartm logs: []\n",
            "2023-12-19 09:34:00,444 - root - INFO - Doing fitness calculating with individual {\"id\": \"20d3d21a-c1af-475f-8df0-619de40ddc6c\", \"data_path\": \"autotm_artifacts/1659e6bd-8d17-49de-9ba8-9790c2047501\", \"params\": [24.4879022078346, 26.0, 5.542088279663005, 16.8500183378347, 23.0, 99.20649589153427, -783.8567194844202, 7.0, -362.87285429133635, 890.2991623905489, 28.0, 3.0, 0.5202512404944241, 0.3353393609599058, 0.05647051138561909, 91889.15382370366], \"exp_id\": 0, \"alg_id\": \"ga\", \"iteration_id\": 1, \"tag\": \"v0\", \"fitness_value\": null, \"fitness_name\": \"default\", \"dataset\": \"__noname__\", \"topic_count\": 20, \"train_option\": \"offline\", \"force_dataset_settings_checkout\": false}\n",
            "2023-12-19 09:34:00,446 - root - INFO - Loading dataset entities\n",
            "2023-12-19 09:34:00,450 - root - INFO - Reading dictionary from autotm_artifacts/1659e6bd-8d17-49de-9ba8-9790c2047501/dictionary.txt\n",
            "2023-12-19 09:34:01,062 - root - INFO - Dataset entities initialization took  0.61\n",
            "2023-12-19 09:34:01,063 - root - INFO - Using TM model: <class 'autotm.fitness.tm.TopicModel'> according to fitness name: default, topics count: 20\n",
            "20it [00:00, 676.24it/s]\n",
            "0it [00:00, ?it/s]\n",
            "3it [00:00, 292.51it/s]\n",
            "0it [00:00, ?it/s]\n",
            "20it [00:00, 689.66it/s]\n",
            "0it [00:00, ?it/s]\n",
            "3it [00:00, 425.33it/s]\n",
            "0it [00:00, ?it/s]\n",
            "20it [00:00, 686.44it/s]\n",
            "0it [00:00, ?it/s]\n",
            "3it [00:00, 389.09it/s]\n",
            "0it [00:00, ?it/s]\n",
            "20it [00:00, 638.26it/s]\n",
            "0it [00:00, ?it/s]\n",
            "3it [00:00, 426.99it/s]\n",
            "0it [00:00, ?it/s]\n"
          ]
        },
        {
          "output_type": "stream",
          "name": "stdout",
          "text": [
            "Training is complete\n"
          ]
        },
        {
          "output_type": "stream",
          "name": "stderr",
          "text": [
            "2023-12-19 09:34:13,197 - root - INFO - Building dictionary\n"
          ]
        },
        {
          "output_type": "stream",
          "name": "stdout",
          "text": [
            "Wow! all topics\n"
          ]
        },
        {
          "output_type": "stream",
          "name": "stderr",
          "text": [
            "20it [00:00, 698.58it/s]\n",
            "0it [00:00, ?it/s]\n",
            "3it [00:00, 397.26it/s]\n",
            "0it [00:00, ?it/s]\n"
          ]
        },
        {
          "output_type": "stream",
          "name": "stdout",
          "text": [
            "COMPONENTS:  0.48596147655679867 0.23426156062161937\n"
          ]
        },
        {
          "output_type": "stream",
          "name": "stderr",
          "text": [
            "20it [00:00, 6594.30it/s]\n",
            "0it [00:00, ?it/s]\n",
            "20it [00:00, 5592.78it/s]\n",
            "0it [00:00, ?it/s]\n",
            "20it [00:00, 3794.21it/s]\n",
            "0it [00:00, ?it/s]\n",
            "20it [00:00, 1381.32it/s]\n",
            "0it [00:00, ?it/s]\n",
            "20it [00:00, 1021.23it/s]\n",
            "0it [00:00, ?it/s]\n",
            "20it [00:00, 722.13it/s]\n",
            "0it [00:00, ?it/s]\n",
            "20it [00:00, 772.79it/s]\n",
            "0it [00:00, ?it/s]\n",
            "20it [00:00, 634.56it/s]\n",
            "0it [00:00, ?it/s]\n",
            "20it [00:00, 492.54it/s]\n",
            "0it [00:00, ?it/s]\n",
            "20it [00:00, 386.98it/s]\n",
            "0it [00:00, ?it/s]\n",
            "2023-12-19 09:34:14,549 - root - INFO - Fitness estimation took  14.10\n",
            "2023-12-19 09:34:15,316 - root - INFO - Deleting bigartm logs: []\n",
            "2023-12-19 09:34:15,367 - root - INFO - Doing fitness calculating with individual {\"id\": \"99489b2d-200d-460e-8c8f-6dcd05644a11\", \"data_path\": \"autotm_artifacts/1659e6bd-8d17-49de-9ba8-9790c2047501\", \"params\": [98633.2220808761, 28.0, 99.47507070060276, 11.146846281631372, 7.0, -129.20783827543164, -755.2214579795462, 25.0, -286.24307106519063, 927.4292556078076, 29.0, 4.0, 0.5202512404944241, 0.3353393609599058, 0.05647051138561909, 94634.40610399056], \"exp_id\": null, \"alg_id\": \"ga\", \"iteration_id\": 1, \"tag\": \"v0\", \"fitness_value\": {\"avg_coherence_score\": 1.016357123014295, \"perplexityScore\": 1329.470947265625, \"backgroundTokensRatioScore\": 0.6059259176254272, \"contrast\": 0.9688870310783386, \"purity\": 0.984105110168457, \"kernelSize\": 131.4499969482422, \"npmi_50_list\": null, \"npmi_50\": null, \"sparsity_phi\": 0.8345000147819519, \"sparsity_theta\": 0.0, \"topic_significance_uni\": null, \"topic_significance_vacuous\": null, \"topic_significance_back\": null, \"switchP_list\": [NaN], \"switchP\": NaN, \"all_topics\": true, \"coherence_10_list\": [0.2311696587921079, 0.6098294177121731, 0.71998482686751, 0.36904810836062146, 0.06523923535220935, 0.32530730154281684, 0.6451052469170714, 0.21107969589741457, 0.5724680203647429, 0.37026184397180084, 0.5380095842009973, 0.2495119113834, 0.35950356138260353, 1.0393720140703138, 1.0182675711128277, 0.5462886134659494, 0.3940834520827018, 0.5236474445125601, 0.6715842086261083, 0.2592866902031657], \"coherence_10\": 0.48595242034095476, \"coherence_15_list\": [0.25159786165530634, 0.9852360357352374, 0.5742800859659268, 0.41603109193148274, 0.08965305580027917, 0.39114141503818833, 0.8130284736473947, 0.267940789166698, 0.4774327617394991, 0.38415239124161843, 0.41852069424537747, 0.24789728951706946, 0.48180430799380997, 0.9619333337963576, 0.8844131927000612, 0.6743052955914037, 0.5794906187031225, 0.47936887541415696, 0.49112411267287565, 0.17836113654117236], \"coherence_15\": 0.5023856409548519, \"coherence_20_list\": [0.24845244179916753, 0.7791473129790313, 0.5801163326191981, 0.46040723229619684, 0.1259934718107608, 0.38036476607409997, 0.6670794083369801, 0.4161078436728443, 0.49735433552702907, 0.43422402087488193, 0.38808752970270327, 0.2193731511927473, 0.4135153034665299, 0.7851861656349913, 0.7270214061590761, 0.6297803212770319, 0.7045548346614557, 0.39758104035546743, 0.733260456134122, 0.23597289609068642], \"coherence_20\": 0.49117901353325005, \"coherence_25_list\": [0.30546052473714613, 0.7781350209397008, 0.535411271643723, 0.4323855923749414, 0.13551945796311285, 0.3534045377373893, 0.6611738703024426, 0.45609451845882665, 0.5514823651588493, 0.5722392360190743, 0.38982352637599554, 0.30478273632069136, 0.4684238646465924, 0.8639294610871072, 0.7679139954429363, 0.591237512274342, 0.6330271679678745, 0.5374719490316533, 0.7063523479348135, 0.26007120587552957], \"coherence_25\": 0.5152170081146371, \"coherence_30_list\": [0.3142667511922698, 0.7708312059431207, 0.5230615450086232, 0.468749916670107, 0.20058312975682172, 0.4327299052818318, 0.6284829123171133, 0.49966817861133894, 0.6237444147232193, 0.5913474492321895, 0.4191517623751776, 0.3277708902045011, 0.5014052973697665, 0.8243752745293886, 0.7095774908189099, 0.5813907065125021, 0.6013502967762917, 0.5365632193263679, 0.6490962194339062, 0.3410518990589956], \"coherence_30\": 0.5272599232571221, \"coherence_35_list\": [0.3742302141030758, 0.7401923608893275, 0.5761298364934702, 0.4613422141240806, 0.34297104590854116, 0.4814936985884668, 0.6372405036327082, 0.5113376344211853, 0.7129871367593735, 0.5418211100576247, 0.43112674033788273, 0.42150501795253215, 0.5116798910884027, 0.7971996872148358, 0.6740360783094228, 0.640146273174178, 0.6552522067515828, 0.5710907326933683, 0.5855520351423578, 0.39454928681669194], \"coherence_35\": 0.5530941852229555, \"coherence_40_list\": [0.4761682859933848, 0.8434874151875097, 0.5640093808342025, 0.4892505550099509, 0.3653369097577945, 0.501605795124603, 0.6191385296267694, 0.4830888753264521, 0.6885084409774295, 0.529344346276464, 0.5213386992257502, 0.4917801340732445, 0.4680969051634964, 0.8144273848767359, 0.627302783274079, 0.6730804676970884, 0.75665767802283, 0.6196222306622498, 0.596543550933742, 0.44835267489611574], \"coherence_40\": 0.5788570521469947, \"coherence_45_list\": [0.5383200106869784, 0.8049273340496076, 0.5684206089259173, 0.4670444053711382, 0.4228316387534919, 0.5551450313733484, 0.6877059512595208, 0.49499627474348545, 0.6843109742353428, 0.5382112472737125, 0.5762033810119074, 0.5064098581893296, 0.4478123332647978, 0.8582328384769039, 0.594229600650129, 0.6962592135913641, 0.8015163815774742, 0.6447061593128723, 0.5562126634963112, 0.44704263807602024], \"coherence_45\": 0.5945269272159825, \"coherence_50_list\": [0.5837230557341032, 0.8152703428017136, 0.5389922467479101, 0.4906522936252003, 0.46511690224972213, 0.5404193168255066, 0.6485780614147247, 0.519862846356916, 0.7305698269207558, 0.5293477577488928, 0.6188290398714525, 0.5259279494347748, 0.4156078912525273, 0.8628374062044561, 0.5418453703554836, 0.6671286828156545, 0.8458820364344444, 0.7007744405463521, 0.49123800252326577, 0.4823811653714966], \"coherence_50\": 0.6007492317617676, \"coherence_55_list\": [0.5943999603368183, 0.8210269138962386, 0.4903804043931441, 0.476256451326245, 0.4908257153329251, 0.5425351859153771, 0.5979143623790533, 0.5401894740282207, 0.7696602767291705, 0.49559821648666275, 0.6398919005181438, 0.5511180783801521, 0.37196491888198857, 0.8375154376855823, 0.5521380968636849, 0.6531048248859113, 0.8199841400785594, 0.7002808958886528, 0.5070251474689831, 0.4375272902117856], \"coherence_55\": 0.5944668845843651, \"npmi_15\": null, \"npmi_25\": null}, \"fitness_name\": \"default\", \"dataset\": \"__noname__\", \"topic_count\": 20, \"train_option\": \"offline\", \"force_dataset_settings_checkout\": false}\n",
            "2023-12-19 09:34:15,370 - root - INFO - Loading dataset entities\n",
            "2023-12-19 09:34:15,371 - root - INFO - Reading dictionary from autotm_artifacts/1659e6bd-8d17-49de-9ba8-9790c2047501/dictionary.txt\n",
            "2023-12-19 09:34:16,306 - root - INFO - Dataset entities initialization took  0.94\n",
            "2023-12-19 09:34:16,313 - root - INFO - Using TM model: <class 'autotm.fitness.tm.TopicModel'> according to fitness name: default, topics count: 20\n",
            "20it [00:00, 711.70it/s]\n",
            "0it [00:00, ?it/s]\n",
            "4it [00:00, 393.54it/s]\n",
            "0it [00:00, ?it/s]\n",
            "20it [00:00, 682.01it/s]\n",
            "0it [00:00, ?it/s]\n",
            "4it [00:00, 519.95it/s]\n",
            "0it [00:00, ?it/s]\n",
            "20it [00:00, 636.58it/s]\n",
            "0it [00:00, ?it/s]\n",
            "4it [00:00, 404.19it/s]\n",
            "0it [00:00, ?it/s]\n",
            "20it [00:00, 330.05it/s]\n",
            "0it [00:00, ?it/s]\n",
            "4it [00:00, 671.09it/s]\n",
            "0it [00:00, ?it/s]\n"
          ]
        },
        {
          "output_type": "stream",
          "name": "stdout",
          "text": [
            "Training is complete\n"
          ]
        },
        {
          "output_type": "stream",
          "name": "stderr",
          "text": [
            "2023-12-19 09:34:26,246 - root - INFO - Building dictionary\n"
          ]
        },
        {
          "output_type": "stream",
          "name": "stdout",
          "text": [
            "Wow! all topics\n"
          ]
        },
        {
          "output_type": "stream",
          "name": "stderr",
          "text": [
            "20it [00:00, 715.15it/s]\n",
            "0it [00:00, ?it/s]\n",
            "4it [00:00, 792.72it/s]\n",
            "0it [00:00, ?it/s]\n"
          ]
        },
        {
          "output_type": "stream",
          "name": "stdout",
          "text": [
            "COMPONENTS:  0.6007492317617676 0.4156078912525274\n"
          ]
        },
        {
          "output_type": "stream",
          "name": "stderr",
          "text": [
            "20it [00:00, 6875.34it/s]\n",
            "0it [00:00, ?it/s]\n",
            "20it [00:00, 5651.94it/s]\n",
            "0it [00:00, ?it/s]\n",
            "20it [00:00, 3546.68it/s]\n",
            "0it [00:00, ?it/s]\n",
            "20it [00:00, 1335.87it/s]\n",
            "0it [00:00, ?it/s]\n",
            "20it [00:00, 1445.81it/s]\n",
            "0it [00:00, ?it/s]\n",
            "20it [00:00, 944.12it/s]\n",
            "0it [00:00, ?it/s]\n",
            "20it [00:00, 682.89it/s]\n",
            "0it [00:00, ?it/s]\n",
            "20it [00:00, 575.84it/s]\n",
            "0it [00:00, ?it/s]\n",
            "20it [00:00, 488.76it/s]\n",
            "0it [00:00, ?it/s]\n",
            "20it [00:00, 438.29it/s]\n",
            "0it [00:00, ?it/s]\n",
            "2023-12-19 09:34:27,516 - root - INFO - Fitness estimation took  12.15\n",
            "2023-12-19 09:34:28,274 - root - INFO - Deleting bigartm logs: []\n",
            "2023-12-19 09:34:28,310 - root - INFO - Doing fitness calculating with individual {\"id\": \"95ac9281-b1b0-48b3-9885-63042aa58979\", \"data_path\": \"autotm_artifacts/1659e6bd-8d17-49de-9ba8-9790c2047501\", \"params\": [100000.0, 30.0, 100.0, 0.0, 1.0, -601.2885713107983, -1000.0, 30.0, -484.81317691796664, 1000.0, 30.0, 5.0, 0.9609792888292359, 0.13056841268079034, 0.9253274209331299, 100000.0], \"exp_id\": 0, \"alg_id\": \"ga\", \"iteration_id\": 1, \"tag\": \"v0\", \"fitness_value\": null, \"fitness_name\": \"default\", \"dataset\": \"__noname__\", \"topic_count\": 20, \"train_option\": \"offline\", \"force_dataset_settings_checkout\": false}\n",
            "2023-12-19 09:34:28,311 - root - INFO - Loading dataset entities\n",
            "2023-12-19 09:34:28,313 - root - INFO - Reading dictionary from autotm_artifacts/1659e6bd-8d17-49de-9ba8-9790c2047501/dictionary.txt\n",
            "2023-12-19 09:34:29,211 - root - INFO - Dataset entities initialization took  0.90\n",
            "2023-12-19 09:34:29,213 - root - INFO - Using TM model: <class 'autotm.fitness.tm.TopicModel'> according to fitness name: default, topics count: 20\n",
            "20it [00:00, 683.42it/s]\n",
            "0it [00:00, ?it/s]\n",
            "5it [00:00, 426.95it/s]\n",
            "0it [00:00, ?it/s]\n",
            "20it [00:00, 724.56it/s]\n",
            "0it [00:00, ?it/s]\n",
            "5it [00:00, 437.49it/s]\n",
            "0it [00:00, ?it/s]\n",
            "20it [00:00, 624.05it/s]\n",
            "0it [00:00, ?it/s]\n",
            "5it [00:00, 373.68it/s]\n",
            "0it [00:00, ?it/s]\n",
            "20it [00:00, 806.36it/s]\n",
            "0it [00:00, ?it/s]\n",
            "5it [00:00, 571.51it/s]\n",
            "0it [00:00, ?it/s]\n"
          ]
        },
        {
          "output_type": "stream",
          "name": "stdout",
          "text": [
            "Training is complete\n"
          ]
        },
        {
          "output_type": "stream",
          "name": "stderr",
          "text": [
            "2023-12-19 09:34:39,094 - root - INFO - Building dictionary\n"
          ]
        },
        {
          "output_type": "stream",
          "name": "stdout",
          "text": [
            "Wow! all topics\n"
          ]
        },
        {
          "output_type": "stream",
          "name": "stderr",
          "text": [
            "20it [00:00, 738.12it/s]\n",
            "0it [00:00, ?it/s]\n",
            "5it [00:00, 618.98it/s]\n",
            "0it [00:00, ?it/s]\n"
          ]
        },
        {
          "output_type": "stream",
          "name": "stdout",
          "text": [
            "COMPONENTS:  0.6073797728323738 0.3865131984148669\n"
          ]
        },
        {
          "output_type": "stream",
          "name": "stderr",
          "text": [
            "20it [00:00, 14729.78it/s]\n",
            "0it [00:00, ?it/s]\n",
            "20it [00:00, 5407.12it/s]\n",
            "0it [00:00, ?it/s]\n",
            "20it [00:00, 3893.35it/s]\n",
            "0it [00:00, ?it/s]\n",
            "20it [00:00, 1440.67it/s]\n",
            "0it [00:00, ?it/s]\n",
            "20it [00:00, 1333.58it/s]\n",
            "0it [00:00, ?it/s]\n",
            "20it [00:00, 1101.86it/s]\n",
            "0it [00:00, ?it/s]\n",
            "20it [00:00, 790.86it/s]\n",
            "0it [00:00, ?it/s]\n",
            "20it [00:00, 628.12it/s]\n",
            "0it [00:00, ?it/s]\n",
            "20it [00:00, 470.78it/s]\n",
            "0it [00:00, ?it/s]\n",
            "20it [00:00, 444.41it/s]\n",
            "0it [00:00, ?it/s]\n",
            "2023-12-19 09:34:40,376 - root - INFO - Fitness estimation took  12.07\n",
            "2023-12-19 09:34:41,142 - root - INFO - Deleting bigartm logs: []\n",
            "2023-12-19 09:34:41,183 - root - INFO - Doing fitness calculating with individual {\"id\": \"09628864-4e18-4fb3-9d60-92720fc0896e\", \"data_path\": \"autotm_artifacts/1659e6bd-8d17-49de-9ba8-9790c2047501\", \"params\": [100000.0, 30, 100.0, 0, 0, 425.91434509541006, -1000.0, 30, -436.5277272172068, 1000.0, 30, 5, 0.5239784388588118, 0.48289280593359163, 0.07280390203909981, 100000.0], \"exp_id\": null, \"alg_id\": \"ga\", \"iteration_id\": 1, \"tag\": \"v0\", \"fitness_value\": {\"avg_coherence_score\": 0.9947237360880329, \"perplexityScore\": 1253.848388671875, \"backgroundTokensRatioScore\": 0.7040740847587585, \"contrast\": 0.9504206776618958, \"purity\": 0.9694461822509766, \"kernelSize\": 129.3000030517578, \"npmi_50_list\": null, \"npmi_50\": null, \"sparsity_phi\": 0.7730185389518738, \"sparsity_theta\": 0.0, \"topic_significance_uni\": null, \"topic_significance_vacuous\": null, \"topic_significance_back\": null, \"switchP_list\": [NaN], \"switchP\": NaN, \"all_topics\": true, \"coherence_10_list\": [0.29681829020658695, 0.4498444129253177, 0.3346050316056632, 0.23301996669316133, 0.1202863280787282, 0.47572379729870706, 0.44073204774368013, 0.2919132416147001, 0.2701798077793842, 0.40539405192238304, 0.34095065265827396, 0.26003037308868665, 0.6703847005549133, 0.8442292713255156, 0.8668685217241039, 0.6946046012886931, 0.27989384079261515, 0.576794056331124, 0.24554831037469546, 0.2193330222275805], \"coherence_10\": 0.41585771631172574, \"coherence_15_list\": [0.2850397597168885, 0.6008252094655271, 0.42316958057717613, 0.2640883957247321, 0.1468054710017487, 0.4073746932561116, 0.5357174103323774, 0.4249338541801078, 0.42666010308063723, 0.4232418525193054, 0.34909584247486064, 0.2426817338529457, 0.6143218211654339, 0.5397889773251162, 0.6792969679390822, 0.5520318324079017, 0.539607204318497, 0.5078834407828824, 0.31464404042713967, 0.2439883650271987], \"coherence_15\": 0.42605982777878354, \"coherence_20_list\": [0.3090422496342055, 0.6187946203887063, 0.4559607429609056, 0.3283930704843747, 0.146939689125992, 0.363632306321636, 0.5898855862280354, 0.3787456799673827, 0.3722170207696229, 0.43474684532881386, 0.34969597404996444, 0.37108971186973927, 0.5187679299121956, 0.6780610592333768, 0.6729227601904944, 0.5418239777891467, 0.6847487500590744, 0.4828641216693048, 0.3253179853089469, 0.2861395885039659], \"coherence_20\": 0.4454894834897942, \"coherence_25_list\": [0.411254166782223, 0.7085147858050599, 0.44390495691367526, 0.3876137761396084, 0.19298788697410513, 0.5456220046714956, 0.5418157151251224, 0.4928454383588431, 0.4241740247007065, 0.4002189379732312, 0.4025955467359408, 0.343087841276377, 0.4805145037137746, 0.6853834843111968, 0.6760757808630096, 0.5419335408828901, 0.6982099311093474, 0.5704431162923275, 0.352086005192226, 0.3370950633197494], \"coherence_25\": 0.48181882535704545, \"coherence_30_list\": [0.4961082770690904, 0.7454016421678923, 0.4216430243262338, 0.3731878290561722, 0.3112280080799411, 0.6095409395898446, 0.6069678724615992, 0.5025203024265398, 0.4416103387211623, 0.41389303671825606, 0.4306154210272902, 0.4240136109922341, 0.4136590837471039, 0.7838909753965861, 0.678364943466398, 0.5476717015026182, 0.8400702486759886, 0.5480451598088449, 0.4503854796307212, 0.4653109165271414], \"coherence_30\": 0.525206440569583, \"coherence_35_list\": [0.7404054266370709, 0.718422578426174, 0.4105539304145346, 0.43733992230959085, 0.39905119098800523, 0.648071616194699, 0.5528203223663217, 0.49554179488631545, 0.5683363058048639, 0.42588869211172076, 0.5007796922030077, 0.48035370057805893, 0.4176914338067248, 0.7558626823613567, 0.707235647809758, 0.6297342266706217, 0.8886452068184048, 0.6283061397103588, 0.44342371415531723, 0.4848422301554282], \"coherence_35\": 0.5666653227204167, \"coherence_40_list\": [0.7096758873519807, 0.7654447217476955, 0.4462511238029638, 0.41075744140398, 0.44880312234245634, 0.6770620124487386, 0.6064190675869893, 0.48348524731354797, 0.620713003326414, 0.4518997904021792, 0.5144099879821619, 0.5088270625367035, 0.3865356143771545, 0.8176074573681122, 0.6714328095708268, 0.6461345295307084, 0.9207583664624344, 0.6846339626285372, 0.44579627780906306, 0.5081970595128069], \"coherence_40\": 0.5862422272752726, \"coherence_45_list\": [0.71798589366363, 0.8269993504201305, 0.44005568433799896, 0.44589882663781777, 0.5219477713341777, 0.7119907387312229, 0.6049675157904993, 0.4915861419584738, 0.6325763065846494, 0.4459333134885292, 0.5560956745885816, 0.5731991482703321, 0.383830583811464, 0.8286848222208888, 0.6673868592018485, 0.6647554216165501, 0.9452950876612091, 0.6843006221059089, 0.4420553122050853, 0.5574883765117739], \"coherence_45\": 0.6071516725570386, \"coherence_50_list\": [0.6952415534074449, 0.8230965975914835, 0.4422706109577384, 0.4603953976270494, 0.512721839810254, 0.6810968759131886, 0.6301182851226352, 0.5012678233974458, 0.7203739011281783, 0.4609531628794834, 0.597278476789691, 0.5866062743697843, 0.37904647704074745, 0.8667965940108867, 0.6085407166744071, 0.6680304020517872, 0.9557214748098334, 0.7343728451371225, 0.4162586293713408, 0.5733572428552087], \"coherence_50\": 0.6156772590472854, \"coherence_55_list\": [0.7068213234802537, 0.7732199848955056, 0.4354918449873989, 0.48066636464140844, 0.5396248849156565, 0.6762231443949264, 0.6124020152975516, 0.5249892765597542, 0.7186443097432551, 0.45934414182425487, 0.624526525535739, 0.605854155023366, 0.37974311089644125, 0.9318264517687824, 0.633389932262423, 0.6424502269607953, 0.980758711713512, 0.7165837024711127, 0.42175443026622694, 0.5667377248407199], \"coherence_55\": 0.6215526131239543, \"npmi_15\": null, \"npmi_25\": null}, \"fitness_name\": \"default\", \"dataset\": \"__noname__\", \"topic_count\": 20, \"train_option\": \"offline\", \"force_dataset_settings_checkout\": false}\n",
            "2023-12-19 09:34:41,186 - root - INFO - Loading dataset entities\n",
            "2023-12-19 09:34:41,188 - root - INFO - Reading dictionary from autotm_artifacts/1659e6bd-8d17-49de-9ba8-9790c2047501/dictionary.txt\n",
            "2023-12-19 09:34:42,058 - root - INFO - Dataset entities initialization took  0.87\n",
            "2023-12-19 09:34:42,064 - root - INFO - Using TM model: <class 'autotm.fitness.tm.TopicModel'> according to fitness name: default, topics count: 20\n",
            "20it [00:00, 677.34it/s]\n",
            "0it [00:00, ?it/s]\n",
            "5it [00:00, 410.92it/s]\n",
            "0it [00:00, ?it/s]\n",
            "20it [00:00, 723.53it/s]\n",
            "0it [00:00, ?it/s]\n",
            "5it [00:00, 426.32it/s]\n",
            "0it [00:00, ?it/s]\n",
            "20it [00:00, 719.97it/s]\n",
            "0it [00:00, ?it/s]\n",
            "5it [00:00, 408.05it/s]\n",
            "0it [00:00, ?it/s]\n",
            "20it [00:00, 697.88it/s]\n",
            "0it [00:00, ?it/s]\n",
            "5it [00:00, 426.68it/s]\n",
            "0it [00:00, ?it/s]\n"
          ]
        },
        {
          "output_type": "stream",
          "name": "stdout",
          "text": [
            "Training is complete\n"
          ]
        },
        {
          "output_type": "stream",
          "name": "stderr",
          "text": [
            "2023-12-19 09:34:52,296 - root - INFO - Building dictionary\n"
          ]
        },
        {
          "output_type": "stream",
          "name": "stdout",
          "text": [
            "Wow! all topics\n"
          ]
        },
        {
          "output_type": "stream",
          "name": "stderr",
          "text": [
            "20it [00:00, 695.67it/s]\n",
            "0it [00:00, ?it/s]\n",
            "5it [00:00, 541.28it/s]\n",
            "0it [00:00, ?it/s]\n"
          ]
        },
        {
          "output_type": "stream",
          "name": "stdout",
          "text": [
            "COMPONENTS:  0.6156772590472854 0.37904647704074745\n"
          ]
        },
        {
          "output_type": "stream",
          "name": "stderr",
          "text": [
            "20it [00:00, 7257.21it/s]\n",
            "0it [00:00, ?it/s]\n",
            "20it [00:00, 5029.14it/s]\n",
            "0it [00:00, ?it/s]\n",
            "20it [00:00, 3005.81it/s]\n",
            "0it [00:00, ?it/s]\n",
            "20it [00:00, 2572.17it/s]\n",
            "0it [00:00, ?it/s]\n",
            "20it [00:00, 993.32it/s]\n",
            "0it [00:00, ?it/s]\n",
            "20it [00:00, 940.79it/s]\n",
            "0it [00:00, ?it/s]\n",
            "20it [00:00, 726.51it/s]\n",
            "0it [00:00, ?it/s]\n",
            "20it [00:00, 596.47it/s]\n",
            "0it [00:00, ?it/s]\n",
            "20it [00:00, 519.90it/s]\n",
            "0it [00:00, ?it/s]\n",
            "20it [00:00, 415.61it/s]\n",
            "0it [00:00, ?it/s]\n",
            "2023-12-19 09:34:53,551 - root - INFO - Fitness estimation took  12.37\n",
            "2023-12-19 09:34:54,276 - root - INFO - Deleting bigartm logs: []\n",
            "2023-12-19 09:34:54,315 - root - INFO - Doing fitness calculating with individual {\"id\": \"94bba2fd-f5ce-4f41-b141-f2d14220dcd0\", \"data_path\": \"autotm_artifacts/1659e6bd-8d17-49de-9ba8-9790c2047501\", \"params\": [100000.0, 30.0, 100.0, 0.0, 0.0, 61.452205483979554, -1000.0, 30.0, -259.24928360437696, 1000.0, 30.0, 5.0, 0.5202512404944241, 0.3353393609599058, 0.05647051138561909, 100000.0], \"exp_id\": 0, \"alg_id\": \"ga\", \"iteration_id\": 1, \"tag\": \"v0\", \"fitness_value\": null, \"fitness_name\": \"default\", \"dataset\": \"__noname__\", \"topic_count\": 20, \"train_option\": \"offline\", \"force_dataset_settings_checkout\": false}\n",
            "2023-12-19 09:34:54,317 - root - INFO - Loading dataset entities\n",
            "2023-12-19 09:34:54,319 - root - INFO - Reading dictionary from autotm_artifacts/1659e6bd-8d17-49de-9ba8-9790c2047501/dictionary.txt\n",
            "2023-12-19 09:34:55,040 - root - INFO - Dataset entities initialization took  0.72\n",
            "2023-12-19 09:34:55,042 - root - INFO - Using TM model: <class 'autotm.fitness.tm.TopicModel'> according to fitness name: default, topics count: 20\n",
            "20it [00:00, 708.04it/s]\n",
            "0it [00:00, ?it/s]\n",
            "5it [00:00, 577.82it/s]\n",
            "0it [00:00, ?it/s]\n",
            "20it [00:00, 707.81it/s]\n",
            "0it [00:00, ?it/s]\n",
            "5it [00:00, 494.45it/s]\n",
            "0it [00:00, ?it/s]\n",
            "20it [00:00, 684.20it/s]\n",
            "0it [00:00, ?it/s]\n",
            "5it [00:00, 411.29it/s]\n",
            "0it [00:00, ?it/s]\n",
            "20it [00:00, 689.68it/s]\n",
            "0it [00:00, ?it/s]\n",
            "5it [00:00, 553.88it/s]\n",
            "0it [00:00, ?it/s]\n"
          ]
        },
        {
          "output_type": "stream",
          "name": "stdout",
          "text": [
            "Training is complete\n"
          ]
        },
        {
          "output_type": "stream",
          "name": "stderr",
          "text": [
            "2023-12-19 09:35:04,982 - root - INFO - Building dictionary\n"
          ]
        },
        {
          "output_type": "stream",
          "name": "stdout",
          "text": [
            "Wow! all topics\n"
          ]
        },
        {
          "output_type": "stream",
          "name": "stderr",
          "text": [
            "20it [00:00, 683.43it/s]\n",
            "0it [00:00, ?it/s]\n",
            "5it [00:00, 379.74it/s]\n",
            "0it [00:00, ?it/s]\n"
          ]
        },
        {
          "output_type": "stream",
          "name": "stdout",
          "text": [
            "COMPONENTS:  0.614756617759016 0.3790464770407474\n"
          ]
        },
        {
          "output_type": "stream",
          "name": "stderr",
          "text": [
            "20it [00:00, 6813.36it/s]\n",
            "0it [00:00, ?it/s]\n",
            "20it [00:00, 5083.08it/s]\n",
            "0it [00:00, ?it/s]\n",
            "20it [00:00, 1577.10it/s]\n",
            "0it [00:00, ?it/s]\n",
            "20it [00:00, 2191.61it/s]\n",
            "0it [00:00, ?it/s]\n",
            "20it [00:00, 873.52it/s]\n",
            "0it [00:00, ?it/s]\n",
            "20it [00:00, 971.97it/s]\n",
            "0it [00:00, ?it/s]\n",
            "20it [00:00, 785.69it/s]\n",
            "0it [00:00, ?it/s]\n",
            "20it [00:00, 630.10it/s]\n",
            "0it [00:00, ?it/s]\n",
            "20it [00:00, 505.40it/s]\n",
            "0it [00:00, ?it/s]\n",
            "20it [00:00, 418.44it/s]\n",
            "0it [00:00, ?it/s]\n",
            "2023-12-19 09:35:06,237 - root - INFO - Fitness estimation took  11.92\n",
            "2023-12-19 09:35:06,969 - root - INFO - Deleting bigartm logs: []\n",
            "2023-12-19 09:35:07,007 - root - INFO - Doing fitness calculating with individual {\"id\": \"277cf478-5b40-46a6-966a-2b3b3b4444bd\", \"data_path\": \"autotm_artifacts/1659e6bd-8d17-49de-9ba8-9790c2047501\", \"params\": [100000.0, 30, 100.0, 0, 0.0, 58.99965457912077, -1000.0, 30, -259.5965175426326, 1000.0, 30, 5, 0.5202512404944241, 0.3353393609599058, 0.05647051138561909, 100000.0], \"exp_id\": null, \"alg_id\": \"ga\", \"iteration_id\": 1, \"tag\": \"v0\", \"fitness_value\": {\"avg_coherence_score\": 0.9938030947997634, \"perplexityScore\": 1253.4688720703125, \"backgroundTokensRatioScore\": 0.695555567741394, \"contrast\": 0.949332594871521, \"purity\": 0.9684645533561707, \"kernelSize\": 129.14999389648438, \"npmi_50_list\": null, \"npmi_50\": null, \"sparsity_phi\": 0.7726110816001892, \"sparsity_theta\": 0.0, \"topic_significance_uni\": null, \"topic_significance_vacuous\": null, \"topic_significance_back\": null, \"switchP_list\": [NaN], \"switchP\": NaN, \"all_topics\": true, \"coherence_10_list\": [0.18698031248969027, 0.4498444129253177, 0.3346050316056632, 0.23301996669316133, 0.1202863280787282, 0.47572379729870706, 0.44073204774368013, 0.2919132416147001, 0.2701798077793842, 0.40539405192238304, 0.34095065265827396, 0.26003037308868665, 0.6703847005549133, 0.8442292713255156, 0.8668685217241039, 0.6946046012886931, 0.27989384079261515, 0.576794056331124, 0.19934834209426247, 0.2193330222275805], \"coherence_10\": 0.4080558190118593, \"coherence_15_list\": [0.2850397597168885, 0.6457421274002937, 0.42316958057717613, 0.2640883957247321, 0.15425880574659936, 0.40737469325611164, 0.5357174103323774, 0.4249338541801078, 0.42666010308063723, 0.4232418525193054, 0.3490958424748606, 0.2426817338529457, 0.5525660074707313, 0.5397889773251162, 0.6792969679390822, 0.5520318324079017, 0.539607204318497, 0.5078834407828824, 0.24280571906171963, 0.2439883650271987], \"coherence_15\": 0.4219986336597583, \"coherence_20_list\": [0.30904224963420546, 0.6156813633198586, 0.4559607429609056, 0.3283930704843747, 0.15519656614119226, 0.363632306321636, 0.5898855862280354, 0.3787456799673827, 0.3722170207696229, 0.43474684532881386, 0.34969597404996444, 0.37108971186973927, 0.5187679299121956, 0.6780610592333768, 0.6729227601904944, 0.5418239777891467, 0.6847487500590744, 0.4828641216693048, 0.3253179853089469, 0.2861395885039659], \"coherence_20\": 0.44574666448711187, \"coherence_25_list\": [0.4112541667822231, 0.705975453193841, 0.44390495691367526, 0.3876137761396084, 0.19298788697410516, 0.4408984833384342, 0.5418157151251224, 0.4928454383588431, 0.4241740247007065, 0.4002189379732312, 0.41753185144668653, 0.3430878412763769, 0.4805145037137747, 0.6182431711983076, 0.6760757808630096, 0.5831079800665344, 0.6982099311093474, 0.527364322034663, 0.352086005192226, 0.3394773259923436], \"coherence_25\": 0.47386937761965287, \"coherence_30_list\": [0.5185815555409399, 0.7454016421678925, 0.4216430243262338, 0.37318782905617215, 0.31122800807994117, 0.5659138815798918, 0.6069678724615992, 0.5025203024265398, 0.4416103387211623, 0.41389303671825606, 0.4306154210272902, 0.4354477787536484, 0.41365908374710403, 0.7272603772611393, 0.678364943466398, 0.5476717015026182, 0.8051342594639836, 0.5480451598088449, 0.45038547963072106, 0.46531091652714146], \"coherence_30\": 0.5201421306133759, \"coherence_35_list\": [0.6725362012735769, 0.7184225784261742, 0.4105539304145346, 0.42922502813790936, 0.39905119098800523, 0.648071616194699, 0.5528203223663217, 0.49554179488631545, 0.5683363058048639, 0.42588869211172076, 0.4439509986527714, 0.48230826753106937, 0.41769143380672485, 0.7484968672930934, 0.707235647809758, 0.6297342266706217, 0.8886452068184048, 0.6283061397103588, 0.44342371415531723, 0.48245181614463567], \"coherence_35\": 0.5596345989598438, \"coherence_40_list\": [0.6496331159262115, 0.7654447217476955, 0.4462511238029638, 0.40293966027292216, 0.44880312234245634, 0.6770620124487386, 0.6064190675869893, 0.48348524731354797, 0.6207130033264142, 0.4518997904021792, 0.5199032808859361, 0.5088270625367035, 0.36256895634556086, 0.8176074573681122, 0.6714328095708268, 0.6461345295307083, 0.9207583664624344, 0.6846339626285372, 0.445796277809063, 0.5413492222857709], \"coherence_40\": 0.5835831395296885, \"coherence_45_list\": [0.6383568290830818, 0.8269993504201305, 0.4379638724530778, 0.4268764237136548, 0.5108912726331825, 0.700282147857647, 0.5822261938490944, 0.4763635379786662, 0.6325763065846493, 0.4459333134885292, 0.5660821859377526, 0.5604496336152691, 0.38383058381146395, 0.822646365549574, 0.6667174276118778, 0.6647554216165501, 0.9386534641814422, 0.6843006221059089, 0.4286479308949873, 0.550232923012974], \"coherence_45\": 0.5972392903199757, \"coherence_50_list\": [0.6434818367103563, 0.8230965975914835, 0.434029584796667, 0.4387537912464052, 0.5093011863328205, 0.6810968759131886, 0.6301182851226352, 0.5012678233974458, 0.70996180162255, 0.4609531628794834, 0.6164525919564751, 0.6048267018170496, 0.3790464770407474, 0.8825791466798728, 0.6135389442824853, 0.6680304020517872, 0.9704437869838707, 0.7343728451371225, 0.416258629371341, 0.5775218842465315], \"coherence_50\": 0.614756617759016, \"coherence_55_list\": [0.6690324247745992, 0.7732199848955054, 0.4354918449873989, 0.48066636464140844, 0.5319292513709187, 0.6762231443949264, 0.6124020152975516, 0.5249892765597542, 0.6808960993051449, 0.44455450448983874, 0.6328702925988441, 0.6083351664125007, 0.3797431108964413, 0.9353825721595134, 0.633389932262423, 0.6424502269607952, 0.980758711713512, 0.7165837024711127, 0.4251704926838748, 0.5704868548552429], \"coherence_55\": 0.6177287986865654, \"npmi_15\": null, \"npmi_25\": null}, \"fitness_name\": \"default\", \"dataset\": \"__noname__\", \"topic_count\": 20, \"train_option\": \"offline\", \"force_dataset_settings_checkout\": false}\n",
            "2023-12-19 09:35:07,009 - root - INFO - Loading dataset entities\n",
            "2023-12-19 09:35:07,011 - root - INFO - Reading dictionary from autotm_artifacts/1659e6bd-8d17-49de-9ba8-9790c2047501/dictionary.txt\n",
            "2023-12-19 09:35:07,592 - root - INFO - Dataset entities initialization took  0.58\n",
            "2023-12-19 09:35:07,594 - root - INFO - Using TM model: <class 'autotm.fitness.tm.TopicModel'> according to fitness name: default, topics count: 20\n",
            "20it [00:00, 650.54it/s]\n",
            "0it [00:00, ?it/s]\n",
            "5it [00:00, 328.47it/s]\n",
            "0it [00:00, ?it/s]\n",
            "20it [00:00, 702.88it/s]\n",
            "0it [00:00, ?it/s]\n",
            "5it [00:00, 356.71it/s]\n",
            "0it [00:00, ?it/s]\n",
            "20it [00:00, 612.58it/s]\n",
            "0it [00:00, ?it/s]\n",
            "5it [00:00, 396.58it/s]\n",
            "0it [00:00, ?it/s]\n",
            "20it [00:00, 676.85it/s]\n",
            "0it [00:00, ?it/s]\n",
            "5it [00:00, 644.90it/s]\n",
            "0it [00:00, ?it/s]\n"
          ]
        },
        {
          "output_type": "stream",
          "name": "stdout",
          "text": [
            "Training is complete\n"
          ]
        },
        {
          "output_type": "stream",
          "name": "stderr",
          "text": [
            "2023-12-19 09:35:17,805 - root - INFO - Building dictionary\n"
          ]
        },
        {
          "output_type": "stream",
          "name": "stdout",
          "text": [
            "Wow! all topics\n"
          ]
        },
        {
          "output_type": "stream",
          "name": "stderr",
          "text": [
            "20it [00:00, 708.54it/s]\n",
            "0it [00:00, ?it/s]\n",
            "5it [00:00, 589.97it/s]\n",
            "0it [00:00, ?it/s]\n"
          ]
        },
        {
          "output_type": "stream",
          "name": "stdout",
          "text": [
            "COMPONENTS:  0.614756617759016 0.37904647704074745\n"
          ]
        },
        {
          "output_type": "stream",
          "name": "stderr",
          "text": [
            "20it [00:00, 14169.95it/s]\n",
            "0it [00:00, ?it/s]\n",
            "20it [00:00, 4891.32it/s]\n",
            "0it [00:00, ?it/s]\n",
            "20it [00:00, 3207.02it/s]\n",
            "0it [00:00, ?it/s]\n",
            "20it [00:00, 2362.19it/s]\n",
            "0it [00:00, ?it/s]\n",
            "20it [00:00, 903.63it/s]\n",
            "0it [00:00, ?it/s]\n",
            "20it [00:00, 798.17it/s]\n",
            "0it [00:00, ?it/s]\n",
            "20it [00:00, 837.79it/s]\n",
            "0it [00:00, ?it/s]\n",
            "20it [00:00, 601.12it/s]\n",
            "0it [00:00, ?it/s]\n",
            "20it [00:00, 550.98it/s]\n",
            "0it [00:00, ?it/s]\n",
            "20it [00:00, 347.50it/s]\n",
            "0it [00:00, ?it/s]\n",
            "2023-12-19 09:35:19,073 - root - INFO - Fitness estimation took  12.06\n",
            "2023-12-19 09:35:19,798 - root - INFO - Deleting bigartm logs: []\n",
            "2023-12-19 09:35:19,836 - root - INFO - Doing fitness calculating with individual {\"id\": \"72362e79-0461-4fed-88c8-f513c308e58e\", \"data_path\": \"autotm_artifacts/1659e6bd-8d17-49de-9ba8-9790c2047501\", \"params\": [100000.0, 30, 100.0, 0.0, 0, 115.70114645684164, -1000.0, 30.0, -358.85500844901156, 1000.0, 30.0, 5.0, 0.5202512404944241, 0.3353393609599058, 0.05647051138561909, 100000.0], \"exp_id\": null, \"alg_id\": \"ga\", \"iteration_id\": 1, \"tag\": \"v0\", \"fitness_value\": {\"avg_coherence_score\": 0.993419995629025, \"perplexityScore\": 1260.5003662109375, \"backgroundTokensRatioScore\": 0.6977777481079102, \"contrast\": 0.9487083554267883, \"purity\": 0.969207763671875, \"kernelSize\": 129.39999389648438, \"npmi_50_list\": null, \"npmi_50\": null, \"sparsity_phi\": 0.7728703618049622, \"sparsity_theta\": 0.0, \"topic_significance_uni\": null, \"topic_significance_vacuous\": null, \"topic_significance_back\": null, \"switchP_list\": [NaN], \"switchP\": NaN, \"all_topics\": true, \"coherence_10_list\": [0.29681829020658695, 0.4498444129253177, 0.3346050316056632, 0.23301996669316133, 0.1202863280787282, 0.47572379729870706, 0.44073204774368013, 0.2919132416147001, 0.2701798077793842, 0.40539405192238304, 0.34095065265827396, 0.26003037308868665, 0.6703847005549132, 0.8442292713255156, 0.8668685217241039, 0.6946046012886931, 0.27989384079261515, 0.576794056331124, 0.19934834209426247, 0.2193330222275805], \"coherence_10\": 0.4135477178977041, \"coherence_15_list\": [0.2850397597168885, 0.6008252094655271, 0.42316958057717613, 0.2640883957247321, 0.1468054710017487, 0.4073746932561116, 0.5357174103323774, 0.4249338541801078, 0.42666010308063723, 0.4232418525193054, 0.3490958424748606, 0.2426817338529457, 0.6143218211654339, 0.5397889773251162, 0.6792969679390822, 0.5520318324079017, 0.539607204318497, 0.5078834407828824, 0.24280571906171963, 0.2439883650271987], \"coherence_15\": 0.42246791171051257, \"coherence_20_list\": [0.3090422496342055, 0.6187946203887063, 0.4559607429609056, 0.3283930704843747, 0.15519656614119226, 0.363632306321636, 0.5898855862280354, 0.3787456799673827, 0.3722170207696229, 0.43474684532881386, 0.34969597404996444, 0.37108971186973927, 0.5187679299121957, 0.6780610592333768, 0.6729227601904944, 0.5418239777891467, 0.6847487500590744, 0.4828641216693048, 0.32531798530894696, 0.2861395885039659], \"coherence_20\": 0.4459023273405542, \"coherence_25_list\": [0.4112541667822231, 0.7085147858050599, 0.44390495691367526, 0.3876137761396084, 0.19298788697410513, 0.5456220046714956, 0.5418157151251224, 0.4928454383588431, 0.4241740247007065, 0.4002189379732312, 0.41753185144668653, 0.34308784127637687, 0.4805145037137746, 0.6182431711983076, 0.6760757808630096, 0.5419335408828903, 0.6982099311093474, 0.527364322034663, 0.352086005192226, 0.33947732599234365], \"coherence_25\": 0.47717379835768475, \"coherence_30_list\": [0.5185815555409399, 0.7454016421678923, 0.4216430243262338, 0.3731878290561722, 0.3112280080799411, 0.5462080155400214, 0.6069678724615992, 0.5025203024265398, 0.4416103387211623, 0.41389303671825606, 0.4306154210272902, 0.4240136109922341, 0.4136590837471039, 0.7272603772611393, 0.678364943466398, 0.5476717015026182, 0.8051342594639836, 0.5480451598088449, 0.4503854796307212, 0.4653109165271414], \"coherence_30\": 0.5185851289233117, \"coherence_35_list\": [0.7404054266370709, 0.718422578426174, 0.4105539304145346, 0.42922502813790936, 0.39905119098800523, 0.6480716161946991, 0.5528203223663217, 0.49554179488631545, 0.5683363058048639, 0.42588869211172076, 0.4439509986527714, 0.48035370057805893, 0.4176914338067248, 0.7484968672930934, 0.707235647809758, 0.6297342266706217, 0.8886452068184048, 0.6283061397103588, 0.44342371415531723, 0.4857912806992561], \"coherence_35\": 0.563097305108099, \"coherence_40_list\": [0.6728698986107935, 0.7654447217476955, 0.4462511238029638, 0.41075744140398, 0.44880312234245634, 0.6770620124487386, 0.6064190675869893, 0.48348524731354797, 0.6207130033264142, 0.4518997904021792, 0.5144099879821619, 0.5088270625367035, 0.36256895634556086, 0.8176074573681122, 0.6714328095708268, 0.6461345295307084, 0.9207583664624344, 0.6846339626285372, 0.44579627780906306, 0.5413492222857709], \"coherence_40\": 0.5848612030752818, \"coherence_45_list\": [0.6781783531388282, 0.8269993504201304, 0.44005568433799896, 0.44589882663781777, 0.5108912726331825, 0.7002821478576471, 0.6049675157904993, 0.4763635379786662, 0.6325763065846493, 0.4459333134885292, 0.5541168248985956, 0.560449633615269, 0.3838305838114639, 0.822646365549574, 0.6563767667368038, 0.6647554216165501, 0.9412718326132671, 0.6843006221059089, 0.4286479308949873, 0.5574883765117739], \"coherence_45\": 0.6008015333611072, \"coherence_50_list\": [0.6767848558987021, 0.8230965975914835, 0.434029584796667, 0.4387537912464052, 0.5016948804261507, 0.6810968759131886, 0.6301182851226352, 0.5012678233974458, 0.70996180162255, 0.4609531628794834, 0.6164525919564751, 0.6048267018170496, 0.3790464770407474, 0.8667965940108867, 0.6135389442824853, 0.6680304020517872, 0.957356506194357, 0.7343728451371225, 0.416258629371341, 0.5730330210085886], \"coherence_50\": 0.6143735185882776, \"coherence_55_list\": [0.6878293796457664, 0.7732199848955056, 0.435491844987399, 0.48066636464140844, 0.5396248849156565, 0.6762231443949264, 0.6124020152975516, 0.5249892765597542, 0.6808960993051449, 0.45934414182425487, 0.6328702925988441, 0.6058541550233659, 0.37974311089644125, 0.9353825721595134, 0.633389932262423, 0.6424502269607953, 0.980758711713512, 0.7165837024711127, 0.4251704926838748, 0.570486854855243], \"coherence_55\": 0.6196688594046248, \"npmi_15\": null, \"npmi_25\": null}, \"fitness_name\": \"default\", \"dataset\": \"__noname__\", \"topic_count\": 20, \"train_option\": \"offline\", \"force_dataset_settings_checkout\": false}\n",
            "2023-12-19 09:35:19,837 - root - INFO - Loading dataset entities\n",
            "2023-12-19 09:35:19,840 - root - INFO - Reading dictionary from autotm_artifacts/1659e6bd-8d17-49de-9ba8-9790c2047501/dictionary.txt\n",
            "2023-12-19 09:35:20,432 - root - INFO - Dataset entities initialization took  0.59\n",
            "2023-12-19 09:35:20,433 - root - INFO - Using TM model: <class 'autotm.fitness.tm.TopicModel'> according to fitness name: default, topics count: 20\n",
            "20it [00:00, 534.54it/s]\n",
            "0it [00:00, ?it/s]\n",
            "5it [00:00, 469.84it/s]\n",
            "0it [00:00, ?it/s]\n",
            "20it [00:00, 688.99it/s]\n",
            "0it [00:00, ?it/s]\n",
            "5it [00:00, 503.94it/s]\n",
            "0it [00:00, ?it/s]\n",
            "20it [00:00, 667.04it/s]\n",
            "0it [00:00, ?it/s]\n",
            "5it [00:00, 458.12it/s]\n",
            "0it [00:00, ?it/s]\n",
            "20it [00:00, 806.81it/s]\n",
            "0it [00:00, ?it/s]\n",
            "5it [00:00, 539.85it/s]\n",
            "0it [00:00, ?it/s]\n"
          ]
        },
        {
          "output_type": "stream",
          "name": "stdout",
          "text": [
            "Training is complete\n"
          ]
        },
        {
          "output_type": "stream",
          "name": "stderr",
          "text": [
            "2023-12-19 09:35:30,619 - root - INFO - Building dictionary\n"
          ]
        },
        {
          "output_type": "stream",
          "name": "stdout",
          "text": [
            "Wow! all topics\n"
          ]
        },
        {
          "output_type": "stream",
          "name": "stderr",
          "text": [
            "20it [00:00, 643.56it/s]\n",
            "0it [00:00, ?it/s]\n",
            "5it [00:00, 655.32it/s]\n",
            "0it [00:00, ?it/s]\n"
          ]
        },
        {
          "output_type": "stream",
          "name": "stdout",
          "text": [
            "COMPONENTS:  0.6143735185882776 0.3790464770407474\n"
          ]
        },
        {
          "output_type": "stream",
          "name": "stderr",
          "text": [
            "20it [00:00, 13025.79it/s]\n",
            "0it [00:00, ?it/s]\n",
            "20it [00:00, 5018.01it/s]\n",
            "0it [00:00, ?it/s]\n",
            "20it [00:00, 2396.33it/s]\n",
            "0it [00:00, ?it/s]\n",
            "20it [00:00, 1243.07it/s]\n",
            "0it [00:00, ?it/s]\n",
            "20it [00:00, 887.75it/s]\n",
            "0it [00:00, ?it/s]\n",
            "20it [00:00, 847.51it/s]\n",
            "0it [00:00, ?it/s]\n",
            "20it [00:00, 792.23it/s]\n",
            "0it [00:00, ?it/s]\n",
            "20it [00:00, 596.99it/s]\n",
            "0it [00:00, ?it/s]\n",
            "20it [00:00, 528.56it/s]\n",
            "0it [00:00, ?it/s]\n",
            "20it [00:00, 395.47it/s]\n",
            "0it [00:00, ?it/s]\n",
            "2023-12-19 09:35:31,862 - root - INFO - Fitness estimation took  12.03\n",
            "2023-12-19 09:35:32,595 - root - INFO - Deleting bigartm logs: []\n",
            "2023-12-19 09:35:32,639 - root - INFO - Doing fitness calculating with individual {\"id\": \"a6464910-db53-497a-a6ff-815877da8099\", \"data_path\": \"autotm_artifacts/1659e6bd-8d17-49de-9ba8-9790c2047501\", \"params\": [100000.0, 8.0, 0.0, 0.0, 25.0, 0.0, 100.0, 30.0, -66.25325871133168, 1000.0, 30.0, 5.0, 0.9306060634954084, 0.3382581659148661, 0.7286558208865347, 93520.32182784835], \"exp_id\": 0, \"alg_id\": \"ga\", \"iteration_id\": 1, \"tag\": \"v0\", \"fitness_value\": null, \"fitness_name\": \"default\", \"dataset\": \"__noname__\", \"topic_count\": 20, \"train_option\": \"offline\", \"force_dataset_settings_checkout\": false}\n",
            "2023-12-19 09:35:32,640 - root - INFO - Loading dataset entities\n",
            "2023-12-19 09:35:32,642 - root - INFO - Reading dictionary from autotm_artifacts/1659e6bd-8d17-49de-9ba8-9790c2047501/dictionary.txt\n",
            "2023-12-19 09:35:33,234 - root - INFO - Dataset entities initialization took  0.59\n",
            "2023-12-19 09:35:33,236 - root - INFO - Using TM model: <class 'autotm.fitness.tm.TopicModel'> according to fitness name: default, topics count: 20\n",
            "20it [00:00, 464.27it/s]\n",
            "0it [00:00, ?it/s]\n",
            "5it [00:00, 405.44it/s]\n",
            "0it [00:00, ?it/s]\n",
            "20it [00:00, 645.22it/s]\n",
            "0it [00:00, ?it/s]\n",
            "5it [00:00, 286.69it/s]\n",
            "0it [00:00, ?it/s]\n",
            "20it [00:00, 671.44it/s]\n",
            "0it [00:00, ?it/s]\n",
            "5it [00:00, 430.40it/s]\n",
            "0it [00:00, ?it/s]\n",
            "20it [00:00, 648.33it/s]\n",
            "0it [00:00, ?it/s]\n",
            "5it [00:00, 2607.43it/s]\n",
            "0it [00:00, ?it/s]\n"
          ]
        },
        {
          "output_type": "stream",
          "name": "stdout",
          "text": [
            "Training is complete\n"
          ]
        },
        {
          "output_type": "stream",
          "name": "stderr",
          "text": [
            "2023-12-19 09:35:43,759 - root - INFO - Building dictionary\n"
          ]
        },
        {
          "output_type": "stream",
          "name": "stdout",
          "text": [
            "Wow! all topics\n"
          ]
        },
        {
          "output_type": "stream",
          "name": "stderr",
          "text": [
            "20it [00:00, 684.27it/s]\n",
            "0it [00:00, ?it/s]\n",
            "5it [00:00, 2302.79it/s]\n",
            "0it [00:00, ?it/s]\n"
          ]
        },
        {
          "output_type": "stream",
          "name": "stdout",
          "text": [
            "COMPONENTS:  0.6057041159352221 0.37904647704074745\n"
          ]
        },
        {
          "output_type": "stream",
          "name": "stderr",
          "text": [
            "20it [00:00, 6694.28it/s]\n",
            "0it [00:00, ?it/s]\n",
            "20it [00:00, 4682.97it/s]\n",
            "0it [00:00, ?it/s]\n",
            "20it [00:00, 3180.51it/s]\n",
            "0it [00:00, ?it/s]\n",
            "20it [00:00, 1960.87it/s]\n",
            "0it [00:00, ?it/s]\n",
            "20it [00:00, 1091.63it/s]\n",
            "0it [00:00, ?it/s]\n",
            "20it [00:00, 970.31it/s]\n",
            "0it [00:00, ?it/s]\n",
            "20it [00:00, 733.67it/s]\n",
            "0it [00:00, ?it/s]\n",
            "20it [00:00, 603.24it/s]\n",
            "0it [00:00, ?it/s]\n",
            "20it [00:00, 522.17it/s]\n",
            "0it [00:00, ?it/s]\n",
            "20it [00:00, 437.61it/s]\n",
            "0it [00:00, ?it/s]\n",
            "2023-12-19 09:35:45,001 - root - INFO - Fitness estimation took  12.36\n",
            "2023-12-19 09:35:45,751 - root - INFO - Deleting bigartm logs: []\n",
            "2023-12-19 09:35:45,786 - root - INFO - Doing fitness calculating with individual {\"id\": \"4ecacbb8-a444-4431-b779-9c8f519d6a93\", \"data_path\": \"autotm_artifacts/1659e6bd-8d17-49de-9ba8-9790c2047501\", \"params\": [100000.0, 30.0, 0.0, 0.0, 7.0, 100.0, -210.83948173831567, 28.0, -59.30394390848792, 1000.0, 29.0, 5.0, 0.9609792888292359, 0.13056841268079034, 0.9253274209331299, 100000.0], \"exp_id\": 0, \"alg_id\": \"ga\", \"iteration_id\": 1, \"tag\": \"v0\", \"fitness_value\": null, \"fitness_name\": \"default\", \"dataset\": \"__noname__\", \"topic_count\": 20, \"train_option\": \"offline\", \"force_dataset_settings_checkout\": false}\n",
            "2023-12-19 09:35:45,788 - root - INFO - Loading dataset entities\n",
            "2023-12-19 09:35:45,791 - root - INFO - Reading dictionary from autotm_artifacts/1659e6bd-8d17-49de-9ba8-9790c2047501/dictionary.txt\n",
            "2023-12-19 09:35:46,366 - root - INFO - Dataset entities initialization took  0.58\n",
            "2023-12-19 09:35:46,368 - root - INFO - Using TM model: <class 'autotm.fitness.tm.TopicModel'> according to fitness name: default, topics count: 20\n",
            "20it [00:00, 688.09it/s]\n",
            "0it [00:00, ?it/s]\n",
            "5it [00:00, 486.10it/s]\n",
            "0it [00:00, ?it/s]\n",
            "20it [00:00, 433.01it/s]\n",
            "0it [00:00, ?it/s]\n",
            "5it [00:00, 534.47it/s]\n",
            "0it [00:00, ?it/s]\n",
            "20it [00:00, 706.96it/s]\n",
            "0it [00:00, ?it/s]\n",
            "5it [00:00, 397.66it/s]\n",
            "0it [00:00, ?it/s]\n",
            "20it [00:00, 722.95it/s]\n",
            "0it [00:00, ?it/s]\n",
            "5it [00:00, 2599.99it/s]\n",
            "0it [00:00, ?it/s]\n"
          ]
        },
        {
          "output_type": "stream",
          "name": "stdout",
          "text": [
            "Training is complete\n"
          ]
        },
        {
          "output_type": "stream",
          "name": "stderr",
          "text": [
            "2023-12-19 09:35:57,296 - root - INFO - Building dictionary\n"
          ]
        },
        {
          "output_type": "stream",
          "name": "stdout",
          "text": [
            "Wow! all topics\n"
          ]
        },
        {
          "output_type": "stream",
          "name": "stderr",
          "text": [
            "20it [00:00, 667.52it/s]\n",
            "0it [00:00, ?it/s]\n",
            "5it [00:00, 2308.11it/s]\n",
            "0it [00:00, ?it/s]\n"
          ]
        },
        {
          "output_type": "stream",
          "name": "stdout",
          "text": [
            "COMPONENTS:  0.6059695904256798 0.38056704419655746\n"
          ]
        },
        {
          "output_type": "stream",
          "name": "stderr",
          "text": [
            "20it [00:00, 5954.86it/s]\n",
            "0it [00:00, ?it/s]\n",
            "20it [00:00, 3445.44it/s]\n",
            "0it [00:00, ?it/s]\n",
            "20it [00:00, 1557.17it/s]\n",
            "0it [00:00, ?it/s]\n",
            "20it [00:00, 2769.07it/s]\n",
            "0it [00:00, ?it/s]\n",
            "20it [00:00, 1065.17it/s]\n",
            "0it [00:00, ?it/s]\n",
            "20it [00:00, 956.68it/s]\n",
            "0it [00:00, ?it/s]\n",
            "20it [00:00, 661.24it/s]\n",
            "0it [00:00, ?it/s]\n",
            "20it [00:00, 531.22it/s]\n",
            "0it [00:00, ?it/s]\n",
            "20it [00:00, 444.77it/s]\n",
            "0it [00:00, ?it/s]\n",
            "20it [00:00, 433.98it/s]\n",
            "0it [00:00, ?it/s]\n",
            "2023-12-19 09:35:58,605 - root - INFO - Fitness estimation took  12.82\n",
            "2023-12-19 09:35:59,355 - root - INFO - Deleting bigartm logs: []\n",
            "2023-12-19 09:35:59,392 - root - INFO - Doing fitness calculating with individual {\"id\": \"00928709-bf18-4bc2-a5f3-5961796b6a40\", \"data_path\": \"autotm_artifacts/1659e6bd-8d17-49de-9ba8-9790c2047501\", \"params\": [100000.0, 30.0, 100.0, 0.0, 7.0, -698.9509772041916, -394.0017585407771, 27.0, -135.65968131292692, 1000.0, 29.0, 5.0, 0.9609792888292359, 0.13056841268079034, 0.9253274209331299, 100000.0], \"exp_id\": 0, \"alg_id\": \"ga\", \"iteration_id\": 1, \"tag\": \"v0\", \"fitness_value\": null, \"fitness_name\": \"default\", \"dataset\": \"__noname__\", \"topic_count\": 20, \"train_option\": \"offline\", \"force_dataset_settings_checkout\": false}\n",
            "2023-12-19 09:35:59,395 - root - INFO - Loading dataset entities\n",
            "2023-12-19 09:35:59,398 - root - INFO - Reading dictionary from autotm_artifacts/1659e6bd-8d17-49de-9ba8-9790c2047501/dictionary.txt\n",
            "2023-12-19 09:35:59,973 - root - INFO - Dataset entities initialization took  0.57\n",
            "2023-12-19 09:35:59,975 - root - INFO - Using TM model: <class 'autotm.fitness.tm.TopicModel'> according to fitness name: default, topics count: 20\n",
            "20it [00:00, 696.21it/s]\n",
            "0it [00:00, ?it/s]\n",
            "5it [00:00, 381.68it/s]\n",
            "0it [00:00, ?it/s]\n",
            "20it [00:00, 678.43it/s]\n",
            "0it [00:00, ?it/s]\n",
            "5it [00:00, 377.95it/s]\n",
            "0it [00:00, ?it/s]\n",
            "20it [00:00, 701.05it/s]\n",
            "0it [00:00, ?it/s]\n",
            "5it [00:00, 430.77it/s]\n",
            "0it [00:00, ?it/s]\n",
            "20it [00:00, 680.62it/s]\n",
            "0it [00:00, ?it/s]\n",
            "5it [00:00, 796.79it/s]\n",
            "0it [00:00, ?it/s]\n"
          ]
        },
        {
          "output_type": "stream",
          "name": "stdout",
          "text": [
            "Training is complete\n"
          ]
        },
        {
          "output_type": "stream",
          "name": "stderr",
          "text": [
            "2023-12-19 09:36:10,952 - root - INFO - Building dictionary\n"
          ]
        },
        {
          "output_type": "stream",
          "name": "stdout",
          "text": [
            "Wow! all topics\n"
          ]
        },
        {
          "output_type": "stream",
          "name": "stderr",
          "text": [
            "20it [00:00, 664.73it/s]\n",
            "0it [00:00, ?it/s]\n",
            "5it [00:00, 643.52it/s]\n",
            "0it [00:00, ?it/s]\n"
          ]
        },
        {
          "output_type": "stream",
          "name": "stdout",
          "text": [
            "COMPONENTS:  0.6012733241773641 0.3483148392969525\n"
          ]
        },
        {
          "output_type": "stream",
          "name": "stderr",
          "text": [
            "20it [00:00, 10909.88it/s]\n",
            "0it [00:00, ?it/s]\n",
            "20it [00:00, 5448.92it/s]\n",
            "0it [00:00, ?it/s]\n",
            "20it [00:00, 3063.55it/s]\n",
            "0it [00:00, ?it/s]\n",
            "20it [00:00, 1270.64it/s]\n",
            "0it [00:00, ?it/s]\n",
            "20it [00:00, 1165.04it/s]\n",
            "0it [00:00, ?it/s]\n",
            "20it [00:00, 1004.23it/s]\n",
            "0it [00:00, ?it/s]\n",
            "20it [00:00, 741.91it/s]\n",
            "0it [00:00, ?it/s]\n",
            "20it [00:00, 529.51it/s]\n",
            "0it [00:00, ?it/s]\n",
            "20it [00:00, 455.71it/s]\n",
            "0it [00:00, ?it/s]\n",
            "20it [00:00, 389.36it/s]\n",
            "0it [00:00, ?it/s]\n",
            "2023-12-19 09:36:12,314 - root - INFO - Fitness estimation took  12.92\n",
            "2023-12-19 09:36:13,134 - root - INFO - Deleting bigartm logs: []\n",
            "2023-12-19 09:36:13,171 - root - INFO - The fitness results have been obtained\n",
            "2023-12-19 09:36:13,173 - GA_algo - INFO - TIME OF THE FITNESS FUNCTION IN MUTATION: 143.97140336036682\n",
            "2023-12-19 09:36:13,176 - GA_algo - INFO - MUTATION IS OVER\n",
            "2023-12-19 09:36:13,178 - GA_algo - INFO - Population len 11. Best params so far: [97940.71436621057, 26.0, 99.20910387131745, 16.794638023225, 0, -224.67175374834932, -631.1990938763856, 30, -299.75892154776363, 890.6597119625408, 28.0, 3.0, 0.5202512404944241, 0.3353393609599058, 0.05647051138561909, 91915.81143344557], with fitness: 1.0849871905740711.ITERATION TIME: 221.2832911014557DATASET __noname__.TOPICS NUM 20.RUN ID 36f347f7-954e-433c-a4a6-0f4090f060e3.\n",
            "2023-12-19 09:36:13,180 - root - INFO - Sending a best individual to be logged\n",
            "2023-12-19 09:36:13,181 - root - INFO - Doing fitness calculating with individual {\"id\": \"02079e1f-fd45-4381-8af5-b63f915888d5\", \"data_path\": \"autotm_artifacts/1659e6bd-8d17-49de-9ba8-9790c2047501\", \"params\": [97940.71436621057, 26.0, 99.20910387131745, 16.794638023225, 0, -224.67175374834932, -631.1990938763856, 30, -299.75892154776363, 890.6597119625408, 28.0, 3.0, 0.5202512404944241, 0.3353393609599058, 0.05647051138561909, 91915.81143344557], \"exp_id\": null, \"alg_id\": \"ga\", \"iteration_id\": 1, \"tag\": \"v0\", \"fitness_value\": {\"avg_coherence_score\": 1.0849871905740711, \"perplexityScore\": 1266.679931640625, \"backgroundTokensRatioScore\": 0.7362962961196899, \"contrast\": 0.9077225923538208, \"purity\": 0.9363982081413269, \"kernelSize\": 128.0, \"npmi_50_list\": null, \"npmi_50\": null, \"sparsity_phi\": 0.7010926008224487, \"sparsity_theta\": 0.0, \"topic_significance_uni\": null, \"topic_significance_vacuous\": null, \"topic_significance_back\": null, \"switchP_list\": [NaN], \"switchP\": NaN, \"all_topics\": true, \"coherence_10_list\": [0.1680474755820239, 0.6692599244732553, 0.38487492501700565, 0.3074133460514089, 0.08141511007935925, 0.35483742826413867, 0.3117301109715401, 0.31038233939701426, 0.5886248450535021, 0.22061875372674264, 0.39276347219820185, 0.2382132495356094, 0.2313949528755773, 0.7781967553390249, 0.8546693703375623, 0.696176160378254, 0.34580299388045305, 0.4989909105575018, 0.17281539694595013, 0.18502639506370772], \"coherence_10\": 0.3895626957863917, \"coherence_15_list\": [0.29620972451695077, 0.8222665900099193, 0.42475775378243796, 0.39028151010019874, 0.14268860161391564, 0.2830810432069662, 0.53860843079682, 0.33360137755888497, 0.35855825662284035, 0.2597392094606549, 0.41117228727856436, 0.3342221956065941, 0.2680343209571203, 0.7880429890004832, 0.6244839354834198, 0.5692058649502886, 0.6419278662238231, 0.4230854148824897, 0.30419993487055647, 0.24689805531948703], \"coherence_15\": 0.42305326811212074, \"coherence_20_list\": [0.443358748484985, 0.8209753007448833, 0.49657856807924766, 0.4176023902681301, 0.22128332696205782, 0.3719058290111205, 0.5793711499829559, 0.3851349916379495, 0.43135229582157913, 0.30347915754668486, 0.5412817878904977, 0.3676769863419061, 0.2966044309922716, 0.8384411327148689, 0.5174455367131211, 0.6131395307642421, 0.6745692809109292, 0.40291013621277794, 0.33266384344389144, 0.372233766613446], \"coherence_20\": 0.47140040955687734, \"coherence_25_list\": [0.5374308161937426, 0.8536551951016028, 0.5268560772991459, 0.42227677147736986, 0.3816160413263102, 0.44745433798803164, 0.5644042360950434, 0.506566145240002, 0.4881727141222344, 0.3868056662609676, 0.6145837698353273, 0.4158219640049793, 0.44735533201006605, 0.8800924100758888, 0.6458247692117365, 0.6068641838368434, 0.6562011354489075, 0.5856607939164727, 0.47284949080178745, 0.4528569092523018], \"coherence_25\": 0.5446674379749381, \"coherence_30_list\": [0.6499838820120295, 0.9490143917829725, 0.5060409148765037, 0.45347007996865574, 0.5249929899823519, 0.5547749035570941, 0.5553888734290762, 0.5367914151312753, 0.6888549378872038, 0.3896119158586483, 0.6867109205323657, 0.4841394081826123, 0.408738659604182, 1.0056714933517628, 0.5560545956985926, 0.6742988212279272, 0.8169791725427857, 0.6345685552196448, 0.5871150466506451, 0.510512811682551], \"coherence_30\": 0.608685689458944, \"coherence_35_list\": [0.7894955888419727, 1.0432369562258001, 0.504922365636664, 0.4597235390962599, 0.5829769293561405, 0.6132864685584374, 0.5445861741011573, 0.5763909657324643, 0.7122722841013246, 0.41376924249940916, 0.781647538491259, 0.550231102294055, 0.41183016809988654, 1.1345696174520852, 0.5320658090970665, 0.6469813195925005, 0.9232697850559785, 0.6927745830320091, 0.5425470994813462, 0.5834592454991254], \"coherence_35\": 0.6520018391122472, \"coherence_40_list\": [0.7605371147108255, 0.9742946216250308, 0.4956841561699894, 0.47792574283464234, 0.5457061812449419, 0.7453975787234435, 0.5388713263992422, 0.5233113989227137, 0.6879203455068211, 0.44212354493200906, 0.7720195287175853, 0.7051674940956449, 0.4342119352366252, 1.0556407414244606, 0.5355904202228101, 0.7043911241566522, 0.9451655520159014, 0.712715977864469, 0.5294200515284178, 0.604225758164381], \"coherence_40\": 0.6595160297248303, \"coherence_45_list\": [0.7756363714779339, 0.9277369990153983, 0.5167097627236343, 0.47449569371356326, 0.566036791067211, 0.7115645832425747, 0.5671979683017002, 0.543664521133458, 0.7245799757897168, 0.47006776593580574, 0.7899830790128262, 0.7614159488188627, 0.41743109171833326, 1.0506171985712638, 0.5585644690771726, 0.7050083233824767, 0.9908102801765858, 0.7584932335750424, 0.49762331125525705, 0.5684380479512541], \"coherence_45\": 0.6688037707970034, \"coherence_50_list\": [0.802002603036492, 0.8919728689204879, 0.5062322811222836, 0.49858217290871454, 0.6045806379021907, 0.6968689994774065, 0.5843811735361678, 0.5620953136374793, 0.7621504909743287, 0.4768537354308074, 0.8214898071263061, 0.7134756099555218, 0.4168148985023213, 1.0133258322572347, 0.540422744204169, 0.6846396481341452, 1.0170597623689355, 0.7352930350346507, 0.48744281012642465, 0.5477614167789294], \"coherence_50\": 0.6681722920717499, \"coherence_55_list\": [0.8360587088556475, 0.8901683567782601, 0.5104955252749404, 0.5173370240112288, 0.6028039082656746, 0.7134007905691054, 0.5971433308402752, 0.5553087485966325, 0.7807575799163781, 0.4717169822691892, 0.8038361560157773, 0.6746972850519007, 0.3899042734933228, 0.9498877089971764, 0.532084174716023, 0.6933777645677494, 0.9573375936289539, 0.7559931025865738, 0.5101963865108213, 0.5074292455904243], \"coherence_55\": 0.6624967323268028, \"npmi_15\": null, \"npmi_25\": null}, \"fitness_name\": \"default\", \"dataset\": \"__noname__\", \"topic_count\": 20, \"train_option\": \"offline\", \"force_dataset_settings_checkout\": false}\n",
            "2023-12-19 09:36:13,183 - root - INFO - Loading dataset entities\n",
            "2023-12-19 09:36:13,184 - root - INFO - Reading dictionary from autotm_artifacts/1659e6bd-8d17-49de-9ba8-9790c2047501/dictionary.txt\n",
            "2023-12-19 09:36:13,871 - root - INFO - Dataset entities initialization took  0.69\n",
            "2023-12-19 09:36:13,874 - root - INFO - Using TM model: <class 'autotm.fitness.tm.TopicModel'> according to fitness name: default, topics count: 20\n",
            "20it [00:00, 673.97it/s]\n",
            "0it [00:00, ?it/s]\n",
            "3it [00:00, 514.18it/s]\n",
            "0it [00:00, ?it/s]\n",
            "20it [00:00, 634.75it/s]\n",
            "0it [00:00, ?it/s]\n",
            "3it [00:00, 439.52it/s]\n",
            "0it [00:00, ?it/s]\n",
            "20it [00:00, 654.18it/s]\n",
            "0it [00:00, ?it/s]\n",
            "3it [00:00, 395.15it/s]\n",
            "0it [00:00, ?it/s]\n",
            "20it [00:00, 604.07it/s]\n",
            "0it [00:00, ?it/s]\n",
            "3it [00:00, 1019.11it/s]\n",
            "0it [00:00, ?it/s]\n"
          ]
        },
        {
          "output_type": "stream",
          "name": "stdout",
          "text": [
            "Training is complete\n"
          ]
        },
        {
          "output_type": "stream",
          "name": "stderr",
          "text": [
            "2023-12-19 09:36:22,780 - root - INFO - Building dictionary\n"
          ]
        },
        {
          "output_type": "stream",
          "name": "stdout",
          "text": [
            "Wow! all topics\n"
          ]
        },
        {
          "output_type": "stream",
          "name": "stderr",
          "text": [
            "20it [00:00, 662.90it/s]\n",
            "0it [00:00, ?it/s]\n",
            "3it [00:00, 1208.62it/s]\n",
            "0it [00:00, ?it/s]\n"
          ]
        },
        {
          "output_type": "stream",
          "name": "stdout",
          "text": [
            "COMPONENTS:  0.6681722920717499 0.4168148985023213\n"
          ]
        },
        {
          "output_type": "stream",
          "name": "stderr",
          "text": [
            "20it [00:00, 9095.31it/s]\n",
            "0it [00:00, ?it/s]\n",
            "20it [00:00, 2303.61it/s]\n",
            "0it [00:00, ?it/s]\n",
            "20it [00:00, 3122.04it/s]\n",
            "0it [00:00, ?it/s]\n",
            "20it [00:00, 2755.24it/s]\n",
            "0it [00:00, ?it/s]\n",
            "20it [00:00, 1016.48it/s]\n",
            "0it [00:00, ?it/s]\n",
            "20it [00:00, 931.66it/s]\n",
            "0it [00:00, ?it/s]\n",
            "20it [00:00, 818.26it/s]\n",
            "0it [00:00, ?it/s]\n",
            "20it [00:00, 611.96it/s]\n",
            "0it [00:00, ?it/s]\n",
            "20it [00:00, 471.38it/s]\n",
            "0it [00:00, ?it/s]\n",
            "20it [00:00, 400.12it/s]\n",
            "0it [00:00, ?it/s]\n",
            "2023-12-19 09:36:23,898 - root - INFO - Fitness estimation took  10.71\n",
            "2023-12-19 09:36:24,570 - root - INFO - Logging params and artifacts to mlflow\n",
            "2023-12-19 09:36:24,571 - root - INFO - Created experiment_None\n",
            "2023-12-19 09:36:24,584 - root - INFO - Experiment exists, omitting creation\n",
            "2023-12-19 09:36:24,597 - root - DEBUG - Params dict: {'val_decor': 97940.71436621057, 'var_n_0': 26.0, 'var_sm_0': 99.20910387131745, 'var_sm_1': 16.794638023225, 'var_n_1': 0, 'var_sp_0': -224.67175374834932, 'var_sp_1': -631.1990938763856, 'var_n_2': 30, 'var_sp_2': -299.75892154776363, 'var_sp_3': 890.6597119625408, 'var_n_3': 28.0, 'var_n_4': 3.0, 'ext_mutation_prob': 0.5202512404944241, 'ext_elem_mutation_prob': 0.3353393609599058, 'ext_mutation_selector': 0.05647051138561909, 'val_decor_2': 91915.81143344557}\n"
          ]
        },
        {
          "output_type": "stream",
          "name": "stdout",
          "text": [
            "Experiment run name: fitness-__noname__-4df3b769-2ee7-4e01-95ff-47890677748e_tmp_1\n"
          ]
        },
        {
          "output_type": "stream",
          "name": "stderr",
          "text": [
            "2023-12-19 09:36:24,903 - root - INFO - Logged params and artifacts to mlflow\n",
            "2023-12-19 09:36:24,914 - root - INFO - Deleting bigartm logs: []\n",
            "2023-12-19 09:36:24,950 - GA_algo - INFO - ENTERING GENERATION 2\n",
            "2023-12-19 09:36:24,951 - GA_algo - INFO - PAIRS ARE CREATED\n",
            "2023-12-19 09:36:24,956 - GA_algo - INFO - CURRENT COUNTER: 65\n",
            "2023-12-19 09:36:24,959 - root - INFO - Calculating fitness...\n",
            "2023-12-19 09:36:24,961 - root - INFO - Doing fitness calculating with individual {\"id\": \"6af2050c-12cf-4e85-a454-6535ddad23e5\", \"data_path\": \"autotm_artifacts/1659e6bd-8d17-49de-9ba8-9790c2047501\", \"params\": [100000.0, 30, 100.0, 0, 0.0, 207.99036400619377, -1000.0, 29.0, -238.50230469861745, 1000.0, 30, 5, 0.5202512404944241, 0.3353393609599058, 0.05647051138561909, 100000.0], \"exp_id\": 0, \"alg_id\": \"ga\", \"iteration_id\": 2, \"tag\": \"v0\", \"fitness_value\": null, \"fitness_name\": \"default\", \"dataset\": \"__noname__\", \"topic_count\": 20, \"train_option\": \"offline\", \"force_dataset_settings_checkout\": false}\n",
            "2023-12-19 09:36:24,963 - root - INFO - Loading dataset entities\n",
            "2023-12-19 09:36:24,965 - root - INFO - Reading dictionary from autotm_artifacts/1659e6bd-8d17-49de-9ba8-9790c2047501/dictionary.txt\n",
            "2023-12-19 09:36:25,569 - root - INFO - Dataset entities initialization took  0.60\n",
            "2023-12-19 09:36:25,571 - root - INFO - Using TM model: <class 'autotm.fitness.tm.TopicModel'> according to fitness name: default, topics count: 20\n",
            "20it [00:00, 628.38it/s]\n",
            "0it [00:00, ?it/s]\n",
            "5it [00:00, 394.63it/s]\n",
            "0it [00:00, ?it/s]\n",
            "20it [00:00, 702.11it/s]\n",
            "0it [00:00, ?it/s]\n",
            "5it [00:00, 445.78it/s]\n",
            "0it [00:00, ?it/s]\n",
            "20it [00:00, 624.18it/s]\n",
            "0it [00:00, ?it/s]\n",
            "5it [00:00, 427.56it/s]\n",
            "0it [00:00, ?it/s]\n",
            "20it [00:00, 663.12it/s]\n",
            "0it [00:00, ?it/s]\n",
            "5it [00:00, 679.57it/s]\n",
            "0it [00:00, ?it/s]\n"
          ]
        },
        {
          "output_type": "stream",
          "name": "stdout",
          "text": [
            "Training is complete\n"
          ]
        },
        {
          "output_type": "stream",
          "name": "stderr",
          "text": [
            "2023-12-19 09:36:35,831 - root - INFO - Building dictionary\n"
          ]
        },
        {
          "output_type": "stream",
          "name": "stdout",
          "text": [
            "Wow! all topics\n"
          ]
        },
        {
          "output_type": "stream",
          "name": "stderr",
          "text": [
            "20it [00:00, 652.68it/s]\n",
            "0it [00:00, ?it/s]\n",
            "5it [00:00, 606.38it/s]\n",
            "0it [00:00, ?it/s]\n"
          ]
        },
        {
          "output_type": "stream",
          "name": "stdout",
          "text": [
            "COMPONENTS:  0.614756617759016 0.3790464770407474\n"
          ]
        },
        {
          "output_type": "stream",
          "name": "stderr",
          "text": [
            "20it [00:00, 8514.62it/s]\n",
            "0it [00:00, ?it/s]\n",
            "20it [00:00, 5050.03it/s]\n",
            "0it [00:00, ?it/s]\n",
            "20it [00:00, 2862.91it/s]\n",
            "0it [00:00, ?it/s]\n",
            "20it [00:00, 2103.04it/s]\n",
            "0it [00:00, ?it/s]\n",
            "20it [00:00, 1000.85it/s]\n",
            "0it [00:00, ?it/s]\n",
            "20it [00:00, 783.58it/s]\n",
            "0it [00:00, ?it/s]\n",
            "20it [00:00, 703.73it/s]\n",
            "0it [00:00, ?it/s]\n",
            "20it [00:00, 642.63it/s]\n",
            "0it [00:00, ?it/s]\n",
            "20it [00:00, 503.29it/s]\n",
            "0it [00:00, ?it/s]\n",
            "20it [00:00, 433.46it/s]\n",
            "0it [00:00, ?it/s]\n",
            "2023-12-19 09:36:37,062 - root - INFO - Fitness estimation took  12.10\n",
            "2023-12-19 09:36:37,802 - root - INFO - Deleting bigartm logs: []\n",
            "2023-12-19 09:36:37,838 - root - INFO - Doing fitness calculating with individual {\"id\": \"5ba28879-5762-4dca-9338-31478e057b1b\", \"data_path\": \"autotm_artifacts/1659e6bd-8d17-49de-9ba8-9790c2047501\", \"params\": [96900.5323789327, 23.0, 98.80960809794604, 25.27790992488128, 0.0, -369.19808056704215, -444.911163175093, 30.0, -320.2210638598616, 835.4299778090287, 26.0, 1.0, 0.5202512404944241, 0.3353393609599058, 0.05647051138561909, 87832.34326821906], \"exp_id\": 0, \"alg_id\": \"ga\", \"iteration_id\": 2, \"tag\": \"v0\", \"fitness_value\": null, \"fitness_name\": \"default\", \"dataset\": \"__noname__\", \"topic_count\": 20, \"train_option\": \"offline\", \"force_dataset_settings_checkout\": false}\n",
            "2023-12-19 09:36:37,839 - root - INFO - Loading dataset entities\n",
            "2023-12-19 09:36:37,845 - root - INFO - Reading dictionary from autotm_artifacts/1659e6bd-8d17-49de-9ba8-9790c2047501/dictionary.txt\n",
            "2023-12-19 09:36:38,422 - root - INFO - Dataset entities initialization took  0.58\n",
            "2023-12-19 09:36:38,423 - root - INFO - Using TM model: <class 'autotm.fitness.tm.TopicModel'> according to fitness name: default, topics count: 20\n",
            "20it [00:00, 479.65it/s]\n",
            "0it [00:00, ?it/s]\n",
            "1it [00:00, 454.67it/s]\n",
            "0it [00:00, ?it/s]\n",
            "20it [00:00, 519.67it/s]\n",
            "0it [00:00, ?it/s]\n",
            "1it [00:00, 528.85it/s]\n",
            "0it [00:00, ?it/s]\n",
            "20it [00:00, 459.33it/s]\n",
            "0it [00:00, ?it/s]\n",
            "1it [00:00, 257.64it/s]\n",
            "0it [00:00, ?it/s]\n",
            "20it [00:00, 681.15it/s]\n",
            "0it [00:00, ?it/s]\n",
            "1it [00:00, 2538.92it/s]\n",
            "0it [00:00, ?it/s]\n"
          ]
        },
        {
          "output_type": "stream",
          "name": "stdout",
          "text": [
            "Training is complete\n"
          ]
        },
        {
          "output_type": "stream",
          "name": "stderr",
          "text": [
            "2023-12-19 09:36:46,467 - root - INFO - Building dictionary\n"
          ]
        },
        {
          "output_type": "stream",
          "name": "stdout",
          "text": [
            "Wow! all topics\n"
          ]
        },
        {
          "output_type": "stream",
          "name": "stderr",
          "text": [
            "20it [00:00, 686.05it/s]\n",
            "0it [00:00, ?it/s]\n",
            "1it [00:00, 2562.19it/s]\n",
            "0it [00:00, ?it/s]\n"
          ]
        },
        {
          "output_type": "stream",
          "name": "stdout",
          "text": [
            "COMPONENTS:  0.7219802546526959 0.45674500358089554\n"
          ]
        },
        {
          "output_type": "stream",
          "name": "stderr",
          "text": [
            "20it [00:00, 10982.73it/s]\n",
            "0it [00:00, ?it/s]\n",
            "20it [00:00, 5348.17it/s]\n",
            "0it [00:00, ?it/s]\n",
            "20it [00:00, 3366.89it/s]\n",
            "0it [00:00, ?it/s]\n",
            "20it [00:00, 1328.03it/s]\n",
            "0it [00:00, ?it/s]\n",
            "20it [00:00, 876.77it/s]\n",
            "0it [00:00, ?it/s]\n",
            "20it [00:00, 983.54it/s]\n",
            "0it [00:00, ?it/s]\n",
            "20it [00:00, 913.78it/s]\n",
            "0it [00:00, ?it/s]\n",
            "20it [00:00, 595.93it/s]\n",
            "0it [00:00, ?it/s]\n",
            "20it [00:00, 567.02it/s]\n",
            "0it [00:00, ?it/s]\n",
            "20it [00:00, 427.28it/s]\n",
            "0it [00:00, ?it/s]\n",
            "2023-12-19 09:36:47,446 - root - INFO - Fitness estimation took  9.61\n",
            "2023-12-19 09:36:48,039 - root - INFO - Deleting bigartm logs: []\n",
            "2023-12-19 09:36:48,079 - root - INFO - Doing fitness calculating with individual {\"id\": \"bf4a00c7-42e9-4bc8-a909-9724f3607b49\", \"data_path\": \"autotm_artifacts/1659e6bd-8d17-49de-9ba8-9790c2047501\", \"params\": [96887.1876058615, 23.0, 98.80448285976293, 25.38674409026143, 0, 17.968628717110676, -752.5488164011348, 30, -383.7117924383422, 834.7214207698994, 27.0, 1.0, 0.9609792888292359, 0.13056841268079034, 0.9253274209331299, 87779.95536237671], \"exp_id\": 0, \"alg_id\": \"ga\", \"iteration_id\": 2, \"tag\": \"v0\", \"fitness_value\": null, \"fitness_name\": \"default\", \"dataset\": \"__noname__\", \"topic_count\": 20, \"train_option\": \"offline\", \"force_dataset_settings_checkout\": false}\n",
            "2023-12-19 09:36:48,081 - root - INFO - Loading dataset entities\n",
            "2023-12-19 09:36:48,083 - root - INFO - Reading dictionary from autotm_artifacts/1659e6bd-8d17-49de-9ba8-9790c2047501/dictionary.txt\n",
            "2023-12-19 09:36:48,664 - root - INFO - Dataset entities initialization took  0.58\n",
            "2023-12-19 09:36:48,665 - root - INFO - Using TM model: <class 'autotm.fitness.tm.TopicModel'> according to fitness name: default, topics count: 20\n",
            "20it [00:00, 671.31it/s]\n",
            "0it [00:00, ?it/s]\n",
            "1it [00:00, 536.70it/s]\n",
            "0it [00:00, ?it/s]\n",
            "20it [00:00, 569.62it/s]\n",
            "0it [00:00, ?it/s]\n",
            "1it [00:00, 440.44it/s]\n",
            "0it [00:00, ?it/s]\n",
            "20it [00:00, 568.37it/s]\n",
            "0it [00:00, ?it/s]\n",
            "1it [00:00, 230.09it/s]\n",
            "0it [00:00, ?it/s]\n",
            "20it [00:00, 486.30it/s]\n",
            "0it [00:00, ?it/s]\n",
            "1it [00:00, 256.28it/s]\n",
            "0it [00:00, ?it/s]\n"
          ]
        },
        {
          "output_type": "stream",
          "name": "stdout",
          "text": [
            "Training is complete\n"
          ]
        },
        {
          "output_type": "stream",
          "name": "stderr",
          "text": [
            "2023-12-19 09:36:56,746 - root - INFO - Building dictionary\n"
          ]
        },
        {
          "output_type": "stream",
          "name": "stdout",
          "text": [
            "Wow! all topics\n"
          ]
        },
        {
          "output_type": "stream",
          "name": "stderr",
          "text": [
            "20it [00:00, 678.37it/s]\n",
            "0it [00:00, ?it/s]\n",
            "1it [00:00, 2597.09it/s]\n",
            "0it [00:00, ?it/s]\n"
          ]
        },
        {
          "output_type": "stream",
          "name": "stdout",
          "text": [
            "COMPONENTS:  0.7229624812585361 0.45674500358089537\n"
          ]
        },
        {
          "output_type": "stream",
          "name": "stderr",
          "text": [
            "20it [00:00, 8567.67it/s]\n",
            "0it [00:00, ?it/s]\n",
            "20it [00:00, 4585.19it/s]\n",
            "0it [00:00, ?it/s]\n",
            "20it [00:00, 3513.70it/s]\n",
            "0it [00:00, ?it/s]\n",
            "20it [00:00, 1119.88it/s]\n",
            "0it [00:00, ?it/s]\n",
            "20it [00:00, 1059.25it/s]\n",
            "0it [00:00, ?it/s]\n",
            "20it [00:00, 1002.53it/s]\n",
            "0it [00:00, ?it/s]\n",
            "20it [00:00, 812.56it/s]\n",
            "0it [00:00, ?it/s]\n",
            "20it [00:00, 710.84it/s]\n",
            "0it [00:00, ?it/s]\n",
            "20it [00:00, 483.62it/s]\n",
            "0it [00:00, ?it/s]\n",
            "20it [00:00, 436.65it/s]\n",
            "0it [00:00, ?it/s]\n",
            "2023-12-19 09:36:57,730 - root - INFO - Fitness estimation took  9.65\n",
            "2023-12-19 09:36:58,336 - root - INFO - Deleting bigartm logs: []\n",
            "2023-12-19 09:36:58,375 - root - INFO - Doing fitness calculating with individual {\"id\": \"63ee6dd2-db8f-4cb6-9afd-110859329c9f\", \"data_path\": \"autotm_artifacts/1659e6bd-8d17-49de-9ba8-9790c2047501\", \"params\": [96892.43485383395, 30, 100.0, 25.34394981788416, 0, -339.04092750435984, -1000.0, 30.0, -418.6249974135577, 835.000029815335, 26.0, 1.0, 0.9306060634954084, 0.3382581659148661, 0.7286558208865347, 91099.03529212289], \"exp_id\": 0, \"alg_id\": \"ga\", \"iteration_id\": 2, \"tag\": \"v0\", \"fitness_value\": null, \"fitness_name\": \"default\", \"dataset\": \"__noname__\", \"topic_count\": 20, \"train_option\": \"offline\", \"force_dataset_settings_checkout\": false}\n",
            "2023-12-19 09:36:58,376 - root - INFO - Loading dataset entities\n",
            "2023-12-19 09:36:58,378 - root - INFO - Reading dictionary from autotm_artifacts/1659e6bd-8d17-49de-9ba8-9790c2047501/dictionary.txt\n",
            "2023-12-19 09:36:58,965 - root - INFO - Dataset entities initialization took  0.59\n",
            "2023-12-19 09:36:58,967 - root - INFO - Using TM model: <class 'autotm.fitness.tm.TopicModel'> according to fitness name: default, topics count: 20\n",
            "20it [00:00, 663.44it/s]\n",
            "0it [00:00, ?it/s]\n",
            "1it [00:00, 542.46it/s]\n",
            "0it [00:00, ?it/s]\n",
            "20it [00:00, 597.70it/s]\n",
            "0it [00:00, ?it/s]\n",
            "1it [00:00, 464.43it/s]\n",
            "0it [00:00, ?it/s]\n",
            "20it [00:00, 552.38it/s]\n",
            "0it [00:00, ?it/s]\n",
            "1it [00:00, 534.58it/s]\n",
            "0it [00:00, ?it/s]\n",
            "20it [00:00, 677.49it/s]\n",
            "0it [00:00, ?it/s]\n",
            "1it [00:00, 1340.46it/s]\n",
            "0it [00:00, ?it/s]\n"
          ]
        },
        {
          "output_type": "stream",
          "name": "stdout",
          "text": [
            "Training is complete\n"
          ]
        },
        {
          "output_type": "stream",
          "name": "stderr",
          "text": [
            "2023-12-19 09:37:06,609 - root - INFO - Building dictionary\n"
          ]
        },
        {
          "output_type": "stream",
          "name": "stdout",
          "text": [
            "Wow! all topics\n"
          ]
        },
        {
          "output_type": "stream",
          "name": "stderr",
          "text": [
            "20it [00:00, 467.27it/s]\n",
            "0it [00:00, ?it/s]\n",
            "1it [00:00, 2291.97it/s]\n",
            "0it [00:00, ?it/s]\n"
          ]
        },
        {
          "output_type": "stream",
          "name": "stdout",
          "text": [
            "COMPONENTS:  0.7250190390323662 0.46476695188644085\n"
          ]
        },
        {
          "output_type": "stream",
          "name": "stderr",
          "text": [
            "20it [00:00, 3431.20it/s]\n",
            "0it [00:00, ?it/s]\n",
            "20it [00:00, 5376.62it/s]\n",
            "0it [00:00, ?it/s]\n",
            "20it [00:00, 1374.57it/s]\n",
            "0it [00:00, ?it/s]\n",
            "20it [00:00, 1580.91it/s]\n",
            "0it [00:00, ?it/s]\n",
            "20it [00:00, 877.99it/s]\n",
            "0it [00:00, ?it/s]\n",
            "20it [00:00, 667.73it/s]\n",
            "0it [00:00, ?it/s]\n",
            "20it [00:00, 521.60it/s]\n",
            "0it [00:00, ?it/s]\n",
            "20it [00:00, 449.70it/s]\n",
            "0it [00:00, ?it/s]\n",
            "20it [00:00, 397.04it/s]\n",
            "0it [00:00, ?it/s]\n",
            "20it [00:00, 449.26it/s]\n",
            "0it [00:00, ?it/s]\n",
            "2023-12-19 09:37:08,175 - root - INFO - Fitness estimation took  9.80\n",
            "2023-12-19 09:37:08,967 - root - INFO - Deleting bigartm logs: []\n",
            "2023-12-19 09:37:09,021 - root - INFO - Doing fitness calculating with individual {\"id\": \"37382e34-ee28-410f-8952-ddfba78523d4\", \"data_path\": \"autotm_artifacts/1659e6bd-8d17-49de-9ba8-9790c2047501\", \"params\": [100000.0, 0, 0, 0, 30, 66.03367980917523, 537.0742570723403, 30, 46.17596403666212, 1000.0, 30.0, 5.0, 0.5202512404944241, 0.3353393609599058, 0.05647051138561909, 92950.95169246703], \"exp_id\": 0, \"alg_id\": \"ga\", \"iteration_id\": 2, \"tag\": \"v0\", \"fitness_value\": null, \"fitness_name\": \"default\", \"dataset\": \"__noname__\", \"topic_count\": 20, \"train_option\": \"offline\", \"force_dataset_settings_checkout\": false}\n",
            "2023-12-19 09:37:09,023 - root - INFO - Loading dataset entities\n",
            "2023-12-19 09:37:09,025 - root - INFO - Reading dictionary from autotm_artifacts/1659e6bd-8d17-49de-9ba8-9790c2047501/dictionary.txt\n",
            "2023-12-19 09:37:09,982 - root - INFO - Dataset entities initialization took  0.96\n",
            "2023-12-19 09:37:09,990 - root - INFO - Using TM model: <class 'autotm.fitness.tm.TopicModel'> according to fitness name: default, topics count: 20\n",
            "20it [00:00, 680.42it/s]\n",
            "0it [00:00, ?it/s]\n",
            "5it [00:00, 438.16it/s]\n",
            "0it [00:00, ?it/s]\n",
            "20it [00:00, 681.14it/s]\n",
            "0it [00:00, ?it/s]\n",
            "5it [00:00, 421.66it/s]\n",
            "0it [00:00, ?it/s]\n",
            "20it [00:00, 434.75it/s]\n",
            "0it [00:00, ?it/s]\n",
            "5it [00:00, 1767.96it/s]\n",
            "0it [00:00, ?it/s]\n"
          ]
        },
        {
          "output_type": "stream",
          "name": "stdout",
          "text": [
            "Training is complete\n"
          ]
        },
        {
          "output_type": "stream",
          "name": "stderr",
          "text": [
            "2023-12-19 09:37:19,708 - root - INFO - Building dictionary\n"
          ]
        },
        {
          "output_type": "stream",
          "name": "stdout",
          "text": [
            "Wow! all topics\n"
          ]
        },
        {
          "output_type": "stream",
          "name": "stderr",
          "text": [
            "20it [00:00, 314.14it/s]\n",
            "0it [00:00, ?it/s]\n",
            "5it [00:00, 1232.53it/s]\n",
            "0it [00:00, ?it/s]\n"
          ]
        },
        {
          "output_type": "stream",
          "name": "stdout",
          "text": [
            "COMPONENTS:  0.6118317417029857 0.37860782380602326\n"
          ]
        },
        {
          "output_type": "stream",
          "name": "stderr",
          "text": [
            "20it [00:00, 9094.33it/s]\n",
            "0it [00:00, ?it/s]\n",
            "20it [00:00, 3313.43it/s]\n",
            "0it [00:00, ?it/s]\n",
            "20it [00:00, 3709.48it/s]\n",
            "0it [00:00, ?it/s]\n",
            "20it [00:00, 1590.74it/s]\n",
            "0it [00:00, ?it/s]\n",
            "20it [00:00, 1157.29it/s]\n",
            "0it [00:00, ?it/s]\n",
            "20it [00:00, 918.15it/s]\n",
            "0it [00:00, ?it/s]\n",
            "20it [00:00, 913.08it/s]\n",
            "0it [00:00, ?it/s]\n",
            "20it [00:00, 567.80it/s]\n",
            "0it [00:00, ?it/s]\n",
            "20it [00:00, 463.22it/s]\n",
            "0it [00:00, ?it/s]\n",
            "20it [00:00, 482.31it/s]\n",
            "0it [00:00, ?it/s]\n",
            "2023-12-19 09:37:21,620 - root - INFO - Fitness estimation took  12.60\n",
            "2023-12-19 09:37:22,657 - root - INFO - Deleting bigartm logs: []\n",
            "2023-12-19 09:37:22,731 - root - INFO - Doing fitness calculating with individual {\"id\": \"dcc948cf-614c-45a7-9da7-6d8fea0d5a7d\", \"data_path\": \"autotm_artifacts/1659e6bd-8d17-49de-9ba8-9790c2047501\", \"params\": [98985.12476778973, 29.0, 99.6102236236292, 8.276881013511098, 10.0, -80.69717529395004, -818.2442983624323, 22.0, -279.37489616978525, 946.113958942278, 29.0, 4.0, 0.5202512404944241, 0.3353393609599058, 0.05647051138561909, 96015.87918932064], \"exp_id\": 0, \"alg_id\": \"ga\", \"iteration_id\": 2, \"tag\": \"v0\", \"fitness_value\": null, \"fitness_name\": \"default\", \"dataset\": \"__noname__\", \"topic_count\": 20, \"train_option\": \"offline\", \"force_dataset_settings_checkout\": false}\n",
            "2023-12-19 09:37:22,733 - root - INFO - Loading dataset entities\n",
            "2023-12-19 09:37:22,735 - root - INFO - Reading dictionary from autotm_artifacts/1659e6bd-8d17-49de-9ba8-9790c2047501/dictionary.txt\n",
            "2023-12-19 09:37:23,775 - root - INFO - Dataset entities initialization took  1.04\n",
            "2023-12-19 09:37:23,782 - root - INFO - Using TM model: <class 'autotm.fitness.tm.TopicModel'> according to fitness name: default, topics count: 20\n",
            "20it [00:00, 685.28it/s]\n",
            "0it [00:00, ?it/s]\n",
            "4it [00:00, 281.54it/s]\n",
            "0it [00:00, ?it/s]\n",
            "20it [00:00, 662.17it/s]\n",
            "0it [00:00, ?it/s]\n",
            "4it [00:00, 483.63it/s]\n",
            "0it [00:00, ?it/s]\n",
            "20it [00:00, 651.03it/s]\n",
            "0it [00:00, ?it/s]\n",
            "4it [00:00, 411.91it/s]\n",
            "0it [00:00, ?it/s]\n",
            "20it [00:00, 686.95it/s]\n",
            "0it [00:00, ?it/s]\n",
            "4it [00:00, 677.81it/s]\n",
            "0it [00:00, ?it/s]\n"
          ]
        },
        {
          "output_type": "stream",
          "name": "stdout",
          "text": [
            "Training is complete\n"
          ]
        },
        {
          "output_type": "stream",
          "name": "stderr",
          "text": [
            "2023-12-19 09:37:34,019 - root - INFO - Building dictionary\n"
          ]
        },
        {
          "output_type": "stream",
          "name": "stdout",
          "text": [
            "Wow! all topics\n"
          ]
        },
        {
          "output_type": "stream",
          "name": "stderr",
          "text": [
            "20it [00:00, 695.68it/s]\n",
            "0it [00:00, ?it/s]\n",
            "4it [00:00, 860.19it/s]\n",
            "0it [00:00, ?it/s]\n"
          ]
        },
        {
          "output_type": "stream",
          "name": "stdout",
          "text": [
            "COMPONENTS:  0.6055192074371007 0.43495168796042166\n"
          ]
        },
        {
          "output_type": "stream",
          "name": "stderr",
          "text": [
            "20it [00:00, 9352.89it/s]\n",
            "0it [00:00, ?it/s]\n",
            "20it [00:00, 5518.82it/s]\n",
            "0it [00:00, ?it/s]\n",
            "20it [00:00, 3219.70it/s]\n",
            "0it [00:00, ?it/s]\n",
            "20it [00:00, 1264.74it/s]\n",
            "0it [00:00, ?it/s]\n",
            "20it [00:00, 1098.68it/s]\n",
            "0it [00:00, ?it/s]\n",
            "20it [00:00, 876.18it/s]\n",
            "0it [00:00, ?it/s]\n",
            "20it [00:00, 828.14it/s]\n",
            "0it [00:00, ?it/s]\n",
            "20it [00:00, 521.05it/s]\n",
            "0it [00:00, ?it/s]\n",
            "20it [00:00, 397.05it/s]\n",
            "0it [00:00, ?it/s]\n",
            "20it [00:00, 358.04it/s]\n",
            "0it [00:00, ?it/s]\n",
            "2023-12-19 09:37:35,361 - root - INFO - Fitness estimation took  12.63\n",
            "2023-12-19 09:37:36,388 - root - INFO - Deleting bigartm logs: []\n",
            "2023-12-19 09:37:36,443 - root - INFO - Doing fitness calculating with individual {\"id\": \"0ae15874-68ff-4f6a-8eb5-4b1e0dffe3b2\", \"data_path\": \"autotm_artifacts/1659e6bd-8d17-49de-9ba8-9790c2047501\", \"params\": [96884.22696012486, 30, 100.0, 25.410889829272108, 0, -339.93642342000066, -1000.0, 30.0, -419.5557034941416, 834.5642216653607, 26.0, 1.0, 0.9306060634954084, 0.3382581659148661, 0.7286558208865347, 91092.64004002369], \"exp_id\": 0, \"alg_id\": \"ga\", \"iteration_id\": 2, \"tag\": \"v0\", \"fitness_value\": null, \"fitness_name\": \"default\", \"dataset\": \"__noname__\", \"topic_count\": 20, \"train_option\": \"offline\", \"force_dataset_settings_checkout\": false}\n",
            "2023-12-19 09:37:36,447 - root - INFO - Loading dataset entities\n",
            "2023-12-19 09:37:36,450 - root - INFO - Reading dictionary from autotm_artifacts/1659e6bd-8d17-49de-9ba8-9790c2047501/dictionary.txt\n",
            "2023-12-19 09:37:37,424 - root - INFO - Dataset entities initialization took  0.97\n",
            "2023-12-19 09:37:37,429 - root - INFO - Using TM model: <class 'autotm.fitness.tm.TopicModel'> according to fitness name: default, topics count: 20\n",
            "20it [00:00, 706.28it/s]\n",
            "0it [00:00, ?it/s]\n",
            "1it [00:00, 492.69it/s]\n",
            "0it [00:00, ?it/s]\n",
            "20it [00:00, 670.38it/s]\n",
            "0it [00:00, ?it/s]\n",
            "1it [00:00, 599.36it/s]\n",
            "0it [00:00, ?it/s]\n",
            "20it [00:00, 708.69it/s]\n",
            "0it [00:00, ?it/s]\n",
            "1it [00:00, 533.15it/s]\n",
            "0it [00:00, ?it/s]\n",
            "20it [00:00, 697.27it/s]\n",
            "0it [00:00, ?it/s]\n",
            "1it [00:00, 2305.83it/s]\n",
            "0it [00:00, ?it/s]\n"
          ]
        },
        {
          "output_type": "stream",
          "name": "stdout",
          "text": [
            "Training is complete\n"
          ]
        },
        {
          "output_type": "stream",
          "name": "stderr",
          "text": [
            "2023-12-19 09:37:45,830 - root - INFO - Building dictionary\n"
          ]
        },
        {
          "output_type": "stream",
          "name": "stdout",
          "text": [
            "Wow! all topics\n"
          ]
        },
        {
          "output_type": "stream",
          "name": "stderr",
          "text": [
            "20it [00:00, 726.49it/s]\n",
            "0it [00:00, ?it/s]\n",
            "1it [00:00, 2164.24it/s]\n",
            "0it [00:00, ?it/s]\n"
          ]
        },
        {
          "output_type": "stream",
          "name": "stdout",
          "text": [
            "COMPONENTS:  0.725012406748779 0.46476695188644085\n"
          ]
        },
        {
          "output_type": "stream",
          "name": "stderr",
          "text": [
            "20it [00:00, 7460.52it/s]\n",
            "0it [00:00, ?it/s]\n",
            "20it [00:00, 4809.43it/s]\n",
            "0it [00:00, ?it/s]\n",
            "20it [00:00, 3069.38it/s]\n",
            "0it [00:00, ?it/s]\n",
            "20it [00:00, 956.23it/s]\n",
            "0it [00:00, ?it/s]\n",
            "20it [00:00, 1417.31it/s]\n",
            "0it [00:00, ?it/s]\n",
            "20it [00:00, 863.57it/s]\n",
            "0it [00:00, ?it/s]\n",
            "20it [00:00, 825.22it/s]\n",
            "0it [00:00, ?it/s]\n",
            "20it [00:00, 631.67it/s]\n",
            "0it [00:00, ?it/s]\n",
            "20it [00:00, 516.37it/s]\n",
            "0it [00:00, ?it/s]\n",
            "20it [00:00, 429.74it/s]\n",
            "0it [00:00, ?it/s]\n",
            "2023-12-19 09:37:46,902 - root - INFO - Fitness estimation took  10.45\n",
            "2023-12-19 09:37:47,551 - root - INFO - Deleting bigartm logs: []\n",
            "2023-12-19 09:37:47,588 - root - INFO - Doing fitness calculating with individual {\"id\": \"d1ab1f5e-99ac-4244-84cf-c3f98d3aadcd\", \"data_path\": \"autotm_artifacts/1659e6bd-8d17-49de-9ba8-9790c2047501\", \"params\": [96891.40848806949, 23.0, 98.80610394590231, 25.352320410681422, 0, 16.996506781697462, -752.0626371183463, 30, -383.37544105897, 834.9455336704207, 27.0, 1.0, 0.5202512404944241, 0.3353393609599058, 0.05647051138561909, 87796.52538410001], \"exp_id\": 0, \"alg_id\": \"ga\", \"iteration_id\": 2, \"tag\": \"v0\", \"fitness_value\": null, \"fitness_name\": \"default\", \"dataset\": \"__noname__\", \"topic_count\": 20, \"train_option\": \"offline\", \"force_dataset_settings_checkout\": false}\n",
            "2023-12-19 09:37:47,590 - root - INFO - Loading dataset entities\n",
            "2023-12-19 09:37:47,593 - root - INFO - Reading dictionary from autotm_artifacts/1659e6bd-8d17-49de-9ba8-9790c2047501/dictionary.txt\n",
            "2023-12-19 09:37:48,181 - root - INFO - Dataset entities initialization took  0.59\n",
            "2023-12-19 09:37:48,183 - root - INFO - Using TM model: <class 'autotm.fitness.tm.TopicModel'> according to fitness name: default, topics count: 20\n",
            "20it [00:00, 651.16it/s]\n",
            "0it [00:00, ?it/s]\n",
            "1it [00:00, 545.00it/s]\n",
            "0it [00:00, ?it/s]\n",
            "20it [00:00, 634.21it/s]\n",
            "0it [00:00, ?it/s]\n",
            "1it [00:00, 572.91it/s]\n",
            "0it [00:00, ?it/s]\n",
            "20it [00:00, 623.63it/s]\n",
            "0it [00:00, ?it/s]\n",
            "1it [00:00, 513.19it/s]\n",
            "0it [00:00, ?it/s]\n",
            "20it [00:00, 631.45it/s]\n",
            "0it [00:00, ?it/s]\n",
            "1it [00:00, 2669.83it/s]\n",
            "0it [00:00, ?it/s]\n"
          ]
        },
        {
          "output_type": "stream",
          "name": "stdout",
          "text": [
            "Training is complete\n"
          ]
        },
        {
          "output_type": "stream",
          "name": "stderr",
          "text": [
            "2023-12-19 09:37:56,310 - root - INFO - Building dictionary\n"
          ]
        },
        {
          "output_type": "stream",
          "name": "stdout",
          "text": [
            "Wow! all topics\n"
          ]
        },
        {
          "output_type": "stream",
          "name": "stderr",
          "text": [
            "20it [00:00, 762.28it/s]\n",
            "0it [00:00, ?it/s]\n",
            "1it [00:00, 2396.75it/s]\n",
            "0it [00:00, ?it/s]\n"
          ]
        },
        {
          "output_type": "stream",
          "name": "stdout",
          "text": [
            "COMPONENTS:  0.7229624812585361 0.45674500358089537\n"
          ]
        },
        {
          "output_type": "stream",
          "name": "stderr",
          "text": [
            "20it [00:00, 6036.71it/s]\n",
            "0it [00:00, ?it/s]\n",
            "20it [00:00, 1843.33it/s]\n",
            "0it [00:00, ?it/s]\n",
            "20it [00:00, 2566.58it/s]\n",
            "0it [00:00, ?it/s]\n",
            "20it [00:00, 2571.06it/s]\n",
            "0it [00:00, ?it/s]\n",
            "20it [00:00, 1146.78it/s]\n",
            "0it [00:00, ?it/s]\n",
            "20it [00:00, 979.93it/s]\n",
            "0it [00:00, ?it/s]\n",
            "20it [00:00, 751.10it/s]\n",
            "0it [00:00, ?it/s]\n",
            "20it [00:00, 618.36it/s]\n",
            "0it [00:00, ?it/s]\n",
            "20it [00:00, 514.23it/s]\n",
            "0it [00:00, ?it/s]\n",
            "20it [00:00, 438.98it/s]\n",
            "0it [00:00, ?it/s]\n",
            "2023-12-19 09:37:57,305 - root - INFO - Fitness estimation took  9.71\n",
            "2023-12-19 09:37:57,916 - root - INFO - Deleting bigartm logs: []\n",
            "2023-12-19 09:37:57,952 - root - INFO - Doing fitness calculating with individual {\"id\": \"59d5cdbb-6a13-4951-ada7-22ce0d560efc\", \"data_path\": \"autotm_artifacts/1659e6bd-8d17-49de-9ba8-9790c2047501\", \"params\": [100000.0, 30, 100.0, 0, 0.0, 287.56440093577254, -1000.0, 29.0, -388.694181355243, 1000.0, 30, 5, 0.5202512404944241, 0.3353393609599058, 0.05647051138561909, 100000.0], \"exp_id\": 0, \"alg_id\": \"ga\", \"iteration_id\": 2, \"tag\": \"v0\", \"fitness_value\": null, \"fitness_name\": \"default\", \"dataset\": \"__noname__\", \"topic_count\": 20, \"train_option\": \"offline\", \"force_dataset_settings_checkout\": false}\n",
            "2023-12-19 09:37:57,954 - root - INFO - Loading dataset entities\n",
            "2023-12-19 09:37:57,956 - root - INFO - Reading dictionary from autotm_artifacts/1659e6bd-8d17-49de-9ba8-9790c2047501/dictionary.txt\n",
            "2023-12-19 09:37:58,556 - root - INFO - Dataset entities initialization took  0.60\n",
            "2023-12-19 09:37:58,558 - root - INFO - Using TM model: <class 'autotm.fitness.tm.TopicModel'> according to fitness name: default, topics count: 20\n",
            "20it [00:00, 470.69it/s]\n",
            "0it [00:00, ?it/s]\n",
            "5it [00:00, 480.58it/s]\n",
            "0it [00:00, ?it/s]\n",
            "20it [00:00, 498.90it/s]\n",
            "0it [00:00, ?it/s]\n",
            "5it [00:00, 469.17it/s]\n",
            "0it [00:00, ?it/s]\n",
            "20it [00:00, 466.48it/s]\n",
            "0it [00:00, ?it/s]\n",
            "5it [00:00, 381.79it/s]\n",
            "0it [00:00, ?it/s]\n",
            "20it [00:00, 638.31it/s]\n",
            "0it [00:00, ?it/s]\n",
            "5it [00:00, 607.85it/s]\n",
            "0it [00:00, ?it/s]\n"
          ]
        },
        {
          "output_type": "stream",
          "name": "stdout",
          "text": [
            "Training is complete\n"
          ]
        },
        {
          "output_type": "stream",
          "name": "stderr",
          "text": [
            "2023-12-19 09:38:08,707 - root - INFO - Building dictionary\n"
          ]
        },
        {
          "output_type": "stream",
          "name": "stdout",
          "text": [
            "Wow! all topics\n"
          ]
        },
        {
          "output_type": "stream",
          "name": "stderr",
          "text": [
            "20it [00:00, 613.56it/s]\n",
            "0it [00:00, ?it/s]\n",
            "5it [00:00, 588.97it/s]\n",
            "0it [00:00, ?it/s]\n"
          ]
        },
        {
          "output_type": "stream",
          "name": "stdout",
          "text": [
            "COMPONENTS:  0.6144074053122593 0.37904647704074745\n"
          ]
        },
        {
          "output_type": "stream",
          "name": "stderr",
          "text": [
            "20it [00:00, 5302.53it/s]\n",
            "0it [00:00, ?it/s]\n",
            "20it [00:00, 5329.82it/s]\n",
            "0it [00:00, ?it/s]\n",
            "20it [00:00, 3027.61it/s]\n",
            "0it [00:00, ?it/s]\n",
            "20it [00:00, 1330.32it/s]\n",
            "0it [00:00, ?it/s]\n",
            "20it [00:00, 1070.58it/s]\n",
            "0it [00:00, ?it/s]\n",
            "20it [00:00, 727.96it/s]\n",
            "0it [00:00, ?it/s]\n",
            "20it [00:00, 574.44it/s]\n",
            "0it [00:00, ?it/s]\n",
            "20it [00:00, 509.72it/s]\n",
            "0it [00:00, ?it/s]\n",
            "20it [00:00, 418.28it/s]\n",
            "0it [00:00, ?it/s]\n",
            "20it [00:00, 443.62it/s]\n",
            "0it [00:00, ?it/s]\n",
            "2023-12-19 09:38:09,975 - root - INFO - Fitness estimation took  12.02\n",
            "2023-12-19 09:38:10,858 - root - INFO - Deleting bigartm logs: []\n",
            "2023-12-19 09:38:10,922 - root - INFO - Doing fitness calculating with individual {\"id\": \"406eee3d-3b51-442e-ac73-c4cb2c3f1b59\", \"data_path\": \"autotm_artifacts/1659e6bd-8d17-49de-9ba8-9790c2047501\", \"params\": [100000.0, 30.0, 100.0, 0.0, 0.0, 144.35951526685426, -1000.0, 30.0, -409.02276146078, 1000.0, 30.0, 5.0, 0.5202512404944241, 0.3353393609599058, 0.05647051138561909, 100000.0], \"exp_id\": 0, \"alg_id\": \"ga\", \"iteration_id\": 2, \"tag\": \"v0\", \"fitness_value\": null, \"fitness_name\": \"default\", \"dataset\": \"__noname__\", \"topic_count\": 20, \"train_option\": \"offline\", \"force_dataset_settings_checkout\": false}\n",
            "2023-12-19 09:38:10,924 - root - INFO - Loading dataset entities\n",
            "2023-12-19 09:38:10,925 - root - INFO - Reading dictionary from autotm_artifacts/1659e6bd-8d17-49de-9ba8-9790c2047501/dictionary.txt\n",
            "2023-12-19 09:38:11,846 - root - INFO - Dataset entities initialization took  0.92\n",
            "2023-12-19 09:38:11,848 - root - INFO - Using TM model: <class 'autotm.fitness.tm.TopicModel'> according to fitness name: default, topics count: 20\n",
            "20it [00:00, 406.34it/s]\n",
            "0it [00:00, ?it/s]\n",
            "5it [00:00, 362.48it/s]\n",
            "0it [00:00, ?it/s]\n",
            "20it [00:00, 475.28it/s]\n",
            "0it [00:00, ?it/s]\n",
            "5it [00:00, 454.90it/s]\n",
            "0it [00:00, ?it/s]\n",
            "20it [00:00, 514.17it/s]\n",
            "0it [00:00, ?it/s]\n",
            "5it [00:00, 452.97it/s]\n",
            "0it [00:00, ?it/s]\n",
            "20it [00:00, 689.57it/s]\n",
            "0it [00:00, ?it/s]\n",
            "5it [00:00, 500.75it/s]\n",
            "0it [00:00, ?it/s]\n"
          ]
        },
        {
          "output_type": "stream",
          "name": "stdout",
          "text": [
            "Training is complete\n"
          ]
        },
        {
          "output_type": "stream",
          "name": "stderr",
          "text": [
            "2023-12-19 09:38:22,787 - root - INFO - Building dictionary\n"
          ]
        },
        {
          "output_type": "stream",
          "name": "stdout",
          "text": [
            "Wow! all topics\n"
          ]
        },
        {
          "output_type": "stream",
          "name": "stderr",
          "text": [
            "20it [00:00, 690.92it/s]\n",
            "0it [00:00, ?it/s]\n",
            "5it [00:00, 498.38it/s]\n",
            "0it [00:00, ?it/s]\n"
          ]
        },
        {
          "output_type": "stream",
          "name": "stdout",
          "text": [
            "COMPONENTS:  0.6136843527914312 0.37904647704074745\n"
          ]
        },
        {
          "output_type": "stream",
          "name": "stderr",
          "text": [
            "20it [00:00, 15065.75it/s]\n",
            "0it [00:00, ?it/s]\n",
            "20it [00:00, 5422.15it/s]\n",
            "0it [00:00, ?it/s]\n",
            "20it [00:00, 3216.86it/s]\n",
            "0it [00:00, ?it/s]\n",
            "20it [00:00, 1253.43it/s]\n",
            "0it [00:00, ?it/s]\n",
            "20it [00:00, 969.49it/s]\n",
            "0it [00:00, ?it/s]\n",
            "20it [00:00, 895.39it/s]\n",
            "0it [00:00, ?it/s]\n",
            "20it [00:00, 901.76it/s]\n",
            "0it [00:00, ?it/s]\n",
            "20it [00:00, 607.57it/s]\n",
            "0it [00:00, ?it/s]\n",
            "20it [00:00, 443.95it/s]\n",
            "0it [00:00, ?it/s]\n",
            "20it [00:00, 458.24it/s]\n",
            "0it [00:00, ?it/s]\n",
            "2023-12-19 09:38:24,039 - root - INFO - Fitness estimation took  13.12\n",
            "2023-12-19 09:38:24,794 - root - INFO - Deleting bigartm logs: []\n",
            "2023-12-19 09:38:24,832 - root - INFO - The fitness results have been obtained\n",
            "2023-12-19 09:38:24,833 - GA_algo - INFO - ize of the new generation is 10\n",
            "2023-12-19 09:38:24,837 - GA_algo - INFO - TIME OF THE FITNESS FUNCTION IN CROSSOVER: 119.87771797180176\n",
            "2023-12-19 09:38:24,839 - GA_algo - INFO - CROSSOVER IS OVER\n",
            "2023-12-19 09:38:25,463 - root - INFO - Calculating fitness...\n",
            "2023-12-19 09:38:25,465 - root - INFO - Doing fitness calculating with individual {\"id\": \"63ee6dd2-db8f-4cb6-9afd-110859329c9f\", \"data_path\": \"autotm_artifacts/1659e6bd-8d17-49de-9ba8-9790c2047501\", \"params\": [96892.43485383395, 30, 100.0, 25.34394981788416, 0, -339.04092750435984, -1000.0, 30.0, -418.6249974135577, 835.000029815335, 26.0, 1.0, 0.9306060634954084, 0.3382581659148661, 0.7286558208865347, 91099.03529212289], \"exp_id\": null, \"alg_id\": \"ga\", \"iteration_id\": 2, \"tag\": \"v0\", \"fitness_value\": {\"avg_coherence_score\": 1.189785990918807, \"perplexityScore\": 1282.31201171875, \"backgroundTokensRatioScore\": 0.7377777695655823, \"contrast\": 0.8836859464645386, \"purity\": 0.8969407081604004, \"kernelSize\": 121.6500015258789, \"npmi_50_list\": null, \"npmi_50\": null, \"sparsity_phi\": 0.6633333563804626, \"sparsity_theta\": 0.0, \"topic_significance_uni\": null, \"topic_significance_vacuous\": null, \"topic_significance_back\": null, \"switchP_list\": [NaN], \"switchP\": NaN, \"all_topics\": true, \"coherence_10_list\": [0.31903521280939834, 0.8758205683080579, 0.28763487718125974, 0.882107189256187, 0.1921592785322912, 0.5958033922951873, 0.6840006850830135, 0.5643803197501599, 0.51737208052135, 0.2733091189752115, 0.431901601431943, 0.18063048981962065, 0.25125471613583034, 0.8127051740230897, 0.14584961617757847, 0.9086968445100421, 0.653339172247262, 0.3983758555588546, 0.4351360931955407, 0.18081363112934612], \"coherence_10\": 0.4795162958470612, \"coherence_15_list\": [0.32258051494917006, 1.0656398709901513, 0.29654143109920156, 1.1382348839082697, 0.2616262109216796, 0.5062116537761764, 0.7533097734005975, 0.3595262989881546, 0.5127420654802957, 0.3024880753245088, 0.6071176679396283, 0.20860257708981897, 0.283195699175262, 0.6788884206844773, 0.269338327356621, 0.8179934582871992, 0.8072972449156613, 0.41730441021634274, 0.4978218199606578, 0.25096790835097116], \"coherence_15\": 0.5178714156407421, \"coherence_20_list\": [0.44908860579802096, 0.9787329804365101, 0.41508079903872896, 1.0287762301209449, 0.5461819115574996, 0.540926304032627, 0.6112630216772951, 0.46759950898523184, 0.5163337236471164, 0.40900471016713985, 0.6695257538162931, 0.30775691955963214, 0.34124456377455115, 0.8287295566195586, 0.4042117049563767, 0.6683994436499937, 0.6975430211866304, 0.471922965803179, 0.6655640106759904, 0.3458461252595478], \"coherence_20\": 0.5681865930381435, \"coherence_25_list\": [0.5621485010659998, 1.1165689700007857, 0.5057192849553124, 1.0305012020405, 0.6590566869553075, 0.5330618268501179, 0.5767708226728978, 0.5063414029934117, 0.7549236153377695, 0.3750422085029907, 0.8745454981911841, 0.36845594001479803, 0.3471447013898829, 0.8292493547121247, 0.4489253136087687, 0.6955464904491284, 0.8171572422143125, 0.5725095389647654, 0.7778197716473514, 0.42359652211986376], \"coherence_25\": 0.6387542447343637, \"coherence_30_list\": [0.642870862214244, 1.2051300662936213, 0.5156554432200416, 0.9295623122677277, 0.7513496669174355, 0.6170673051728749, 0.5711557811022472, 0.48626453443361944, 0.7939697738026368, 0.41393921365023245, 0.9823665808552893, 0.46324012862791586, 0.36816578700731667, 0.8887386747465715, 0.5308933136442022, 0.743609221415891, 0.9361042357623608, 0.6398755985359756, 0.6919444948900594, 0.5157416257118895], \"coherence_30\": 0.6843822310136076, \"coherence_35_list\": [0.730341944416346, 1.140350137563999, 0.536447572681599, 0.929324829893507, 0.7741346939270745, 0.7588886097746389, 0.5741474473781807, 0.5144483776778697, 0.8224352043573127, 0.44616118923606385, 1.1150763847140168, 0.5848124217421329, 0.4420334919755613, 0.9543652194953292, 0.5553225241347486, 0.73928265484464, 0.9482581716338404, 0.7327805781131952, 0.5791819880681083, 0.5125548228667554], \"coherence_35\": 0.7195174132247459, \"coherence_40_list\": [0.7448956703493766, 1.057426030878085, 0.5227307635002147, 0.8778633557031048, 0.7868212002253469, 0.8188123256342388, 0.5647907501463789, 0.5541030823748765, 0.9104905706464292, 0.4514810001499825, 1.0601784244077173, 0.6995030075005059, 0.4699940301562885, 1.0413869122092532, 0.5656825697613581, 0.7151466286190119, 0.9159893894360543, 0.7368375894246725, 0.5408984088272203, 0.5742556674430002], \"coherence_40\": 0.7304643688696558, \"coherence_45_list\": [0.8009326834521384, 0.9977785947355087, 0.5100010026689679, 0.8876365513738252, 0.7911364456763367, 0.8523955018850001, 0.5695863473705401, 0.5621690110576616, 0.9210766593186345, 0.4612966847778936, 1.0241065232984448, 0.7453789992260548, 0.46101378527719916, 1.0071761236054073, 0.6264589974864009, 0.721275203602149, 0.9309280121753619, 0.753812761027535, 0.5016627013380506, 0.6036033068920855], \"coherence_45\": 0.7364712948122597, \"coherence_50_list\": [0.7687749404189993, 0.9302101718156464, 0.49112632084781965, 0.7838666962999339, 0.775474676052397, 0.8801397911867811, 0.5841331478227966, 0.5865880953880874, 0.9261881917214109, 0.4754711108941099, 0.9969978002810964, 0.7198528281776994, 0.46476695188644085, 0.9445657583715841, 0.6281785232716598, 0.6944652873945842, 0.9423200784940142, 0.8082534499141587, 0.49269938549802256, 0.6063075749100837], \"coherence_50\": 0.7250190390323662, \"coherence_55_list\": [0.7581404385654995, 0.9324990131399498, 0.49731756259903165, 0.707551713378943, 0.7853759189744743, 0.8993015772814192, 0.5576869504777087, 0.6064117169187112, 0.9790884777588884, 0.46104793297027274, 0.9367097429077224, 0.6869770997863642, 0.4796786396934126, 0.9308577771104469, 0.6492876432141518, 0.6781720719663724, 0.894408244364888, 0.7964821337392615, 0.4898558222922798, 0.6007567116335961], \"coherence_55\": 0.7163803594386696, \"npmi_15\": null, \"npmi_25\": null}, \"fitness_name\": \"default\", \"dataset\": \"__noname__\", \"topic_count\": 20, \"train_option\": \"offline\", \"force_dataset_settings_checkout\": false}\n",
            "2023-12-19 09:38:25,468 - root - INFO - Loading dataset entities\n",
            "2023-12-19 09:38:25,470 - root - INFO - Reading dictionary from autotm_artifacts/1659e6bd-8d17-49de-9ba8-9790c2047501/dictionary.txt\n",
            "2023-12-19 09:38:26,049 - root - INFO - Dataset entities initialization took  0.58\n",
            "2023-12-19 09:38:26,050 - root - INFO - Using TM model: <class 'autotm.fitness.tm.TopicModel'> according to fitness name: default, topics count: 20\n",
            "20it [00:00, 393.93it/s]\n",
            "0it [00:00, ?it/s]\n",
            "1it [00:00, 504.37it/s]\n",
            "0it [00:00, ?it/s]\n",
            "20it [00:00, 435.46it/s]\n",
            "0it [00:00, ?it/s]\n",
            "1it [00:00, 477.93it/s]\n",
            "0it [00:00, ?it/s]\n",
            "20it [00:00, 487.41it/s]\n",
            "0it [00:00, ?it/s]\n",
            "1it [00:00, 549.50it/s]\n",
            "0it [00:00, ?it/s]\n",
            "20it [00:00, 614.49it/s]\n",
            "0it [00:00, ?it/s]\n",
            "1it [00:00, 2145.42it/s]\n",
            "0it [00:00, ?it/s]\n"
          ]
        },
        {
          "output_type": "stream",
          "name": "stdout",
          "text": [
            "Training is complete\n"
          ]
        },
        {
          "output_type": "stream",
          "name": "stderr",
          "text": [
            "2023-12-19 09:38:34,985 - root - INFO - Building dictionary\n"
          ]
        },
        {
          "output_type": "stream",
          "name": "stdout",
          "text": [
            "Wow! all topics\n"
          ]
        },
        {
          "output_type": "stream",
          "name": "stderr",
          "text": [
            "20it [00:00, 664.65it/s]\n",
            "0it [00:00, ?it/s]\n",
            "1it [00:00, 2305.83it/s]\n",
            "0it [00:00, ?it/s]\n"
          ]
        },
        {
          "output_type": "stream",
          "name": "stdout",
          "text": [
            "COMPONENTS:  0.7250190390323662 0.46476695188644085\n"
          ]
        },
        {
          "output_type": "stream",
          "name": "stderr",
          "text": [
            "20it [00:00, 8115.91it/s]\n",
            "0it [00:00, ?it/s]\n",
            "20it [00:00, 5522.09it/s]\n",
            "0it [00:00, ?it/s]\n",
            "20it [00:00, 4572.94it/s]\n",
            "0it [00:00, ?it/s]\n",
            "20it [00:00, 1546.32it/s]\n",
            "0it [00:00, ?it/s]\n",
            "20it [00:00, 1127.06it/s]\n",
            "0it [00:00, ?it/s]\n",
            "20it [00:00, 1065.76it/s]\n",
            "0it [00:00, ?it/s]\n",
            "20it [00:00, 598.66it/s]\n",
            "0it [00:00, ?it/s]\n",
            "20it [00:00, 553.09it/s]\n",
            "0it [00:00, ?it/s]\n",
            "20it [00:00, 500.25it/s]\n",
            "0it [00:00, ?it/s]\n",
            "20it [00:00, 410.51it/s]\n",
            "0it [00:00, ?it/s]\n",
            "2023-12-19 09:38:36,054 - root - INFO - Fitness estimation took  10.59\n",
            "2023-12-19 09:38:36,689 - root - INFO - Deleting bigartm logs: []\n",
            "2023-12-19 09:38:36,725 - root - INFO - Doing fitness calculating with individual {\"id\": \"98267e85-e298-4526-b9fb-ee392b7e7cb5\", \"data_path\": \"autotm_artifacts/1659e6bd-8d17-49de-9ba8-9790c2047501\", \"params\": [96884.22696012486, 30.0, 100.0, 25.410889829272108, 0.0, -339.93642342000066, -1000.0, 30.0, -419.5557034941416, 834.5642216653607, 26.0, 1.0, 0.9306060634954084, 0.3382581659148661, 0.7286558208865347, 91092.64004002369], \"exp_id\": 0, \"alg_id\": \"ga\", \"iteration_id\": 2, \"tag\": \"v0\", \"fitness_value\": null, \"fitness_name\": \"default\", \"dataset\": \"__noname__\", \"topic_count\": 20, \"train_option\": \"offline\", \"force_dataset_settings_checkout\": false}\n",
            "2023-12-19 09:38:36,726 - root - INFO - Loading dataset entities\n",
            "2023-12-19 09:38:36,731 - root - INFO - Reading dictionary from autotm_artifacts/1659e6bd-8d17-49de-9ba8-9790c2047501/dictionary.txt\n",
            "2023-12-19 09:38:37,310 - root - INFO - Dataset entities initialization took  0.58\n",
            "2023-12-19 09:38:37,312 - root - INFO - Using TM model: <class 'autotm.fitness.tm.TopicModel'> according to fitness name: default, topics count: 20\n",
            "20it [00:00, 677.71it/s]\n",
            "0it [00:00, ?it/s]\n",
            "1it [00:00, 509.88it/s]\n",
            "0it [00:00, ?it/s]\n",
            "20it [00:00, 647.68it/s]\n",
            "0it [00:00, ?it/s]\n",
            "1it [00:00, 505.46it/s]\n",
            "0it [00:00, ?it/s]\n",
            "20it [00:00, 689.06it/s]\n",
            "0it [00:00, ?it/s]\n",
            "1it [00:00, 455.26it/s]\n",
            "0it [00:00, ?it/s]\n",
            "20it [00:00, 679.23it/s]\n",
            "0it [00:00, ?it/s]\n",
            "1it [00:00, 2052.01it/s]\n",
            "0it [00:00, ?it/s]\n"
          ]
        },
        {
          "output_type": "stream",
          "name": "stdout",
          "text": [
            "Training is complete\n"
          ]
        },
        {
          "output_type": "stream",
          "name": "stderr",
          "text": [
            "2023-12-19 09:38:46,372 - root - INFO - Building dictionary\n"
          ]
        },
        {
          "output_type": "stream",
          "name": "stdout",
          "text": [
            "Wow! all topics\n"
          ]
        },
        {
          "output_type": "stream",
          "name": "stderr",
          "text": [
            "20it [00:00, 621.04it/s]\n",
            "0it [00:00, ?it/s]\n",
            "1it [00:00, 2101.35it/s]\n",
            "0it [00:00, ?it/s]\n"
          ]
        },
        {
          "output_type": "stream",
          "name": "stdout",
          "text": [
            "COMPONENTS:  0.7250190390323662 0.46476695188644085\n"
          ]
        },
        {
          "output_type": "stream",
          "name": "stderr",
          "text": [
            "20it [00:00, 5874.38it/s]\n",
            "0it [00:00, ?it/s]\n",
            "20it [00:00, 4278.37it/s]\n",
            "0it [00:00, ?it/s]\n",
            "20it [00:00, 3415.70it/s]\n",
            "0it [00:00, ?it/s]\n",
            "20it [00:00, 1904.51it/s]\n",
            "0it [00:00, ?it/s]\n",
            "20it [00:00, 1406.26it/s]\n",
            "0it [00:00, ?it/s]\n",
            "20it [00:00, 1079.93it/s]\n",
            "0it [00:00, ?it/s]\n",
            "20it [00:00, 550.06it/s]\n",
            "0it [00:00, ?it/s]\n",
            "20it [00:00, 459.89it/s]\n",
            "0it [00:00, ?it/s]\n",
            "20it [00:00, 503.26it/s]\n",
            "0it [00:00, ?it/s]\n",
            "20it [00:00, 398.06it/s]\n",
            "0it [00:00, ?it/s]\n",
            "2023-12-19 09:38:47,452 - root - INFO - Fitness estimation took  10.73\n",
            "2023-12-19 09:38:48,100 - root - INFO - Deleting bigartm logs: []\n",
            "2023-12-19 09:38:48,138 - root - INFO - Doing fitness calculating with individual {\"id\": \"330ca17b-01be-43af-b586-1202be0f58a2\", \"data_path\": \"autotm_artifacts/1659e6bd-8d17-49de-9ba8-9790c2047501\", \"params\": [96887.1876058615, 23.0, 98.80448285976293, 25.38674409026143, 0.0, 17.968628717110676, -752.5488164011348, 30.0, -383.7117924383422, 834.7214207698994, 27.0, 1.0, 0.9609792888292359, 0.13056841268079034, 0.9253274209331299, 87779.95536237671], \"exp_id\": 0, \"alg_id\": \"ga\", \"iteration_id\": 2, \"tag\": \"v0\", \"fitness_value\": null, \"fitness_name\": \"default\", \"dataset\": \"__noname__\", \"topic_count\": 20, \"train_option\": \"offline\", \"force_dataset_settings_checkout\": false}\n",
            "2023-12-19 09:38:48,140 - root - INFO - Loading dataset entities\n",
            "2023-12-19 09:38:48,142 - root - INFO - Reading dictionary from autotm_artifacts/1659e6bd-8d17-49de-9ba8-9790c2047501/dictionary.txt\n",
            "2023-12-19 09:38:48,735 - root - INFO - Dataset entities initialization took  0.59\n",
            "2023-12-19 09:38:48,737 - root - INFO - Using TM model: <class 'autotm.fitness.tm.TopicModel'> according to fitness name: default, topics count: 20\n",
            "20it [00:00, 674.59it/s]\n",
            "0it [00:00, ?it/s]\n",
            "1it [00:00, 515.46it/s]\n",
            "0it [00:00, ?it/s]\n",
            "20it [00:00, 683.37it/s]\n",
            "0it [00:00, ?it/s]\n",
            "1it [00:00, 480.01it/s]\n",
            "0it [00:00, ?it/s]\n",
            "20it [00:00, 804.44it/s]\n",
            "0it [00:00, ?it/s]\n",
            "1it [00:00, 452.26it/s]\n",
            "0it [00:00, ?it/s]\n",
            "20it [00:00, 661.01it/s]\n",
            "0it [00:00, ?it/s]\n",
            "1it [00:00, 2235.77it/s]\n",
            "0it [00:00, ?it/s]\n"
          ]
        },
        {
          "output_type": "stream",
          "name": "stdout",
          "text": [
            "Training is complete\n"
          ]
        },
        {
          "output_type": "stream",
          "name": "stderr",
          "text": [
            "2023-12-19 09:38:55,740 - root - INFO - Building dictionary\n"
          ]
        },
        {
          "output_type": "stream",
          "name": "stdout",
          "text": [
            "Wow! all topics\n"
          ]
        },
        {
          "output_type": "stream",
          "name": "stderr",
          "text": [
            "20it [00:00, 421.82it/s]\n",
            "0it [00:00, ?it/s]\n",
            "1it [00:00, 2706.00it/s]\n",
            "0it [00:00, ?it/s]\n"
          ]
        },
        {
          "output_type": "stream",
          "name": "stdout",
          "text": [
            "COMPONENTS:  0.7229624812585361 0.45674500358089537\n"
          ]
        },
        {
          "output_type": "stream",
          "name": "stderr",
          "text": [
            "20it [00:00, 8464.79it/s]\n",
            "0it [00:00, ?it/s]\n",
            "20it [00:00, 5428.47it/s]\n",
            "0it [00:00, ?it/s]\n",
            "20it [00:00, 1450.59it/s]\n",
            "0it [00:00, ?it/s]\n",
            "20it [00:00, 1185.32it/s]\n",
            "0it [00:00, ?it/s]\n",
            "20it [00:00, 884.44it/s]\n",
            "0it [00:00, ?it/s]\n",
            "20it [00:00, 648.17it/s]\n",
            "0it [00:00, ?it/s]\n",
            "20it [00:00, 624.46it/s]\n",
            "0it [00:00, ?it/s]\n",
            "20it [00:00, 509.67it/s]\n",
            "0it [00:00, ?it/s]\n",
            "20it [00:00, 458.00it/s]\n",
            "0it [00:00, ?it/s]\n",
            "20it [00:00, 411.33it/s]\n",
            "0it [00:00, ?it/s]\n",
            "2023-12-19 09:38:57,231 - root - INFO - Fitness estimation took  9.09\n",
            "2023-12-19 09:38:57,981 - root - INFO - Deleting bigartm logs: []\n",
            "2023-12-19 09:38:58,037 - root - INFO - Doing fitness calculating with individual {\"id\": \"d1ab1f5e-99ac-4244-84cf-c3f98d3aadcd\", \"data_path\": \"autotm_artifacts/1659e6bd-8d17-49de-9ba8-9790c2047501\", \"params\": [96891.40848806949, 23.0, 98.80610394590231, 25.352320410681422, 0, 16.996506781697462, -752.0626371183463, 30, -383.37544105897, 834.9455336704207, 27.0, 1.0, 0.5202512404944241, 0.3353393609599058, 0.05647051138561909, 87796.52538410001], \"exp_id\": null, \"alg_id\": \"ga\", \"iteration_id\": 2, \"tag\": \"v0\", \"fitness_value\": {\"avg_coherence_score\": 1.1797074848394316, \"perplexityScore\": 1294.4207763671875, \"backgroundTokensRatioScore\": 0.7977777719497681, \"contrast\": 0.8838701248168945, \"purity\": 0.8982053995132446, \"kernelSize\": 121.0999984741211, \"npmi_50_list\": null, \"npmi_50\": null, \"sparsity_phi\": 0.635351836681366, \"sparsity_theta\": 0.0, \"topic_significance_uni\": null, \"topic_significance_vacuous\": null, \"topic_significance_back\": null, \"switchP_list\": [NaN], \"switchP\": NaN, \"all_topics\": true, \"coherence_10_list\": [0.31903521280939834, 0.8758205683080579, 0.28763487718125974, 0.882107189256187, 0.1921592785322912, 0.5290623310486292, 0.6840006850830136, 0.5643803197501599, 0.51737208052135, 0.2792124464422488, 0.5286651321923822, 0.18063048981962065, 0.26537832863213723, 0.793249709305372, 0.27777922874345873, 0.9086968445100421, 0.653339172247262, 0.4619530866788673, 0.4195845228483685, 0.18081363112934612], \"coherence_10\": 0.49004375675197265, \"coherence_15_list\": [0.32258051494917006, 1.0656398709901513, 0.347696387059825, 1.1382348839082697, 0.2616262109216796, 0.4945854862249142, 0.6877469247073045, 0.3595262989881546, 0.5127420654802957, 0.3704542815785676, 0.6107113046583603, 0.20860257708981897, 0.29365482260809306, 0.6100505989856557, 0.28692792394125544, 0.8179934582871992, 0.7729578418194673, 0.41730441021634274, 0.4978218199606576, 0.22929584757936222], \"coherence_15\": 0.5153076764977272, \"coherence_20_list\": [0.44908860579802096, 1.1624977651268071, 0.47557648906650124, 1.0287762301209449, 0.5461819115574996, 0.5181847875706811, 0.6214936791862381, 0.46759950898523184, 0.5163337236471164, 0.3648116716745568, 0.8255488245965176, 0.2945869816927608, 0.36366623449485064, 0.7437371070142358, 0.5061248390948528, 0.6683994436499937, 0.7523543730109861, 0.471922965803179, 0.6655640106759904, 0.3298345061137651], \"coherence_20\": 0.5886141829440366, \"coherence_25_list\": [0.5466500410131033, 1.1972809557635022, 0.550723497990894, 0.9776736484947705, 0.6590566869553075, 0.5330618268501179, 0.5597896798382683, 0.5063414029934117, 0.7549236153377695, 0.443728194371431, 0.974213098134314, 0.368455940014798, 0.35315232453630296, 0.8338840353665692, 0.4919686244932992, 0.6426605605445397, 0.7960418870882904, 0.585227206468303, 0.7778197716473514, 0.45278536777333134], \"coherence_25\": 0.6502719182837836, \"coherence_30_list\": [0.6979197943763337, 1.2793896843027337, 0.5128040980382282, 0.8664416730971833, 0.7688075913513177, 0.617067305172875, 0.5711557811022471, 0.5086210039509714, 0.7939697738026371, 0.411777742416094, 0.9929530640380213, 0.4632401286279158, 0.4159896621160422, 0.8556577461110979, 0.5624546763062531, 0.743609221415891, 0.8803117111301639, 0.6398755985359756, 0.7046307767591089, 0.5158472484769435], \"coherence_30\": 0.6901262140564017, \"coherence_35_list\": [0.7050882285848475, 1.1342621440344842, 0.5392052581377375, 0.8466903993450204, 0.7262644204529302, 0.7518824917297745, 0.5741474473781806, 0.543983921787183, 0.7757002498030878, 0.4346984890878645, 1.1412647599276653, 0.5602758980509838, 0.4260352676595638, 0.9781845637828477, 0.5824482183555988, 0.73928265484464, 0.9541704504239801, 0.7562021786246926, 0.5854835784757005, 0.5326142614595941], \"coherence_35\": 0.7143942440973189, \"coherence_40_list\": [0.7714754698873146, 1.0381599833559683, 0.520384834979879, 0.8778633557031048, 0.7405134105303169, 0.8037402143824466, 0.5647907501463789, 0.5949783346548264, 0.9070999240756208, 0.4700397140764962, 1.0451561303031043, 0.7424746801354931, 0.4340972118532767, 0.9509907714533926, 0.5877879116415858, 0.7358283616144893, 0.9570801479436228, 0.7368375894246725, 0.5448367164256607, 0.5924646606333002], \"coherence_40\": 0.7308300086610475, \"coherence_45_list\": [0.7920180825765318, 0.9789795463316626, 0.5113720656165928, 0.8876365513738252, 0.730606323826838, 0.8007853287464742, 0.5695863473705401, 0.6143024711941181, 0.8863387098707166, 0.46192866146458456, 1.0342429161029718, 0.7449269889140596, 0.4518452935629156, 0.9461714028237137, 0.6383976746624285, 0.6938131737863108, 1.0085910647969483, 0.7528103170326637, 0.49900547865306344, 0.6025859694267234], \"coherence_45\": 0.7302972184066842, \"coherence_50_list\": [0.7768587740837748, 0.9388218440965747, 0.490358913186446, 0.7838666962999339, 0.7184605490741315, 0.8402364737786242, 0.5801704175599595, 0.6020133510000552, 0.9261881917214109, 0.4688195750081108, 0.9620580899501431, 0.7247160347824703, 0.45674500358089537, 0.9452607669838555, 0.6376386165256559, 0.6974134464029983, 1.0002137190465885, 0.8082534499141586, 0.48928693108164617, 0.6118687810932909], \"coherence_50\": 0.7229624812585361, \"coherence_55_list\": [0.7640452672003879, 0.9190711773926186, 0.49081880124266236, 0.7353577831257679, 0.7661257565727347, 0.8609102903887093, 0.5607611015175866, 0.6121919252983005, 0.9954156489444929, 0.48702415998921256, 0.9365968300232077, 0.7220222562900627, 0.46324226330190404, 0.9882616711066418, 0.6465656663061445, 0.6586361067416435, 0.9434036288862027, 0.7732332539375105, 0.48514781157209586, 0.5439272999412184], \"coherence_55\": 0.7176379349889552, \"npmi_15\": null, \"npmi_25\": null}, \"fitness_name\": \"default\", \"dataset\": \"__noname__\", \"topic_count\": 20, \"train_option\": \"offline\", \"force_dataset_settings_checkout\": false}\n",
            "2023-12-19 09:38:58,040 - root - INFO - Loading dataset entities\n",
            "2023-12-19 09:38:58,042 - root - INFO - Reading dictionary from autotm_artifacts/1659e6bd-8d17-49de-9ba8-9790c2047501/dictionary.txt\n",
            "2023-12-19 09:38:58,980 - root - INFO - Dataset entities initialization took  0.94\n",
            "2023-12-19 09:38:58,982 - root - INFO - Using TM model: <class 'autotm.fitness.tm.TopicModel'> according to fitness name: default, topics count: 20\n",
            "20it [00:00, 647.86it/s]\n",
            "0it [00:00, ?it/s]\n",
            "1it [00:00, 455.21it/s]\n",
            "0it [00:00, ?it/s]\n",
            "20it [00:00, 590.28it/s]\n",
            "0it [00:00, ?it/s]\n",
            "1it [00:00, 514.83it/s]\n",
            "0it [00:00, ?it/s]\n",
            "20it [00:00, 636.62it/s]\n",
            "0it [00:00, ?it/s]\n",
            "1it [00:00, 513.88it/s]\n",
            "0it [00:00, ?it/s]\n",
            "20it [00:00, 650.29it/s]\n",
            "0it [00:00, ?it/s]\n",
            "1it [00:00, 2576.35it/s]\n",
            "0it [00:00, ?it/s]\n"
          ]
        },
        {
          "output_type": "stream",
          "name": "stdout",
          "text": [
            "Training is complete\n"
          ]
        },
        {
          "output_type": "stream",
          "name": "stderr",
          "text": [
            "2023-12-19 09:39:05,840 - root - INFO - Building dictionary\n"
          ]
        },
        {
          "output_type": "stream",
          "name": "stdout",
          "text": [
            "Wow! all topics\n"
          ]
        },
        {
          "output_type": "stream",
          "name": "stderr",
          "text": [
            "20it [00:00, 624.93it/s]\n",
            "0it [00:00, ?it/s]\n",
            "1it [00:00, 2091.92it/s]\n",
            "0it [00:00, ?it/s]\n"
          ]
        },
        {
          "output_type": "stream",
          "name": "stdout",
          "text": [
            "COMPONENTS:  0.7229624812585361 0.45674500358089537\n"
          ]
        },
        {
          "output_type": "stream",
          "name": "stderr",
          "text": [
            "20it [00:00, 6143.25it/s]\n",
            "0it [00:00, ?it/s]\n",
            "20it [00:00, 4494.78it/s]\n",
            "0it [00:00, ?it/s]\n",
            "20it [00:00, 2953.01it/s]\n",
            "0it [00:00, ?it/s]\n",
            "20it [00:00, 1399.13it/s]\n",
            "0it [00:00, ?it/s]\n",
            "20it [00:00, 1199.23it/s]\n",
            "0it [00:00, ?it/s]\n",
            "20it [00:00, 863.68it/s]\n",
            "0it [00:00, ?it/s]\n",
            "20it [00:00, 806.09it/s]\n",
            "0it [00:00, ?it/s]\n",
            "20it [00:00, 578.18it/s]\n",
            "0it [00:00, ?it/s]\n",
            "20it [00:00, 425.73it/s]\n",
            "0it [00:00, ?it/s]\n",
            "20it [00:00, 473.87it/s]\n",
            "0it [00:00, ?it/s]\n",
            "2023-12-19 09:39:06,847 - root - INFO - Fitness estimation took  8.81\n",
            "2023-12-19 09:39:07,458 - root - INFO - Deleting bigartm logs: []\n",
            "2023-12-19 09:39:07,496 - root - INFO - Doing fitness calculating with individual {\"id\": \"5ba28879-5762-4dca-9338-31478e057b1b\", \"data_path\": \"autotm_artifacts/1659e6bd-8d17-49de-9ba8-9790c2047501\", \"params\": [96900.5323789327, 23.0, 98.80960809794604, 25.27790992488128, 0.0, -369.19808056704215, -444.911163175093, 30.0, -320.2210638598616, 835.4299778090287, 26.0, 1.0, 0.5202512404944241, 0.3353393609599058, 0.05647051138561909, 87832.34326821906], \"exp_id\": null, \"alg_id\": \"ga\", \"iteration_id\": 2, \"tag\": \"v0\", \"fitness_value\": {\"avg_coherence_score\": 1.1787252582335914, \"perplexityScore\": 1313.3077392578125, \"backgroundTokensRatioScore\": 0.79666668176651, \"contrast\": 0.8797175288200378, \"purity\": 0.8911145925521851, \"kernelSize\": 120.30000305175781, \"npmi_50_list\": null, \"npmi_50\": null, \"sparsity_phi\": 0.633814811706543, \"sparsity_theta\": 0.0, \"topic_significance_uni\": null, \"topic_significance_vacuous\": null, \"topic_significance_back\": null, \"switchP_list\": [NaN], \"switchP\": NaN, \"all_topics\": true, \"coherence_10_list\": [0.31903521280939834, 0.8758205683080579, 0.28763487718125974, 0.882107189256187, 0.1921592785322912, 0.5290623310486292, 0.6840006850830136, 0.5643803197501599, 0.51737208052135, 0.2792124464422488, 0.5286651321923822, 0.18063048981962065, 0.2512547161358304, 0.793249709305372, 0.27777922874345873, 0.9086968445100421, 0.653339172247262, 0.5306866833880131, 0.43513609319554075, 0.18081363112934612], \"coherence_10\": 0.4935518344799733, \"coherence_15_list\": [0.32258051494917006, 1.0656398709901513, 0.347696387059825, 1.1382348839082697, 0.2616262109216796, 0.4945854862249142, 0.6877469247073045, 0.3595262989881546, 0.5127420654802957, 0.3704542815785676, 0.6107113046583603, 0.2119186176070186, 0.29365482260809306, 0.6100505989856557, 0.2869279239412555, 0.8179934582871992, 0.7729578418194673, 0.41730441021634274, 0.4978218199606576, 0.22929584757936222], \"coherence_15\": 0.5154734785235872, \"coherence_20_list\": [0.44908860579802096, 1.1624977651268071, 0.47557648906650124, 1.0287762301209449, 0.5461819115574996, 0.5181847875706811, 0.6214936791862381, 0.46759950898523184, 0.5163337236471164, 0.3648116716745568, 0.8255488245965176, 0.2945869816927608, 0.36366623449485064, 0.7437371070142358, 0.5061248390948528, 0.6683994436499937, 0.7523543730109861, 0.471922965803179, 0.8553568964042012, 0.3298345061137651], \"coherence_20\": 0.5981038272304471, \"coherence_25_list\": [0.5466500410131034, 1.1159667956176658, 0.5363334172351604, 1.0305012020405, 0.6590566869553075, 0.5151763956200184, 0.5597896798382683, 0.5063414029934117, 0.7549236153377695, 0.443728194371431, 0.8848045079581898, 0.368455940014798, 0.36793918742763804, 0.8338840353665692, 0.47131633799724115, 0.6426605605445397, 0.7960418870882904, 0.5725095389647655, 0.7797281787985899, 0.45278536777333134], \"coherence_25\": 0.6419296486478295, \"coherence_30_list\": [0.636467563561839, 1.2830916841189726, 0.5128040980382282, 0.9295623122677277, 0.7569872076414585, 0.6170673051728749, 0.5711557811022471, 0.5086210039509714, 0.8285093411404595, 0.4434792681655224, 0.9929530640380213, 0.4632401286279158, 0.38635472704502005, 0.8490906515996097, 0.5624546763062532, 0.743609221415891, 0.8803117111301639, 0.6398755985359756, 0.7046307767591089, 0.5158472484769435], \"coherence_30\": 0.6913056684547602, \"coherence_35_list\": [0.6857251138960553, 1.1342621440344844, 0.5392052581377375, 0.8466903993450204, 0.7262644204529302, 0.7518824917297745, 0.5741474473781805, 0.5343377935251071, 0.7938286498636338, 0.4516823855186293, 1.115323130388954, 0.5602758980509838, 0.43218844238518794, 0.9781845637828477, 0.5824482183555989, 0.73928265484464, 0.9541704504239801, 0.7562021786246926, 0.5854835784757005, 0.5243441596533267], \"coherence_35\": 0.7132964689433732, \"coherence_40_list\": [0.7714754698873147, 1.0786996217891123, 0.520384834979879, 0.8778633557031048, 0.7490262701358602, 0.8037402143824466, 0.5647907501463789, 0.5865579308302221, 0.9070999240756208, 0.4657996320295618, 1.0321280438412754, 0.6998794528627362, 0.43409721185327665, 0.9629037752130418, 0.5877879116415858, 0.7358283616144893, 0.9570801479436228, 0.7368375894246725, 0.5448367164256607, 0.5924646606333002], \"coherence_40\": 0.7304640937706581, \"coherence_45_list\": [0.7920180825765318, 0.9950460888013954, 0.5113720656165928, 0.8876365513738252, 0.7356811935618294, 0.8007853287464742, 0.5695863473705401, 0.6143024711941181, 0.8863387098707165, 0.4545759910497155, 0.9962617636301438, 0.7449269889140596, 0.4518452935629156, 0.9397398520762751, 0.6424733193263842, 0.6938131737863108, 0.9833210177843825, 0.7448013442398417, 0.4990054786530634, 0.6025859694267234], \"coherence_45\": 0.7273058515780919, \"coherence_50_list\": [0.7768587740837748, 0.9188157422803747, 0.5012666063492272, 0.7931197023713622, 0.7429335773595074, 0.8402364737786242, 0.5823272673483045, 0.6156458137272321, 0.9261881917214106, 0.4727297543697511, 0.950609548157066, 0.7247160347824702, 0.45674500358089554, 0.9452607669838555, 0.6376386165256558, 0.6974134464029983, 1.0002137190465885, 0.7743044057245262, 0.4892869310816463, 0.5932947173786465], \"coherence_50\": 0.7219802546526959, \"coherence_55_list\": [0.7689742329118971, 0.9363225427921663, 0.4908188012426623, 0.7051080218136865, 0.745629442363837, 0.8609102903887094, 0.5607611015175866, 0.6078961404022243, 0.9954156489444929, 0.4634941754054422, 0.9365968300232077, 0.7220222562900627, 0.4775292450886392, 1.0061243868761967, 0.6465656663061445, 0.6753998488472307, 0.9435047385777775, 0.7580447253924241, 0.4831438740763747, 0.5439272999412184], \"coherence_55\": 0.716409463460099, \"npmi_15\": null, \"npmi_25\": null}, \"fitness_name\": \"default\", \"dataset\": \"__noname__\", \"topic_count\": 20, \"train_option\": \"offline\", \"force_dataset_settings_checkout\": false}\n",
            "2023-12-19 09:39:07,497 - root - INFO - Loading dataset entities\n",
            "2023-12-19 09:39:07,503 - root - INFO - Reading dictionary from autotm_artifacts/1659e6bd-8d17-49de-9ba8-9790c2047501/dictionary.txt\n",
            "2023-12-19 09:39:08,089 - root - INFO - Dataset entities initialization took  0.59\n",
            "2023-12-19 09:39:08,091 - root - INFO - Using TM model: <class 'autotm.fitness.tm.TopicModel'> according to fitness name: default, topics count: 20\n",
            "20it [00:00, 417.97it/s]\n",
            "0it [00:00, ?it/s]\n",
            "1it [00:00, 501.05it/s]\n",
            "0it [00:00, ?it/s]\n",
            "20it [00:00, 530.76it/s]\n",
            "0it [00:00, ?it/s]\n",
            "1it [00:00, 546.92it/s]\n",
            "0it [00:00, ?it/s]\n",
            "20it [00:00, 628.79it/s]\n",
            "0it [00:00, ?it/s]\n",
            "1it [00:00, 515.71it/s]\n",
            "0it [00:00, ?it/s]\n",
            "20it [00:00, 644.83it/s]\n",
            "0it [00:00, ?it/s]\n",
            "1it [00:00, 2360.33it/s]\n",
            "0it [00:00, ?it/s]\n"
          ]
        },
        {
          "output_type": "stream",
          "name": "stdout",
          "text": [
            "Training is complete\n"
          ]
        },
        {
          "output_type": "stream",
          "name": "stderr",
          "text": [
            "2023-12-19 09:39:16,628 - root - INFO - Building dictionary\n"
          ]
        },
        {
          "output_type": "stream",
          "name": "stdout",
          "text": [
            "Wow! all topics\n"
          ]
        },
        {
          "output_type": "stream",
          "name": "stderr",
          "text": [
            "20it [00:00, 669.40it/s]\n",
            "0it [00:00, ?it/s]\n",
            "1it [00:00, 2439.97it/s]\n",
            "0it [00:00, ?it/s]\n"
          ]
        },
        {
          "output_type": "stream",
          "name": "stdout",
          "text": [
            "COMPONENTS:  0.7218724121632786 0.45674500358089554\n"
          ]
        },
        {
          "output_type": "stream",
          "name": "stderr",
          "text": [
            "20it [00:00, 10541.10it/s]\n",
            "0it [00:00, ?it/s]\n",
            "20it [00:00, 5032.16it/s]\n",
            "0it [00:00, ?it/s]\n",
            "20it [00:00, 3181.60it/s]\n",
            "0it [00:00, ?it/s]\n",
            "20it [00:00, 1223.22it/s]\n",
            "0it [00:00, ?it/s]\n",
            "20it [00:00, 1124.57it/s]\n",
            "0it [00:00, ?it/s]\n",
            "20it [00:00, 860.94it/s]\n",
            "0it [00:00, ?it/s]\n",
            "20it [00:00, 723.72it/s]\n",
            "0it [00:00, ?it/s]\n",
            "20it [00:00, 642.36it/s]\n",
            "0it [00:00, ?it/s]\n",
            "20it [00:00, 511.80it/s]\n",
            "0it [00:00, ?it/s]\n",
            "20it [00:00, 418.28it/s]\n",
            "0it [00:00, ?it/s]\n",
            "2023-12-19 09:39:17,629 - root - INFO - Fitness estimation took  10.13\n",
            "2023-12-19 09:39:18,221 - root - INFO - Deleting bigartm logs: []\n",
            "2023-12-19 09:39:18,258 - root - INFO - Doing fitness calculating with individual {\"id\": \"02079e1f-fd45-4381-8af5-b63f915888d5\", \"data_path\": \"autotm_artifacts/1659e6bd-8d17-49de-9ba8-9790c2047501\", \"params\": [97940.71436621057, 26.0, 99.20910387131745, 16.794638023225, 0, -224.67175374834932, -631.1990938763856, 30, -299.75892154776363, 890.6597119625408, 28.0, 3.0, 0.5202512404944241, 0.3353393609599058, 0.05647051138561909, 91915.81143344557], \"exp_id\": null, \"alg_id\": \"ga\", \"iteration_id\": 2, \"tag\": \"v0\", \"fitness_value\": {\"avg_coherence_score\": 1.0849871905740711, \"perplexityScore\": 1266.679931640625, \"backgroundTokensRatioScore\": 0.7362962961196899, \"contrast\": 0.9077225923538208, \"purity\": 0.9363982081413269, \"kernelSize\": 128.0, \"npmi_50_list\": null, \"npmi_50\": null, \"sparsity_phi\": 0.7010926008224487, \"sparsity_theta\": 0.0, \"topic_significance_uni\": null, \"topic_significance_vacuous\": null, \"topic_significance_back\": null, \"switchP_list\": [NaN], \"switchP\": NaN, \"all_topics\": true, \"coherence_10_list\": [0.1680474755820239, 0.6692599244732553, 0.38487492501700565, 0.3074133460514089, 0.08141511007935925, 0.35483742826413867, 0.3117301109715401, 0.31038233939701426, 0.5886248450535021, 0.22061875372674264, 0.39276347219820185, 0.2382132495356094, 0.2313949528755773, 0.7781967553390249, 0.8546693703375623, 0.696176160378254, 0.34580299388045305, 0.4989909105575018, 0.17281539694595013, 0.18502639506370772], \"coherence_10\": 0.3895626957863917, \"coherence_15_list\": [0.29620972451695077, 0.8222665900099193, 0.42475775378243796, 0.39028151010019874, 0.14268860161391564, 0.2830810432069662, 0.53860843079682, 0.33360137755888497, 0.35855825662284035, 0.2597392094606549, 0.41117228727856436, 0.3342221956065941, 0.2680343209571203, 0.7880429890004832, 0.6244839354834198, 0.5692058649502886, 0.6419278662238231, 0.4230854148824897, 0.30419993487055647, 0.24689805531948703], \"coherence_15\": 0.42305326811212074, \"coherence_20_list\": [0.443358748484985, 0.8209753007448833, 0.49657856807924766, 0.4176023902681301, 0.22128332696205782, 0.3719058290111205, 0.5793711499829559, 0.3851349916379495, 0.43135229582157913, 0.30347915754668486, 0.5412817878904977, 0.3676769863419061, 0.2966044309922716, 0.8384411327148689, 0.5174455367131211, 0.6131395307642421, 0.6745692809109292, 0.40291013621277794, 0.33266384344389144, 0.372233766613446], \"coherence_20\": 0.47140040955687734, \"coherence_25_list\": [0.5374308161937426, 0.8536551951016028, 0.5268560772991459, 0.42227677147736986, 0.3816160413263102, 0.44745433798803164, 0.5644042360950434, 0.506566145240002, 0.4881727141222344, 0.3868056662609676, 0.6145837698353273, 0.4158219640049793, 0.44735533201006605, 0.8800924100758888, 0.6458247692117365, 0.6068641838368434, 0.6562011354489075, 0.5856607939164727, 0.47284949080178745, 0.4528569092523018], \"coherence_25\": 0.5446674379749381, \"coherence_30_list\": [0.6499838820120295, 0.9490143917829725, 0.5060409148765037, 0.45347007996865574, 0.5249929899823519, 0.5547749035570941, 0.5553888734290762, 0.5367914151312753, 0.6888549378872038, 0.3896119158586483, 0.6867109205323657, 0.4841394081826123, 0.408738659604182, 1.0056714933517628, 0.5560545956985926, 0.6742988212279272, 0.8169791725427857, 0.6345685552196448, 0.5871150466506451, 0.510512811682551], \"coherence_30\": 0.608685689458944, \"coherence_35_list\": [0.7894955888419727, 1.0432369562258001, 0.504922365636664, 0.4597235390962599, 0.5829769293561405, 0.6132864685584374, 0.5445861741011573, 0.5763909657324643, 0.7122722841013246, 0.41376924249940916, 0.781647538491259, 0.550231102294055, 0.41183016809988654, 1.1345696174520852, 0.5320658090970665, 0.6469813195925005, 0.9232697850559785, 0.6927745830320091, 0.5425470994813462, 0.5834592454991254], \"coherence_35\": 0.6520018391122472, \"coherence_40_list\": [0.7605371147108255, 0.9742946216250308, 0.4956841561699894, 0.47792574283464234, 0.5457061812449419, 0.7453975787234435, 0.5388713263992422, 0.5233113989227137, 0.6879203455068211, 0.44212354493200906, 0.7720195287175853, 0.7051674940956449, 0.4342119352366252, 1.0556407414244606, 0.5355904202228101, 0.7043911241566522, 0.9451655520159014, 0.712715977864469, 0.5294200515284178, 0.604225758164381], \"coherence_40\": 0.6595160297248303, \"coherence_45_list\": [0.7756363714779339, 0.9277369990153983, 0.5167097627236343, 0.47449569371356326, 0.566036791067211, 0.7115645832425747, 0.5671979683017002, 0.543664521133458, 0.7245799757897168, 0.47006776593580574, 0.7899830790128262, 0.7614159488188627, 0.41743109171833326, 1.0506171985712638, 0.5585644690771726, 0.7050083233824767, 0.9908102801765858, 0.7584932335750424, 0.49762331125525705, 0.5684380479512541], \"coherence_45\": 0.6688037707970034, \"coherence_50_list\": [0.802002603036492, 0.8919728689204879, 0.5062322811222836, 0.49858217290871454, 0.6045806379021907, 0.6968689994774065, 0.5843811735361678, 0.5620953136374793, 0.7621504909743287, 0.4768537354308074, 0.8214898071263061, 0.7134756099555218, 0.4168148985023213, 1.0133258322572347, 0.540422744204169, 0.6846396481341452, 1.0170597623689355, 0.7352930350346507, 0.48744281012642465, 0.5477614167789294], \"coherence_50\": 0.6681722920717499, \"coherence_55_list\": [0.8360587088556475, 0.8901683567782601, 0.5104955252749404, 0.5173370240112288, 0.6028039082656746, 0.7134007905691054, 0.5971433308402752, 0.5553087485966325, 0.7807575799163781, 0.4717169822691892, 0.8038361560157773, 0.6746972850519007, 0.3899042734933228, 0.9498877089971764, 0.532084174716023, 0.6933777645677494, 0.9573375936289539, 0.7559931025865738, 0.5101963865108213, 0.5074292455904243], \"coherence_55\": 0.6624967323268028, \"npmi_15\": null, \"npmi_25\": null}, \"fitness_name\": \"default\", \"dataset\": \"__noname__\", \"topic_count\": 20, \"train_option\": \"offline\", \"force_dataset_settings_checkout\": false}\n",
            "2023-12-19 09:39:18,260 - root - INFO - Loading dataset entities\n",
            "2023-12-19 09:39:18,262 - root - INFO - Reading dictionary from autotm_artifacts/1659e6bd-8d17-49de-9ba8-9790c2047501/dictionary.txt\n",
            "2023-12-19 09:39:18,867 - root - INFO - Dataset entities initialization took  0.60\n",
            "2023-12-19 09:39:18,868 - root - INFO - Using TM model: <class 'autotm.fitness.tm.TopicModel'> according to fitness name: default, topics count: 20\n",
            "20it [00:00, 645.50it/s]\n",
            "0it [00:00, ?it/s]\n",
            "3it [00:00, 377.05it/s]\n",
            "0it [00:00, ?it/s]\n",
            "20it [00:00, 634.06it/s]\n",
            "0it [00:00, ?it/s]\n",
            "3it [00:00, 309.54it/s]\n",
            "0it [00:00, ?it/s]\n",
            "20it [00:00, 664.20it/s]\n",
            "0it [00:00, ?it/s]\n",
            "3it [00:00, 380.45it/s]\n",
            "0it [00:00, ?it/s]\n",
            "20it [00:00, 649.74it/s]\n",
            "0it [00:00, ?it/s]\n",
            "3it [00:00, 1266.78it/s]\n",
            "0it [00:00, ?it/s]\n"
          ]
        },
        {
          "output_type": "stream",
          "name": "stdout",
          "text": [
            "Training is complete\n"
          ]
        },
        {
          "output_type": "stream",
          "name": "stderr",
          "text": [
            "2023-12-19 09:39:27,896 - root - INFO - Building dictionary\n"
          ]
        },
        {
          "output_type": "stream",
          "name": "stdout",
          "text": [
            "Wow! all topics\n"
          ]
        },
        {
          "output_type": "stream",
          "name": "stderr",
          "text": [
            "20it [00:00, 699.35it/s]\n",
            "0it [00:00, ?it/s]\n",
            "3it [00:00, 1021.34it/s]\n",
            "0it [00:00, ?it/s]\n"
          ]
        },
        {
          "output_type": "stream",
          "name": "stdout",
          "text": [
            "COMPONENTS:  0.6681722920717499 0.4168148985023213\n"
          ]
        },
        {
          "output_type": "stream",
          "name": "stderr",
          "text": [
            "20it [00:00, 10909.88it/s]\n",
            "0it [00:00, ?it/s]\n",
            "20it [00:00, 4272.49it/s]\n",
            "0it [00:00, ?it/s]\n",
            "20it [00:00, 3193.11it/s]\n",
            "0it [00:00, ?it/s]\n",
            "20it [00:00, 1023.80it/s]\n",
            "0it [00:00, ?it/s]\n",
            "20it [00:00, 1014.11it/s]\n",
            "0it [00:00, ?it/s]\n",
            "20it [00:00, 852.64it/s]\n",
            "0it [00:00, ?it/s]\n",
            "20it [00:00, 830.57it/s]\n",
            "0it [00:00, ?it/s]\n",
            "20it [00:00, 660.29it/s]\n",
            "0it [00:00, ?it/s]\n",
            "20it [00:00, 492.22it/s]\n",
            "0it [00:00, ?it/s]\n",
            "20it [00:00, 405.68it/s]\n",
            "0it [00:00, ?it/s]\n",
            "2023-12-19 09:39:28,990 - root - INFO - Fitness estimation took  10.73\n",
            "2023-12-19 09:39:29,673 - root - INFO - Deleting bigartm logs: []\n",
            "2023-12-19 09:39:29,711 - root - INFO - Doing fitness calculating with individual {\"id\": \"486351f7-588e-429f-8f5f-f8d9169b5647\", \"data_path\": \"autotm_artifacts/1659e6bd-8d17-49de-9ba8-9790c2047501\", \"params\": [98985.12476778973, 29.0, 99.6102236236292, 8.276881013511098, 10.0, -80.69717529395004, -818.2442983624323, 22.0, -279.37489616978525, 946.113958942278, 29.0, 4.0, 0.5202512404944241, 0.3353393609599058, 0.05647051138561909, 96015.87918932064], \"exp_id\": 0, \"alg_id\": \"ga\", \"iteration_id\": 2, \"tag\": \"v0\", \"fitness_value\": null, \"fitness_name\": \"default\", \"dataset\": \"__noname__\", \"topic_count\": 20, \"train_option\": \"offline\", \"force_dataset_settings_checkout\": false}\n",
            "2023-12-19 09:39:29,712 - root - INFO - Loading dataset entities\n",
            "2023-12-19 09:39:29,715 - root - INFO - Reading dictionary from autotm_artifacts/1659e6bd-8d17-49de-9ba8-9790c2047501/dictionary.txt\n",
            "2023-12-19 09:39:30,302 - root - INFO - Dataset entities initialization took  0.59\n",
            "2023-12-19 09:39:30,304 - root - INFO - Using TM model: <class 'autotm.fitness.tm.TopicModel'> according to fitness name: default, topics count: 20\n",
            "20it [00:00, 643.00it/s]\n",
            "0it [00:00, ?it/s]\n",
            "4it [00:00, 324.99it/s]\n",
            "0it [00:00, ?it/s]\n",
            "20it [00:00, 653.13it/s]\n",
            "0it [00:00, ?it/s]\n",
            "4it [00:00, 446.49it/s]\n",
            "0it [00:00, ?it/s]\n",
            "20it [00:00, 688.36it/s]\n",
            "0it [00:00, ?it/s]\n",
            "4it [00:00, 414.89it/s]\n",
            "0it [00:00, ?it/s]\n",
            "20it [00:00, 620.81it/s]\n",
            "0it [00:00, ?it/s]\n",
            "4it [00:00, 637.07it/s]\n",
            "0it [00:00, ?it/s]\n"
          ]
        },
        {
          "output_type": "stream",
          "name": "stdout",
          "text": [
            "Training is complete\n"
          ]
        },
        {
          "output_type": "stream",
          "name": "stderr",
          "text": [
            "2023-12-19 09:39:41,317 - root - INFO - Building dictionary\n"
          ]
        },
        {
          "output_type": "stream",
          "name": "stdout",
          "text": [
            "Wow! all topics\n"
          ]
        },
        {
          "output_type": "stream",
          "name": "stderr",
          "text": [
            "20it [00:00, 643.57it/s]\n",
            "0it [00:00, ?it/s]\n",
            "4it [00:00, 326.72it/s]\n",
            "0it [00:00, ?it/s]\n"
          ]
        },
        {
          "output_type": "stream",
          "name": "stdout",
          "text": [
            "COMPONENTS:  0.6055192074371007 0.43495168796042166\n"
          ]
        },
        {
          "output_type": "stream",
          "name": "stderr",
          "text": [
            "20it [00:00, 6167.19it/s]\n",
            "0it [00:00, ?it/s]\n",
            "20it [00:00, 5167.31it/s]\n",
            "0it [00:00, ?it/s]\n",
            "20it [00:00, 3414.58it/s]\n",
            "0it [00:00, ?it/s]\n",
            "20it [00:00, 1106.19it/s]\n",
            "0it [00:00, ?it/s]\n",
            "20it [00:00, 1147.88it/s]\n",
            "0it [00:00, ?it/s]\n",
            "20it [00:00, 1031.23it/s]\n",
            "0it [00:00, ?it/s]\n",
            "20it [00:00, 842.28it/s]\n",
            "0it [00:00, ?it/s]\n",
            "20it [00:00, 608.61it/s]\n",
            "0it [00:00, ?it/s]\n",
            "20it [00:00, 531.86it/s]\n",
            "0it [00:00, ?it/s]\n",
            "20it [00:00, 446.83it/s]\n",
            "0it [00:00, ?it/s]\n",
            "2023-12-19 09:39:42,648 - root - INFO - Fitness estimation took  12.94\n",
            "2023-12-19 09:39:43,475 - root - INFO - Deleting bigartm logs: []\n",
            "2023-12-19 09:39:43,512 - root - INFO - Doing fitness calculating with individual {\"id\": \"a84de031-b075-424a-8e74-7a4d07c2f790\", \"data_path\": \"autotm_artifacts/1659e6bd-8d17-49de-9ba8-9790c2047501\", \"params\": [34.13812589217459, 7.0, 99.47507070060276, 11.146846281631372, 28.0, -129.20783827543164, -755.2214579795462, 25.0, -286.24307106519063, 927.4292556078076, 29.0, 4.0, 0.5202512404944241, 0.3353393609599058, 0.05647051138561909, 94634.40610399056], \"exp_id\": 0, \"alg_id\": \"ga\", \"iteration_id\": 2, \"tag\": \"v0\", \"fitness_value\": null, \"fitness_name\": \"default\", \"dataset\": \"__noname__\", \"topic_count\": 20, \"train_option\": \"offline\", \"force_dataset_settings_checkout\": false}\n",
            "2023-12-19 09:39:43,514 - root - INFO - Loading dataset entities\n",
            "2023-12-19 09:39:43,518 - root - INFO - Reading dictionary from autotm_artifacts/1659e6bd-8d17-49de-9ba8-9790c2047501/dictionary.txt\n",
            "2023-12-19 09:39:44,110 - root - INFO - Dataset entities initialization took  0.59\n",
            "2023-12-19 09:39:44,112 - root - INFO - Using TM model: <class 'autotm.fitness.tm.TopicModel'> according to fitness name: default, topics count: 20\n",
            "20it [00:00, 716.69it/s]\n",
            "0it [00:00, ?it/s]\n",
            "4it [00:00, 360.35it/s]\n",
            "0it [00:00, ?it/s]\n",
            "20it [00:00, 731.15it/s]\n",
            "0it [00:00, ?it/s]\n",
            "4it [00:00, 368.40it/s]\n",
            "0it [00:00, ?it/s]\n",
            "20it [00:00, 632.49it/s]\n",
            "0it [00:00, ?it/s]\n",
            "4it [00:00, 428.47it/s]\n",
            "0it [00:00, ?it/s]\n",
            "20it [00:00, 636.67it/s]\n",
            "0it [00:00, ?it/s]\n",
            "4it [00:00, 398.32it/s]\n",
            "0it [00:00, ?it/s]\n"
          ]
        },
        {
          "output_type": "stream",
          "name": "stdout",
          "text": [
            "Training is complete\n"
          ]
        },
        {
          "output_type": "stream",
          "name": "stderr",
          "text": [
            "2023-12-19 09:39:54,556 - root - INFO - Building dictionary\n"
          ]
        },
        {
          "output_type": "stream",
          "name": "stdout",
          "text": [
            "Wow! all topics\n"
          ]
        },
        {
          "output_type": "stream",
          "name": "stderr",
          "text": [
            "20it [00:00, 673.10it/s]\n",
            "0it [00:00, ?it/s]\n",
            "4it [00:00, 236.62it/s]\n",
            "0it [00:00, ?it/s]\n"
          ]
        },
        {
          "output_type": "stream",
          "name": "stdout",
          "text": [
            "COMPONENTS:  0.52700052103116 0.29929921088091893\n"
          ]
        },
        {
          "output_type": "stream",
          "name": "stderr",
          "text": [
            "20it [00:00, 7438.69it/s]\n",
            "0it [00:00, ?it/s]\n",
            "20it [00:00, 3947.58it/s]\n",
            "0it [00:00, ?it/s]\n",
            "20it [00:00, 3153.37it/s]\n",
            "0it [00:00, ?it/s]\n",
            "20it [00:00, 2234.40it/s]\n",
            "0it [00:00, ?it/s]\n",
            "20it [00:00, 1081.40it/s]\n",
            "0it [00:00, ?it/s]\n",
            "20it [00:00, 944.44it/s]\n",
            "0it [00:00, ?it/s]\n",
            "20it [00:00, 870.29it/s]\n",
            "0it [00:00, ?it/s]\n",
            "20it [00:00, 636.59it/s]\n",
            "0it [00:00, ?it/s]\n",
            "20it [00:00, 538.63it/s]\n",
            "0it [00:00, ?it/s]\n",
            "20it [00:00, 459.45it/s]\n",
            "0it [00:00, ?it/s]\n",
            "2023-12-19 09:39:55,815 - root - INFO - Fitness estimation took  12.30\n",
            "2023-12-19 09:39:56,635 - root - INFO - Deleting bigartm logs: []\n",
            "2023-12-19 09:39:56,672 - root - INFO - Doing fitness calculating with individual {\"id\": \"a8a88a59-6ae3-4384-a739-8014719c8a5a\", \"data_path\": \"autotm_artifacts/1659e6bd-8d17-49de-9ba8-9790c2047501\", \"params\": [100000.0, 30.0, 0.0, 100.0, 30.0, 425.91434509541006, -1000.0, 0.0, -436.5277272172068, 1000.0, 30.0, 5.0, 0.5239784388588118, 0.48289280593359163, 0.07280390203909981, 100000.0], \"exp_id\": 0, \"alg_id\": \"ga\", \"iteration_id\": 2, \"tag\": \"v0\", \"fitness_value\": null, \"fitness_name\": \"default\", \"dataset\": \"__noname__\", \"topic_count\": 20, \"train_option\": \"offline\", \"force_dataset_settings_checkout\": false}\n",
            "2023-12-19 09:39:56,674 - root - INFO - Loading dataset entities\n",
            "2023-12-19 09:39:56,676 - root - INFO - Reading dictionary from autotm_artifacts/1659e6bd-8d17-49de-9ba8-9790c2047501/dictionary.txt\n",
            "2023-12-19 09:39:57,259 - root - INFO - Dataset entities initialization took  0.58\n",
            "2023-12-19 09:39:57,261 - root - INFO - Using TM model: <class 'autotm.fitness.tm.TopicModel'> according to fitness name: default, topics count: 20\n",
            "20it [00:00, 649.49it/s]\n",
            "0it [00:00, ?it/s]\n",
            "5it [00:00, 351.76it/s]\n",
            "0it [00:00, ?it/s]\n",
            "20it [00:00, 673.63it/s]\n",
            "0it [00:00, ?it/s]\n",
            "5it [00:00, 447.64it/s]\n",
            "0it [00:00, ?it/s]\n",
            "20it [00:00, 688.72it/s]\n",
            "0it [00:00, ?it/s]\n",
            "5it [00:00, 450.47it/s]\n",
            "0it [00:00, ?it/s]\n",
            "2023-12-19 09:40:06,800 - root - WARNING - Fitness calculation problem\n",
            "2023-12-19 09:40:06,802 - root - INFO - Fitness estimation took  10.13\n",
            "2023-12-19 09:40:07,526 - root - INFO - Deleting bigartm logs: []\n",
            "2023-12-19 09:40:07,563 - root - INFO - Doing fitness calculating with individual {\"id\": \"5b77e65f-f5d1-4c4c-8116-2765e8056839\", \"data_path\": \"autotm_artifacts/1659e6bd-8d17-49de-9ba8-9790c2047501\", \"params\": [100000.0, 30.0, 100.0, 0.0, 1.0, -601.2885713107983, -1000.0, 30.0, -484.81317691796664, 1000.0, 30.0, 5.0, 0.9609792888292359, 0.13056841268079034, 0.9253274209331299, 100000.0], \"exp_id\": 0, \"alg_id\": \"ga\", \"iteration_id\": 2, \"tag\": \"v0\", \"fitness_value\": null, \"fitness_name\": \"default\", \"dataset\": \"__noname__\", \"topic_count\": 20, \"train_option\": \"offline\", \"force_dataset_settings_checkout\": false}\n",
            "2023-12-19 09:40:07,565 - root - INFO - Loading dataset entities\n",
            "2023-12-19 09:40:07,567 - root - INFO - Reading dictionary from autotm_artifacts/1659e6bd-8d17-49de-9ba8-9790c2047501/dictionary.txt\n",
            "2023-12-19 09:40:08,158 - root - INFO - Dataset entities initialization took  0.59\n",
            "2023-12-19 09:40:08,159 - root - INFO - Using TM model: <class 'autotm.fitness.tm.TopicModel'> according to fitness name: default, topics count: 20\n",
            "20it [00:00, 651.35it/s]\n",
            "0it [00:00, ?it/s]\n",
            "5it [00:00, 312.19it/s]\n",
            "0it [00:00, ?it/s]\n",
            "20it [00:00, 710.06it/s]\n",
            "0it [00:00, ?it/s]\n",
            "5it [00:00, 431.84it/s]\n",
            "0it [00:00, ?it/s]\n",
            "20it [00:00, 704.85it/s]\n",
            "0it [00:00, ?it/s]\n",
            "5it [00:00, 372.34it/s]\n",
            "0it [00:00, ?it/s]\n",
            "20it [00:00, 391.88it/s]\n",
            "0it [00:00, ?it/s]\n",
            "5it [00:00, 465.96it/s]\n",
            "0it [00:00, ?it/s]\n"
          ]
        },
        {
          "output_type": "stream",
          "name": "stdout",
          "text": [
            "Training is complete\n"
          ]
        },
        {
          "output_type": "stream",
          "name": "stderr",
          "text": [
            "2023-12-19 09:40:18,474 - root - INFO - Building dictionary\n"
          ]
        },
        {
          "output_type": "stream",
          "name": "stdout",
          "text": [
            "Wow! all topics\n"
          ]
        },
        {
          "output_type": "stream",
          "name": "stderr",
          "text": [
            "20it [00:00, 650.22it/s]\n",
            "0it [00:00, ?it/s]\n",
            "5it [00:00, 532.37it/s]\n",
            "0it [00:00, ?it/s]\n"
          ]
        },
        {
          "output_type": "stream",
          "name": "stdout",
          "text": [
            "COMPONENTS:  0.6073797728323738 0.38651319841486687\n"
          ]
        },
        {
          "output_type": "stream",
          "name": "stderr",
          "text": [
            "20it [00:00, 13925.31it/s]\n",
            "0it [00:00, ?it/s]\n",
            "20it [00:00, 4492.85it/s]\n",
            "0it [00:00, ?it/s]\n",
            "20it [00:00, 2899.02it/s]\n",
            "0it [00:00, ?it/s]\n",
            "20it [00:00, 1368.38it/s]\n",
            "0it [00:00, ?it/s]\n",
            "20it [00:00, 1215.28it/s]\n",
            "0it [00:00, ?it/s]\n",
            "20it [00:00, 949.59it/s]\n",
            "0it [00:00, ?it/s]\n",
            "20it [00:00, 747.37it/s]\n",
            "0it [00:00, ?it/s]\n",
            "20it [00:00, 681.28it/s]\n",
            "0it [00:00, ?it/s]\n",
            "20it [00:00, 547.36it/s]\n",
            "0it [00:00, ?it/s]\n",
            "20it [00:00, 433.59it/s]\n",
            "0it [00:00, ?it/s]\n",
            "2023-12-19 09:40:19,880 - root - INFO - Fitness estimation took  12.32\n",
            "2023-12-19 09:40:20,655 - root - INFO - Deleting bigartm logs: []\n",
            "2023-12-19 09:40:20,695 - root - INFO - Doing fitness calculating with individual {\"id\": \"277cf478-5b40-46a6-966a-2b3b3b4444bd\", \"data_path\": \"autotm_artifacts/1659e6bd-8d17-49de-9ba8-9790c2047501\", \"params\": [100000.0, 30, 100.0, 0, 0.0, 58.99965457912077, -1000.0, 30, -259.5965175426326, 1000.0, 30, 5, 0.5202512404944241, 0.3353393609599058, 0.05647051138561909, 100000.0], \"exp_id\": null, \"alg_id\": \"ga\", \"iteration_id\": 2, \"tag\": \"v0\", \"fitness_value\": {\"avg_coherence_score\": 0.9938030947997635, \"perplexityScore\": 1253.4688720703125, \"backgroundTokensRatioScore\": 0.695555567741394, \"contrast\": 0.949332594871521, \"purity\": 0.9684645533561707, \"kernelSize\": 129.14999389648438, \"npmi_50_list\": null, \"npmi_50\": null, \"sparsity_phi\": 0.7726110816001892, \"sparsity_theta\": 0.0, \"topic_significance_uni\": null, \"topic_significance_vacuous\": null, \"topic_significance_back\": null, \"switchP_list\": [NaN], \"switchP\": NaN, \"all_topics\": true, \"coherence_10_list\": [0.18698031248969027, 0.4498444129253177, 0.3346050316056632, 0.23301996669316133, 0.1202863280787282, 0.47572379729870706, 0.44073204774368013, 0.2919132416147001, 0.2701798077793842, 0.40539405192238304, 0.34095065265827396, 0.26003037308868665, 0.6703847005549133, 0.8442292713255156, 0.8668685217241039, 0.6946046012886931, 0.27989384079261515, 0.576794056331124, 0.19934834209426247, 0.2193330222275805], \"coherence_10\": 0.4080558190118593, \"coherence_15_list\": [0.2850397597168885, 0.6457421274002937, 0.42316958057717613, 0.2640883957247321, 0.15425880574659936, 0.40737469325611164, 0.5357174103323774, 0.4249338541801078, 0.42666010308063723, 0.4232418525193054, 0.3490958424748606, 0.2426817338529457, 0.6143218211654339, 0.5397889773251162, 0.6792969679390822, 0.5520318324079017, 0.539607204318497, 0.5078834407828824, 0.24280571906171963, 0.2439883650271987], \"coherence_15\": 0.42508642434449334, \"coherence_20_list\": [0.30904224963420546, 0.6156813633198586, 0.4559607429609056, 0.3283930704843747, 0.15519656614119226, 0.363632306321636, 0.5898855862280354, 0.3787456799673827, 0.3722170207696229, 0.43474684532881386, 0.34969597404996444, 0.37108971186973927, 0.5187679299121956, 0.6780610592333768, 0.6729227601904944, 0.5418239777891467, 0.6847487500590744, 0.4828641216693048, 0.3253179853089469, 0.2861395885039659], \"coherence_20\": 0.44574666448711187, \"coherence_25_list\": [0.4112541667822231, 0.705975453193841, 0.44390495691367526, 0.3876137761396084, 0.19298788697410516, 0.4408984833384342, 0.5418157151251224, 0.4928454383588431, 0.4241740247007065, 0.4002189379732312, 0.41753185144668653, 0.3430878412763769, 0.4805145037137746, 0.6182431711983076, 0.6760757808630096, 0.5831079800665344, 0.6982099311093474, 0.527364322034663, 0.352086005192226, 0.3394773259923436], \"coherence_25\": 0.47386937761965287, \"coherence_30_list\": [0.5185815555409399, 0.7454016421678925, 0.42164302432623385, 0.37318782905617215, 0.31122800807994117, 0.5659138815798918, 0.6069678724615992, 0.5025203024265398, 0.4416103387211623, 0.41389303671825606, 0.4306154210272902, 0.4354477787536484, 0.4136590837471039, 0.7272603772611393, 0.678364943466398, 0.5476717015026182, 0.8051342594639836, 0.5480451598088449, 0.45038547963072106, 0.46531091652714146], \"coherence_30\": 0.5201421306133759, \"coherence_35_list\": [0.6725362012735769, 0.7184225784261742, 0.4105539304145346, 0.42922502813790936, 0.39905119098800523, 0.648071616194699, 0.5528203223663217, 0.49554179488631545, 0.5683363058048639, 0.42588869211172076, 0.4439509986527714, 0.48230826753106937, 0.4176914338067248, 0.7484968672930934, 0.707235647809758, 0.6297342266706217, 0.8886452068184048, 0.6283061397103588, 0.44342371415531723, 0.48245181614463567], \"coherence_35\": 0.5596345989598438, \"coherence_40_list\": [0.6496331159262115, 0.7654447217476955, 0.4462511238029637, 0.40293966027292216, 0.44880312234245634, 0.6770620124487386, 0.6064190675869893, 0.48348524731354797, 0.6207130033264142, 0.4518997904021792, 0.5199032808859361, 0.5088270625367035, 0.36256895634556086, 0.8176074573681122, 0.6714328095708268, 0.6461345295307083, 0.9207583664624344, 0.6846339626285372, 0.445796277809063, 0.5413492222857709], \"coherence_40\": 0.5835831395296885, \"coherence_45_list\": [0.6383568290830818, 0.8269993504201305, 0.4379638724530778, 0.4268764237136548, 0.5108912726331825, 0.700282147857647, 0.6049675157904993, 0.4763635379786662, 0.6325763065846493, 0.4459333134885292, 0.5660821859377526, 0.5604496336152691, 0.383830583811464, 0.822646365549574, 0.6667174276118778, 0.6647554216165501, 0.9386534641814422, 0.6843006221059089, 0.4286479308949873, 0.550232923012974], \"coherence_45\": 0.5983763564170459, \"coherence_50_list\": [0.6434818367103563, 0.8230965975914835, 0.434029584796667, 0.4387537912464052, 0.5093011863328205, 0.6810968759131886, 0.6301182851226352, 0.5012678233974458, 0.70996180162255, 0.4609531628794834, 0.6164525919564751, 0.6048267018170496, 0.37904647704074745, 0.8825791466798728, 0.6135389442824853, 0.6680304020517872, 0.9704437869838707, 0.7343728451371225, 0.416258629371341, 0.5775218842465315], \"coherence_50\": 0.614756617759016, \"coherence_55_list\": [0.6690324247745992, 0.7732199848955054, 0.4354918449873989, 0.48066636464140844, 0.5319292513709187, 0.6762231443949264, 0.6124020152975516, 0.5249892765597542, 0.6808960993051449, 0.44455450448983874, 0.6328702925988441, 0.6083351664125007, 0.37974311089644125, 0.9353825721595134, 0.633389932262423, 0.6424502269607952, 0.980758711713512, 0.7165837024711127, 0.4251704926838748, 0.5704868548552429], \"coherence_55\": 0.6177287986865654, \"npmi_15\": null, \"npmi_25\": null}, \"fitness_name\": \"default\", \"dataset\": \"__noname__\", \"topic_count\": 20, \"train_option\": \"offline\", \"force_dataset_settings_checkout\": false}\n",
            "2023-12-19 09:40:20,697 - root - INFO - Loading dataset entities\n",
            "2023-12-19 09:40:20,699 - root - INFO - Reading dictionary from autotm_artifacts/1659e6bd-8d17-49de-9ba8-9790c2047501/dictionary.txt\n",
            "2023-12-19 09:40:21,271 - root - INFO - Dataset entities initialization took  0.57\n",
            "2023-12-19 09:40:21,272 - root - INFO - Using TM model: <class 'autotm.fitness.tm.TopicModel'> according to fitness name: default, topics count: 20\n",
            "20it [00:00, 647.88it/s]\n",
            "0it [00:00, ?it/s]\n",
            "5it [00:00, 458.30it/s]\n",
            "0it [00:00, ?it/s]\n",
            "20it [00:00, 671.15it/s]\n",
            "0it [00:00, ?it/s]\n",
            "5it [00:00, 420.52it/s]\n",
            "0it [00:00, ?it/s]\n",
            "20it [00:00, 694.28it/s]\n",
            "0it [00:00, ?it/s]\n",
            "5it [00:00, 375.69it/s]\n",
            "0it [00:00, ?it/s]\n",
            "20it [00:00, 403.18it/s]\n",
            "0it [00:00, ?it/s]\n",
            "5it [00:00, 537.80it/s]\n",
            "0it [00:00, ?it/s]\n"
          ]
        },
        {
          "output_type": "stream",
          "name": "stdout",
          "text": [
            "Training is complete\n"
          ]
        },
        {
          "output_type": "stream",
          "name": "stderr",
          "text": [
            "2023-12-19 09:40:31,240 - root - INFO - Building dictionary\n"
          ]
        },
        {
          "output_type": "stream",
          "name": "stdout",
          "text": [
            "Wow! all topics\n"
          ]
        },
        {
          "output_type": "stream",
          "name": "stderr",
          "text": [
            "20it [00:00, 673.57it/s]\n",
            "0it [00:00, ?it/s]\n",
            "5it [00:00, 662.44it/s]\n",
            "0it [00:00, ?it/s]\n"
          ]
        },
        {
          "output_type": "stream",
          "name": "stdout",
          "text": [
            "COMPONENTS:  0.614756617759016 0.37904647704074745\n"
          ]
        },
        {
          "output_type": "stream",
          "name": "stderr",
          "text": [
            "20it [00:00, 11024.59it/s]\n",
            "0it [00:00, ?it/s]\n",
            "20it [00:00, 5394.95it/s]\n",
            "0it [00:00, ?it/s]\n",
            "20it [00:00, 3233.48it/s]\n",
            "0it [00:00, ?it/s]\n",
            "20it [00:00, 1383.00it/s]\n",
            "0it [00:00, ?it/s]\n",
            "20it [00:00, 1032.29it/s]\n",
            "0it [00:00, ?it/s]\n",
            "20it [00:00, 712.71it/s]\n",
            "0it [00:00, ?it/s]\n",
            "20it [00:00, 652.06it/s]\n",
            "0it [00:00, ?it/s]\n",
            "20it [00:00, 542.93it/s]\n",
            "0it [00:00, ?it/s]\n",
            "20it [00:00, 467.61it/s]\n",
            "0it [00:00, ?it/s]\n",
            "20it [00:00, 451.98it/s]\n",
            "0it [00:00, ?it/s]\n",
            "2023-12-19 09:40:32,809 - root - INFO - Fitness estimation took  12.11\n",
            "2023-12-19 09:40:33,588 - root - INFO - Deleting bigartm logs: []\n",
            "2023-12-19 09:40:33,627 - root - INFO - The fitness results have been obtained\n",
            "2023-12-19 09:40:33,629 - GA_algo - INFO - TIME OF THE FITNESS FUNCTION IN MUTATION: 128.1660623550415\n",
            "2023-12-19 09:40:33,631 - GA_algo - INFO - MUTATION IS OVER\n",
            "2023-12-19 09:40:33,634 - GA_algo - INFO - Population len 11. Best params so far: [96892.43485383395, 30, 100.0, 25.34394981788416, 0, -339.04092750435984, -1000.0, 30.0, -418.6249974135577, 835.000029815335, 26.0, 1.0, 0.9306060634954084, 0.3382581659148661, 0.7286558208865347, 91099.03529212289], with fitness: 1.189785990918807.ITERATION TIME: 248.684654712677DATASET __noname__.TOPICS NUM 20.RUN ID 36f347f7-954e-433c-a4a6-0f4090f060e3.\n",
            "2023-12-19 09:40:33,636 - root - INFO - Sending a best individual to be logged\n",
            "2023-12-19 09:40:33,638 - root - INFO - Doing fitness calculating with individual {\"id\": \"63ee6dd2-db8f-4cb6-9afd-110859329c9f\", \"data_path\": \"autotm_artifacts/1659e6bd-8d17-49de-9ba8-9790c2047501\", \"params\": [96892.43485383395, 30, 100.0, 25.34394981788416, 0, -339.04092750435984, -1000.0, 30.0, -418.6249974135577, 835.000029815335, 26.0, 1.0, 0.9306060634954084, 0.3382581659148661, 0.7286558208865347, 91099.03529212289], \"exp_id\": null, \"alg_id\": \"ga\", \"iteration_id\": 2, \"tag\": \"v0\", \"fitness_value\": {\"avg_coherence_score\": 1.189785990918807, \"perplexityScore\": 1282.31201171875, \"backgroundTokensRatioScore\": 0.7377777695655823, \"contrast\": 0.8836861848831177, \"purity\": 0.8969408869743347, \"kernelSize\": 121.6500015258789, \"npmi_50_list\": null, \"npmi_50\": null, \"sparsity_phi\": 0.6633333563804626, \"sparsity_theta\": 0.0, \"topic_significance_uni\": null, \"topic_significance_vacuous\": null, \"topic_significance_back\": null, \"switchP_list\": [NaN], \"switchP\": NaN, \"all_topics\": true, \"coherence_10_list\": [0.31903521280939834, 0.8758205683080579, 0.28763487718125974, 0.882107189256187, 0.1921592785322912, 0.5958033922951873, 0.6840006850830135, 0.5643803197501599, 0.51737208052135, 0.2733091189752115, 0.431901601431943, 0.18063048981962065, 0.25125471613583034, 0.8127051740230897, 0.14584961617757847, 0.9086968445100421, 0.653339172247262, 0.3983758555588546, 0.4351360931955407, 0.18081363112934612], \"coherence_10\": 0.4795162958470612, \"coherence_15_list\": [0.32258051494917006, 1.0656398709901513, 0.29654143109920156, 1.1382348839082697, 0.2616262109216796, 0.5062116537761764, 0.7533097734005975, 0.3595262989881546, 0.5127420654802957, 0.3024880753245088, 0.6071176679396283, 0.20860257708981897, 0.283195699175262, 0.6788884206844773, 0.269338327356621, 0.8179934582871992, 0.8072972449156613, 0.41730441021634274, 0.4978218199606578, 0.25096790835097116], \"coherence_15\": 0.5178714156407421, \"coherence_20_list\": [0.44908860579802096, 0.9787329804365101, 0.41508079903872896, 1.0287762301209449, 0.5461819115574996, 0.540926304032627, 0.6112630216772951, 0.46759950898523184, 0.5163337236471164, 0.40900471016713985, 0.6695257538162931, 0.30775691955963214, 0.34124456377455115, 0.8287295566195586, 0.4042117049563767, 0.6683994436499937, 0.6975430211866304, 0.471922965803179, 0.6655640106759904, 0.34584612525954783], \"coherence_20\": 0.5681865930381435, \"coherence_25_list\": [0.5621485010659998, 1.1165689700007857, 0.5057192849553124, 1.0305012020405, 0.6590566869553075, 0.5330618268501179, 0.5767708226728978, 0.5063414029934117, 0.7549236153377695, 0.3750422085029907, 0.8745454981911841, 0.36845594001479803, 0.3471447013898829, 0.8292493547121247, 0.4489253136087687, 0.6955464904491284, 0.8171572422143125, 0.5725095389647654, 0.7778197716473514, 0.42359652211986376], \"coherence_25\": 0.6387542447343637, \"coherence_30_list\": [0.642870862214244, 1.2051300662936213, 0.5156554432200416, 0.9295623122677277, 0.7513496669174355, 0.6170673051728749, 0.5711557811022472, 0.48626453443361944, 0.7939697738026368, 0.41393921365023245, 0.9823665808552893, 0.46324012862791586, 0.36816578700731667, 0.8887386747465715, 0.5308933136442022, 0.743609221415891, 0.9361042357623608, 0.6398755985359756, 0.6919444948900594, 0.5157416257118895], \"coherence_30\": 0.6843822310136076, \"coherence_35_list\": [0.730341944416346, 1.140350137563999, 0.536447572681599, 0.929324829893507, 0.7741346939270745, 0.7588886097746389, 0.5741474473781807, 0.5144483776778697, 0.8224352043573127, 0.44616118923606385, 1.1150763847140168, 0.5848124217421329, 0.4420334919755613, 0.9543652194953292, 0.5553225241347486, 0.73928265484464, 0.9482581716338404, 0.7327805781131952, 0.5791819880681083, 0.5125548228667554], \"coherence_35\": 0.7195174132247459, \"coherence_40_list\": [0.7448956703493766, 1.057426030878085, 0.5227307635002147, 0.8778633557031048, 0.7868212002253469, 0.8188123256342388, 0.5647907501463789, 0.5541030823748765, 0.9104905706464292, 0.4514810001499825, 1.0601784244077173, 0.6995030075005059, 0.4699940301562885, 1.0413869122092532, 0.5656825697613581, 0.7151466286190119, 0.9159893894360543, 0.7368375894246725, 0.5408984088272203, 0.5742556674430002], \"coherence_40\": 0.7304643688696558, \"coherence_45_list\": [0.8009326834521384, 0.9977785947355087, 0.5100010026689679, 0.8876365513738252, 0.7911364456763367, 0.8523955018850001, 0.5695863473705401, 0.5621690110576616, 0.9210766593186345, 0.4612966847778936, 1.0241065232984448, 0.7453789992260548, 0.46101378527719916, 1.0071761236054073, 0.6264589974864009, 0.721275203602149, 0.9309280121753619, 0.753812761027535, 0.5016627013380506, 0.6036033068920855], \"coherence_45\": 0.7364712948122597, \"coherence_50_list\": [0.7687749404189993, 0.9302101718156464, 0.49112632084781965, 0.7838666962999339, 0.775474676052397, 0.8801397911867811, 0.5841331478227966, 0.5865880953880874, 0.9261881917214109, 0.4754711108941099, 0.9969978002810964, 0.7198528281776994, 0.46476695188644085, 0.9445657583715841, 0.6281785232716598, 0.6944652873945842, 0.9423200784940142, 0.8082534499141587, 0.49269938549802256, 0.6063075749100837], \"coherence_50\": 0.7250190390323662, \"coherence_55_list\": [0.7581404385654995, 0.9324990131399498, 0.49731756259903165, 0.707551713378943, 0.7853759189744743, 0.8993015772814192, 0.5576869504777087, 0.6064117169187112, 0.9790884777588884, 0.46104793297027274, 0.9367097429077224, 0.6869770997863642, 0.4796786396934126, 0.9308577771104469, 0.6492876432141518, 0.6781720719663724, 0.894408244364888, 0.7964821337392615, 0.4898558222922798, 0.6007567116335961], \"coherence_55\": 0.7163803594386696, \"npmi_15\": null, \"npmi_25\": null}, \"fitness_name\": \"default\", \"dataset\": \"__noname__\", \"topic_count\": 20, \"train_option\": \"offline\", \"force_dataset_settings_checkout\": false}\n",
            "2023-12-19 09:40:33,640 - root - INFO - Loading dataset entities\n",
            "2023-12-19 09:40:33,642 - root - INFO - Reading dictionary from autotm_artifacts/1659e6bd-8d17-49de-9ba8-9790c2047501/dictionary.txt\n",
            "2023-12-19 09:40:34,246 - root - INFO - Dataset entities initialization took  0.60\n",
            "2023-12-19 09:40:34,247 - root - INFO - Using TM model: <class 'autotm.fitness.tm.TopicModel'> according to fitness name: default, topics count: 20\n",
            "20it [00:00, 622.54it/s]\n",
            "0it [00:00, ?it/s]\n",
            "1it [00:00, 468.38it/s]\n",
            "0it [00:00, ?it/s]\n",
            "20it [00:00, 696.87it/s]\n",
            "0it [00:00, ?it/s]\n",
            "1it [00:00, 439.56it/s]\n",
            "0it [00:00, ?it/s]\n",
            "20it [00:00, 590.72it/s]\n",
            "0it [00:00, ?it/s]\n",
            "1it [00:00, 319.08it/s]\n",
            "0it [00:00, ?it/s]\n",
            "20it [00:00, 659.34it/s]\n",
            "0it [00:00, ?it/s]\n",
            "1it [00:00, 2022.33it/s]\n",
            "0it [00:00, ?it/s]\n"
          ]
        },
        {
          "output_type": "stream",
          "name": "stdout",
          "text": [
            "Training is complete\n"
          ]
        },
        {
          "output_type": "stream",
          "name": "stderr",
          "text": [
            "2023-12-19 09:40:42,131 - root - INFO - Building dictionary\n"
          ]
        },
        {
          "output_type": "stream",
          "name": "stdout",
          "text": [
            "Wow! all topics\n"
          ]
        },
        {
          "output_type": "stream",
          "name": "stderr",
          "text": [
            "20it [00:00, 491.90it/s]\n",
            "0it [00:00, ?it/s]\n",
            "1it [00:00, 2174.34it/s]\n",
            "0it [00:00, ?it/s]\n"
          ]
        },
        {
          "output_type": "stream",
          "name": "stdout",
          "text": [
            "COMPONENTS:  0.7250190390323662 0.46476695188644085\n"
          ]
        },
        {
          "output_type": "stream",
          "name": "stderr",
          "text": [
            "20it [00:00, 8572.93it/s]\n",
            "0it [00:00, ?it/s]\n",
            "20it [00:00, 5592.78it/s]\n",
            "0it [00:00, ?it/s]\n",
            "20it [00:00, 3468.52it/s]\n",
            "0it [00:00, ?it/s]\n",
            "20it [00:00, 1602.04it/s]\n",
            "0it [00:00, ?it/s]\n",
            "20it [00:00, 1179.09it/s]\n",
            "0it [00:00, ?it/s]\n",
            "20it [00:00, 704.13it/s]\n",
            "0it [00:00, ?it/s]\n",
            "20it [00:00, 445.02it/s]\n",
            "0it [00:00, ?it/s]\n",
            "20it [00:00, 443.06it/s]\n",
            "0it [00:00, ?it/s]\n",
            "20it [00:00, 437.83it/s]\n",
            "0it [00:00, ?it/s]\n",
            "20it [00:00, 409.72it/s]\n",
            "0it [00:00, ?it/s]\n",
            "2023-12-19 09:40:43,692 - root - INFO - Fitness estimation took  10.05\n",
            "2023-12-19 09:40:44,476 - root - INFO - Logging params and artifacts to mlflow\n",
            "2023-12-19 09:40:44,479 - root - INFO - Created experiment_None\n",
            "2023-12-19 09:40:44,488 - root - INFO - Experiment exists, omitting creation\n",
            "2023-12-19 09:40:44,504 - root - DEBUG - Params dict: {'val_decor': 96892.43485383395, 'var_n_0': 30, 'var_sm_0': 100.0, 'var_sm_1': 25.34394981788416, 'var_n_1': 0, 'var_sp_0': -339.04092750435984, 'var_sp_1': -1000.0, 'var_n_2': 30.0, 'var_sp_2': -418.6249974135577, 'var_sp_3': 835.000029815335, 'var_n_3': 26.0, 'var_n_4': 1.0, 'ext_mutation_prob': 0.9306060634954084, 'ext_elem_mutation_prob': 0.3382581659148661, 'ext_mutation_selector': 0.7286558208865347, 'val_decor_2': 91099.03529212289}\n"
          ]
        },
        {
          "output_type": "stream",
          "name": "stdout",
          "text": [
            "Experiment run name: fitness-__noname__-8deda7f5-59de-4389-bbfa-b217ea74512c_tmp_2\n"
          ]
        },
        {
          "output_type": "stream",
          "name": "stderr",
          "text": [
            "2023-12-19 09:40:45,039 - root - INFO - Logged params and artifacts to mlflow\n",
            "2023-12-19 09:40:45,054 - root - INFO - Deleting bigartm logs: []\n",
            "2023-12-19 09:40:45,111 - GA_algo - INFO - ENTERING GENERATION 3\n",
            "2023-12-19 09:40:45,119 - GA_algo - INFO - PAIRS ARE CREATED\n",
            "2023-12-19 09:40:45,124 - GA_algo - INFO - CURRENT COUNTER: 93\n",
            "2023-12-19 09:40:45,127 - root - INFO - Calculating fitness...\n",
            "2023-12-19 09:40:45,129 - root - INFO - Doing fitness calculating with individual {\"id\": \"b8a3030c-79ae-457b-90b0-f1bd96d15745\", \"data_path\": \"autotm_artifacts/1659e6bd-8d17-49de-9ba8-9790c2047501\", \"params\": [96888.34422782721, 30, 100.0, 25.377311184537145, 0.0, -323.80644127509663, -1000.0, 29.0, -468.33570344449936, 834.7828330270435, 26.0, 1.0, 0.9306060634954084, 0.3382581659148661, 0.7286558208865347, 92749.2698003328], \"exp_id\": 0, \"alg_id\": \"ga\", \"iteration_id\": 3, \"tag\": \"v0\", \"fitness_value\": null, \"fitness_name\": \"default\", \"dataset\": \"__noname__\", \"topic_count\": 20, \"train_option\": \"offline\", \"force_dataset_settings_checkout\": false}\n",
            "2023-12-19 09:40:45,131 - root - INFO - Loading dataset entities\n",
            "2023-12-19 09:40:45,137 - root - INFO - Reading dictionary from autotm_artifacts/1659e6bd-8d17-49de-9ba8-9790c2047501/dictionary.txt\n",
            "2023-12-19 09:40:45,967 - root - INFO - Dataset entities initialization took  0.83\n",
            "2023-12-19 09:40:45,968 - root - INFO - Using TM model: <class 'autotm.fitness.tm.TopicModel'> according to fitness name: default, topics count: 20\n",
            "20it [00:00, 669.95it/s]\n",
            "0it [00:00, ?it/s]\n",
            "1it [00:00, 458.14it/s]\n",
            "0it [00:00, ?it/s]\n",
            "20it [00:00, 664.44it/s]\n",
            "0it [00:00, ?it/s]\n",
            "1it [00:00, 541.20it/s]\n",
            "0it [00:00, ?it/s]\n",
            "20it [00:00, 605.60it/s]\n",
            "0it [00:00, ?it/s]\n",
            "1it [00:00, 162.48it/s]\n",
            "0it [00:00, ?it/s]\n",
            "20it [00:00, 668.14it/s]\n",
            "0it [00:00, ?it/s]\n",
            "1it [00:00, 2332.76it/s]\n",
            "0it [00:00, ?it/s]\n"
          ]
        },
        {
          "output_type": "stream",
          "name": "stdout",
          "text": [
            "Training is complete\n"
          ]
        },
        {
          "output_type": "stream",
          "name": "stderr",
          "text": [
            "2023-12-19 09:40:53,638 - root - INFO - Building dictionary\n"
          ]
        },
        {
          "output_type": "stream",
          "name": "stdout",
          "text": [
            "Wow! all topics\n"
          ]
        },
        {
          "output_type": "stream",
          "name": "stderr",
          "text": [
            "20it [00:00, 695.05it/s]\n",
            "0it [00:00, ?it/s]\n",
            "1it [00:00, 2383.13it/s]\n",
            "0it [00:00, ?it/s]\n"
          ]
        },
        {
          "output_type": "stream",
          "name": "stdout",
          "text": [
            "COMPONENTS:  0.7253318509040126 0.46476695188644085\n"
          ]
        },
        {
          "output_type": "stream",
          "name": "stderr",
          "text": [
            "20it [00:00, 15038.74it/s]\n",
            "0it [00:00, ?it/s]\n",
            "20it [00:00, 4783.10it/s]\n",
            "0it [00:00, ?it/s]\n",
            "20it [00:00, 1661.77it/s]\n",
            "0it [00:00, ?it/s]\n",
            "20it [00:00, 1470.76it/s]\n",
            "0it [00:00, ?it/s]\n",
            "20it [00:00, 1171.20it/s]\n",
            "0it [00:00, ?it/s]\n",
            "20it [00:00, 997.76it/s]\n",
            "0it [00:00, ?it/s]\n",
            "20it [00:00, 807.83it/s]\n",
            "0it [00:00, ?it/s]\n",
            "20it [00:00, 657.73it/s]\n",
            "0it [00:00, ?it/s]\n",
            "20it [00:00, 546.75it/s]\n",
            "0it [00:00, ?it/s]\n",
            "20it [00:00, 415.01it/s]\n",
            "0it [00:00, ?it/s]\n",
            "2023-12-19 09:40:54,698 - root - INFO - Fitness estimation took  9.57\n",
            "2023-12-19 09:40:55,354 - root - INFO - Deleting bigartm logs: []\n",
            "2023-12-19 09:40:55,403 - root - INFO - Doing fitness calculating with individual {\"id\": \"e19d7ad1-7223-48fc-b286-a9bb5c99f5ba\", \"data_path\": \"autotm_artifacts/1659e6bd-8d17-49de-9ba8-9790c2047501\", \"params\": [96888.31024355062, 30, 100.0, 25.377588345516937, 0.0, -323.6798755629103, -1000.0, 30.0, -468.7486921608505, 834.7810285903347, 26.0, 1.0, 0.9306060634954084, 0.3382581659148661, 0.7286558208865347, 92762.97968871781], \"exp_id\": 0, \"alg_id\": \"ga\", \"iteration_id\": 3, \"tag\": \"v0\", \"fitness_value\": null, \"fitness_name\": \"default\", \"dataset\": \"__noname__\", \"topic_count\": 20, \"train_option\": \"offline\", \"force_dataset_settings_checkout\": false}\n",
            "2023-12-19 09:40:55,404 - root - INFO - Loading dataset entities\n",
            "2023-12-19 09:40:55,406 - root - INFO - Reading dictionary from autotm_artifacts/1659e6bd-8d17-49de-9ba8-9790c2047501/dictionary.txt\n",
            "2023-12-19 09:40:56,111 - root - INFO - Dataset entities initialization took  0.70\n",
            "2023-12-19 09:40:56,113 - root - INFO - Using TM model: <class 'autotm.fitness.tm.TopicModel'> according to fitness name: default, topics count: 20\n",
            "20it [00:00, 463.34it/s]\n",
            "0it [00:00, ?it/s]\n",
            "1it [00:00, 472.01it/s]\n",
            "0it [00:00, ?it/s]\n",
            "20it [00:00, 653.94it/s]\n",
            "0it [00:00, ?it/s]\n",
            "1it [00:00, 239.95it/s]\n",
            "0it [00:00, ?it/s]\n",
            "20it [00:00, 617.07it/s]\n",
            "0it [00:00, ?it/s]\n",
            "1it [00:00, 233.07it/s]\n",
            "0it [00:00, ?it/s]\n",
            "20it [00:00, 583.72it/s]\n",
            "0it [00:00, ?it/s]\n",
            "1it [00:00, 2250.16it/s]\n",
            "0it [00:00, ?it/s]\n"
          ]
        },
        {
          "output_type": "stream",
          "name": "stdout",
          "text": [
            "Training is complete\n"
          ]
        },
        {
          "output_type": "stream",
          "name": "stderr",
          "text": [
            "2023-12-19 09:41:04,884 - root - INFO - Building dictionary\n"
          ]
        },
        {
          "output_type": "stream",
          "name": "stdout",
          "text": [
            "Wow! all topics\n"
          ]
        },
        {
          "output_type": "stream",
          "name": "stderr",
          "text": [
            "20it [00:00, 624.53it/s]\n",
            "0it [00:00, ?it/s]\n",
            "1it [00:00, 2477.44it/s]\n",
            "0it [00:00, ?it/s]\n"
          ]
        },
        {
          "output_type": "stream",
          "name": "stdout",
          "text": [
            "COMPONENTS:  0.7253318509040126 0.46476695188644085\n"
          ]
        },
        {
          "output_type": "stream",
          "name": "stderr",
          "text": [
            "20it [00:00, 7407.81it/s]\n",
            "0it [00:00, ?it/s]\n",
            "20it [00:00, 4927.23it/s]\n",
            "0it [00:00, ?it/s]\n",
            "20it [00:00, 3204.57it/s]\n",
            "0it [00:00, ?it/s]\n",
            "20it [00:00, 1439.34it/s]\n",
            "0it [00:00, ?it/s]\n",
            "20it [00:00, 1173.48it/s]\n",
            "0it [00:00, ?it/s]\n",
            "20it [00:00, 904.10it/s]\n",
            "0it [00:00, ?it/s]\n",
            "20it [00:00, 589.02it/s]\n",
            "0it [00:00, ?it/s]\n",
            "20it [00:00, 574.61it/s]\n",
            "0it [00:00, ?it/s]\n",
            "20it [00:00, 516.95it/s]\n",
            "0it [00:00, ?it/s]\n",
            "20it [00:00, 388.68it/s]\n",
            "0it [00:00, ?it/s]\n",
            "2023-12-19 09:41:05,960 - root - INFO - Fitness estimation took  10.56\n",
            "2023-12-19 09:41:06,611 - root - INFO - Deleting bigartm logs: []\n",
            "2023-12-19 09:41:06,651 - root - INFO - Doing fitness calculating with individual {\"id\": \"47908830-8314-4748-b589-d1b359e65e45\", \"data_path\": \"autotm_artifacts/1659e6bd-8d17-49de-9ba8-9790c2047501\", \"params\": [95303.61931480348, 30.0, 100.0, 0, 0, -730.1422452898522, -1000.0, 30, -409.4718070650964, 750.6399265710334, 23.0, 0, 0.9306060634954084, 0.3382581659148661, 0.7286558208865347, 86548.2083986997], \"exp_id\": 0, \"alg_id\": \"ga\", \"iteration_id\": 3, \"tag\": \"v0\", \"fitness_value\": null, \"fitness_name\": \"default\", \"dataset\": \"__noname__\", \"topic_count\": 20, \"train_option\": \"offline\", \"force_dataset_settings_checkout\": false}\n",
            "2023-12-19 09:41:06,652 - root - INFO - Loading dataset entities\n",
            "2023-12-19 09:41:06,656 - root - INFO - Reading dictionary from autotm_artifacts/1659e6bd-8d17-49de-9ba8-9790c2047501/dictionary.txt\n",
            "2023-12-19 09:41:07,245 - root - INFO - Dataset entities initialization took  0.59\n",
            "2023-12-19 09:41:07,247 - root - INFO - Using TM model: <class 'autotm.fitness.tm.TopicModel'> according to fitness name: default, topics count: 20\n",
            "20it [00:00, 481.97it/s]\n",
            "0it [00:00, ?it/s]\n",
            "0it [00:00, ?it/s]\n",
            "0it [00:00, ?it/s]\n",
            "20it [00:00, 759.89it/s]\n",
            "0it [00:00, ?it/s]\n",
            "0it [00:00, ?it/s]\n",
            "0it [00:00, ?it/s]\n",
            "20it [00:00, 670.70it/s]\n",
            "0it [00:00, ?it/s]\n",
            "0it [00:00, ?it/s]\n",
            "0it [00:00, ?it/s]\n",
            "20it [00:00, 647.16it/s]\n",
            "0it [00:00, ?it/s]\n",
            "0it [00:00, ?it/s]\n",
            "0it [00:00, ?it/s]\n"
          ]
        },
        {
          "output_type": "stream",
          "name": "stdout",
          "text": [
            "Training is complete\n"
          ]
        },
        {
          "output_type": "stream",
          "name": "stderr",
          "text": [
            "2023-12-19 09:41:15,616 - root - INFO - Building dictionary\n"
          ]
        },
        {
          "output_type": "stream",
          "name": "stdout",
          "text": [
            "Wow! all topics\n"
          ]
        },
        {
          "output_type": "stream",
          "name": "stderr",
          "text": [
            "20it [00:00, 742.85it/s]\n",
            "0it [00:00, ?it/s]\n",
            "0it [00:00, ?it/s]\n",
            "0it [00:00, ?it/s]\n"
          ]
        },
        {
          "output_type": "stream",
          "name": "stdout",
          "text": [
            "COMPONENTS:  0.4339224411603584 0.02005440206891518\n"
          ]
        },
        {
          "output_type": "stream",
          "name": "stderr",
          "text": [
            "20it [00:00, 8116.70it/s]\n",
            "0it [00:00, ?it/s]\n",
            "20it [00:00, 5196.44it/s]\n",
            "0it [00:00, ?it/s]\n",
            "20it [00:00, 2305.13it/s]\n",
            "0it [00:00, ?it/s]\n",
            "20it [00:00, 1409.73it/s]\n",
            "0it [00:00, ?it/s]\n",
            "20it [00:00, 1170.01it/s]\n",
            "0it [00:00, ?it/s]\n",
            "20it [00:00, 1017.28it/s]\n",
            "0it [00:00, ?it/s]\n",
            "20it [00:00, 972.23it/s]\n",
            "0it [00:00, ?it/s]\n",
            "20it [00:00, 548.85it/s]\n",
            "0it [00:00, ?it/s]\n",
            "20it [00:00, 475.91it/s]\n",
            "0it [00:00, ?it/s]\n",
            "20it [00:00, 432.67it/s]\n",
            "0it [00:00, ?it/s]\n",
            "2023-12-19 09:41:16,618 - root - INFO - Fitness estimation took  9.97\n",
            "2023-12-19 09:41:17,217 - root - INFO - Deleting bigartm logs: []\n",
            "2023-12-19 09:41:17,256 - root - INFO - Doing fitness calculating with individual {\"id\": \"56fec6b6-fe60-413d-8986-cf0cff68d745\", \"data_path\": \"autotm_artifacts/1659e6bd-8d17-49de-9ba8-9790c2047501\", \"params\": [96884.51103323777, 19.0, 98.19466063189076, 25.408573052509603, 0.0, 200.07589896792157, -626.3262579843314, 30.0, -365.9028897270674, 834.5793048745477, 27.0, 0.0, 0.9306060634954084, 0.3382581659148661, 0.7286558208865347, 86086.9234106623], \"exp_id\": 0, \"alg_id\": \"ga\", \"iteration_id\": 3, \"tag\": \"v0\", \"fitness_value\": null, \"fitness_name\": \"default\", \"dataset\": \"__noname__\", \"topic_count\": 20, \"train_option\": \"offline\", \"force_dataset_settings_checkout\": false}\n",
            "2023-12-19 09:41:17,257 - root - INFO - Loading dataset entities\n",
            "2023-12-19 09:41:17,261 - root - INFO - Reading dictionary from autotm_artifacts/1659e6bd-8d17-49de-9ba8-9790c2047501/dictionary.txt\n",
            "2023-12-19 09:41:17,866 - root - INFO - Dataset entities initialization took  0.60\n",
            "2023-12-19 09:41:17,867 - root - INFO - Using TM model: <class 'autotm.fitness.tm.TopicModel'> according to fitness name: default, topics count: 20\n",
            "20it [00:00, 782.12it/s]\n",
            "0it [00:00, ?it/s]\n",
            "0it [00:00, ?it/s]\n",
            "0it [00:00, ?it/s]\n",
            "20it [00:00, 669.75it/s]\n",
            "0it [00:00, ?it/s]\n",
            "0it [00:00, ?it/s]\n",
            "0it [00:00, ?it/s]\n",
            "20it [00:00, 724.05it/s]\n",
            "0it [00:00, ?it/s]\n",
            "0it [00:00, ?it/s]\n",
            "0it [00:00, ?it/s]\n",
            "20it [00:00, 535.41it/s]\n",
            "0it [00:00, ?it/s]\n",
            "0it [00:00, ?it/s]\n",
            "0it [00:00, ?it/s]\n"
          ]
        },
        {
          "output_type": "stream",
          "name": "stdout",
          "text": [
            "Training is complete\n"
          ]
        },
        {
          "output_type": "stream",
          "name": "stderr",
          "text": [
            "2023-12-19 09:41:25,177 - root - INFO - Building dictionary\n"
          ]
        },
        {
          "output_type": "stream",
          "name": "stdout",
          "text": [
            "Wow! all topics\n"
          ]
        },
        {
          "output_type": "stream",
          "name": "stderr",
          "text": [
            "20it [00:00, 740.32it/s]\n",
            "0it [00:00, ?it/s]\n",
            "0it [00:00, ?it/s]\n",
            "0it [00:00, ?it/s]\n"
          ]
        },
        {
          "output_type": "stream",
          "name": "stdout",
          "text": [
            "COMPONENTS:  0.4323967852089551 0.02005440206891518\n"
          ]
        },
        {
          "output_type": "stream",
          "name": "stderr",
          "text": [
            "20it [00:00, 8581.70it/s]\n",
            "0it [00:00, ?it/s]\n",
            "20it [00:00, 5162.22it/s]\n",
            "0it [00:00, ?it/s]\n",
            "20it [00:00, 2414.68it/s]\n",
            "0it [00:00, ?it/s]\n",
            "20it [00:00, 1414.22it/s]\n",
            "0it [00:00, ?it/s]\n",
            "20it [00:00, 1330.74it/s]\n",
            "0it [00:00, ?it/s]\n",
            "20it [00:00, 1192.39it/s]\n",
            "0it [00:00, ?it/s]\n",
            "20it [00:00, 774.99it/s]\n",
            "0it [00:00, ?it/s]\n",
            "20it [00:00, 715.25it/s]\n",
            "0it [00:00, ?it/s]\n",
            "20it [00:00, 576.17it/s]\n",
            "0it [00:00, ?it/s]\n",
            "20it [00:00, 512.41it/s]\n",
            "0it [00:00, ?it/s]\n",
            "2023-12-19 09:41:26,123 - root - INFO - Fitness estimation took  8.87\n",
            "2023-12-19 09:41:26,646 - root - INFO - Deleting bigartm logs: []\n",
            "2023-12-19 09:41:26,686 - root - INFO - Doing fitness calculating with individual {\"id\": \"cc3bdf01-f41f-4a03-bb70-086eaa3834e7\", \"data_path\": \"autotm_artifacts/1659e6bd-8d17-49de-9ba8-9790c2047501\", \"params\": [96895.08890139492, 30, 100.0, 25.322304560251467, 0.0, -519.6156491311492, -1000.0, 30.0, -436.28402686986624, 835.1409497149441, 25.0, 1.0, 0.9306060634954084, 0.3382581659148661, 0.7286558208865347, 92777.81930203657], \"exp_id\": 0, \"alg_id\": \"ga\", \"iteration_id\": 3, \"tag\": \"v0\", \"fitness_value\": null, \"fitness_name\": \"default\", \"dataset\": \"__noname__\", \"topic_count\": 20, \"train_option\": \"offline\", \"force_dataset_settings_checkout\": false}\n",
            "2023-12-19 09:41:26,687 - root - INFO - Loading dataset entities\n",
            "2023-12-19 09:41:26,692 - root - INFO - Reading dictionary from autotm_artifacts/1659e6bd-8d17-49de-9ba8-9790c2047501/dictionary.txt\n",
            "2023-12-19 09:41:27,265 - root - INFO - Dataset entities initialization took  0.57\n",
            "2023-12-19 09:41:27,267 - root - INFO - Using TM model: <class 'autotm.fitness.tm.TopicModel'> according to fitness name: default, topics count: 20\n",
            "20it [00:00, 672.23it/s]\n",
            "0it [00:00, ?it/s]\n",
            "1it [00:00, 555.10it/s]\n",
            "0it [00:00, ?it/s]\n",
            "20it [00:00, 644.33it/s]\n",
            "0it [00:00, ?it/s]\n",
            "1it [00:00, 537.25it/s]\n",
            "0it [00:00, ?it/s]\n",
            "20it [00:00, 670.83it/s]\n",
            "0it [00:00, ?it/s]\n",
            "1it [00:00, 475.87it/s]\n",
            "0it [00:00, ?it/s]\n",
            "20it [00:00, 626.40it/s]\n",
            "0it [00:00, ?it/s]\n",
            "1it [00:00, 1924.88it/s]\n",
            "0it [00:00, ?it/s]\n"
          ]
        },
        {
          "output_type": "stream",
          "name": "stdout",
          "text": [
            "Training is complete\n"
          ]
        },
        {
          "output_type": "stream",
          "name": "stderr",
          "text": [
            "2023-12-19 09:41:34,869 - root - INFO - Building dictionary\n"
          ]
        },
        {
          "output_type": "stream",
          "name": "stdout",
          "text": [
            "Wow! all topics\n"
          ]
        },
        {
          "output_type": "stream",
          "name": "stderr",
          "text": [
            "20it [00:00, 667.59it/s]\n",
            "0it [00:00, ?it/s]\n",
            "1it [00:00, 693.27it/s]\n",
            "0it [00:00, ?it/s]\n"
          ]
        },
        {
          "output_type": "stream",
          "name": "stdout",
          "text": [
            "COMPONENTS:  0.7276164199160647 0.46476695188644085\n"
          ]
        },
        {
          "output_type": "stream",
          "name": "stderr",
          "text": [
            "20it [00:00, 8618.73it/s]\n",
            "0it [00:00, ?it/s]\n",
            "20it [00:00, 3543.68it/s]\n",
            "0it [00:00, ?it/s]\n",
            "20it [00:00, 2251.98it/s]\n",
            "0it [00:00, ?it/s]\n",
            "20it [00:00, 1545.75it/s]\n",
            "0it [00:00, ?it/s]\n",
            "20it [00:00, 1264.39it/s]\n",
            "0it [00:00, ?it/s]\n",
            "20it [00:00, 933.33it/s]\n",
            "0it [00:00, ?it/s]\n",
            "20it [00:00, 668.97it/s]\n",
            "0it [00:00, ?it/s]\n",
            "20it [00:00, 665.94it/s]\n",
            "0it [00:00, ?it/s]\n",
            "20it [00:00, 539.25it/s]\n",
            "0it [00:00, ?it/s]\n",
            "20it [00:00, 401.57it/s]\n",
            "0it [00:00, ?it/s]\n",
            "2023-12-19 09:41:36,060 - root - INFO - Fitness estimation took  9.37\n",
            "2023-12-19 09:41:36,871 - root - INFO - Deleting bigartm logs: []\n",
            "2023-12-19 09:41:36,936 - root - INFO - Doing fitness calculating with individual {\"id\": \"e666c8db-a1d1-43eb-b3b6-e3414f315a34\", \"data_path\": \"autotm_artifacts/1659e6bd-8d17-49de-9ba8-9790c2047501\", \"params\": [96892.96210322552, 30, 100.0, 25.33964980115296, 0.0, -521.9391954579232, -1000.0, 30.0, -436.7328764805822, 835.0280247663012, 25.0, 1.0, 0.5202512404944241, 0.3353393609599058, 0.05647051138561909, 92795.55168031694], \"exp_id\": 0, \"alg_id\": \"ga\", \"iteration_id\": 3, \"tag\": \"v0\", \"fitness_value\": null, \"fitness_name\": \"default\", \"dataset\": \"__noname__\", \"topic_count\": 20, \"train_option\": \"offline\", \"force_dataset_settings_checkout\": false}\n",
            "2023-12-19 09:41:36,940 - root - INFO - Loading dataset entities\n",
            "2023-12-19 09:41:36,942 - root - INFO - Reading dictionary from autotm_artifacts/1659e6bd-8d17-49de-9ba8-9790c2047501/dictionary.txt\n",
            "2023-12-19 09:41:37,866 - root - INFO - Dataset entities initialization took  0.92\n",
            "2023-12-19 09:41:37,868 - root - INFO - Using TM model: <class 'autotm.fitness.tm.TopicModel'> according to fitness name: default, topics count: 20\n",
            "20it [00:00, 655.05it/s]\n",
            "0it [00:00, ?it/s]\n",
            "1it [00:00, 500.99it/s]\n",
            "0it [00:00, ?it/s]\n",
            "20it [00:00, 684.07it/s]\n",
            "0it [00:00, ?it/s]\n",
            "1it [00:00, 505.03it/s]\n",
            "0it [00:00, ?it/s]\n",
            "20it [00:00, 663.05it/s]\n",
            "0it [00:00, ?it/s]\n",
            "1it [00:00, 550.72it/s]\n",
            "0it [00:00, ?it/s]\n",
            "20it [00:00, 583.89it/s]\n",
            "0it [00:00, ?it/s]\n",
            "1it [00:00, 2273.34it/s]\n",
            "0it [00:00, ?it/s]\n"
          ]
        },
        {
          "output_type": "stream",
          "name": "stdout",
          "text": [
            "Training is complete\n"
          ]
        },
        {
          "output_type": "stream",
          "name": "stderr",
          "text": [
            "2023-12-19 09:41:46,023 - root - INFO - Building dictionary\n"
          ]
        },
        {
          "output_type": "stream",
          "name": "stdout",
          "text": [
            "Wow! all topics\n"
          ]
        },
        {
          "output_type": "stream",
          "name": "stderr",
          "text": [
            "20it [00:00, 651.02it/s]\n",
            "0it [00:00, ?it/s]\n",
            "1it [00:00, 2409.13it/s]\n",
            "0it [00:00, ?it/s]\n"
          ]
        },
        {
          "output_type": "stream",
          "name": "stdout",
          "text": [
            "COMPONENTS:  0.727811544460261 0.46476695188644085\n"
          ]
        },
        {
          "output_type": "stream",
          "name": "stderr",
          "text": [
            "20it [00:00, 6899.66it/s]\n",
            "0it [00:00, ?it/s]\n",
            "20it [00:00, 5420.40it/s]\n",
            "0it [00:00, ?it/s]\n",
            "20it [00:00, 3328.55it/s]\n",
            "0it [00:00, ?it/s]\n",
            "20it [00:00, 1520.53it/s]\n",
            "0it [00:00, ?it/s]\n",
            "20it [00:00, 1190.43it/s]\n",
            "0it [00:00, ?it/s]\n",
            "20it [00:00, 767.04it/s]\n",
            "0it [00:00, ?it/s]\n",
            "20it [00:00, 803.71it/s]\n",
            "0it [00:00, ?it/s]\n",
            "20it [00:00, 706.72it/s]\n",
            "0it [00:00, ?it/s]\n",
            "20it [00:00, 463.50it/s]\n",
            "0it [00:00, ?it/s]\n",
            "20it [00:00, 463.21it/s]\n",
            "0it [00:00, ?it/s]\n",
            "2023-12-19 09:41:47,088 - root - INFO - Fitness estimation took  10.15\n",
            "2023-12-19 09:41:47,755 - root - INFO - Deleting bigartm logs: []\n",
            "2023-12-19 09:41:47,794 - root - INFO - Doing fitness calculating with individual {\"id\": \"9663da3b-0fc5-4e2f-a598-2d90efa3802a\", \"data_path\": \"autotm_artifacts/1659e6bd-8d17-49de-9ba8-9790c2047501\", \"params\": [100000.0, 30, 98.4617331250399, 32.66501682225543, 0, 93.19321816984132, -751.1827803112722, 30, -433.5298421551454, 787.3367474098129, 25.0, 0.0, 0.9609792888292359, 0.13056841268079034, 0.9253274209331299, 84276.51997288613], \"exp_id\": 0, \"alg_id\": \"ga\", \"iteration_id\": 3, \"tag\": \"v0\", \"fitness_value\": null, \"fitness_name\": \"default\", \"dataset\": \"__noname__\", \"topic_count\": 20, \"train_option\": \"offline\", \"force_dataset_settings_checkout\": false}\n",
            "2023-12-19 09:41:47,795 - root - INFO - Loading dataset entities\n",
            "2023-12-19 09:41:47,797 - root - INFO - Reading dictionary from autotm_artifacts/1659e6bd-8d17-49de-9ba8-9790c2047501/dictionary.txt\n",
            "2023-12-19 09:41:48,383 - root - INFO - Dataset entities initialization took  0.59\n",
            "2023-12-19 09:41:48,385 - root - INFO - Using TM model: <class 'autotm.fitness.tm.TopicModel'> according to fitness name: default, topics count: 20\n",
            "20it [00:00, 694.25it/s]\n",
            "0it [00:00, ?it/s]\n",
            "0it [00:00, ?it/s]\n",
            "0it [00:00, ?it/s]\n",
            "20it [00:00, 637.84it/s]\n",
            "0it [00:00, ?it/s]\n",
            "0it [00:00, ?it/s]\n",
            "0it [00:00, ?it/s]\n",
            "20it [00:00, 727.25it/s]\n",
            "0it [00:00, ?it/s]\n",
            "0it [00:00, ?it/s]\n",
            "0it [00:00, ?it/s]\n",
            "20it [00:00, 776.46it/s]\n",
            "0it [00:00, ?it/s]\n",
            "0it [00:00, ?it/s]\n",
            "0it [00:00, ?it/s]\n"
          ]
        },
        {
          "output_type": "stream",
          "name": "stdout",
          "text": [
            "Training is complete\n"
          ]
        },
        {
          "output_type": "stream",
          "name": "stderr",
          "text": [
            "2023-12-19 09:41:56,935 - root - INFO - Building dictionary\n"
          ]
        },
        {
          "output_type": "stream",
          "name": "stdout",
          "text": [
            "Wow! all topics\n"
          ]
        },
        {
          "output_type": "stream",
          "name": "stderr",
          "text": [
            "20it [00:00, 596.87it/s]\n",
            "0it [00:00, ?it/s]\n",
            "0it [00:00, ?it/s]\n",
            "0it [00:00, ?it/s]\n"
          ]
        },
        {
          "output_type": "stream",
          "name": "stdout",
          "text": [
            "COMPONENTS:  0.4321546105986659 0.013198996879417632\n"
          ]
        },
        {
          "output_type": "stream",
          "name": "stderr",
          "text": [
            "20it [00:00, 9647.62it/s]\n",
            "0it [00:00, ?it/s]\n",
            "20it [00:00, 5362.19it/s]\n",
            "0it [00:00, ?it/s]\n",
            "20it [00:00, 1919.46it/s]\n",
            "0it [00:00, ?it/s]\n",
            "20it [00:00, 1574.88it/s]\n",
            "0it [00:00, ?it/s]\n",
            "20it [00:00, 1130.71it/s]\n",
            "0it [00:00, ?it/s]\n",
            "20it [00:00, 1135.10it/s]\n",
            "0it [00:00, ?it/s]\n",
            "20it [00:00, 869.51it/s]\n",
            "0it [00:00, ?it/s]\n",
            "20it [00:00, 678.48it/s]\n",
            "0it [00:00, ?it/s]\n",
            "20it [00:00, 585.27it/s]\n",
            "0it [00:00, ?it/s]\n",
            "20it [00:00, 475.64it/s]\n",
            "0it [00:00, ?it/s]\n",
            "2023-12-19 09:41:57,925 - root - INFO - Fitness estimation took  10.13\n",
            "2023-12-19 09:41:58,519 - root - INFO - Deleting bigartm logs: []\n",
            "2023-12-19 09:41:58,556 - root - INFO - Doing fitness calculating with individual {\"id\": \"ce581a1f-ee47-4ffe-baf9-90ece61fb956\", \"data_path\": \"autotm_artifacts/1659e6bd-8d17-49de-9ba8-9790c2047501\", \"params\": [95299.59998714362, 30.0, 100.0, 38.33441824921574, 0.0, -543.0633333684817, -1000.0, 30.0, -500.13772381534835, 750.4265154556273, 23.0, 0, 0.5202512404944241, 0.3353393609599058, 0.05647051138561909, 86536.69588264063], \"exp_id\": 0, \"alg_id\": \"ga\", \"iteration_id\": 3, \"tag\": \"v0\", \"fitness_value\": null, \"fitness_name\": \"default\", \"dataset\": \"__noname__\", \"topic_count\": 20, \"train_option\": \"offline\", \"force_dataset_settings_checkout\": false}\n",
            "2023-12-19 09:41:58,557 - root - INFO - Loading dataset entities\n",
            "2023-12-19 09:41:58,560 - root - INFO - Reading dictionary from autotm_artifacts/1659e6bd-8d17-49de-9ba8-9790c2047501/dictionary.txt\n",
            "2023-12-19 09:41:59,145 - root - INFO - Dataset entities initialization took  0.59\n",
            "2023-12-19 09:41:59,147 - root - INFO - Using TM model: <class 'autotm.fitness.tm.TopicModel'> according to fitness name: default, topics count: 20\n",
            "20it [00:00, 545.02it/s]\n",
            "0it [00:00, ?it/s]\n",
            "0it [00:00, ?it/s]\n",
            "0it [00:00, ?it/s]\n",
            "20it [00:00, 590.37it/s]\n",
            "0it [00:00, ?it/s]\n",
            "0it [00:00, ?it/s]\n",
            "0it [00:00, ?it/s]\n",
            "20it [00:00, 599.70it/s]\n",
            "0it [00:00, ?it/s]\n",
            "0it [00:00, ?it/s]\n",
            "0it [00:00, ?it/s]\n",
            "20it [00:00, 752.07it/s]\n",
            "0it [00:00, ?it/s]\n",
            "0it [00:00, ?it/s]\n",
            "0it [00:00, ?it/s]\n"
          ]
        },
        {
          "output_type": "stream",
          "name": "stdout",
          "text": [
            "Training is complete\n"
          ]
        },
        {
          "output_type": "stream",
          "name": "stderr",
          "text": [
            "2023-12-19 09:42:07,462 - root - INFO - Building dictionary\n"
          ]
        },
        {
          "output_type": "stream",
          "name": "stdout",
          "text": [
            "Wow! all topics\n"
          ]
        },
        {
          "output_type": "stream",
          "name": "stderr",
          "text": [
            "20it [00:00, 528.62it/s]\n",
            "0it [00:00, ?it/s]\n",
            "0it [00:00, ?it/s]\n",
            "0it [00:00, ?it/s]\n"
          ]
        },
        {
          "output_type": "stream",
          "name": "stdout",
          "text": [
            "COMPONENTS:  0.4352350229040841 0.02005440206891518\n"
          ]
        },
        {
          "output_type": "stream",
          "name": "stderr",
          "text": [
            "20it [00:00, 15224.33it/s]\n",
            "0it [00:00, ?it/s]\n",
            "20it [00:00, 5765.37it/s]\n",
            "0it [00:00, ?it/s]\n",
            "20it [00:00, 2391.01it/s]\n",
            "0it [00:00, ?it/s]\n",
            "20it [00:00, 1271.12it/s]\n",
            "0it [00:00, ?it/s]\n",
            "20it [00:00, 1019.62it/s]\n",
            "0it [00:00, ?it/s]\n",
            "20it [00:00, 791.23it/s]\n",
            "0it [00:00, ?it/s]\n",
            "20it [00:00, 913.09it/s]\n",
            "0it [00:00, ?it/s]\n",
            "20it [00:00, 703.44it/s]\n",
            "0it [00:00, ?it/s]\n",
            "20it [00:00, 616.56it/s]\n",
            "0it [00:00, ?it/s]\n",
            "20it [00:00, 504.00it/s]\n",
            "0it [00:00, ?it/s]\n",
            "2023-12-19 09:42:08,395 - root - INFO - Fitness estimation took  9.84\n",
            "2023-12-19 09:42:08,973 - root - INFO - Deleting bigartm logs: []\n",
            "2023-12-19 09:42:09,016 - root - INFO - Doing fitness calculating with individual {\"id\": \"a4f6267c-0d24-4b22-a043-175d7c66eef9\", \"data_path\": \"autotm_artifacts/1659e6bd-8d17-49de-9ba8-9790c2047501\", \"params\": [96907.35692556309, 22.0, 98.81222915615257, 25.222251890634134, 0.0, -567.1959968410338, -287.5845830597754, 30.0, -287.7517640471277, 835.7923354548301, 25.0, 0.0, 0.5202512404944241, 0.3353393609599058, 0.05647051138561909, 87859.13455978935], \"exp_id\": 0, \"alg_id\": \"ga\", \"iteration_id\": 3, \"tag\": \"v0\", \"fitness_value\": null, \"fitness_name\": \"default\", \"dataset\": \"__noname__\", \"topic_count\": 20, \"train_option\": \"offline\", \"force_dataset_settings_checkout\": false}\n",
            "2023-12-19 09:42:09,017 - root - INFO - Loading dataset entities\n",
            "2023-12-19 09:42:09,019 - root - INFO - Reading dictionary from autotm_artifacts/1659e6bd-8d17-49de-9ba8-9790c2047501/dictionary.txt\n",
            "2023-12-19 09:42:09,609 - root - INFO - Dataset entities initialization took  0.59\n",
            "2023-12-19 09:42:09,611 - root - INFO - Using TM model: <class 'autotm.fitness.tm.TopicModel'> according to fitness name: default, topics count: 20\n",
            "20it [00:00, 798.25it/s]\n",
            "0it [00:00, ?it/s]\n",
            "0it [00:00, ?it/s]\n",
            "0it [00:00, ?it/s]\n",
            "20it [00:00, 713.25it/s]\n",
            "0it [00:00, ?it/s]\n",
            "0it [00:00, ?it/s]\n",
            "0it [00:00, ?it/s]\n",
            "20it [00:00, 799.07it/s]\n",
            "0it [00:00, ?it/s]\n",
            "0it [00:00, ?it/s]\n",
            "0it [00:00, ?it/s]\n",
            "20it [00:00, 717.42it/s]\n",
            "0it [00:00, ?it/s]\n",
            "0it [00:00, ?it/s]\n",
            "0it [00:00, ?it/s]\n"
          ]
        },
        {
          "output_type": "stream",
          "name": "stdout",
          "text": [
            "Training is complete\n"
          ]
        },
        {
          "output_type": "stream",
          "name": "stderr",
          "text": [
            "2023-12-19 09:42:16,163 - root - INFO - Building dictionary\n"
          ]
        },
        {
          "output_type": "stream",
          "name": "stdout",
          "text": [
            "Wow! all topics\n"
          ]
        },
        {
          "output_type": "stream",
          "name": "stderr",
          "text": [
            "20it [00:00, 533.55it/s]\n",
            "0it [00:00, ?it/s]\n",
            "0it [00:00, ?it/s]\n",
            "0it [00:00, ?it/s]\n"
          ]
        },
        {
          "output_type": "stream",
          "name": "stdout",
          "text": [
            "COMPONENTS:  0.43089470585801337 0.013198996879417632\n"
          ]
        },
        {
          "output_type": "stream",
          "name": "stderr",
          "text": [
            "20it [00:00, 8740.86it/s]\n",
            "0it [00:00, ?it/s]\n",
            "20it [00:00, 4903.04it/s]\n",
            "0it [00:00, ?it/s]\n",
            "20it [00:00, 2331.27it/s]\n",
            "0it [00:00, ?it/s]\n",
            "20it [00:00, 981.28it/s]\n",
            "0it [00:00, ?it/s]\n",
            "20it [00:00, 895.42it/s]\n",
            "0it [00:00, ?it/s]\n",
            "20it [00:00, 823.53it/s]\n",
            "0it [00:00, ?it/s]\n",
            "20it [00:00, 821.49it/s]\n",
            "0it [00:00, ?it/s]\n",
            "20it [00:00, 732.85it/s]\n",
            "0it [00:00, ?it/s]\n",
            "20it [00:00, 595.51it/s]\n",
            "0it [00:00, ?it/s]\n",
            "20it [00:00, 450.50it/s]\n",
            "0it [00:00, ?it/s]\n",
            "2023-12-19 09:42:17,422 - root - INFO - Fitness estimation took  8.40\n",
            "2023-12-19 09:42:18,044 - root - INFO - Deleting bigartm logs: []\n",
            "2023-12-19 09:42:18,123 - root - INFO - Doing fitness calculating with individual {\"id\": \"b5cc2596-2e2b-4fc2-b74e-dab9cd9a5365\", \"data_path\": \"autotm_artifacts/1659e6bd-8d17-49de-9ba8-9790c2047501\", \"params\": [96896.58782932597, 29.0, 99.99999999999997, 25.310079955946023, 0.0, -338.58783043431094, -999.9999999999998, 29.0, -418.15408493833166, 835.2205371257623, 26.0, 0.0, 0.9306060634954084, 0.3382581659148661, 0.7286558208865347, 91102.27111926375], \"exp_id\": 0, \"alg_id\": \"ga\", \"iteration_id\": 3, \"tag\": \"v0\", \"fitness_value\": null, \"fitness_name\": \"default\", \"dataset\": \"__noname__\", \"topic_count\": 20, \"train_option\": \"offline\", \"force_dataset_settings_checkout\": false}\n",
            "2023-12-19 09:42:18,126 - root - INFO - Loading dataset entities\n",
            "2023-12-19 09:42:18,127 - root - INFO - Reading dictionary from autotm_artifacts/1659e6bd-8d17-49de-9ba8-9790c2047501/dictionary.txt\n",
            "2023-12-19 09:42:19,104 - root - INFO - Dataset entities initialization took  0.98\n",
            "2023-12-19 09:42:19,110 - root - INFO - Using TM model: <class 'autotm.fitness.tm.TopicModel'> according to fitness name: default, topics count: 20\n",
            "20it [00:00, 756.85it/s]\n",
            "0it [00:00, ?it/s]\n",
            "0it [00:00, ?it/s]\n",
            "0it [00:00, ?it/s]\n",
            "20it [00:00, 701.31it/s]\n",
            "0it [00:00, ?it/s]\n",
            "0it [00:00, ?it/s]\n",
            "0it [00:00, ?it/s]\n",
            "20it [00:00, 793.62it/s]\n",
            "0it [00:00, ?it/s]\n",
            "0it [00:00, ?it/s]\n",
            "0it [00:00, ?it/s]\n",
            "20it [00:00, 766.91it/s]\n",
            "0it [00:00, ?it/s]\n",
            "0it [00:00, ?it/s]\n",
            "0it [00:00, ?it/s]\n"
          ]
        },
        {
          "output_type": "stream",
          "name": "stdout",
          "text": [
            "Training is complete\n"
          ]
        },
        {
          "output_type": "stream",
          "name": "stderr",
          "text": [
            "2023-12-19 09:42:26,553 - root - INFO - Building dictionary\n"
          ]
        },
        {
          "output_type": "stream",
          "name": "stdout",
          "text": [
            "Wow! all topics\n"
          ]
        },
        {
          "output_type": "stream",
          "name": "stderr",
          "text": [
            "20it [00:00, 773.73it/s]\n",
            "0it [00:00, ?it/s]\n",
            "0it [00:00, ?it/s]\n",
            "0it [00:00, ?it/s]\n"
          ]
        },
        {
          "output_type": "stream",
          "name": "stdout",
          "text": [
            "COMPONENTS:  0.4281673110706838 0.01745330329838334\n"
          ]
        },
        {
          "output_type": "stream",
          "name": "stderr",
          "text": [
            "20it [00:00, 15202.26it/s]\n",
            "0it [00:00, ?it/s]\n",
            "20it [00:00, 5053.68it/s]\n",
            "0it [00:00, ?it/s]\n",
            "20it [00:00, 1208.63it/s]\n",
            "0it [00:00, ?it/s]\n",
            "20it [00:00, 1791.44it/s]\n",
            "0it [00:00, ?it/s]\n",
            "20it [00:00, 910.94it/s]\n",
            "0it [00:00, ?it/s]\n",
            "20it [00:00, 1064.41it/s]\n",
            "0it [00:00, ?it/s]\n",
            "20it [00:00, 865.64it/s]\n",
            "0it [00:00, ?it/s]\n",
            "20it [00:00, 682.81it/s]\n",
            "0it [00:00, ?it/s]\n",
            "20it [00:00, 620.75it/s]\n",
            "0it [00:00, ?it/s]\n",
            "20it [00:00, 517.63it/s]\n",
            "0it [00:00, ?it/s]\n",
            "2023-12-19 09:42:27,506 - root - INFO - Fitness estimation took  9.38\n",
            "2023-12-19 09:42:28,096 - root - INFO - Deleting bigartm logs: []\n",
            "2023-12-19 09:42:28,135 - root - INFO - Doing fitness calculating with individual {\"id\": \"f53d1156-220a-4533-bb36-c7d611ad820d\", \"data_path\": \"autotm_artifacts/1659e6bd-8d17-49de-9ba8-9790c2047501\", \"params\": [95313.75254691775, 30.0, 100.0, 38.21899612680177, 0.0, -541.2505658590328, -1000.0, 30.0, -499.4134718813417, 751.1779629172029, 23.0, 0, 0.5202512404944241, 0.3353393609599058, 0.05647051138561909, 86577.232904119], \"exp_id\": 0, \"alg_id\": \"ga\", \"iteration_id\": 3, \"tag\": \"v0\", \"fitness_value\": null, \"fitness_name\": \"default\", \"dataset\": \"__noname__\", \"topic_count\": 20, \"train_option\": \"offline\", \"force_dataset_settings_checkout\": false}\n",
            "2023-12-19 09:42:28,137 - root - INFO - Loading dataset entities\n",
            "2023-12-19 09:42:28,139 - root - INFO - Reading dictionary from autotm_artifacts/1659e6bd-8d17-49de-9ba8-9790c2047501/dictionary.txt\n",
            "2023-12-19 09:42:28,719 - root - INFO - Dataset entities initialization took  0.58\n",
            "2023-12-19 09:42:28,721 - root - INFO - Using TM model: <class 'autotm.fitness.tm.TopicModel'> according to fitness name: default, topics count: 20\n",
            "20it [00:00, 758.46it/s]\n",
            "0it [00:00, ?it/s]\n",
            "0it [00:00, ?it/s]\n",
            "0it [00:00, ?it/s]\n",
            "20it [00:00, 634.03it/s]\n",
            "0it [00:00, ?it/s]\n",
            "0it [00:00, ?it/s]\n",
            "0it [00:00, ?it/s]\n",
            "20it [00:00, 712.50it/s]\n",
            "0it [00:00, ?it/s]\n",
            "0it [00:00, ?it/s]\n",
            "0it [00:00, ?it/s]\n",
            "20it [00:00, 470.13it/s]\n",
            "0it [00:00, ?it/s]\n",
            "0it [00:00, ?it/s]\n",
            "0it [00:00, ?it/s]\n"
          ]
        },
        {
          "output_type": "stream",
          "name": "stdout",
          "text": [
            "Training is complete\n"
          ]
        },
        {
          "output_type": "stream",
          "name": "stderr",
          "text": [
            "2023-12-19 09:42:37,071 - root - INFO - Building dictionary\n"
          ]
        },
        {
          "output_type": "stream",
          "name": "stdout",
          "text": [
            "Wow! all topics\n"
          ]
        },
        {
          "output_type": "stream",
          "name": "stderr",
          "text": [
            "20it [00:00, 767.26it/s]\n",
            "0it [00:00, ?it/s]\n",
            "0it [00:00, ?it/s]\n",
            "0it [00:00, ?it/s]\n"
          ]
        },
        {
          "output_type": "stream",
          "name": "stdout",
          "text": [
            "COMPONENTS:  0.43256727120126526 0.02005440206891518\n"
          ]
        },
        {
          "output_type": "stream",
          "name": "stderr",
          "text": [
            "20it [00:00, 16403.22it/s]\n",
            "0it [00:00, ?it/s]\n",
            "20it [00:00, 5064.06it/s]\n",
            "0it [00:00, ?it/s]\n",
            "20it [00:00, 2933.08it/s]\n",
            "0it [00:00, ?it/s]\n",
            "20it [00:00, 1465.87it/s]\n",
            "0it [00:00, ?it/s]\n",
            "20it [00:00, 952.60it/s]\n",
            "0it [00:00, ?it/s]\n",
            "20it [00:00, 649.91it/s]\n",
            "0it [00:00, ?it/s]\n",
            "20it [00:00, 789.16it/s]\n",
            "0it [00:00, ?it/s]\n",
            "20it [00:00, 707.06it/s]\n",
            "0it [00:00, ?it/s]\n",
            "20it [00:00, 612.77it/s]\n",
            "0it [00:00, ?it/s]\n",
            "20it [00:00, 517.67it/s]\n",
            "0it [00:00, ?it/s]\n",
            "2023-12-19 09:42:38,038 - root - INFO - Fitness estimation took  9.90\n",
            "2023-12-19 09:42:38,641 - root - INFO - Deleting bigartm logs: []\n",
            "2023-12-19 09:42:38,681 - root - INFO - Doing fitness calculating with individual {\"id\": \"b904624a-8303-418c-9bc1-aa60048782d8\", \"data_path\": \"autotm_artifacts/1659e6bd-8d17-49de-9ba8-9790c2047501\", \"params\": [95821.71355497924, 30.0, 100.0, 34.076287062879004, 0, -471.2220767864582, -1000.0, 30, -489.8720791121285, 778.148773581792, 24.0, 0.0, 0.9306060634954084, 0.3382581659148661, 0.7286558208865347, 88583.34032519782], \"exp_id\": 0, \"alg_id\": \"ga\", \"iteration_id\": 3, \"tag\": \"v0\", \"fitness_value\": null, \"fitness_name\": \"default\", \"dataset\": \"__noname__\", \"topic_count\": 20, \"train_option\": \"offline\", \"force_dataset_settings_checkout\": false}\n",
            "2023-12-19 09:42:38,682 - root - INFO - Loading dataset entities\n",
            "2023-12-19 09:42:38,686 - root - INFO - Reading dictionary from autotm_artifacts/1659e6bd-8d17-49de-9ba8-9790c2047501/dictionary.txt\n",
            "2023-12-19 09:42:39,280 - root - INFO - Dataset entities initialization took  0.59\n",
            "2023-12-19 09:42:39,281 - root - INFO - Using TM model: <class 'autotm.fitness.tm.TopicModel'> according to fitness name: default, topics count: 20\n",
            "20it [00:00, 537.05it/s]\n",
            "0it [00:00, ?it/s]\n",
            "0it [00:00, ?it/s]\n",
            "0it [00:00, ?it/s]\n",
            "20it [00:00, 471.14it/s]\n",
            "0it [00:00, ?it/s]\n",
            "0it [00:00, ?it/s]\n",
            "0it [00:00, ?it/s]\n",
            "20it [00:00, 497.16it/s]\n",
            "0it [00:00, ?it/s]\n",
            "0it [00:00, ?it/s]\n",
            "0it [00:00, ?it/s]\n",
            "20it [00:00, 688.70it/s]\n",
            "0it [00:00, ?it/s]\n",
            "0it [00:00, ?it/s]\n",
            "0it [00:00, ?it/s]\n"
          ]
        },
        {
          "output_type": "stream",
          "name": "stdout",
          "text": [
            "Training is complete\n"
          ]
        },
        {
          "output_type": "stream",
          "name": "stderr",
          "text": [
            "2023-12-19 09:42:47,904 - root - INFO - Building dictionary\n"
          ]
        },
        {
          "output_type": "stream",
          "name": "stdout",
          "text": [
            "Wow! all topics\n"
          ]
        },
        {
          "output_type": "stream",
          "name": "stderr",
          "text": [
            "20it [00:00, 726.53it/s]\n",
            "0it [00:00, ?it/s]\n",
            "0it [00:00, ?it/s]\n",
            "0it [00:00, ?it/s]\n"
          ]
        },
        {
          "output_type": "stream",
          "name": "stdout",
          "text": [
            "COMPONENTS:  0.4297458224211752 0.013198996879417632\n"
          ]
        },
        {
          "output_type": "stream",
          "name": "stderr",
          "text": [
            "20it [00:00, 10468.75it/s]\n",
            "0it [00:00, ?it/s]\n",
            "20it [00:00, 3896.78it/s]\n",
            "0it [00:00, ?it/s]\n",
            "20it [00:00, 1506.93it/s]\n",
            "0it [00:00, ?it/s]\n",
            "20it [00:00, 1454.26it/s]\n",
            "0it [00:00, ?it/s]\n",
            "20it [00:00, 1068.23it/s]\n",
            "0it [00:00, ?it/s]\n",
            "20it [00:00, 741.21it/s]\n",
            "0it [00:00, ?it/s]\n",
            "20it [00:00, 900.67it/s]\n",
            "0it [00:00, ?it/s]\n",
            "20it [00:00, 662.00it/s]\n",
            "0it [00:00, ?it/s]\n",
            "20it [00:00, 607.03it/s]\n",
            "0it [00:00, ?it/s]\n",
            "20it [00:00, 489.89it/s]\n",
            "0it [00:00, ?it/s]\n",
            "2023-12-19 09:42:48,905 - root - INFO - Fitness estimation took  10.22\n",
            "2023-12-19 09:42:49,525 - root - INFO - Deleting bigartm logs: []\n",
            "2023-12-19 09:42:49,566 - root - INFO - Doing fitness calculating with individual {\"id\": \"71792af8-75f6-47e5-9ac2-599a9ca0e3f7\", \"data_path\": \"autotm_artifacts/1659e6bd-8d17-49de-9ba8-9790c2047501\", \"params\": [95307.43223964411, 30.0, 100.0, 0, 0, -729.2036593475837, -999.9999999999998, 30, -409.4937733827673, 750.8423784764418, 23.0, 0, 0.9306060634954084, 0.3382581659148661, 0.7286558208865347, 86559.12971743126], \"exp_id\": 0, \"alg_id\": \"ga\", \"iteration_id\": 3, \"tag\": \"v0\", \"fitness_value\": null, \"fitness_name\": \"default\", \"dataset\": \"__noname__\", \"topic_count\": 20, \"train_option\": \"offline\", \"force_dataset_settings_checkout\": false}\n",
            "2023-12-19 09:42:49,568 - root - INFO - Loading dataset entities\n",
            "2023-12-19 09:42:49,571 - root - INFO - Reading dictionary from autotm_artifacts/1659e6bd-8d17-49de-9ba8-9790c2047501/dictionary.txt\n",
            "2023-12-19 09:42:50,169 - root - INFO - Dataset entities initialization took  0.60\n",
            "2023-12-19 09:42:50,171 - root - INFO - Using TM model: <class 'autotm.fitness.tm.TopicModel'> according to fitness name: default, topics count: 20\n",
            "20it [00:00, 770.20it/s]\n",
            "0it [00:00, ?it/s]\n",
            "0it [00:00, ?it/s]\n",
            "0it [00:00, ?it/s]\n",
            "20it [00:00, 696.93it/s]\n",
            "0it [00:00, ?it/s]\n",
            "0it [00:00, ?it/s]\n",
            "0it [00:00, ?it/s]\n",
            "20it [00:00, 763.54it/s]\n",
            "0it [00:00, ?it/s]\n",
            "0it [00:00, ?it/s]\n",
            "0it [00:00, ?it/s]\n",
            "20it [00:00, 562.43it/s]\n",
            "0it [00:00, ?it/s]\n",
            "0it [00:00, ?it/s]\n",
            "0it [00:00, ?it/s]\n"
          ]
        },
        {
          "output_type": "stream",
          "name": "stdout",
          "text": [
            "Training is complete\n"
          ]
        },
        {
          "output_type": "stream",
          "name": "stderr",
          "text": [
            "2023-12-19 09:42:57,998 - root - INFO - Building dictionary\n"
          ]
        },
        {
          "output_type": "stream",
          "name": "stdout",
          "text": [
            "Wow! all topics\n"
          ]
        },
        {
          "output_type": "stream",
          "name": "stderr",
          "text": [
            "20it [00:00, 582.85it/s]\n",
            "0it [00:00, ?it/s]\n",
            "0it [00:00, ?it/s]\n",
            "0it [00:00, ?it/s]\n"
          ]
        },
        {
          "output_type": "stream",
          "name": "stdout",
          "text": [
            "COMPONENTS:  0.43277104370723335 0.02005440206891518\n"
          ]
        },
        {
          "output_type": "stream",
          "name": "stderr",
          "text": [
            "20it [00:00, 8405.42it/s]\n",
            "0it [00:00, ?it/s]\n",
            "20it [00:00, 5663.39it/s]\n",
            "0it [00:00, ?it/s]\n",
            "20it [00:00, 1853.18it/s]\n",
            "0it [00:00, ?it/s]\n",
            "20it [00:00, 1162.73it/s]\n",
            "0it [00:00, ?it/s]\n",
            "20it [00:00, 942.93it/s]\n",
            "0it [00:00, ?it/s]\n",
            "20it [00:00, 689.47it/s]\n",
            "0it [00:00, ?it/s]\n",
            "20it [00:00, 634.13it/s]\n",
            "0it [00:00, ?it/s]\n",
            "20it [00:00, 647.59it/s]\n",
            "0it [00:00, ?it/s]\n",
            "20it [00:00, 626.43it/s]\n",
            "0it [00:00, ?it/s]\n",
            "20it [00:00, 454.73it/s]\n",
            "0it [00:00, ?it/s]\n",
            "2023-12-19 09:42:59,400 - root - INFO - Fitness estimation took  9.83\n",
            "2023-12-19 09:43:00,022 - root - INFO - Deleting bigartm logs: []\n",
            "2023-12-19 09:43:00,064 - root - INFO - Doing fitness calculating with individual {\"id\": \"d1e335d9-13e3-43e2-8b18-653a04747213\", \"data_path\": \"autotm_artifacts/1659e6bd-8d17-49de-9ba8-9790c2047501\", \"params\": [96892.95845131483, 30, 100.0, 25.339679584548374, 0.0, -520.6723791229675, -1000.0, 30.0, -436.6074550796571, 835.0278308636383, 25.0, 1.0, 0.5202512404944241, 0.3353393609599058, 0.05647051138561909, 92783.80102407985], \"exp_id\": 0, \"alg_id\": \"ga\", \"iteration_id\": 3, \"tag\": \"v0\", \"fitness_value\": null, \"fitness_name\": \"default\", \"dataset\": \"__noname__\", \"topic_count\": 20, \"train_option\": \"offline\", \"force_dataset_settings_checkout\": false}\n",
            "2023-12-19 09:43:00,066 - root - INFO - Loading dataset entities\n",
            "2023-12-19 09:43:00,068 - root - INFO - Reading dictionary from autotm_artifacts/1659e6bd-8d17-49de-9ba8-9790c2047501/dictionary.txt\n",
            "2023-12-19 09:43:00,666 - root - INFO - Dataset entities initialization took  0.60\n",
            "2023-12-19 09:43:00,668 - root - INFO - Using TM model: <class 'autotm.fitness.tm.TopicModel'> according to fitness name: default, topics count: 20\n",
            "20it [00:00, 654.72it/s]\n",
            "0it [00:00, ?it/s]\n",
            "1it [00:00, 477.87it/s]\n",
            "0it [00:00, ?it/s]\n",
            "20it [00:00, 704.43it/s]\n",
            "0it [00:00, ?it/s]\n",
            "1it [00:00, 415.73it/s]\n",
            "0it [00:00, ?it/s]\n",
            "20it [00:00, 658.25it/s]\n",
            "0it [00:00, ?it/s]\n",
            "1it [00:00, 533.90it/s]\n",
            "0it [00:00, ?it/s]\n",
            "20it [00:00, 552.04it/s]\n",
            "0it [00:00, ?it/s]\n",
            "1it [00:00, 2013.59it/s]\n",
            "0it [00:00, ?it/s]\n"
          ]
        },
        {
          "output_type": "stream",
          "name": "stdout",
          "text": [
            "Training is complete\n"
          ]
        },
        {
          "output_type": "stream",
          "name": "stderr",
          "text": [
            "2023-12-19 09:43:08,246 - root - INFO - Building dictionary\n"
          ]
        },
        {
          "output_type": "stream",
          "name": "stdout",
          "text": [
            "Wow! all topics\n"
          ]
        },
        {
          "output_type": "stream",
          "name": "stderr",
          "text": [
            "20it [00:00, 403.43it/s]\n",
            "0it [00:00, ?it/s]\n",
            "1it [00:00, 2448.51it/s]\n",
            "0it [00:00, ?it/s]\n"
          ]
        },
        {
          "output_type": "stream",
          "name": "stdout",
          "text": [
            "COMPONENTS:  0.727811544460261 0.46476695188644085\n"
          ]
        },
        {
          "output_type": "stream",
          "name": "stderr",
          "text": [
            "20it [00:00, 6868.59it/s]\n",
            "0it [00:00, ?it/s]\n",
            "20it [00:00, 6164.47it/s]\n",
            "0it [00:00, ?it/s]\n",
            "20it [00:00, 2865.74it/s]\n",
            "0it [00:00, ?it/s]\n",
            "20it [00:00, 1293.80it/s]\n",
            "0it [00:00, ?it/s]\n",
            "20it [00:00, 922.54it/s]\n",
            "0it [00:00, ?it/s]\n",
            "20it [00:00, 774.01it/s]\n",
            "0it [00:00, ?it/s]\n",
            "20it [00:00, 617.83it/s]\n",
            "0it [00:00, ?it/s]\n",
            "20it [00:00, 603.03it/s]\n",
            "0it [00:00, ?it/s]\n",
            "20it [00:00, 514.01it/s]\n",
            "0it [00:00, ?it/s]\n",
            "20it [00:00, 433.59it/s]\n",
            "0it [00:00, ?it/s]\n",
            "2023-12-19 09:43:09,322 - root - INFO - Fitness estimation took  9.26\n",
            "2023-12-19 09:43:10,132 - root - INFO - Deleting bigartm logs: []\n",
            "2023-12-19 09:43:10,200 - root - INFO - Doing fitness calculating with individual {\"id\": \"d2e6c319-f15f-4b58-8779-a96fbd58d420\", \"data_path\": \"autotm_artifacts/1659e6bd-8d17-49de-9ba8-9790c2047501\", \"params\": [96892.96157816713, 30, 100.0, 25.339654083300914, 0.0, -521.7570572259483, -1000.0, 30.0, -436.7148438490269, 835.0279968876835, 25.0, 0.0, 0.5202512404944241, 0.3353393609599058, 0.05647051138561909, 92793.86221382327], \"exp_id\": 0, \"alg_id\": \"ga\", \"iteration_id\": 3, \"tag\": \"v0\", \"fitness_value\": null, \"fitness_name\": \"default\", \"dataset\": \"__noname__\", \"topic_count\": 20, \"train_option\": \"offline\", \"force_dataset_settings_checkout\": false}\n",
            "2023-12-19 09:43:10,202 - root - INFO - Loading dataset entities\n",
            "2023-12-19 09:43:10,204 - root - INFO - Reading dictionary from autotm_artifacts/1659e6bd-8d17-49de-9ba8-9790c2047501/dictionary.txt\n",
            "2023-12-19 09:43:11,153 - root - INFO - Dataset entities initialization took  0.95\n",
            "2023-12-19 09:43:11,156 - root - INFO - Using TM model: <class 'autotm.fitness.tm.TopicModel'> according to fitness name: default, topics count: 20\n",
            "20it [00:00, 771.59it/s]\n",
            "0it [00:00, ?it/s]\n",
            "0it [00:00, ?it/s]\n",
            "0it [00:00, ?it/s]\n",
            "20it [00:00, 649.77it/s]\n",
            "0it [00:00, ?it/s]\n",
            "0it [00:00, ?it/s]\n",
            "0it [00:00, ?it/s]\n",
            "20it [00:00, 806.39it/s]\n",
            "0it [00:00, ?it/s]\n",
            "0it [00:00, ?it/s]\n",
            "0it [00:00, ?it/s]\n",
            "20it [00:00, 725.38it/s]\n",
            "0it [00:00, ?it/s]\n",
            "0it [00:00, ?it/s]\n",
            "0it [00:00, ?it/s]\n"
          ]
        },
        {
          "output_type": "stream",
          "name": "stdout",
          "text": [
            "Training is complete\n"
          ]
        },
        {
          "output_type": "stream",
          "name": "stderr",
          "text": [
            "2023-12-19 09:43:20,408 - root - INFO - Building dictionary\n"
          ]
        },
        {
          "output_type": "stream",
          "name": "stdout",
          "text": [
            "Wow! all topics\n"
          ]
        },
        {
          "output_type": "stream",
          "name": "stderr",
          "text": [
            "20it [00:00, 790.76it/s]\n",
            "0it [00:00, ?it/s]\n",
            "0it [00:00, ?it/s]\n",
            "0it [00:00, ?it/s]\n"
          ]
        },
        {
          "output_type": "stream",
          "name": "stdout",
          "text": [
            "COMPONENTS:  0.4308004886334059 0.004606183820816705\n"
          ]
        },
        {
          "output_type": "stream",
          "name": "stderr",
          "text": [
            "20it [00:00, 6671.39it/s]\n",
            "0it [00:00, ?it/s]\n",
            "20it [00:00, 2378.67it/s]\n",
            "0it [00:00, ?it/s]\n",
            "20it [00:00, 3288.62it/s]\n",
            "0it [00:00, ?it/s]\n",
            "20it [00:00, 1794.62it/s]\n",
            "0it [00:00, ?it/s]\n",
            "20it [00:00, 1382.30it/s]\n",
            "0it [00:00, ?it/s]\n",
            "20it [00:00, 889.10it/s]\n",
            "0it [00:00, ?it/s]\n",
            "20it [00:00, 876.95it/s]\n",
            "0it [00:00, ?it/s]\n",
            "20it [00:00, 688.51it/s]\n",
            "0it [00:00, ?it/s]\n",
            "20it [00:00, 521.33it/s]\n",
            "0it [00:00, ?it/s]\n",
            "20it [00:00, 530.42it/s]\n",
            "0it [00:00, ?it/s]\n",
            "2023-12-19 09:43:21,361 - root - INFO - Fitness estimation took  11.16\n",
            "2023-12-19 09:43:21,955 - root - INFO - Deleting bigartm logs: []\n",
            "2023-12-19 09:43:21,992 - root - INFO - Doing fitness calculating with individual {\"id\": \"f0d9f2fe-fe0e-4ba3-bc07-3004cd510ab3\", \"data_path\": \"autotm_artifacts/1659e6bd-8d17-49de-9ba8-9790c2047501\", \"params\": [96892.96136708837, 30, 100.0, 25.339655804767446, 0.0, -521.6838358255683, -1000.0, 29.0, -436.70759454985085, 835.0279856801991, 25.0, 1.0, 0.5202512404944241, 0.3353393609599058, 0.05647051138561909, 92793.18303130777], \"exp_id\": 0, \"alg_id\": \"ga\", \"iteration_id\": 3, \"tag\": \"v0\", \"fitness_value\": null, \"fitness_name\": \"default\", \"dataset\": \"__noname__\", \"topic_count\": 20, \"train_option\": \"offline\", \"force_dataset_settings_checkout\": false}\n",
            "2023-12-19 09:43:21,994 - root - INFO - Loading dataset entities\n",
            "2023-12-19 09:43:21,997 - root - INFO - Reading dictionary from autotm_artifacts/1659e6bd-8d17-49de-9ba8-9790c2047501/dictionary.txt\n",
            "2023-12-19 09:43:22,588 - root - INFO - Dataset entities initialization took  0.59\n",
            "2023-12-19 09:43:22,590 - root - INFO - Using TM model: <class 'autotm.fitness.tm.TopicModel'> according to fitness name: default, topics count: 20\n",
            "20it [00:00, 684.06it/s]\n",
            "0it [00:00, ?it/s]\n",
            "1it [00:00, 537.18it/s]\n",
            "0it [00:00, ?it/s]\n",
            "20it [00:00, 656.72it/s]\n",
            "0it [00:00, ?it/s]\n",
            "1it [00:00, 407.37it/s]\n",
            "0it [00:00, ?it/s]\n",
            "20it [00:00, 668.21it/s]\n",
            "0it [00:00, ?it/s]\n",
            "1it [00:00, 452.17it/s]\n",
            "0it [00:00, ?it/s]\n",
            "20it [00:00, 573.04it/s]\n",
            "0it [00:00, ?it/s]\n",
            "1it [00:00, 2298.25it/s]\n",
            "0it [00:00, ?it/s]\n"
          ]
        },
        {
          "output_type": "stream",
          "name": "stdout",
          "text": [
            "Training is complete\n"
          ]
        },
        {
          "output_type": "stream",
          "name": "stderr",
          "text": [
            "2023-12-19 09:43:31,457 - root - INFO - Building dictionary\n"
          ]
        },
        {
          "output_type": "stream",
          "name": "stdout",
          "text": [
            "Wow! all topics\n"
          ]
        },
        {
          "output_type": "stream",
          "name": "stderr",
          "text": [
            "20it [00:00, 634.01it/s]\n",
            "0it [00:00, ?it/s]\n",
            "1it [00:00, 1597.22it/s]\n",
            "0it [00:00, ?it/s]\n"
          ]
        },
        {
          "output_type": "stream",
          "name": "stdout",
          "text": [
            "COMPONENTS:  0.727811544460261 0.46476695188644085\n"
          ]
        },
        {
          "output_type": "stream",
          "name": "stderr",
          "text": [
            "20it [00:00, 3740.74it/s]\n",
            "0it [00:00, ?it/s]\n",
            "20it [00:00, 5266.91it/s]\n",
            "0it [00:00, ?it/s]\n",
            "20it [00:00, 3299.22it/s]\n",
            "0it [00:00, ?it/s]\n",
            "20it [00:00, 1408.55it/s]\n",
            "0it [00:00, ?it/s]\n",
            "20it [00:00, 1216.73it/s]\n",
            "0it [00:00, ?it/s]\n",
            "20it [00:00, 1014.54it/s]\n",
            "0it [00:00, ?it/s]\n",
            "20it [00:00, 822.99it/s]\n",
            "0it [00:00, ?it/s]\n",
            "20it [00:00, 664.04it/s]\n",
            "0it [00:00, ?it/s]\n",
            "20it [00:00, 523.85it/s]\n",
            "0it [00:00, ?it/s]\n",
            "20it [00:00, 437.81it/s]\n",
            "0it [00:00, ?it/s]\n",
            "2023-12-19 09:43:32,498 - root - INFO - Fitness estimation took  10.50\n",
            "2023-12-19 09:43:33,164 - root - INFO - Deleting bigartm logs: []\n",
            "2023-12-19 09:43:33,205 - root - INFO - Doing fitness calculating with individual {\"id\": \"d68aa70b-4130-4f85-b2e5-c76754b0d439\", \"data_path\": \"autotm_artifacts/1659e6bd-8d17-49de-9ba8-9790c2047501\", \"params\": [95304.0955823933, 30.0, 100.0, 38.29775412954301, 0.0, -205.0008633678288, -1000.0, 30.0, -384.79488288105335, 750.6652145809139, 23.0, 0, 0.9609792888292359, 0.13056841268079034, 0.9253274209331299, 86549.57256672486], \"exp_id\": 0, \"alg_id\": \"ga\", \"iteration_id\": 3, \"tag\": \"v0\", \"fitness_value\": null, \"fitness_name\": \"default\", \"dataset\": \"__noname__\", \"topic_count\": 20, \"train_option\": \"offline\", \"force_dataset_settings_checkout\": false}\n",
            "2023-12-19 09:43:33,206 - root - INFO - Loading dataset entities\n",
            "2023-12-19 09:43:33,209 - root - INFO - Reading dictionary from autotm_artifacts/1659e6bd-8d17-49de-9ba8-9790c2047501/dictionary.txt\n",
            "2023-12-19 09:43:33,798 - root - INFO - Dataset entities initialization took  0.59\n",
            "2023-12-19 09:43:33,801 - root - INFO - Using TM model: <class 'autotm.fitness.tm.TopicModel'> according to fitness name: default, topics count: 20\n",
            "20it [00:00, 565.40it/s]\n",
            "0it [00:00, ?it/s]\n",
            "0it [00:00, ?it/s]\n",
            "0it [00:00, ?it/s]\n",
            "20it [00:00, 591.80it/s]\n",
            "0it [00:00, ?it/s]\n",
            "0it [00:00, ?it/s]\n",
            "0it [00:00, ?it/s]\n",
            "20it [00:00, 565.20it/s]\n",
            "0it [00:00, ?it/s]\n",
            "0it [00:00, ?it/s]\n",
            "0it [00:00, ?it/s]\n",
            "20it [00:00, 720.38it/s]\n",
            "0it [00:00, ?it/s]\n",
            "0it [00:00, ?it/s]\n",
            "0it [00:00, ?it/s]\n"
          ]
        },
        {
          "output_type": "stream",
          "name": "stdout",
          "text": [
            "Training is complete\n"
          ]
        },
        {
          "output_type": "stream",
          "name": "stderr",
          "text": [
            "2023-12-19 09:43:42,211 - root - INFO - Building dictionary\n"
          ]
        },
        {
          "output_type": "stream",
          "name": "stdout",
          "text": [
            "Wow! all topics\n"
          ]
        },
        {
          "output_type": "stream",
          "name": "stderr",
          "text": [
            "20it [00:00, 757.48it/s]\n",
            "0it [00:00, ?it/s]\n",
            "0it [00:00, ?it/s]\n",
            "0it [00:00, ?it/s]\n"
          ]
        },
        {
          "output_type": "stream",
          "name": "stdout",
          "text": [
            "COMPONENTS:  0.43435292569709133 0.02005440206891518\n"
          ]
        },
        {
          "output_type": "stream",
          "name": "stderr",
          "text": [
            "20it [00:00, 16030.21it/s]\n",
            "0it [00:00, ?it/s]\n",
            "20it [00:00, 5457.78it/s]\n",
            "0it [00:00, ?it/s]\n",
            "20it [00:00, 3393.86it/s]\n",
            "0it [00:00, ?it/s]\n",
            "20it [00:00, 1623.03it/s]\n",
            "0it [00:00, ?it/s]\n",
            "20it [00:00, 1215.74it/s]\n",
            "0it [00:00, ?it/s]\n",
            "20it [00:00, 1006.27it/s]\n",
            "0it [00:00, ?it/s]\n",
            "20it [00:00, 763.21it/s]\n",
            "0it [00:00, ?it/s]\n",
            "20it [00:00, 652.46it/s]\n",
            "0it [00:00, ?it/s]\n",
            "20it [00:00, 571.35it/s]\n",
            "0it [00:00, ?it/s]\n",
            "20it [00:00, 448.97it/s]\n",
            "0it [00:00, ?it/s]\n",
            "2023-12-19 09:43:43,158 - root - INFO - Fitness estimation took  9.95\n",
            "2023-12-19 09:43:43,960 - root - INFO - Deleting bigartm logs: []\n",
            "2023-12-19 09:43:44,014 - root - INFO - Doing fitness calculating with individual {\"id\": \"f4bc52bc-52b7-4277-b752-073ab8562afd\", \"data_path\": \"autotm_artifacts/1659e6bd-8d17-49de-9ba8-9790c2047501\", \"params\": [96363.0478441943, 30, 100.0, 29.66140003227474, 0.0, -396.7979991391823, -1000.0, 29.0, -478.65302973437446, 806.8915794053863, 24.0, 0.0, 0.5202512404944241, 0.3353393609599058, 0.05647051138561909, 90686.55877808746], \"exp_id\": 0, \"alg_id\": \"ga\", \"iteration_id\": 3, \"tag\": \"v0\", \"fitness_value\": null, \"fitness_name\": \"default\", \"dataset\": \"__noname__\", \"topic_count\": 20, \"train_option\": \"offline\", \"force_dataset_settings_checkout\": false}\n",
            "2023-12-19 09:43:44,016 - root - INFO - Loading dataset entities\n",
            "2023-12-19 09:43:44,018 - root - INFO - Reading dictionary from autotm_artifacts/1659e6bd-8d17-49de-9ba8-9790c2047501/dictionary.txt\n",
            "2023-12-19 09:43:44,687 - root - INFO - Dataset entities initialization took  0.67\n",
            "2023-12-19 09:43:44,689 - root - INFO - Using TM model: <class 'autotm.fitness.tm.TopicModel'> according to fitness name: default, topics count: 20\n",
            "20it [00:00, 672.43it/s]\n",
            "0it [00:00, ?it/s]\n",
            "0it [00:00, ?it/s]\n",
            "0it [00:00, ?it/s]\n",
            "20it [00:00, 713.97it/s]\n",
            "0it [00:00, ?it/s]\n",
            "0it [00:00, ?it/s]\n",
            "0it [00:00, ?it/s]\n",
            "20it [00:00, 801.64it/s]\n",
            "0it [00:00, ?it/s]\n",
            "0it [00:00, ?it/s]\n",
            "0it [00:00, ?it/s]\n",
            "20it [00:00, 777.59it/s]\n",
            "0it [00:00, ?it/s]\n",
            "0it [00:00, ?it/s]\n",
            "0it [00:00, ?it/s]\n"
          ]
        },
        {
          "output_type": "stream",
          "name": "stdout",
          "text": [
            "Training is complete\n"
          ]
        },
        {
          "output_type": "stream",
          "name": "stderr",
          "text": [
            "2023-12-19 09:43:53,198 - root - INFO - Building dictionary\n"
          ]
        },
        {
          "output_type": "stream",
          "name": "stdout",
          "text": [
            "Wow! all topics\n"
          ]
        },
        {
          "output_type": "stream",
          "name": "stderr",
          "text": [
            "20it [00:00, 662.54it/s]\n",
            "0it [00:00, ?it/s]\n",
            "0it [00:00, ?it/s]\n",
            "0it [00:00, ?it/s]\n"
          ]
        },
        {
          "output_type": "stream",
          "name": "stdout",
          "text": [
            "COMPONENTS:  0.4276762496032814 0.01745330329838334\n"
          ]
        },
        {
          "output_type": "stream",
          "name": "stderr",
          "text": [
            "20it [00:00, 11396.02it/s]\n",
            "0it [00:00, ?it/s]\n",
            "20it [00:00, 4251.92it/s]\n",
            "0it [00:00, ?it/s]\n",
            "20it [00:00, 3056.18it/s]\n",
            "0it [00:00, ?it/s]\n",
            "20it [00:00, 1643.21it/s]\n",
            "0it [00:00, ?it/s]\n",
            "20it [00:00, 1254.88it/s]\n",
            "0it [00:00, ?it/s]\n",
            "20it [00:00, 1029.04it/s]\n",
            "0it [00:00, ?it/s]\n",
            "20it [00:00, 886.51it/s]\n",
            "0it [00:00, ?it/s]\n",
            "20it [00:00, 693.70it/s]\n",
            "0it [00:00, ?it/s]\n",
            "20it [00:00, 536.45it/s]\n",
            "0it [00:00, ?it/s]\n",
            "20it [00:00, 480.14it/s]\n",
            "0it [00:00, ?it/s]\n",
            "2023-12-19 09:43:54,159 - root - INFO - Fitness estimation took  10.14\n",
            "2023-12-19 09:43:54,754 - root - INFO - Deleting bigartm logs: []\n",
            "2023-12-19 09:43:54,793 - root - INFO - The fitness results have been obtained\n",
            "2023-12-19 09:43:54,795 - GA_algo - INFO - ize of the new generation is 18\n",
            "2023-12-19 09:43:54,797 - GA_algo - INFO - TIME OF THE FITNESS FUNCTION IN CROSSOVER: 189.66998171806335\n",
            "2023-12-19 09:43:54,799 - GA_algo - INFO - CROSSOVER IS OVER\n",
            "2023-12-19 09:43:55,437 - root - INFO - Calculating fitness...\n",
            "2023-12-19 09:43:55,438 - root - INFO - Doing fitness calculating with individual {\"id\": \"e666c8db-a1d1-43eb-b3b6-e3414f315a34\", \"data_path\": \"autotm_artifacts/1659e6bd-8d17-49de-9ba8-9790c2047501\", \"params\": [96892.96210322552, 30, 100.0, 25.33964980115296, 0.0, -521.9391954579232, -1000.0, 30.0, -436.7328764805822, 835.0280247663012, 25.0, 1.0, 0.5202512404944241, 0.3353393609599058, 0.05647051138561909, 92795.55168031694], \"exp_id\": null, \"alg_id\": \"ga\", \"iteration_id\": 3, \"tag\": \"v0\", \"fitness_value\": {\"avg_coherence_score\": 1.1925784963467019, \"perplexityScore\": 1276.248046875, \"backgroundTokensRatioScore\": 0.737407386302948, \"contrast\": 0.8817061185836792, \"purity\": 0.8938827514648438, \"kernelSize\": 121.5, \"npmi_50_list\": null, \"npmi_50\": null, \"sparsity_phi\": 0.6629074215888977, \"sparsity_theta\": 0.0, \"topic_significance_uni\": null, \"topic_significance_vacuous\": null, \"topic_significance_back\": null, \"switchP_list\": [NaN], \"switchP\": NaN, \"all_topics\": true, \"coherence_10_list\": [0.31903521280939834, 0.8758205683080579, 0.28763487718125974, 0.882107189256187, 0.1921592785322912, 0.5958033922951873, 0.6840006850830135, 0.5643803197501599, 0.51737208052135, 0.2733091189752115, 0.431901601431943, 0.18063048981962065, 0.25125471613583034, 0.8127051740230897, 0.14584961617757847, 0.9086968445100421, 0.653339172247262, 0.3983758555588546, 0.4351360931955407, 0.18081363112934612], \"coherence_10\": 0.4795162958470612, \"coherence_15_list\": [0.32258051494917006, 1.0656398709901513, 0.29654143109920156, 1.1382348839082697, 0.2616262109216796, 0.5062116537761764, 0.7500492716560148, 0.3595262989881546, 0.5127420654802957, 0.3024880753245088, 0.6071176679396283, 0.20860257708981897, 0.283195699175262, 0.6788884206844773, 0.269338327356621, 0.8179934582871992, 0.8072972449156613, 0.41730441021634274, 0.4978218199606578, 0.25096790835097116], \"coherence_15\": 0.517708390553513, \"coherence_20_list\": [0.44908860579802096, 1.1037951375596513, 0.415080799038729, 1.0287762301209449, 0.5461819115574996, 0.540926304032627, 0.6112630216772951, 0.46759950898523184, 0.5163337236471164, 0.40900471016713985, 0.6695257538162931, 0.30775691955963214, 0.38156619330027836, 0.8287295566195586, 0.47884023276141, 0.6683994436499937, 0.6975430211866304, 0.5753116932959256, 0.6655640106759904, 0.34584612525954783], \"coherence_20\": 0.5853566451354757, \"coherence_25_list\": [0.5621485010659998, 1.1165689700007857, 0.5193748951814813, 1.0305012020405, 0.6590566869553075, 0.5330618268501179, 0.5767708226728978, 0.46814504116629446, 0.7549236153377695, 0.3750422085029907, 0.8745454981911841, 0.36845594001479803, 0.3471447013898829, 0.8292493547121247, 0.4818430355073839, 0.6955464904491284, 0.8171572422143125, 0.5725095389647654, 0.7778197716473514, 0.42359652211986376], \"coherence_25\": 0.6391730932492469, \"coherence_30_list\": [0.642870862214244, 1.2051300662936215, 0.5156554432200416, 0.9295623122677277, 0.7513496669174355, 0.6170673051728749, 0.5711557811022472, 0.5039053675126376, 0.7939697738026368, 0.41393921365023245, 0.9823665808552893, 0.46324012862791586, 0.36816578700731667, 0.8887386747465715, 0.5308933136442022, 0.743609221415891, 0.9361042357623608, 0.6398755985359756, 0.6919444948900594, 0.4976764531428917], \"coherence_30\": 0.6843610140391088, \"coherence_35_list\": [0.730341944416346, 1.140350137563999, 0.536447572681599, 0.929324829893507, 0.7741346939270745, 0.7588886097746389, 0.5741474473781806, 0.5144483776778697, 0.8224352043573127, 0.4525633560771964, 1.1150763847140168, 0.5848124217421329, 0.44203349197556124, 0.9543652194953292, 0.5553225241347487, 0.7554235729196433, 0.9482581716338404, 0.7327805781131953, 0.5791819880681083, 0.5125548228667554], \"coherence_35\": 0.7206445674705526, \"coherence_40_list\": [0.7448956703493766, 1.057426030878085, 0.5227307635002147, 0.8778633557031048, 0.7802630301454225, 0.8188123256342388, 0.5647907501463789, 0.5541030823748764, 0.9104905706464292, 0.45727982286629343, 1.0601784244077173, 0.6995030075005059, 0.46999403015628854, 1.0413869122092532, 0.5656825697613581, 0.7151466286190119, 0.9159893894360543, 0.7368375894246725, 0.5581496814689842, 0.5802072515012059], \"coherence_40\": 0.7315865443364735, \"coherence_45_list\": [0.7943693094928139, 0.9977785947355087, 0.5100010026689679, 0.8876365513738252, 0.7841526890089556, 0.8523955018850001, 0.5695863473705401, 0.5890460721928958, 0.9523648590841973, 0.4612966847778936, 1.0598783305270745, 0.7453789992260548, 0.4756809544688713, 1.0071761236054073, 0.6264589974864009, 0.721275203602149, 0.9309280121753619, 0.7538127610275349, 0.5016627013380506, 0.6036033068920854], \"coherence_45\": 0.7412241501469794, \"coherence_50_list\": [0.7700762557136946, 0.9302101718156464, 0.49112632084781965, 0.7838666962999339, 0.775474676052397, 0.8801397911867812, 0.604571439935599, 0.5865880953880874, 0.9680241237150483, 0.47937360177803506, 0.9969978002810964, 0.7082249064505343, 0.46476695188644085, 0.9445657583715841, 0.6281785232716599, 0.6944652873945842, 0.9423200784940142, 0.8082534499141585, 0.4926993854980225, 0.6063075749100837], \"coherence_50\": 0.727811544460261, \"coherence_55_list\": [0.7581404385654995, 0.9412223258829324, 0.4973175625990317, 0.707551713378943, 0.7853759189744743, 0.8993015772814195, 0.5576869504777087, 0.5891543803544768, 0.9790884777588884, 0.46104793297027274, 0.9367097429077224, 0.6904161838485035, 0.4656606973933527, 0.9308577771104469, 0.6833137788582557, 0.6781720719663724, 0.894408244364888, 0.775425075106808, 0.4898558222922798, 0.600756711633596], \"coherence_55\": 0.7160731691862935, \"npmi_15\": null, \"npmi_25\": null}, \"fitness_name\": \"default\", \"dataset\": \"__noname__\", \"topic_count\": 20, \"train_option\": \"offline\", \"force_dataset_settings_checkout\": false}\n",
            "2023-12-19 09:43:55,441 - root - INFO - Loading dataset entities\n",
            "2023-12-19 09:43:55,443 - root - INFO - Reading dictionary from autotm_artifacts/1659e6bd-8d17-49de-9ba8-9790c2047501/dictionary.txt\n",
            "2023-12-19 09:43:56,042 - root - INFO - Dataset entities initialization took  0.60\n",
            "2023-12-19 09:43:56,045 - root - INFO - Using TM model: <class 'autotm.fitness.tm.TopicModel'> according to fitness name: default, topics count: 20\n",
            "20it [00:00, 580.66it/s]\n",
            "0it [00:00, ?it/s]\n",
            "1it [00:00, 300.00it/s]\n",
            "0it [00:00, ?it/s]\n",
            "20it [00:00, 601.65it/s]\n",
            "0it [00:00, ?it/s]\n",
            "1it [00:00, 542.39it/s]\n",
            "0it [00:00, ?it/s]\n",
            "20it [00:00, 639.81it/s]\n",
            "0it [00:00, ?it/s]\n",
            "1it [00:00, 510.01it/s]\n",
            "0it [00:00, ?it/s]\n",
            "20it [00:00, 382.76it/s]\n",
            "0it [00:00, ?it/s]\n",
            "1it [00:00, 2156.45it/s]\n",
            "0it [00:00, ?it/s]\n"
          ]
        },
        {
          "output_type": "stream",
          "name": "stdout",
          "text": [
            "Training is complete\n"
          ]
        },
        {
          "output_type": "stream",
          "name": "stderr",
          "text": [
            "2023-12-19 09:44:04,202 - root - INFO - Building dictionary\n"
          ]
        },
        {
          "output_type": "stream",
          "name": "stdout",
          "text": [
            "Wow! all topics\n"
          ]
        },
        {
          "output_type": "stream",
          "name": "stderr",
          "text": [
            "20it [00:00, 397.38it/s]\n",
            "0it [00:00, ?it/s]\n",
            "1it [00:00, 2330.17it/s]\n",
            "0it [00:00, ?it/s]\n"
          ]
        },
        {
          "output_type": "stream",
          "name": "stdout",
          "text": [
            "COMPONENTS:  0.727811544460261 0.46476695188644085\n"
          ]
        },
        {
          "output_type": "stream",
          "name": "stderr",
          "text": [
            "20it [00:00, 11258.37it/s]\n",
            "0it [00:00, ?it/s]\n",
            "20it [00:00, 3456.37it/s]\n",
            "0it [00:00, ?it/s]\n",
            "20it [00:00, 1430.62it/s]\n",
            "0it [00:00, ?it/s]\n",
            "20it [00:00, 1267.01it/s]\n",
            "0it [00:00, ?it/s]\n",
            "20it [00:00, 738.61it/s]\n",
            "0it [00:00, ?it/s]\n",
            "20it [00:00, 708.47it/s]\n",
            "0it [00:00, ?it/s]\n",
            "20it [00:00, 472.95it/s]\n",
            "0it [00:00, ?it/s]\n",
            "20it [00:00, 451.76it/s]\n",
            "0it [00:00, ?it/s]\n",
            "20it [00:00, 363.91it/s]\n",
            "0it [00:00, ?it/s]\n",
            "20it [00:00, 278.77it/s]\n",
            "0it [00:00, ?it/s]\n",
            "2023-12-19 09:44:05,834 - root - INFO - Fitness estimation took  10.39\n",
            "2023-12-19 09:44:06,618 - root - INFO - Deleting bigartm logs: []\n",
            "2023-12-19 09:44:06,657 - root - INFO - Doing fitness calculating with individual {\"id\": \"c19a44a1-dd1c-4b18-b6df-fb46fbfee9d1\", \"data_path\": \"autotm_artifacts/1659e6bd-8d17-49de-9ba8-9790c2047501\", \"params\": [36.881099701540485, 30.0, 0.0, 25.339679584548374, 30.0, -520.6723791229675, 100.0, 0.0, -436.6074550796571, 835.0278308636383, 25.0, 1.0, 0.5202512404944241, 0.3353393609599058, 0.05647051138561909, 92783.80102407985], \"exp_id\": 0, \"alg_id\": \"ga\", \"iteration_id\": 3, \"tag\": \"v0\", \"fitness_value\": null, \"fitness_name\": \"default\", \"dataset\": \"__noname__\", \"topic_count\": 20, \"train_option\": \"offline\", \"force_dataset_settings_checkout\": false}\n",
            "2023-12-19 09:44:06,661 - root - INFO - Loading dataset entities\n",
            "2023-12-19 09:44:06,664 - root - INFO - Reading dictionary from autotm_artifacts/1659e6bd-8d17-49de-9ba8-9790c2047501/dictionary.txt\n",
            "2023-12-19 09:44:07,250 - root - INFO - Dataset entities initialization took  0.59\n",
            "2023-12-19 09:44:07,253 - root - INFO - Using TM model: <class 'autotm.fitness.tm.TopicModel'> according to fitness name: default, topics count: 20\n",
            "20it [00:00, 635.57it/s]\n",
            "0it [00:00, ?it/s]\n",
            "1it [00:00, 501.71it/s]\n",
            "0it [00:00, ?it/s]\n",
            "20it [00:00, 666.00it/s]\n",
            "0it [00:00, ?it/s]\n",
            "1it [00:00, 499.80it/s]\n",
            "0it [00:00, ?it/s]\n",
            "20it [00:00, 587.34it/s]\n",
            "0it [00:00, ?it/s]\n",
            "1it [00:00, 476.03it/s]\n",
            "0it [00:00, ?it/s]\n",
            "2023-12-19 09:44:14,748 - root - WARNING - Fitness calculation problem\n",
            "2023-12-19 09:44:14,749 - root - INFO - Fitness estimation took  8.09\n",
            "2023-12-19 09:44:15,331 - root - INFO - Deleting bigartm logs: []\n",
            "2023-12-19 09:44:15,369 - root - INFO - Doing fitness calculating with individual {\"id\": \"644b97a9-80d9-4878-a014-d8794a26f72d\", \"data_path\": \"autotm_artifacts/1659e6bd-8d17-49de-9ba8-9790c2047501\", \"params\": [96892.96136708837, 30.0, 100.0, 25.339655804767446, 0.0, -521.6838358255683, -1000.0, 29.0, -436.70759454985085, 835.0279856801991, 25.0, 1.0, 0.5202512404944241, 0.3353393609599058, 0.05647051138561909, 92793.18303130777], \"exp_id\": 0, \"alg_id\": \"ga\", \"iteration_id\": 3, \"tag\": \"v0\", \"fitness_value\": null, \"fitness_name\": \"default\", \"dataset\": \"__noname__\", \"topic_count\": 20, \"train_option\": \"offline\", \"force_dataset_settings_checkout\": false}\n",
            "2023-12-19 09:44:15,370 - root - INFO - Loading dataset entities\n",
            "2023-12-19 09:44:15,373 - root - INFO - Reading dictionary from autotm_artifacts/1659e6bd-8d17-49de-9ba8-9790c2047501/dictionary.txt\n",
            "2023-12-19 09:44:15,975 - root - INFO - Dataset entities initialization took  0.60\n",
            "2023-12-19 09:44:15,976 - root - INFO - Using TM model: <class 'autotm.fitness.tm.TopicModel'> according to fitness name: default, topics count: 20\n",
            "20it [00:00, 658.91it/s]\n",
            "0it [00:00, ?it/s]\n",
            "1it [00:00, 529.99it/s]\n",
            "0it [00:00, ?it/s]\n",
            "20it [00:00, 672.14it/s]\n",
            "0it [00:00, ?it/s]\n",
            "1it [00:00, 519.16it/s]\n",
            "0it [00:00, ?it/s]\n",
            "20it [00:00, 529.04it/s]\n",
            "0it [00:00, ?it/s]\n",
            "1it [00:00, 525.27it/s]\n",
            "0it [00:00, ?it/s]\n",
            "20it [00:00, 669.19it/s]\n",
            "0it [00:00, ?it/s]\n",
            "1it [00:00, 2448.51it/s]\n",
            "0it [00:00, ?it/s]\n"
          ]
        },
        {
          "output_type": "stream",
          "name": "stdout",
          "text": [
            "Training is complete\n"
          ]
        },
        {
          "output_type": "stream",
          "name": "stderr",
          "text": [
            "2023-12-19 09:44:24,893 - root - INFO - Building dictionary\n"
          ]
        },
        {
          "output_type": "stream",
          "name": "stdout",
          "text": [
            "Wow! all topics\n"
          ]
        },
        {
          "output_type": "stream",
          "name": "stderr",
          "text": [
            "20it [00:00, 635.59it/s]\n",
            "0it [00:00, ?it/s]\n",
            "1it [00:00, 2199.43it/s]\n",
            "0it [00:00, ?it/s]\n"
          ]
        },
        {
          "output_type": "stream",
          "name": "stdout",
          "text": [
            "COMPONENTS:  0.727811544460261 0.46476695188644085\n"
          ]
        },
        {
          "output_type": "stream",
          "name": "stderr",
          "text": [
            "20it [00:00, 14711.69it/s]\n",
            "0it [00:00, ?it/s]\n",
            "20it [00:00, 4344.18it/s]\n",
            "0it [00:00, ?it/s]\n",
            "20it [00:00, 3075.00it/s]\n",
            "0it [00:00, ?it/s]\n",
            "20it [00:00, 1335.60it/s]\n",
            "0it [00:00, ?it/s]\n",
            "20it [00:00, 1049.27it/s]\n",
            "0it [00:00, ?it/s]\n",
            "20it [00:00, 890.17it/s]\n",
            "0it [00:00, ?it/s]\n",
            "20it [00:00, 738.97it/s]\n",
            "0it [00:00, ?it/s]\n",
            "20it [00:00, 630.65it/s]\n",
            "0it [00:00, ?it/s]\n",
            "20it [00:00, 451.96it/s]\n",
            "0it [00:00, ?it/s]\n",
            "20it [00:00, 394.24it/s]\n",
            "0it [00:00, ?it/s]\n",
            "2023-12-19 09:44:25,976 - root - INFO - Fitness estimation took  10.61\n",
            "2023-12-19 09:44:26,657 - root - INFO - Deleting bigartm logs: []\n",
            "2023-12-19 09:44:26,695 - root - INFO - Doing fitness calculating with individual {\"id\": \"645640bc-cf85-46e0-aa6a-c78a8d6ce454\", \"data_path\": \"autotm_artifacts/1659e6bd-8d17-49de-9ba8-9790c2047501\", \"params\": [29.701281165042143, 30.0, 100.0, 25.322304560251467, 30.0, -1000.0, -519.6156491311492, 0.0, -436.28402686986624, 835.1409497149441, 25.0, 1.0, 0.9306060634954084, 0.3382581659148661, 0.7286558208865347, 92777.81930203657], \"exp_id\": 0, \"alg_id\": \"ga\", \"iteration_id\": 3, \"tag\": \"v0\", \"fitness_value\": null, \"fitness_name\": \"default\", \"dataset\": \"__noname__\", \"topic_count\": 20, \"train_option\": \"offline\", \"force_dataset_settings_checkout\": false}\n",
            "2023-12-19 09:44:26,696 - root - INFO - Loading dataset entities\n",
            "2023-12-19 09:44:26,699 - root - INFO - Reading dictionary from autotm_artifacts/1659e6bd-8d17-49de-9ba8-9790c2047501/dictionary.txt\n",
            "2023-12-19 09:44:27,275 - root - INFO - Dataset entities initialization took  0.58\n",
            "2023-12-19 09:44:27,277 - root - INFO - Using TM model: <class 'autotm.fitness.tm.TopicModel'> according to fitness name: default, topics count: 20\n",
            "20it [00:00, 517.39it/s]\n",
            "0it [00:00, ?it/s]\n",
            "1it [00:00, 519.93it/s]\n",
            "0it [00:00, ?it/s]\n",
            "20it [00:00, 353.35it/s]\n",
            "0it [00:00, ?it/s]\n",
            "1it [00:00, 531.46it/s]\n",
            "0it [00:00, ?it/s]\n",
            "20it [00:00, 666.35it/s]\n",
            "0it [00:00, ?it/s]\n",
            "1it [00:00, 492.40it/s]\n",
            "0it [00:00, ?it/s]\n",
            "2023-12-19 09:44:36,086 - root - WARNING - Fitness calculation problem\n",
            "2023-12-19 09:44:36,087 - root - INFO - Fitness estimation took  9.39\n",
            "2023-12-19 09:44:36,676 - root - INFO - Deleting bigartm logs: []\n",
            "2023-12-19 09:44:36,713 - root - INFO - Doing fitness calculating with individual {\"id\": \"c57caffa-afeb-4b15-b052-1a1931d670d8\", \"data_path\": \"autotm_artifacts/1659e6bd-8d17-49de-9ba8-9790c2047501\", \"params\": [96888.34422782721, 29.0, 25.377311184537145, 0.0, 0.0, 100.0, -1000.0, 30.0, -468.33570344449936, 834.7828330270435, 26.0, 1.0, 0.9306060634954084, 0.3382581659148661, 0.7286558208865347, 92749.2698003328], \"exp_id\": 0, \"alg_id\": \"ga\", \"iteration_id\": 3, \"tag\": \"v0\", \"fitness_value\": null, \"fitness_name\": \"default\", \"dataset\": \"__noname__\", \"topic_count\": 20, \"train_option\": \"offline\", \"force_dataset_settings_checkout\": false}\n",
            "2023-12-19 09:44:36,715 - root - INFO - Loading dataset entities\n",
            "2023-12-19 09:44:36,717 - root - INFO - Reading dictionary from autotm_artifacts/1659e6bd-8d17-49de-9ba8-9790c2047501/dictionary.txt\n",
            "2023-12-19 09:44:37,304 - root - INFO - Dataset entities initialization took  0.59\n",
            "2023-12-19 09:44:37,306 - root - INFO - Using TM model: <class 'autotm.fitness.tm.TopicModel'> according to fitness name: default, topics count: 20\n",
            "20it [00:00, 682.56it/s]\n",
            "0it [00:00, ?it/s]\n",
            "1it [00:00, 410.00it/s]\n",
            "0it [00:00, ?it/s]\n",
            "20it [00:00, 651.20it/s]\n",
            "0it [00:00, ?it/s]\n",
            "1it [00:00, 454.91it/s]\n",
            "0it [00:00, ?it/s]\n",
            "20it [00:00, 606.82it/s]\n",
            "0it [00:00, ?it/s]\n",
            "1it [00:00, 501.41it/s]\n",
            "0it [00:00, ?it/s]\n",
            "20it [00:00, 455.01it/s]\n",
            "0it [00:00, ?it/s]\n",
            "1it [00:00, 2455.68it/s]\n",
            "0it [00:00, ?it/s]\n"
          ]
        },
        {
          "output_type": "stream",
          "name": "stdout",
          "text": [
            "Training is complete\n"
          ]
        },
        {
          "output_type": "stream",
          "name": "stderr",
          "text": [
            "2023-12-19 09:44:46,215 - root - INFO - Building dictionary\n"
          ]
        },
        {
          "output_type": "stream",
          "name": "stdout",
          "text": [
            "Wow! all topics\n"
          ]
        },
        {
          "output_type": "stream",
          "name": "stderr",
          "text": [
            "20it [00:00, 620.49it/s]\n",
            "0it [00:00, ?it/s]\n",
            "1it [00:00, 2603.54it/s]\n",
            "0it [00:00, ?it/s]\n"
          ]
        },
        {
          "output_type": "stream",
          "name": "stdout",
          "text": [
            "COMPONENTS:  0.7252451097158217 0.46956034853575435\n"
          ]
        },
        {
          "output_type": "stream",
          "name": "stderr",
          "text": [
            "20it [00:00, 9341.43it/s]\n",
            "0it [00:00, ?it/s]\n",
            "20it [00:00, 4841.07it/s]\n",
            "0it [00:00, ?it/s]\n",
            "20it [00:00, 1816.27it/s]\n",
            "0it [00:00, ?it/s]\n",
            "20it [00:00, 921.20it/s]\n",
            "0it [00:00, ?it/s]\n",
            "20it [00:00, 800.76it/s]\n",
            "0it [00:00, ?it/s]\n",
            "20it [00:00, 544.92it/s]\n",
            "0it [00:00, ?it/s]\n",
            "20it [00:00, 582.92it/s]\n",
            "0it [00:00, ?it/s]\n",
            "20it [00:00, 484.77it/s]\n",
            "0it [00:00, ?it/s]\n",
            "20it [00:00, 384.31it/s]\n",
            "0it [00:00, ?it/s]\n",
            "20it [00:00, 356.96it/s]\n",
            "0it [00:00, ?it/s]\n",
            "2023-12-19 09:44:47,401 - root - INFO - Fitness estimation took  10.69\n",
            "2023-12-19 09:44:48,089 - root - INFO - Deleting bigartm logs: []\n",
            "2023-12-19 09:44:48,132 - root - INFO - Doing fitness calculating with individual {\"id\": \"d65c0f11-54fd-45ba-8aa6-5240f02d1ee2\", \"data_path\": \"autotm_artifacts/1659e6bd-8d17-49de-9ba8-9790c2047501\", \"params\": [60.271766137293625, 30.0, 25.377588345516937, 0.0, 0.0, 100.0, -1000.0, 30.0, -468.7486921608505, 834.7810285903347, 26.0, 1.0, 0.9306060634954084, 0.3382581659148661, 0.7286558208865347, 92762.97968871781], \"exp_id\": 0, \"alg_id\": \"ga\", \"iteration_id\": 3, \"tag\": \"v0\", \"fitness_value\": null, \"fitness_name\": \"default\", \"dataset\": \"__noname__\", \"topic_count\": 20, \"train_option\": \"offline\", \"force_dataset_settings_checkout\": false}\n",
            "2023-12-19 09:44:48,134 - root - INFO - Loading dataset entities\n",
            "2023-12-19 09:44:48,136 - root - INFO - Reading dictionary from autotm_artifacts/1659e6bd-8d17-49de-9ba8-9790c2047501/dictionary.txt\n",
            "2023-12-19 09:44:48,753 - root - INFO - Dataset entities initialization took  0.62\n",
            "2023-12-19 09:44:48,754 - root - INFO - Using TM model: <class 'autotm.fitness.tm.TopicModel'> according to fitness name: default, topics count: 20\n",
            "20it [00:00, 665.53it/s]\n",
            "0it [00:00, ?it/s]\n",
            "1it [00:00, 488.73it/s]\n",
            "0it [00:00, ?it/s]\n",
            "20it [00:00, 639.63it/s]\n",
            "0it [00:00, ?it/s]\n",
            "1it [00:00, 513.32it/s]\n",
            "0it [00:00, ?it/s]\n",
            "20it [00:00, 657.59it/s]\n",
            "0it [00:00, ?it/s]\n",
            "1it [00:00, 447.30it/s]\n",
            "0it [00:00, ?it/s]\n",
            "20it [00:00, 490.99it/s]\n",
            "0it [00:00, ?it/s]\n",
            "1it [00:00, 472.76it/s]\n",
            "0it [00:00, ?it/s]\n"
          ]
        },
        {
          "output_type": "stream",
          "name": "stdout",
          "text": [
            "Training is complete\n"
          ]
        },
        {
          "output_type": "stream",
          "name": "stderr",
          "text": [
            "2023-12-19 09:44:56,930 - root - INFO - Building dictionary\n"
          ]
        },
        {
          "output_type": "stream",
          "name": "stdout",
          "text": [
            "Wow! all topics\n"
          ]
        },
        {
          "output_type": "stream",
          "name": "stderr",
          "text": [
            "20it [00:00, 502.55it/s]\n",
            "0it [00:00, ?it/s]\n",
            "1it [00:00, 483.94it/s]\n",
            "0it [00:00, ?it/s]\n"
          ]
        },
        {
          "output_type": "stream",
          "name": "stdout",
          "text": [
            "COMPONENTS:  0.5272894063758546 0.1676806488725989\n"
          ]
        },
        {
          "output_type": "stream",
          "name": "stderr",
          "text": [
            "20it [00:00, 8896.60it/s]\n",
            "0it [00:00, ?it/s]\n",
            "20it [00:00, 5573.46it/s]\n",
            "0it [00:00, ?it/s]\n",
            "20it [00:00, 2242.58it/s]\n",
            "0it [00:00, ?it/s]\n",
            "20it [00:00, 1331.36it/s]\n",
            "0it [00:00, ?it/s]\n",
            "20it [00:00, 1027.03it/s]\n",
            "0it [00:00, ?it/s]\n",
            "20it [00:00, 980.44it/s]\n",
            "0it [00:00, ?it/s]\n",
            "20it [00:00, 689.97it/s]\n",
            "0it [00:00, ?it/s]\n",
            "20it [00:00, 563.73it/s]\n",
            "0it [00:00, ?it/s]\n",
            "20it [00:00, 451.26it/s]\n",
            "0it [00:00, ?it/s]\n",
            "20it [00:00, 401.22it/s]\n",
            "0it [00:00, ?it/s]\n",
            "2023-12-19 09:44:58,467 - root - INFO - Fitness estimation took  10.33\n",
            "2023-12-19 09:44:59,231 - root - INFO - Deleting bigartm logs: []\n",
            "2023-12-19 09:44:59,295 - root - INFO - Doing fitness calculating with individual {\"id\": \"1f6d233c-e5de-485f-8799-9c2fa577872e\", \"data_path\": \"autotm_artifacts/1659e6bd-8d17-49de-9ba8-9790c2047501\", \"params\": [96892.43485383395, 30.0, 100.0, 0.0, 0.0, 25.34394981788416, -1000.0, 30.0, -418.6249974135577, 835.000029815335, 26.0, 1.0, 0.9306060634954084, 0.3382581659148661, 0.7286558208865347, 91099.03529212289], \"exp_id\": 0, \"alg_id\": \"ga\", \"iteration_id\": 3, \"tag\": \"v0\", \"fitness_value\": null, \"fitness_name\": \"default\", \"dataset\": \"__noname__\", \"topic_count\": 20, \"train_option\": \"offline\", \"force_dataset_settings_checkout\": false}\n",
            "2023-12-19 09:44:59,297 - root - INFO - Loading dataset entities\n",
            "2023-12-19 09:44:59,299 - root - INFO - Reading dictionary from autotm_artifacts/1659e6bd-8d17-49de-9ba8-9790c2047501/dictionary.txt\n",
            "2023-12-19 09:45:00,187 - root - INFO - Dataset entities initialization took  0.89\n",
            "2023-12-19 09:45:00,188 - root - INFO - Using TM model: <class 'autotm.fitness.tm.TopicModel'> according to fitness name: default, topics count: 20\n",
            "20it [00:00, 625.73it/s]\n",
            "0it [00:00, ?it/s]\n",
            "1it [00:00, 457.99it/s]\n",
            "0it [00:00, ?it/s]\n",
            "20it [00:00, 669.40it/s]\n",
            "0it [00:00, ?it/s]\n",
            "1it [00:00, 437.86it/s]\n",
            "0it [00:00, ?it/s]\n",
            "20it [00:00, 659.72it/s]\n",
            "0it [00:00, ?it/s]\n",
            "1it [00:00, 283.74it/s]\n",
            "0it [00:00, ?it/s]\n",
            "20it [00:00, 688.26it/s]\n",
            "0it [00:00, ?it/s]\n",
            "1it [00:00, 2149.82it/s]\n",
            "0it [00:00, ?it/s]\n"
          ]
        },
        {
          "output_type": "stream",
          "name": "stdout",
          "text": [
            "Training is complete\n"
          ]
        },
        {
          "output_type": "stream",
          "name": "stderr",
          "text": [
            "2023-12-19 09:45:08,149 - root - INFO - Building dictionary\n"
          ]
        },
        {
          "output_type": "stream",
          "name": "stdout",
          "text": [
            "Wow! all topics\n"
          ]
        },
        {
          "output_type": "stream",
          "name": "stderr",
          "text": [
            "20it [00:00, 604.75it/s]\n",
            "0it [00:00, ?it/s]\n",
            "1it [00:00, 2175.47it/s]\n",
            "0it [00:00, ?it/s]\n"
          ]
        },
        {
          "output_type": "stream",
          "name": "stdout",
          "text": [
            "COMPONENTS:  0.7250190390323662 0.46476695188644085\n"
          ]
        },
        {
          "output_type": "stream",
          "name": "stderr",
          "text": [
            "20it [00:00, 6686.28it/s]\n",
            "0it [00:00, ?it/s]\n",
            "20it [00:00, 5260.96it/s]\n",
            "0it [00:00, ?it/s]\n",
            "20it [00:00, 1493.67it/s]\n",
            "0it [00:00, ?it/s]\n",
            "20it [00:00, 1226.94it/s]\n",
            "0it [00:00, ?it/s]\n",
            "20it [00:00, 932.42it/s]\n",
            "0it [00:00, ?it/s]\n",
            "20it [00:00, 856.41it/s]\n",
            "0it [00:00, ?it/s]\n",
            "20it [00:00, 826.57it/s]\n",
            "0it [00:00, ?it/s]\n",
            "20it [00:00, 631.52it/s]\n",
            "0it [00:00, ?it/s]\n",
            "20it [00:00, 530.69it/s]\n",
            "0it [00:00, ?it/s]\n",
            "20it [00:00, 436.40it/s]\n",
            "0it [00:00, ?it/s]\n",
            "2023-12-19 09:45:09,307 - root - INFO - Fitness estimation took  10.01\n",
            "2023-12-19 09:45:09,996 - root - INFO - Deleting bigartm logs: []\n",
            "2023-12-19 09:45:10,047 - root - INFO - Doing fitness calculating with individual {\"id\": \"463f3a1b-40f8-466d-bc75-c814de9a2764\", \"data_path\": \"autotm_artifacts/1659e6bd-8d17-49de-9ba8-9790c2047501\", \"params\": [17.170435936216734, 0.0, 100.0, 25.410889829272108, 30.0, -1000.0, -339.93642342000066, 30.0, -419.5557034941416, 834.5642216653607, 26.0, 1.0, 0.9306060634954084, 0.3382581659148661, 0.7286558208865347, 91092.64004002369], \"exp_id\": 0, \"alg_id\": \"ga\", \"iteration_id\": 3, \"tag\": \"v0\", \"fitness_value\": null, \"fitness_name\": \"default\", \"dataset\": \"__noname__\", \"topic_count\": 20, \"train_option\": \"offline\", \"force_dataset_settings_checkout\": false}\n",
            "2023-12-19 09:45:10,055 - root - INFO - Loading dataset entities\n",
            "2023-12-19 09:45:10,057 - root - INFO - Reading dictionary from autotm_artifacts/1659e6bd-8d17-49de-9ba8-9790c2047501/dictionary.txt\n",
            "2023-12-19 09:45:10,970 - root - INFO - Dataset entities initialization took  0.91\n",
            "2023-12-19 09:45:10,978 - root - INFO - Using TM model: <class 'autotm.fitness.tm.TopicModel'> according to fitness name: default, topics count: 20\n",
            "20it [00:00, 601.30it/s]\n",
            "0it [00:00, ?it/s]\n",
            "1it [00:00, 414.29it/s]\n",
            "0it [00:00, ?it/s]\n",
            "20it [00:00, 749.08it/s]\n",
            "0it [00:00, ?it/s]\n",
            "1it [00:00, 404.97it/s]\n",
            "0it [00:00, ?it/s]\n",
            "20it [00:00, 593.04it/s]\n",
            "0it [00:00, ?it/s]\n",
            "1it [00:00, 495.14it/s]\n",
            "0it [00:00, ?it/s]\n"
          ]
        },
        {
          "output_type": "stream",
          "name": "stdout",
          "text": [
            "Training is complete\n"
          ]
        },
        {
          "output_type": "stream",
          "name": "stderr",
          "text": [
            "2023-12-19 09:45:19,611 - root - INFO - Building dictionary\n"
          ]
        },
        {
          "output_type": "stream",
          "name": "stdout",
          "text": [
            "Wow! all topics\n"
          ]
        },
        {
          "output_type": "stream",
          "name": "stderr",
          "text": [
            "20it [00:00, 673.39it/s]\n",
            "0it [00:00, ?it/s]\n",
            "1it [00:00, 503.76it/s]\n",
            "0it [00:00, ?it/s]\n"
          ]
        },
        {
          "output_type": "stream",
          "name": "stdout",
          "text": [
            "COMPONENTS:  0.5547989124783425 0.277691856408961\n"
          ]
        },
        {
          "output_type": "stream",
          "name": "stderr",
          "text": [
            "20it [00:00, 10672.53it/s]\n",
            "0it [00:00, ?it/s]\n",
            "20it [00:00, 5256.68it/s]\n",
            "0it [00:00, ?it/s]\n",
            "20it [00:00, 3393.04it/s]\n",
            "0it [00:00, ?it/s]\n",
            "20it [00:00, 1086.52it/s]\n",
            "0it [00:00, ?it/s]\n",
            "20it [00:00, 814.99it/s]\n",
            "0it [00:00, ?it/s]\n",
            "20it [00:00, 942.99it/s]\n",
            "0it [00:00, ?it/s]\n",
            "20it [00:00, 655.20it/s]\n",
            "0it [00:00, ?it/s]\n",
            "20it [00:00, 570.68it/s]\n",
            "0it [00:00, ?it/s]\n",
            "20it [00:00, 551.66it/s]\n",
            "0it [00:00, ?it/s]\n",
            "20it [00:00, 436.98it/s]\n",
            "0it [00:00, ?it/s]\n",
            "2023-12-19 09:45:20,712 - root - INFO - Fitness estimation took  10.66\n",
            "2023-12-19 09:45:21,386 - root - INFO - Deleting bigartm logs: []\n",
            "2023-12-19 09:45:21,425 - root - INFO - Doing fitness calculating with individual {\"id\": \"45504bc3-6f48-48a0-88fb-5047e3ba12d1\", \"data_path\": \"autotm_artifacts/1659e6bd-8d17-49de-9ba8-9790c2047501\", \"params\": [96887.1876058615, 23.0, 98.80448285976293, 25.38674409026143, 0.0, 17.968628717110676, -752.5488164011348, 30.0, -383.7117924383422, 834.7214207698994, 27.0, 1.0, 0.9609792888292359, 0.13056841268079034, 0.9253274209331299, 87779.95536237671], \"exp_id\": 0, \"alg_id\": \"ga\", \"iteration_id\": 3, \"tag\": \"v0\", \"fitness_value\": null, \"fitness_name\": \"default\", \"dataset\": \"__noname__\", \"topic_count\": 20, \"train_option\": \"offline\", \"force_dataset_settings_checkout\": false}\n",
            "2023-12-19 09:45:21,426 - root - INFO - Loading dataset entities\n",
            "2023-12-19 09:45:21,432 - root - INFO - Reading dictionary from autotm_artifacts/1659e6bd-8d17-49de-9ba8-9790c2047501/dictionary.txt\n",
            "2023-12-19 09:45:22,009 - root - INFO - Dataset entities initialization took  0.58\n",
            "2023-12-19 09:45:22,010 - root - INFO - Using TM model: <class 'autotm.fitness.tm.TopicModel'> according to fitness name: default, topics count: 20\n",
            "20it [00:00, 428.58it/s]\n",
            "0it [00:00, ?it/s]\n",
            "1it [00:00, 522.07it/s]\n",
            "0it [00:00, ?it/s]\n",
            "20it [00:00, 478.20it/s]\n",
            "0it [00:00, ?it/s]\n",
            "1it [00:00, 531.53it/s]\n",
            "0it [00:00, ?it/s]\n",
            "20it [00:00, 466.34it/s]\n",
            "0it [00:00, ?it/s]\n",
            "1it [00:00, 512.69it/s]\n",
            "0it [00:00, ?it/s]\n",
            "20it [00:00, 672.71it/s]\n",
            "0it [00:00, ?it/s]\n",
            "1it [00:00, 3070.50it/s]\n",
            "0it [00:00, ?it/s]\n"
          ]
        },
        {
          "output_type": "stream",
          "name": "stdout",
          "text": [
            "Training is complete\n"
          ]
        },
        {
          "output_type": "stream",
          "name": "stderr",
          "text": [
            "2023-12-19 09:45:30,162 - root - INFO - Building dictionary\n"
          ]
        },
        {
          "output_type": "stream",
          "name": "stdout",
          "text": [
            "Wow! all topics\n"
          ]
        },
        {
          "output_type": "stream",
          "name": "stderr",
          "text": [
            "20it [00:00, 637.50it/s]\n",
            "0it [00:00, ?it/s]\n",
            "1it [00:00, 1726.05it/s]\n",
            "0it [00:00, ?it/s]\n"
          ]
        },
        {
          "output_type": "stream",
          "name": "stdout",
          "text": [
            "COMPONENTS:  0.7229624812585361 0.45674500358089537\n"
          ]
        },
        {
          "output_type": "stream",
          "name": "stderr",
          "text": [
            "20it [00:00, 10677.96it/s]\n",
            "0it [00:00, ?it/s]\n",
            "20it [00:00, 3416.81it/s]\n",
            "0it [00:00, ?it/s]\n",
            "20it [00:00, 3332.12it/s]\n",
            "0it [00:00, ?it/s]\n",
            "20it [00:00, 1264.30it/s]\n",
            "0it [00:00, ?it/s]\n",
            "20it [00:00, 1126.43it/s]\n",
            "0it [00:00, ?it/s]\n",
            "20it [00:00, 1015.14it/s]\n",
            "0it [00:00, ?it/s]\n",
            "20it [00:00, 891.01it/s]\n",
            "0it [00:00, ?it/s]\n",
            "20it [00:00, 683.04it/s]\n",
            "0it [00:00, ?it/s]\n",
            "20it [00:00, 555.22it/s]\n",
            "0it [00:00, ?it/s]\n",
            "20it [00:00, 458.03it/s]\n",
            "0it [00:00, ?it/s]\n",
            "2023-12-19 09:45:31,153 - root - INFO - Fitness estimation took  9.73\n",
            "2023-12-19 09:45:31,802 - root - INFO - Deleting bigartm logs: []\n",
            "2023-12-19 09:45:31,839 - root - INFO - Doing fitness calculating with individual {\"id\": \"d1ab1f5e-99ac-4244-84cf-c3f98d3aadcd\", \"data_path\": \"autotm_artifacts/1659e6bd-8d17-49de-9ba8-9790c2047501\", \"params\": [96891.40848806949, 23.0, 98.80610394590231, 25.352320410681422, 0, 16.996506781697462, -752.0626371183463, 30, -383.37544105897, 834.9455336704207, 27.0, 1.0, 0.5202512404944241, 0.3353393609599058, 0.05647051138561909, 87796.52538410001], \"exp_id\": null, \"alg_id\": \"ga\", \"iteration_id\": 3, \"tag\": \"v0\", \"fitness_value\": {\"avg_coherence_score\": 1.1797074848394316, \"perplexityScore\": 1294.4207763671875, \"backgroundTokensRatioScore\": 0.7977777719497681, \"contrast\": 0.8838701248168945, \"purity\": 0.8982052803039551, \"kernelSize\": 121.0999984741211, \"npmi_50_list\": null, \"npmi_50\": null, \"sparsity_phi\": 0.635351836681366, \"sparsity_theta\": 0.0, \"topic_significance_uni\": null, \"topic_significance_vacuous\": null, \"topic_significance_back\": null, \"switchP_list\": [NaN], \"switchP\": NaN, \"all_topics\": true, \"coherence_10_list\": [0.31903521280939834, 0.8758205683080579, 0.28763487718125974, 0.882107189256187, 0.1921592785322912, 0.5290623310486292, 0.6840006850830136, 0.5643803197501599, 0.51737208052135, 0.2792124464422488, 0.5286651321923822, 0.18063048981962065, 0.26537832863213723, 0.793249709305372, 0.27777922874345873, 0.9086968445100421, 0.653339172247262, 0.4619530866788673, 0.4195845228483685, 0.18081363112934612], \"coherence_10\": 0.49004375675197265, \"coherence_15_list\": [0.32258051494917006, 1.0656398709901513, 0.347696387059825, 1.1382348839082697, 0.2616262109216796, 0.4945854862249142, 0.6877469247073045, 0.3595262989881546, 0.5127420654802957, 0.3704542815785676, 0.6107113046583603, 0.20860257708981897, 0.29365482260809306, 0.6100505989856557, 0.28692792394125544, 0.8179934582871992, 0.7729578418194673, 0.41730441021634274, 0.4978218199606576, 0.22929584757936222], \"coherence_15\": 0.5153076764977272, \"coherence_20_list\": [0.44908860579802096, 1.1624977651268071, 0.47557648906650124, 1.0287762301209449, 0.5461819115574996, 0.5181847875706811, 0.6214936791862381, 0.46759950898523184, 0.5163337236471164, 0.3648116716745568, 0.8255488245965176, 0.2945869816927608, 0.36366623449485064, 0.7437371070142358, 0.5061248390948528, 0.6683994436499937, 0.7523543730109861, 0.471922965803179, 0.6655640106759904, 0.3298345061137651], \"coherence_20\": 0.5886141829440366, \"coherence_25_list\": [0.5466500410131033, 1.1972809557635022, 0.550723497990894, 0.9776736484947705, 0.6590566869553075, 0.5330618268501179, 0.5597896798382683, 0.5063414029934117, 0.7549236153377695, 0.443728194371431, 0.974213098134314, 0.368455940014798, 0.35315232453630296, 0.8338840353665692, 0.4919686244932992, 0.6426605605445397, 0.7960418870882904, 0.585227206468303, 0.7778197716473514, 0.45278536777333134], \"coherence_25\": 0.6502719182837836, \"coherence_30_list\": [0.6979197943763337, 1.2793896843027337, 0.5128040980382282, 0.8664416730971833, 0.7688075913513177, 0.617067305172875, 0.5711557811022471, 0.5086210039509714, 0.7939697738026371, 0.411777742416094, 0.9929530640380213, 0.4632401286279158, 0.4159896621160422, 0.8556577461110979, 0.5624546763062531, 0.743609221415891, 0.8803117111301639, 0.6398755985359756, 0.7046307767591089, 0.5158472484769435], \"coherence_30\": 0.6901262140564017, \"coherence_35_list\": [0.7050882285848475, 1.1342621440344842, 0.5392052581377375, 0.8466903993450204, 0.7262644204529302, 0.7518824917297745, 0.5741474473781806, 0.543983921787183, 0.7757002498030878, 0.4346984890878645, 1.1412647599276653, 0.5602758980509838, 0.4260352676595638, 0.9781845637828477, 0.5824482183555988, 0.73928265484464, 0.9541704504239801, 0.7562021786246926, 0.5854835784757005, 0.5326142614595941], \"coherence_35\": 0.7143942440973189, \"coherence_40_list\": [0.7714754698873146, 1.0381599833559683, 0.520384834979879, 0.8778633557031048, 0.7405134105303169, 0.8037402143824466, 0.5647907501463789, 0.5949783346548264, 0.9070999240756208, 0.4700397140764962, 1.0451561303031043, 0.7424746801354931, 0.4340972118532767, 0.9509907714533926, 0.5877879116415858, 0.7358283616144893, 0.9570801479436228, 0.7368375894246725, 0.5448367164256607, 0.5924646606333002], \"coherence_40\": 0.7308300086610475, \"coherence_45_list\": [0.7920180825765318, 0.9789795463316626, 0.5113720656165928, 0.8876365513738252, 0.730606323826838, 0.8007853287464742, 0.5695863473705401, 0.6143024711941181, 0.8863387098707166, 0.46192866146458456, 1.0342429161029718, 0.7449269889140596, 0.4518452935629156, 0.9461714028237137, 0.6383976746624285, 0.6938131737863108, 1.0085910647969483, 0.7528103170326637, 0.49900547865306344, 0.6025859694267234], \"coherence_45\": 0.7302972184066842, \"coherence_50_list\": [0.7768587740837748, 0.9388218440965747, 0.490358913186446, 0.7838666962999339, 0.7184605490741315, 0.8402364737786242, 0.5801704175599595, 0.6020133510000552, 0.9261881917214109, 0.4688195750081108, 0.9620580899501431, 0.7247160347824703, 0.45674500358089537, 0.9452607669838555, 0.6376386165256559, 0.6974134464029983, 1.0002137190465885, 0.8082534499141586, 0.48928693108164617, 0.6118687810932909], \"coherence_50\": 0.7229624812585361, \"coherence_55_list\": [0.7640452672003879, 0.9190711773926186, 0.49081880124266236, 0.7353577831257679, 0.7661257565727347, 0.8609102903887093, 0.5607611015175866, 0.6121919252983005, 0.9954156489444929, 0.48702415998921256, 0.9365968300232077, 0.7220222562900627, 0.46324226330190404, 0.9882616711066418, 0.6465656663061445, 0.6586361067416435, 0.9434036288862027, 0.7732332539375105, 0.48514781157209586, 0.5439272999412184], \"coherence_55\": 0.7176379349889552, \"npmi_15\": null, \"npmi_25\": null}, \"fitness_name\": \"default\", \"dataset\": \"__noname__\", \"topic_count\": 20, \"train_option\": \"offline\", \"force_dataset_settings_checkout\": false}\n",
            "2023-12-19 09:45:31,841 - root - INFO - Loading dataset entities\n",
            "2023-12-19 09:45:31,843 - root - INFO - Reading dictionary from autotm_artifacts/1659e6bd-8d17-49de-9ba8-9790c2047501/dictionary.txt\n",
            "2023-12-19 09:45:32,417 - root - INFO - Dataset entities initialization took  0.57\n",
            "2023-12-19 09:45:32,419 - root - INFO - Using TM model: <class 'autotm.fitness.tm.TopicModel'> according to fitness name: default, topics count: 20\n",
            "20it [00:00, 613.03it/s]\n",
            "0it [00:00, ?it/s]\n",
            "1it [00:00, 544.29it/s]\n",
            "0it [00:00, ?it/s]\n",
            "20it [00:00, 596.88it/s]\n",
            "0it [00:00, ?it/s]\n",
            "1it [00:00, 546.42it/s]\n",
            "0it [00:00, ?it/s]\n",
            "20it [00:00, 632.81it/s]\n",
            "0it [00:00, ?it/s]\n",
            "1it [00:00, 450.81it/s]\n",
            "0it [00:00, ?it/s]\n",
            "20it [00:00, 643.93it/s]\n",
            "0it [00:00, ?it/s]\n",
            "1it [00:00, 2585.88it/s]\n",
            "0it [00:00, ?it/s]\n"
          ]
        },
        {
          "output_type": "stream",
          "name": "stdout",
          "text": [
            "Training is complete\n"
          ]
        },
        {
          "output_type": "stream",
          "name": "stderr",
          "text": [
            "2023-12-19 09:45:40,645 - root - INFO - Building dictionary\n"
          ]
        },
        {
          "output_type": "stream",
          "name": "stdout",
          "text": [
            "Wow! all topics\n"
          ]
        },
        {
          "output_type": "stream",
          "name": "stderr",
          "text": [
            "20it [00:00, 579.91it/s]\n",
            "0it [00:00, ?it/s]\n",
            "1it [00:00, 450.13it/s]\n",
            "0it [00:00, ?it/s]\n"
          ]
        },
        {
          "output_type": "stream",
          "name": "stdout",
          "text": [
            "COMPONENTS:  0.7229624812585361 0.45674500358089537\n"
          ]
        },
        {
          "output_type": "stream",
          "name": "stderr",
          "text": [
            "20it [00:00, 7404.54it/s]\n",
            "0it [00:00, ?it/s]\n",
            "20it [00:00, 5515.56it/s]\n",
            "0it [00:00, ?it/s]\n",
            "20it [00:00, 3250.52it/s]\n",
            "0it [00:00, ?it/s]\n",
            "20it [00:00, 1714.76it/s]\n",
            "0it [00:00, ?it/s]\n",
            "20it [00:00, 916.96it/s]\n",
            "0it [00:00, ?it/s]\n",
            "20it [00:00, 689.14it/s]\n",
            "0it [00:00, ?it/s]\n",
            "20it [00:00, 910.08it/s]\n",
            "0it [00:00, ?it/s]\n",
            "20it [00:00, 719.75it/s]\n",
            "0it [00:00, ?it/s]\n",
            "20it [00:00, 577.66it/s]\n",
            "0it [00:00, ?it/s]\n",
            "20it [00:00, 451.82it/s]\n",
            "0it [00:00, ?it/s]\n",
            "2023-12-19 09:45:41,681 - root - INFO - Fitness estimation took  9.84\n",
            "2023-12-19 09:45:42,324 - root - INFO - Deleting bigartm logs: []\n",
            "2023-12-19 09:45:42,362 - root - INFO - Doing fitness calculating with individual {\"id\": \"c65e65f5-674e-43a3-8a8b-7835dace1da7\", \"data_path\": \"autotm_artifacts/1659e6bd-8d17-49de-9ba8-9790c2047501\", \"params\": [96900.5323789327, 23.0, 98.80960809794604, 0.0, 0.0, 25.27790992488128, -444.911163175093, 30.0, -320.2210638598616, 835.4299778090287, 26.0, 1.0, 0.5202512404944241, 0.3353393609599058, 0.05647051138561909, 87832.34326821906], \"exp_id\": 0, \"alg_id\": \"ga\", \"iteration_id\": 3, \"tag\": \"v0\", \"fitness_value\": null, \"fitness_name\": \"default\", \"dataset\": \"__noname__\", \"topic_count\": 20, \"train_option\": \"offline\", \"force_dataset_settings_checkout\": false}\n",
            "2023-12-19 09:45:42,364 - root - INFO - Loading dataset entities\n",
            "2023-12-19 09:45:42,366 - root - INFO - Reading dictionary from autotm_artifacts/1659e6bd-8d17-49de-9ba8-9790c2047501/dictionary.txt\n",
            "2023-12-19 09:45:42,974 - root - INFO - Dataset entities initialization took  0.61\n",
            "2023-12-19 09:45:42,976 - root - INFO - Using TM model: <class 'autotm.fitness.tm.TopicModel'> according to fitness name: default, topics count: 20\n",
            "20it [00:00, 621.23it/s]\n",
            "0it [00:00, ?it/s]\n",
            "1it [00:00, 533.15it/s]\n",
            "0it [00:00, ?it/s]\n",
            "20it [00:00, 586.59it/s]\n",
            "0it [00:00, ?it/s]\n",
            "1it [00:00, 518.90it/s]\n",
            "0it [00:00, ?it/s]\n",
            "20it [00:00, 566.25it/s]\n",
            "0it [00:00, ?it/s]\n",
            "1it [00:00, 497.25it/s]\n",
            "0it [00:00, ?it/s]\n",
            "20it [00:00, 629.95it/s]\n",
            "0it [00:00, ?it/s]\n",
            "1it [00:00, 2285.72it/s]\n",
            "0it [00:00, ?it/s]\n"
          ]
        },
        {
          "output_type": "stream",
          "name": "stdout",
          "text": [
            "Training is complete\n"
          ]
        },
        {
          "output_type": "stream",
          "name": "stderr",
          "text": [
            "2023-12-19 09:45:50,016 - root - INFO - Building dictionary\n"
          ]
        },
        {
          "output_type": "stream",
          "name": "stdout",
          "text": [
            "Wow! all topics\n"
          ]
        },
        {
          "output_type": "stream",
          "name": "stderr",
          "text": [
            "20it [00:00, 407.74it/s]\n",
            "0it [00:00, ?it/s]\n",
            "1it [00:00, 2079.48it/s]\n",
            "0it [00:00, ?it/s]\n"
          ]
        },
        {
          "output_type": "stream",
          "name": "stdout",
          "text": [
            "COMPONENTS:  0.7213968511842616 0.45674500358089554\n"
          ]
        },
        {
          "output_type": "stream",
          "name": "stderr",
          "text": [
            "20it [00:00, 8067.52it/s]\n",
            "0it [00:00, ?it/s]\n",
            "20it [00:00, 3656.44it/s]\n",
            "0it [00:00, ?it/s]\n",
            "20it [00:00, 2006.03it/s]\n",
            "0it [00:00, ?it/s]\n",
            "20it [00:00, 1464.52it/s]\n",
            "0it [00:00, ?it/s]\n",
            "20it [00:00, 955.97it/s]\n",
            "0it [00:00, ?it/s]\n",
            "20it [00:00, 802.97it/s]\n",
            "0it [00:00, ?it/s]\n",
            "20it [00:00, 701.15it/s]\n",
            "0it [00:00, ?it/s]\n",
            "20it [00:00, 550.56it/s]\n",
            "0it [00:00, ?it/s]\n",
            "20it [00:00, 433.40it/s]\n",
            "0it [00:00, ?it/s]\n",
            "20it [00:00, 404.66it/s]\n",
            "0it [00:00, ?it/s]\n",
            "2023-12-19 09:45:51,444 - root - INFO - Fitness estimation took  9.08\n",
            "2023-12-19 09:45:52,212 - root - INFO - Deleting bigartm logs: []\n",
            "2023-12-19 09:45:52,266 - root - INFO - The fitness results have been obtained\n",
            "2023-12-19 09:45:52,271 - GA_algo - INFO - TIME OF THE FITNESS FUNCTION IN MUTATION: 116.83466124534607\n",
            "2023-12-19 09:45:52,274 - GA_algo - INFO - MUTATION IS OVER\n",
            "2023-12-19 09:45:52,276 - GA_algo - INFO - Population len 11. Best params so far: [96888.34422782721, 29.0, 25.377311184537145, 0.0, 0.0, 100.0, -1000.0, 30.0, -468.33570344449936, 834.7828330270435, 26.0, 1.0, 0.9306060634954084, 0.3382581659148661, 0.7286558208865347, 92749.2698003328], with fitness: 1.194805458251576.ITERATION TIME: 307.1645984649658DATASET __noname__.TOPICS NUM 20.RUN ID 36f347f7-954e-433c-a4a6-0f4090f060e3.\n",
            "2023-12-19 09:45:52,279 - root - INFO - Sending a best individual to be logged\n",
            "2023-12-19 09:45:52,281 - root - INFO - Doing fitness calculating with individual {\"id\": \"c57caffa-afeb-4b15-b052-1a1931d670d8\", \"data_path\": \"autotm_artifacts/1659e6bd-8d17-49de-9ba8-9790c2047501\", \"params\": [96888.34422782721, 29.0, 25.377311184537145, 0.0, 0.0, 100.0, -1000.0, 30.0, -468.33570344449936, 834.7828330270435, 26.0, 1.0, 0.9306060634954084, 0.3382581659148661, 0.7286558208865347, 92749.2698003328], \"exp_id\": null, \"alg_id\": \"ga\", \"iteration_id\": 3, \"tag\": \"v0\", \"fitness_value\": {\"avg_coherence_score\": 1.194805458251576, \"perplexityScore\": 1367.1524658203125, \"backgroundTokensRatioScore\": 0.746666669845581, \"contrast\": 0.8836793899536133, \"purity\": 0.8995766639709473, \"kernelSize\": 122.5, \"npmi_50_list\": null, \"npmi_50\": null, \"sparsity_phi\": 0.6608518362045288, \"sparsity_theta\": 0.0, \"topic_significance_uni\": null, \"topic_significance_vacuous\": null, \"topic_significance_back\": null, \"switchP_list\": [NaN], \"switchP\": NaN, \"all_topics\": true, \"coherence_10_list\": [0.31903521280939834, 0.8758205683080579, 0.28763487718125974, 0.882107189256187, 0.1921592785322912, 0.5290623310486292, 0.6840006850830136, 0.5643803197501599, 0.51737208052135, 0.2733091189752115, 0.431901601431943, 0.18063048981962065, 0.2512547161358304, 0.8127051740230897, 0.14584961617757847, 0.9086968445100421, 0.653339172247262, 0.3983758555588546, 0.43513609319554075, 0.18081363112934612], \"coherence_10\": 0.47617924278473334, \"coherence_15_list\": [0.32258051494917006, 1.0656398709901513, 0.29654143109920156, 1.1382348839082697, 0.2616262109216796, 0.5062116537761764, 0.7533097734005976, 0.3595262989881546, 0.5127420654802957, 0.3024880753245088, 0.6071176679396283, 0.20860257708981897, 0.283195699175262, 0.6788884206844773, 0.269338327356621, 0.8179934582871992, 0.8072972449156613, 0.4173044102163427, 0.4978218199606577, 0.25096790835097116], \"coherence_15\": 0.5178714156407422, \"coherence_20_list\": [0.44908860579802096, 1.1244642813961225, 0.415080799038729, 1.0287762301209449, 0.5461819115574996, 0.540926304032627, 0.6112630216772951, 0.46759950898523184, 0.5163337236471164, 0.40900471016713985, 0.6695257538162931, 0.2945869816927608, 0.34124456377455115, 0.8287295566195586, 0.4042117049563767, 0.6683994436499937, 0.6975430211866304, 0.471922965803179, 0.6655640106759904, 0.3458461252595478], \"coherence_20\": 0.5748146611927805, \"coherence_25_list\": [0.5621485010659998, 1.0528167234287655, 0.5057192849553124, 1.0305012020405, 0.6590566869553075, 0.5330618268501179, 0.5767708226728978, 0.5063414029934117, 0.7549236153377695, 0.3750422085029907, 0.8745454981911841, 0.36845594001479803, 0.3471447013898829, 0.8292493547121247, 0.481843035507384, 0.6955464904491284, 0.8171572422143125, 0.5725095389647654, 0.7778197716473514, 0.42359652211986376], \"coherence_25\": 0.6372125185006934, \"coherence_30_list\": [0.642870862214244, 1.2051300662936213, 0.5005385623849902, 0.9295623122677277, 0.7513496669174355, 0.6170673051728749, 0.5711557811022472, 0.48626453443361944, 0.7939697738026371, 0.41393921365023245, 0.9823665808552896, 0.46324012862791586, 0.41314877752269924, 0.8887386747465715, 0.5308933136442022, 0.743609221415891, 0.9361042357623608, 0.6237980581938626, 0.6919444948900594, 0.47247392840874985], \"coherence_30\": 0.6829082746153616, \"coherence_35_list\": [0.730341944416346, 1.140350137563999, 0.545363505044258, 0.8466903993450204, 0.7741346939270743, 0.7588886097746389, 0.5741474473781808, 0.5144483776778697, 0.8336863718668035, 0.4511210583644348, 1.115076384714017, 0.5848124217421329, 0.4420334919755614, 0.9543652194953292, 0.5553225241347486, 0.73928265484464, 0.9482581716338404, 0.7327805781131952, 0.5791819880681083, 0.5411088897760218], \"coherence_35\": 0.7180697434928109, \"coherence_40_list\": [0.7970122803765692, 1.057426030878085, 0.5280891532815046, 0.8778633557031048, 0.7882024217104936, 0.8188123256342388, 0.5647907501463789, 0.5541030823748765, 0.9104905706464292, 0.46131991831276115, 1.0959027092195266, 0.6995030075005058, 0.45107992810405123, 1.0413869122092532, 0.5656825697613582, 0.7358283616144893, 0.9266824128951282, 0.7368375894246725, 0.5408984088272204, 0.5742556674430003], \"coherence_40\": 0.7363083728031824, \"coherence_45_list\": [0.7943693094928139, 0.9977785947355086, 0.5076219436097258, 0.8876365513738252, 0.7911364456763369, 0.8523955018850001, 0.5695863473705401, 0.5980314007172995, 0.9210766593186341, 0.4726798261583785, 1.0598783305270745, 0.747269540214479, 0.4756809544688714, 1.0071761236054073, 0.626458997486401, 0.721275203602149, 0.9350653955355919, 0.7528103170326638, 0.502773201770729, 0.6036033068920854], \"coherence_45\": 0.7412151975736757, \"coherence_50_list\": [0.7687749404189993, 0.9302101718156464, 0.48280910838621, 0.7838666962999339, 0.7768170497200685, 0.8801397911867812, 0.604571439935599, 0.5865880953880874, 0.9535466474376285, 0.480017906509388, 0.982682474068524, 0.7198528281776994, 0.46956034853575435, 0.94864772462848, 0.6256449561802323, 0.6944652873945842, 0.9122041214773532, 0.8082534499141586, 0.48994158193122206, 0.6063075749100837], \"coherence_50\": 0.7252451097158217, \"coherence_55_list\": [0.7581404385654996, 0.9541145656543416, 0.49731756259903165, 0.707551713378943, 0.7996520649281513, 0.9266878245475699, 0.5611032125246044, 0.6064117169187112, 0.9790884777588883, 0.4687654063029659, 0.9367097429077224, 0.6869770997863642, 0.47736510776403623, 0.9692305266079654, 0.6492876432141518, 0.6663168969058846, 0.8943778158404602, 0.7997733008533777, 0.48663117787961324, 0.6062256648065064], \"coherence_55\": 0.7215863979872394, \"npmi_15\": null, \"npmi_25\": null}, \"fitness_name\": \"default\", \"dataset\": \"__noname__\", \"topic_count\": 20, \"train_option\": \"offline\", \"force_dataset_settings_checkout\": false}\n",
            "2023-12-19 09:45:52,284 - root - INFO - Loading dataset entities\n",
            "2023-12-19 09:45:52,285 - root - INFO - Reading dictionary from autotm_artifacts/1659e6bd-8d17-49de-9ba8-9790c2047501/dictionary.txt\n",
            "2023-12-19 09:45:53,293 - root - INFO - Dataset entities initialization took  1.01\n",
            "2023-12-19 09:45:53,295 - root - INFO - Using TM model: <class 'autotm.fitness.tm.TopicModel'> according to fitness name: default, topics count: 20\n",
            "20it [00:00, 591.35it/s]\n",
            "0it [00:00, ?it/s]\n",
            "1it [00:00, 445.02it/s]\n",
            "0it [00:00, ?it/s]\n",
            "20it [00:00, 623.94it/s]\n",
            "0it [00:00, ?it/s]\n",
            "1it [00:00, 516.60it/s]\n",
            "0it [00:00, ?it/s]\n",
            "20it [00:00, 664.63it/s]\n",
            "0it [00:00, ?it/s]\n",
            "1it [00:00, 536.22it/s]\n",
            "0it [00:00, ?it/s]\n",
            "20it [00:00, 773.47it/s]\n",
            "0it [00:00, ?it/s]\n",
            "1it [00:00, 2470.14it/s]\n",
            "0it [00:00, ?it/s]\n"
          ]
        },
        {
          "output_type": "stream",
          "name": "stdout",
          "text": [
            "Training is complete\n"
          ]
        },
        {
          "output_type": "stream",
          "name": "stderr",
          "text": [
            "2023-12-19 09:46:01,072 - root - INFO - Building dictionary\n"
          ]
        },
        {
          "output_type": "stream",
          "name": "stdout",
          "text": [
            "Wow! all topics\n"
          ]
        },
        {
          "output_type": "stream",
          "name": "stderr",
          "text": [
            "20it [00:00, 660.21it/s]\n",
            "0it [00:00, ?it/s]\n",
            "1it [00:00, 2552.83it/s]\n",
            "0it [00:00, ?it/s]\n"
          ]
        },
        {
          "output_type": "stream",
          "name": "stdout",
          "text": [
            "COMPONENTS:  0.7252451097158217 0.46956034853575435\n"
          ]
        },
        {
          "output_type": "stream",
          "name": "stderr",
          "text": [
            "20it [00:00, 14498.11it/s]\n",
            "0it [00:00, ?it/s]\n",
            "20it [00:00, 5637.88it/s]\n",
            "0it [00:00, ?it/s]\n",
            "20it [00:00, 3294.30it/s]\n",
            "0it [00:00, ?it/s]\n",
            "20it [00:00, 1451.97it/s]\n",
            "0it [00:00, ?it/s]\n",
            "20it [00:00, 903.38it/s]\n",
            "0it [00:00, ?it/s]\n",
            "20it [00:00, 916.21it/s]\n",
            "0it [00:00, ?it/s]\n",
            "20it [00:00, 893.94it/s]\n",
            "0it [00:00, ?it/s]\n",
            "20it [00:00, 637.76it/s]\n",
            "0it [00:00, ?it/s]\n",
            "20it [00:00, 471.47it/s]\n",
            "0it [00:00, ?it/s]\n",
            "20it [00:00, 442.68it/s]\n",
            "0it [00:00, ?it/s]\n",
            "2023-12-19 09:46:02,139 - root - INFO - Fitness estimation took  9.86\n",
            "2023-12-19 09:46:02,819 - root - INFO - Logging params and artifacts to mlflow\n",
            "2023-12-19 09:46:02,820 - root - INFO - Created experiment_None\n",
            "2023-12-19 09:46:02,830 - root - INFO - Experiment exists, omitting creation\n",
            "2023-12-19 09:46:02,846 - root - DEBUG - Params dict: {'val_decor': 96888.34422782721, 'var_n_0': 29.0, 'var_sm_0': 25.377311184537145, 'var_sm_1': 0.0, 'var_n_1': 0.0, 'var_sp_0': 100.0, 'var_sp_1': -1000.0, 'var_n_2': 30.0, 'var_sp_2': -468.33570344449936, 'var_sp_3': 834.7828330270435, 'var_n_3': 26.0, 'var_n_4': 1.0, 'ext_mutation_prob': 0.9306060634954084, 'ext_elem_mutation_prob': 0.3382581659148661, 'ext_mutation_selector': 0.7286558208865347, 'val_decor_2': 92749.2698003328}\n"
          ]
        },
        {
          "output_type": "stream",
          "name": "stdout",
          "text": [
            "Experiment run name: fitness-__noname__-213f37ee-2062-425e-b5a8-6f553cdbec14_tmp_3\n"
          ]
        },
        {
          "output_type": "stream",
          "name": "stderr",
          "text": [
            "2023-12-19 09:46:03,137 - root - INFO - Logged params and artifacts to mlflow\n",
            "2023-12-19 09:46:03,148 - root - INFO - Deleting bigartm logs: []\n",
            "2023-12-19 09:46:03,187 - GA_algo - INFO - ENTERING GENERATION 4\n",
            "2023-12-19 09:46:03,190 - GA_algo - INFO - PAIRS ARE CREATED\n",
            "2023-12-19 09:46:03,193 - GA_algo - INFO - CURRENT COUNTER: 110\n",
            "2023-12-19 09:46:03,196 - root - INFO - Calculating fitness...\n",
            "2023-12-19 09:46:03,198 - root - INFO - Doing fitness calculating with individual {\"id\": \"10e74a65-d2a1-4690-934b-1aecf9f225cb\", \"data_path\": \"autotm_artifacts/1659e6bd-8d17-49de-9ba8-9790c2047501\", \"params\": [96895.30153060838, 30.0, 100.0, 38.17678062521663, 0.0, -837.015168463004, -1000.0, 30.0, -420.7228042290078, 835.1522395229583, 24.0, 1.0, 0.5202512404944241, 0.3353393609599058, 0.05647051138561909, 92818.99819803928], \"exp_id\": 0, \"alg_id\": \"ga\", \"iteration_id\": 4, \"tag\": \"v0\", \"fitness_value\": null, \"fitness_name\": \"default\", \"dataset\": \"__noname__\", \"topic_count\": 20, \"train_option\": \"offline\", \"force_dataset_settings_checkout\": false}\n",
            "2023-12-19 09:46:03,200 - root - INFO - Loading dataset entities\n",
            "2023-12-19 09:46:03,202 - root - INFO - Reading dictionary from autotm_artifacts/1659e6bd-8d17-49de-9ba8-9790c2047501/dictionary.txt\n",
            "2023-12-19 09:46:03,884 - root - INFO - Dataset entities initialization took  0.68\n",
            "2023-12-19 09:46:03,886 - root - INFO - Using TM model: <class 'autotm.fitness.tm.TopicModel'> according to fitness name: default, topics count: 20\n",
            "20it [00:00, 792.88it/s]\n",
            "0it [00:00, ?it/s]\n",
            "1it [00:00, 530.86it/s]\n",
            "0it [00:00, ?it/s]\n",
            "20it [00:00, 676.60it/s]\n",
            "0it [00:00, ?it/s]\n",
            "1it [00:00, 496.25it/s]\n",
            "0it [00:00, ?it/s]\n",
            "20it [00:00, 655.00it/s]\n",
            "0it [00:00, ?it/s]\n",
            "1it [00:00, 512.31it/s]\n",
            "0it [00:00, ?it/s]\n",
            "20it [00:00, 646.82it/s]\n",
            "0it [00:00, ?it/s]\n",
            "1it [00:00, 2202.89it/s]\n",
            "0it [00:00, ?it/s]\n"
          ]
        },
        {
          "output_type": "stream",
          "name": "stdout",
          "text": [
            "Training is complete\n"
          ]
        },
        {
          "output_type": "stream",
          "name": "stderr",
          "text": [
            "2023-12-19 09:46:12,577 - root - INFO - Building dictionary\n"
          ]
        },
        {
          "output_type": "stream",
          "name": "stdout",
          "text": [
            "Wow! all topics\n"
          ]
        },
        {
          "output_type": "stream",
          "name": "stderr",
          "text": [
            "20it [00:00, 688.91it/s]\n",
            "0it [00:00, ?it/s]\n",
            "1it [00:00, 1939.11it/s]\n",
            "0it [00:00, ?it/s]\n"
          ]
        },
        {
          "output_type": "stream",
          "name": "stdout",
          "text": [
            "COMPONENTS:  0.7250493604277662 0.46476695188644085\n"
          ]
        },
        {
          "output_type": "stream",
          "name": "stderr",
          "text": [
            "20it [00:00, 14760.88it/s]\n",
            "0it [00:00, ?it/s]\n",
            "20it [00:00, 5462.40it/s]\n",
            "0it [00:00, ?it/s]\n",
            "20it [00:00, 3156.34it/s]\n",
            "0it [00:00, ?it/s]\n",
            "20it [00:00, 1049.88it/s]\n",
            "0it [00:00, ?it/s]\n",
            "20it [00:00, 997.28it/s]\n",
            "0it [00:00, ?it/s]\n",
            "20it [00:00, 904.44it/s]\n",
            "0it [00:00, ?it/s]\n",
            "20it [00:00, 823.62it/s]\n",
            "0it [00:00, ?it/s]\n",
            "20it [00:00, 657.91it/s]\n",
            "0it [00:00, ?it/s]\n",
            "20it [00:00, 557.80it/s]\n",
            "0it [00:00, ?it/s]\n",
            "20it [00:00, 442.89it/s]\n",
            "0it [00:00, ?it/s]\n",
            "2023-12-19 09:46:13,664 - root - INFO - Fitness estimation took  10.46\n",
            "2023-12-19 09:46:14,349 - root - INFO - Deleting bigartm logs: []\n",
            "2023-12-19 09:46:14,389 - root - INFO - Doing fitness calculating with individual {\"id\": \"c76a5b41-488f-4421-bf3d-6ad742afd7df\", \"data_path\": \"autotm_artifacts/1659e6bd-8d17-49de-9ba8-9790c2047501\", \"params\": [96893.23157223957, 29.0, 100.0, 38.290353126619756, 0.0, -801.647151373432, -1000.0, 29.0, -445.98753356900784, 835.0423325530077, 24.0, 1.0, 0.5202512404944241, 0.3353393609599058, 0.05647051138561909, 93662.61498240306], \"exp_id\": 0, \"alg_id\": \"ga\", \"iteration_id\": 4, \"tag\": \"v0\", \"fitness_value\": null, \"fitness_name\": \"default\", \"dataset\": \"__noname__\", \"topic_count\": 20, \"train_option\": \"offline\", \"force_dataset_settings_checkout\": false}\n",
            "2023-12-19 09:46:14,390 - root - INFO - Loading dataset entities\n",
            "2023-12-19 09:46:14,393 - root - INFO - Reading dictionary from autotm_artifacts/1659e6bd-8d17-49de-9ba8-9790c2047501/dictionary.txt\n",
            "2023-12-19 09:46:15,001 - root - INFO - Dataset entities initialization took  0.61\n",
            "2023-12-19 09:46:15,003 - root - INFO - Using TM model: <class 'autotm.fitness.tm.TopicModel'> according to fitness name: default, topics count: 20\n",
            "20it [00:00, 458.51it/s]\n",
            "0it [00:00, ?it/s]\n",
            "1it [00:00, 531.93it/s]\n",
            "0it [00:00, ?it/s]\n",
            "20it [00:00, 444.25it/s]\n",
            "0it [00:00, ?it/s]\n",
            "1it [00:00, 536.63it/s]\n",
            "0it [00:00, ?it/s]\n",
            "20it [00:00, 559.33it/s]\n",
            "0it [00:00, ?it/s]\n",
            "1it [00:00, 545.78it/s]\n",
            "0it [00:00, ?it/s]\n",
            "20it [00:00, 627.17it/s]\n",
            "0it [00:00, ?it/s]\n",
            "1it [00:00, 1379.25it/s]\n",
            "0it [00:00, ?it/s]\n"
          ]
        },
        {
          "output_type": "stream",
          "name": "stdout",
          "text": [
            "Training is complete\n"
          ]
        },
        {
          "output_type": "stream",
          "name": "stderr",
          "text": [
            "2023-12-19 09:46:23,736 - root - INFO - Building dictionary\n"
          ]
        },
        {
          "output_type": "stream",
          "name": "stdout",
          "text": [
            "Wow! all topics\n"
          ]
        },
        {
          "output_type": "stream",
          "name": "stderr",
          "text": [
            "20it [00:00, 676.26it/s]\n",
            "0it [00:00, ?it/s]\n",
            "1it [00:00, 1757.88it/s]\n",
            "0it [00:00, ?it/s]\n"
          ]
        },
        {
          "output_type": "stream",
          "name": "stdout",
          "text": [
            "COMPONENTS:  0.7280175468715666 0.46956034853575446\n"
          ]
        },
        {
          "output_type": "stream",
          "name": "stderr",
          "text": [
            "20it [00:00, 10109.19it/s]\n",
            "0it [00:00, ?it/s]\n",
            "20it [00:00, 5094.19it/s]\n",
            "0it [00:00, ?it/s]\n",
            "20it [00:00, 1959.41it/s]\n",
            "0it [00:00, ?it/s]\n",
            "20it [00:00, 1381.39it/s]\n",
            "0it [00:00, ?it/s]\n",
            "20it [00:00, 804.97it/s]\n",
            "0it [00:00, ?it/s]\n",
            "20it [00:00, 833.39it/s]\n",
            "0it [00:00, ?it/s]\n",
            "20it [00:00, 657.54it/s]\n",
            "0it [00:00, ?it/s]\n",
            "20it [00:00, 612.95it/s]\n",
            "0it [00:00, ?it/s]\n",
            "20it [00:00, 502.82it/s]\n",
            "0it [00:00, ?it/s]\n",
            "20it [00:00, 449.76it/s]\n",
            "0it [00:00, ?it/s]\n",
            "2023-12-19 09:46:24,808 - root - INFO - Fitness estimation took  10.42\n",
            "2023-12-19 09:46:25,470 - root - INFO - Deleting bigartm logs: []\n",
            "2023-12-19 09:46:25,510 - root - INFO - Doing fitness calculating with individual {\"id\": \"ded4021e-5de7-4e3b-8ff6-0383fbf0d23f\", \"data_path\": \"autotm_artifacts/1659e6bd-8d17-49de-9ba8-9790c2047501\", \"params\": [96882.18428801122, 30, 0, 0.0, 0.0, 137.76484011435943, -1000.0, 30.0, -543.1934286083244, 834.4557634924797, 26.0, 1.0, 0.5202512404944241, 0.3353393609599058, 0.05647051138561909, 95234.30393351424], \"exp_id\": 0, \"alg_id\": \"ga\", \"iteration_id\": 4, \"tag\": \"v0\", \"fitness_value\": null, \"fitness_name\": \"default\", \"dataset\": \"__noname__\", \"topic_count\": 20, \"train_option\": \"offline\", \"force_dataset_settings_checkout\": false}\n",
            "2023-12-19 09:46:25,511 - root - INFO - Loading dataset entities\n",
            "2023-12-19 09:46:25,514 - root - INFO - Reading dictionary from autotm_artifacts/1659e6bd-8d17-49de-9ba8-9790c2047501/dictionary.txt\n",
            "2023-12-19 09:46:26,093 - root - INFO - Dataset entities initialization took  0.58\n",
            "2023-12-19 09:46:26,094 - root - INFO - Using TM model: <class 'autotm.fitness.tm.TopicModel'> according to fitness name: default, topics count: 20\n",
            "20it [00:00, 652.11it/s]\n",
            "0it [00:00, ?it/s]\n",
            "1it [00:00, 521.55it/s]\n",
            "0it [00:00, ?it/s]\n",
            "20it [00:00, 618.47it/s]\n",
            "0it [00:00, ?it/s]\n",
            "1it [00:00, 520.90it/s]\n",
            "0it [00:00, ?it/s]\n",
            "20it [00:00, 579.81it/s]\n",
            "0it [00:00, ?it/s]\n",
            "1it [00:00, 531.80it/s]\n",
            "0it [00:00, ?it/s]\n",
            "20it [00:00, 574.63it/s]\n",
            "0it [00:00, ?it/s]\n",
            "1it [00:00, 2343.19it/s]\n",
            "0it [00:00, ?it/s]\n"
          ]
        },
        {
          "output_type": "stream",
          "name": "stdout",
          "text": [
            "Training is complete\n"
          ]
        },
        {
          "output_type": "stream",
          "name": "stderr",
          "text": [
            "2023-12-19 09:46:35,098 - root - INFO - Building dictionary\n"
          ]
        },
        {
          "output_type": "stream",
          "name": "stdout",
          "text": [
            "Wow! all topics\n"
          ]
        },
        {
          "output_type": "stream",
          "name": "stderr",
          "text": [
            "20it [00:00, 611.71it/s]\n",
            "0it [00:00, ?it/s]\n",
            "1it [00:00, 3199.32it/s]\n",
            "0it [00:00, ?it/s]\n"
          ]
        },
        {
          "output_type": "stream",
          "name": "stdout",
          "text": [
            "COMPONENTS:  0.730921450669765 0.4647669518864409\n"
          ]
        },
        {
          "output_type": "stream",
          "name": "stderr",
          "text": [
            "20it [00:00, 10796.15it/s]\n",
            "0it [00:00, ?it/s]\n",
            "20it [00:00, 5085.55it/s]\n",
            "0it [00:00, ?it/s]\n",
            "20it [00:00, 2464.05it/s]\n",
            "0it [00:00, ?it/s]\n",
            "20it [00:00, 1062.13it/s]\n",
            "0it [00:00, ?it/s]\n",
            "20it [00:00, 1139.15it/s]\n",
            "0it [00:00, ?it/s]\n",
            "20it [00:00, 882.34it/s]\n",
            "0it [00:00, ?it/s]\n",
            "20it [00:00, 808.02it/s]\n",
            "0it [00:00, ?it/s]\n",
            "20it [00:00, 625.73it/s]\n",
            "0it [00:00, ?it/s]\n",
            "20it [00:00, 531.86it/s]\n",
            "0it [00:00, ?it/s]\n",
            "20it [00:00, 403.21it/s]\n",
            "0it [00:00, ?it/s]\n",
            "2023-12-19 09:46:36,188 - root - INFO - Fitness estimation took  10.68\n",
            "2023-12-19 09:46:36,869 - root - INFO - Deleting bigartm logs: []\n",
            "2023-12-19 09:46:36,911 - root - INFO - Doing fitness calculating with individual {\"id\": \"3bda7cf1-61ad-4166-b00e-3c7260028997\", \"data_path\": \"autotm_artifacts/1659e6bd-8d17-49de-9ba8-9790c2047501\", \"params\": [0, 30.0, 25.377729808193358, 0.0, 0.0, 100.0, -999.9999999999999, 29.0, -468.9594811730424, 834.7801076077113, 25.0, 0.0, 0.9306060634954084, 0.3382581659148661, 0.7286558208865347, 92769.97720152028], \"exp_id\": 0, \"alg_id\": \"ga\", \"iteration_id\": 4, \"tag\": \"v0\", \"fitness_value\": null, \"fitness_name\": \"default\", \"dataset\": \"__noname__\", \"topic_count\": 20, \"train_option\": \"offline\", \"force_dataset_settings_checkout\": false}\n",
            "2023-12-19 09:46:36,913 - root - INFO - Loading dataset entities\n",
            "2023-12-19 09:46:36,915 - root - INFO - Reading dictionary from autotm_artifacts/1659e6bd-8d17-49de-9ba8-9790c2047501/dictionary.txt\n",
            "2023-12-19 09:46:37,493 - root - INFO - Dataset entities initialization took  0.58\n",
            "2023-12-19 09:46:37,494 - root - INFO - Using TM model: <class 'autotm.fitness.tm.TopicModel'> according to fitness name: default, topics count: 20\n",
            "20it [00:00, 647.21it/s]\n",
            "0it [00:00, ?it/s]\n",
            "0it [00:00, ?it/s]\n",
            "0it [00:00, ?it/s]\n",
            "20it [00:00, 648.77it/s]\n",
            "0it [00:00, ?it/s]\n",
            "0it [00:00, ?it/s]\n",
            "0it [00:00, ?it/s]\n",
            "20it [00:00, 688.61it/s]\n",
            "0it [00:00, ?it/s]\n",
            "0it [00:00, ?it/s]\n",
            "0it [00:00, ?it/s]\n",
            "20it [00:00, 417.04it/s]\n",
            "0it [00:00, ?it/s]\n",
            "0it [00:00, ?it/s]\n",
            "0it [00:00, ?it/s]\n"
          ]
        },
        {
          "output_type": "stream",
          "name": "stdout",
          "text": [
            "Training is complete\n"
          ]
        },
        {
          "output_type": "stream",
          "name": "stderr",
          "text": [
            "2023-12-19 09:46:45,887 - root - INFO - Building dictionary\n"
          ]
        },
        {
          "output_type": "stream",
          "name": "stdout",
          "text": [
            "Wow! all topics\n"
          ]
        },
        {
          "output_type": "stream",
          "name": "stderr",
          "text": [
            "20it [00:00, 472.76it/s]\n",
            "0it [00:00, ?it/s]\n",
            "0it [00:00, ?it/s]\n",
            "0it [00:00, ?it/s]\n"
          ]
        },
        {
          "output_type": "stream",
          "name": "stdout",
          "text": [
            "COMPONENTS:  0.7207631542025824 0.42149757548684214\n"
          ]
        },
        {
          "output_type": "stream",
          "name": "stderr",
          "text": [
            "20it [00:00, 10545.08it/s]\n",
            "0it [00:00, ?it/s]\n",
            "20it [00:00, 5208.37it/s]\n",
            "0it [00:00, ?it/s]\n",
            "20it [00:00, 3547.88it/s]\n",
            "0it [00:00, ?it/s]\n",
            "20it [00:00, 1440.62it/s]\n",
            "0it [00:00, ?it/s]\n",
            "20it [00:00, 1110.18it/s]\n",
            "0it [00:00, ?it/s]\n",
            "20it [00:00, 740.97it/s]\n",
            "0it [00:00, ?it/s]\n",
            "20it [00:00, 804.62it/s]\n",
            "0it [00:00, ?it/s]\n",
            "20it [00:00, 650.13it/s]\n",
            "0it [00:00, ?it/s]\n",
            "20it [00:00, 511.69it/s]\n",
            "0it [00:00, ?it/s]\n",
            "20it [00:00, 447.41it/s]\n",
            "0it [00:00, ?it/s]\n",
            "2023-12-19 09:46:47,257 - root - INFO - Fitness estimation took  10.34\n",
            "2023-12-19 09:46:47,934 - root - INFO - Deleting bigartm logs: []\n",
            "2023-12-19 09:46:47,974 - root - INFO - Doing fitness calculating with individual {\"id\": \"de5892d6-dcb9-4df1-be12-5ca4131ee26c\", \"data_path\": \"autotm_artifacts/1659e6bd-8d17-49de-9ba8-9790c2047501\", \"params\": [96886.00719643135, 28.0, 0, 0, 0.0, 414.67420851662337, -1000.0, 30.0, -484.3447253295297, 834.6587454882463, 26.0, 1.0, 0.9306060634954084, 0.3382581659148661, 0.7286558208865347, 92727.04248734162], \"exp_id\": 0, \"alg_id\": \"ga\", \"iteration_id\": 4, \"tag\": \"v0\", \"fitness_value\": null, \"fitness_name\": \"default\", \"dataset\": \"__noname__\", \"topic_count\": 20, \"train_option\": \"offline\", \"force_dataset_settings_checkout\": false}\n",
            "2023-12-19 09:46:47,975 - root - INFO - Loading dataset entities\n",
            "2023-12-19 09:46:47,978 - root - INFO - Reading dictionary from autotm_artifacts/1659e6bd-8d17-49de-9ba8-9790c2047501/dictionary.txt\n",
            "2023-12-19 09:46:48,599 - root - INFO - Dataset entities initialization took  0.62\n",
            "2023-12-19 09:46:48,604 - root - INFO - Using TM model: <class 'autotm.fitness.tm.TopicModel'> according to fitness name: default, topics count: 20\n",
            "20it [00:00, 626.41it/s]\n",
            "0it [00:00, ?it/s]\n",
            "1it [00:00, 532.47it/s]\n",
            "0it [00:00, ?it/s]\n",
            "20it [00:00, 581.38it/s]\n",
            "0it [00:00, ?it/s]\n",
            "1it [00:00, 528.65it/s]\n",
            "0it [00:00, ?it/s]\n",
            "20it [00:00, 644.35it/s]\n",
            "0it [00:00, ?it/s]\n",
            "1it [00:00, 453.83it/s]\n",
            "0it [00:00, ?it/s]\n",
            "20it [00:00, 675.94it/s]\n",
            "0it [00:00, ?it/s]\n",
            "1it [00:00, 2557.50it/s]\n",
            "0it [00:00, ?it/s]\n"
          ]
        },
        {
          "output_type": "stream",
          "name": "stdout",
          "text": [
            "Training is complete\n"
          ]
        },
        {
          "output_type": "stream",
          "name": "stderr",
          "text": [
            "2023-12-19 09:46:56,114 - root - INFO - Building dictionary\n"
          ]
        },
        {
          "output_type": "stream",
          "name": "stdout",
          "text": [
            "Wow! all topics\n"
          ]
        },
        {
          "output_type": "stream",
          "name": "stderr",
          "text": [
            "20it [00:00, 612.84it/s]\n",
            "0it [00:00, ?it/s]\n",
            "1it [00:00, 2702.52it/s]\n",
            "0it [00:00, ?it/s]\n"
          ]
        },
        {
          "output_type": "stream",
          "name": "stdout",
          "text": [
            "COMPONENTS:  0.7234916700076596 0.46092737400410955\n"
          ]
        },
        {
          "output_type": "stream",
          "name": "stderr",
          "text": [
            "20it [00:00, 8515.49it/s]\n",
            "0it [00:00, ?it/s]\n",
            "20it [00:00, 4220.90it/s]\n",
            "0it [00:00, ?it/s]\n",
            "20it [00:00, 3094.74it/s]\n",
            "0it [00:00, ?it/s]\n",
            "20it [00:00, 1046.91it/s]\n",
            "0it [00:00, ?it/s]\n",
            "20it [00:00, 787.69it/s]\n",
            "0it [00:00, ?it/s]\n",
            "20it [00:00, 929.19it/s]\n",
            "0it [00:00, ?it/s]\n",
            "20it [00:00, 842.98it/s]\n",
            "0it [00:00, ?it/s]\n",
            "20it [00:00, 608.68it/s]\n",
            "0it [00:00, ?it/s]\n",
            "20it [00:00, 524.04it/s]\n",
            "0it [00:00, ?it/s]\n",
            "20it [00:00, 415.64it/s]\n",
            "0it [00:00, ?it/s]\n",
            "2023-12-19 09:46:57,222 - root - INFO - Fitness estimation took  9.25\n",
            "2023-12-19 09:46:58,080 - root - INFO - Deleting bigartm logs: []\n",
            "2023-12-19 09:46:58,141 - root - INFO - Doing fitness calculating with individual {\"id\": \"ecad5706-b028-4b51-8123-c5fd0a85c556\", \"data_path\": \"autotm_artifacts/1659e6bd-8d17-49de-9ba8-9790c2047501\", \"params\": [100000.0, 30, 0, 0, 0, 656.1953625881292, -1000.0, 30.0, -493.0004395894432, 834.8933699593863, 26.0, 1.0, 0.9306060634954084, 0.3382581659148661, 0.7286558208865347, 93586.91506415952], \"exp_id\": 0, \"alg_id\": \"ga\", \"iteration_id\": 4, \"tag\": \"v0\", \"fitness_value\": null, \"fitness_name\": \"default\", \"dataset\": \"__noname__\", \"topic_count\": 20, \"train_option\": \"offline\", \"force_dataset_settings_checkout\": false}\n",
            "2023-12-19 09:46:58,142 - root - INFO - Loading dataset entities\n",
            "2023-12-19 09:46:58,144 - root - INFO - Reading dictionary from autotm_artifacts/1659e6bd-8d17-49de-9ba8-9790c2047501/dictionary.txt\n",
            "2023-12-19 09:46:59,077 - root - INFO - Dataset entities initialization took  0.93\n",
            "2023-12-19 09:46:59,079 - root - INFO - Using TM model: <class 'autotm.fitness.tm.TopicModel'> according to fitness name: default, topics count: 20\n",
            "20it [00:00, 663.15it/s]\n",
            "0it [00:00, ?it/s]\n",
            "1it [00:00, 536.91it/s]\n",
            "0it [00:00, ?it/s]\n",
            "20it [00:00, 652.66it/s]\n",
            "0it [00:00, ?it/s]\n",
            "1it [00:00, 538.01it/s]\n",
            "0it [00:00, ?it/s]\n",
            "20it [00:00, 697.55it/s]\n",
            "0it [00:00, ?it/s]\n",
            "1it [00:00, 427.82it/s]\n",
            "0it [00:00, ?it/s]\n",
            "20it [00:00, 653.67it/s]\n",
            "0it [00:00, ?it/s]\n",
            "1it [00:00, 2086.72it/s]\n",
            "0it [00:00, ?it/s]\n"
          ]
        },
        {
          "output_type": "stream",
          "name": "stdout",
          "text": [
            "Training is complete\n"
          ]
        },
        {
          "output_type": "stream",
          "name": "stderr",
          "text": [
            "2023-12-19 09:47:07,328 - root - INFO - Building dictionary\n"
          ]
        },
        {
          "output_type": "stream",
          "name": "stdout",
          "text": [
            "Wow! all topics\n"
          ]
        },
        {
          "output_type": "stream",
          "name": "stderr",
          "text": [
            "20it [00:00, 334.00it/s]\n",
            "0it [00:00, ?it/s]\n",
            "1it [00:00, 2369.66it/s]\n",
            "0it [00:00, ?it/s]\n"
          ]
        },
        {
          "output_type": "stream",
          "name": "stdout",
          "text": [
            "COMPONENTS:  0.7168275233560959 0.4427728502266737\n"
          ]
        },
        {
          "output_type": "stream",
          "name": "stderr",
          "text": [
            "20it [00:00, 7623.24it/s]\n",
            "0it [00:00, ?it/s]\n",
            "20it [00:00, 5012.61it/s]\n",
            "0it [00:00, ?it/s]\n",
            "20it [00:00, 3348.21it/s]\n",
            "0it [00:00, ?it/s]\n",
            "20it [00:00, 2238.16it/s]\n",
            "0it [00:00, ?it/s]\n",
            "20it [00:00, 1181.16it/s]\n",
            "0it [00:00, ?it/s]\n",
            "20it [00:00, 1000.14it/s]\n",
            "0it [00:00, ?it/s]\n",
            "20it [00:00, 897.70it/s]\n",
            "0it [00:00, ?it/s]\n",
            "20it [00:00, 689.48it/s]\n",
            "0it [00:00, ?it/s]\n",
            "20it [00:00, 517.62it/s]\n",
            "0it [00:00, ?it/s]\n",
            "20it [00:00, 398.53it/s]\n",
            "0it [00:00, ?it/s]\n",
            "2023-12-19 09:47:08,400 - root - INFO - Fitness estimation took  10.26\n",
            "2023-12-19 09:47:09,119 - root - INFO - Deleting bigartm logs: []\n",
            "2023-12-19 09:47:09,157 - root - INFO - Doing fitness calculating with individual {\"id\": \"141d2a2e-f0a0-4a55-9f23-db75c286bf55\", \"data_path\": \"autotm_artifacts/1659e6bd-8d17-49de-9ba8-9790c2047501\", \"params\": [96892.9624762765, 30.0, 100.0, 25.339646758711357, 0.0, -522.0686036286845, -1000.0, 30.0, -436.74568856203416, 835.0280445738995, 25.0, 1.0, 0.5202512404944241, 0.3353393609599058, 0.05647051138561909, 92796.75203658559], \"exp_id\": 0, \"alg_id\": \"ga\", \"iteration_id\": 4, \"tag\": \"v0\", \"fitness_value\": null, \"fitness_name\": \"default\", \"dataset\": \"__noname__\", \"topic_count\": 20, \"train_option\": \"offline\", \"force_dataset_settings_checkout\": false}\n",
            "2023-12-19 09:47:09,159 - root - INFO - Loading dataset entities\n",
            "2023-12-19 09:47:09,161 - root - INFO - Reading dictionary from autotm_artifacts/1659e6bd-8d17-49de-9ba8-9790c2047501/dictionary.txt\n",
            "2023-12-19 09:47:09,764 - root - INFO - Dataset entities initialization took  0.60\n",
            "2023-12-19 09:47:09,766 - root - INFO - Using TM model: <class 'autotm.fitness.tm.TopicModel'> according to fitness name: default, topics count: 20\n",
            "20it [00:00, 756.53it/s]\n",
            "0it [00:00, ?it/s]\n",
            "1it [00:00, 122.28it/s]\n",
            "0it [00:00, ?it/s]\n",
            "20it [00:00, 647.28it/s]\n",
            "0it [00:00, ?it/s]\n",
            "1it [00:00, 490.28it/s]\n",
            "0it [00:00, ?it/s]\n",
            "20it [00:00, 667.76it/s]\n",
            "0it [00:00, ?it/s]\n",
            "1it [00:00, 480.83it/s]\n",
            "0it [00:00, ?it/s]\n",
            "20it [00:00, 661.01it/s]\n",
            "0it [00:00, ?it/s]\n",
            "1it [00:00, 2007.80it/s]\n",
            "0it [00:00, ?it/s]\n"
          ]
        },
        {
          "output_type": "stream",
          "name": "stdout",
          "text": [
            "Training is complete\n"
          ]
        },
        {
          "output_type": "stream",
          "name": "stderr",
          "text": [
            "2023-12-19 09:47:18,714 - root - INFO - Building dictionary\n"
          ]
        },
        {
          "output_type": "stream",
          "name": "stdout",
          "text": [
            "Wow! all topics\n"
          ]
        },
        {
          "output_type": "stream",
          "name": "stderr",
          "text": [
            "20it [00:00, 693.84it/s]\n",
            "0it [00:00, ?it/s]\n",
            "1it [00:00, 1450.81it/s]\n",
            "0it [00:00, ?it/s]\n"
          ]
        },
        {
          "output_type": "stream",
          "name": "stdout",
          "text": [
            "COMPONENTS:  0.727811544460261 0.46476695188644085\n"
          ]
        },
        {
          "output_type": "stream",
          "name": "stderr",
          "text": [
            "20it [00:00, 15330.06it/s]\n",
            "0it [00:00, ?it/s]\n",
            "20it [00:00, 3871.07it/s]\n",
            "0it [00:00, ?it/s]\n",
            "20it [00:00, 2479.64it/s]\n",
            "0it [00:00, ?it/s]\n",
            "20it [00:00, 1102.18it/s]\n",
            "0it [00:00, ?it/s]\n",
            "20it [00:00, 875.37it/s]\n",
            "0it [00:00, ?it/s]\n",
            "20it [00:00, 781.97it/s]\n",
            "0it [00:00, ?it/s]\n",
            "20it [00:00, 680.87it/s]\n",
            "0it [00:00, ?it/s]\n",
            "20it [00:00, 569.19it/s]\n",
            "0it [00:00, ?it/s]\n",
            "20it [00:00, 460.85it/s]\n",
            "0it [00:00, ?it/s]\n",
            "20it [00:00, 414.07it/s]\n",
            "0it [00:00, ?it/s]\n",
            "2023-12-19 09:47:19,811 - root - INFO - Fitness estimation took  10.65\n",
            "2023-12-19 09:47:20,511 - root - INFO - Deleting bigartm logs: []\n",
            "2023-12-19 09:47:20,551 - root - INFO - The fitness results have been obtained\n",
            "2023-12-19 09:47:20,552 - GA_algo - INFO - ize of the new generation is 7\n",
            "2023-12-19 09:47:20,556 - GA_algo - INFO - TIME OF THE FITNESS FUNCTION IN CROSSOVER: 77.36030626296997\n",
            "2023-12-19 09:47:20,559 - GA_algo - INFO - CROSSOVER IS OVER\n",
            "2023-12-19 09:47:21,165 - root - INFO - Calculating fitness...\n",
            "2023-12-19 09:47:21,169 - root - INFO - Doing fitness calculating with individual {\"id\": \"c76a5b41-488f-4421-bf3d-6ad742afd7df\", \"data_path\": \"autotm_artifacts/1659e6bd-8d17-49de-9ba8-9790c2047501\", \"params\": [96893.23157223957, 29.0, 100.0, 38.290353126619756, 0.0, -801.647151373432, -1000.0, 29.0, -445.98753356900784, 835.0423325530077, 24.0, 1.0, 0.5202512404944241, 0.3353393609599058, 0.05647051138561909, 93662.61498240306], \"exp_id\": null, \"alg_id\": \"ga\", \"iteration_id\": 4, \"tag\": \"v0\", \"fitness_value\": {\"avg_coherence_score\": 1.197577895407321, \"perplexityScore\": 1266.1639404296875, \"backgroundTokensRatioScore\": 0.7448148131370544, \"contrast\": 0.8800678253173828, \"purity\": 0.8887559175491333, \"kernelSize\": 120.9000015258789, \"npmi_50_list\": null, \"npmi_50\": null, \"sparsity_phi\": 0.6590555310249329, \"sparsity_theta\": 0.0, \"topic_significance_uni\": null, \"topic_significance_vacuous\": null, \"topic_significance_back\": null, \"switchP_list\": [NaN], \"switchP\": NaN, \"all_topics\": true, \"coherence_10_list\": [0.31903521280939834, 0.8758205683080579, 0.28763487718125974, 0.882107189256187, 0.1921592785322912, 0.5958033922951873, 0.6840006850830136, 0.5643803197501599, 0.51737208052135, 0.2733091189752115, 0.431901601431943, 0.18063048981962065, 0.25125471613583034, 0.8127051740230897, 0.1647791845273118, 0.9086968445100421, 0.653339172247262, 0.4607040150523455, 0.4351360931955407, 0.18081363112934612], \"coherence_10\": 0.4835791822392224, \"coherence_15_list\": [0.32258051494917006, 1.0656398709901513, 0.35712180622958023, 1.1382348839082697, 0.2616262109216796, 0.5062116537761764, 0.7500492716560148, 0.3595262989881546, 0.5127420654802957, 0.3024880753245088, 0.6071176679396283, 0.20860257708981897, 0.26894326662007645, 0.6788884206844773, 0.26933832735662105, 0.8179934582871992, 0.8072972449156613, 0.41730441021634274, 0.6235474371743099, 0.25096790835097116], \"coherence_15\": 0.5263110685429553, \"coherence_20_list\": [0.44908860579802096, 1.1244642813961225, 0.41508079903872896, 1.0287762301209449, 0.5461819115574996, 0.540926304032627, 0.6112630216772951, 0.46759950898523184, 0.5163337236471164, 0.4090047101671399, 0.6695257538162931, 0.30775691955963214, 0.34124456377455115, 0.8287295566195586, 0.4042117049563766, 0.6683994436499937, 0.6975430211866304, 0.5753116932959256, 0.8553568964042012, 0.34584612525954783], \"coherence_20\": 0.5901322387471718, \"coherence_25_list\": [0.562148501066, 1.116568970000786, 0.5193748951814813, 1.0305012020405, 0.6590566869553075, 0.5330618268501179, 0.5767708226728978, 0.5063414029934117, 0.7549236153377695, 0.3960913758674069, 0.8745454981911841, 0.36845594001479803, 0.3471447013898829, 0.8292493547121247, 0.4818430355073839, 0.6955464904491284, 0.8171572422143125, 0.6127976203738198, 0.7778197716473514, 0.42359652211986376], \"coherence_25\": 0.6441497737792764, \"coherence_30_list\": [0.6428708622142443, 1.2051300662936213, 0.5005385623849904, 0.9295623122677277, 0.7513496669174355, 0.6170673051728749, 0.5711557811022472, 0.5039053675126376, 0.8285093411404595, 0.4193178211383602, 0.9823665808552893, 0.46324012862791586, 0.41314877752269935, 0.8887386747465715, 0.5308933136442022, 0.7671347421168841, 0.9361042357623608, 0.6398755985359756, 0.6919444948900593, 0.47247392840874985], \"coherence_30\": 0.6877663780627653, \"coherence_35_list\": [0.730341944416346, 1.140350137563999, 0.545363505044258, 0.929324829893507, 0.7848953285986192, 0.7588886097746389, 0.5741474473781807, 0.5144483776778697, 0.8224352043573127, 0.44701400039029915, 1.1150763847140168, 0.5848124217421329, 0.45691728429899775, 0.9543652194953292, 0.5553225241347487, 0.7554235729196433, 0.9482581716338404, 0.7327805781131953, 0.5791819880681083, 0.5411088897760218], \"coherence_35\": 0.7235228209995531, \"coherence_40_list\": [0.7758842356553721, 1.039486639958991, 0.5280891532815046, 0.8778633557031048, 0.8030804155084914, 0.8188123256342388, 0.5647907501463788, 0.5541030823748764, 0.9104905706464292, 0.4700397140764959, 1.0959027092195266, 0.6995030075005058, 0.4621483828389914, 1.0413869122092532, 0.5656825697613582, 0.7151466286190119, 0.9266824128951284, 0.7368375894246721, 0.5440486594106915, 0.5742556674430003], \"coherence_40\": 0.7352117391154012, \"coherence_45_list\": [0.8175687709319817, 0.9977785947355087, 0.5100010026689679, 0.8876365513738252, 0.8139282066645626, 0.8523955018850001, 0.56958634737054, 0.5973210602598789, 0.952364859084197, 0.46345705083126854, 1.0598783305270745, 0.7449269889140596, 0.4496194704551656, 1.0071761236054073, 0.6264589974864011, 0.721275203602149, 0.9490215842933846, 0.753812761027535, 0.5016627013380506, 0.5922993564844509], \"coherence_45\": 0.7434084731769705, \"coherence_50_list\": [0.7798734920901798, 0.9183822295600339, 0.49112632084781965, 0.7838666962999339, 0.7768170497200685, 0.8801397911867812, 0.60847112053115, 0.5865880953880874, 0.9680241237150482, 0.47548890497073704, 0.9969978002810962, 0.7082249064505343, 0.46956034853575446, 0.9445657583715841, 0.6281785232716599, 0.6944652873945842, 0.9423200784940146, 0.8082534499141586, 0.4926993854980225, 0.6063075749100837], \"coherence_50\": 0.7280175468715666, \"coherence_55_list\": [0.7581404385654995, 0.9412223258829323, 0.49731756259903165, 0.707551713378943, 0.7858788816449949, 0.8993015772814195, 0.5576869504777087, 0.5891543803544768, 0.9790884777588884, 0.46876540630296576, 0.9367097429077224, 0.6904161838485035, 0.4843880348903779, 0.930857777110447, 0.6833137788582557, 0.6781720719663724, 0.894408244364888, 0.775425075106808, 0.48663117787961324, 0.6159772181434022], \"coherence_55\": 0.7180203509661626, \"npmi_15\": null, \"npmi_25\": null}, \"fitness_name\": \"default\", \"dataset\": \"__noname__\", \"topic_count\": 20, \"train_option\": \"offline\", \"force_dataset_settings_checkout\": false}\n",
            "2023-12-19 09:47:21,174 - root - INFO - Loading dataset entities\n",
            "2023-12-19 09:47:21,176 - root - INFO - Reading dictionary from autotm_artifacts/1659e6bd-8d17-49de-9ba8-9790c2047501/dictionary.txt\n",
            "2023-12-19 09:47:21,761 - root - INFO - Dataset entities initialization took  0.59\n",
            "2023-12-19 09:47:21,762 - root - INFO - Using TM model: <class 'autotm.fitness.tm.TopicModel'> according to fitness name: default, topics count: 20\n",
            "20it [00:00, 466.64it/s]\n",
            "0it [00:00, ?it/s]\n",
            "1it [00:00, 472.54it/s]\n",
            "0it [00:00, ?it/s]\n",
            "20it [00:00, 508.74it/s]\n",
            "0it [00:00, ?it/s]\n",
            "1it [00:00, 520.19it/s]\n",
            "0it [00:00, ?it/s]\n",
            "20it [00:00, 425.30it/s]\n",
            "0it [00:00, ?it/s]\n",
            "1it [00:00, 529.25it/s]\n",
            "0it [00:00, ?it/s]\n",
            "20it [00:00, 592.89it/s]\n",
            "0it [00:00, ?it/s]\n",
            "1it [00:00, 1518.03it/s]\n",
            "0it [00:00, ?it/s]\n"
          ]
        },
        {
          "output_type": "stream",
          "name": "stdout",
          "text": [
            "Training is complete\n"
          ]
        },
        {
          "output_type": "stream",
          "name": "stderr",
          "text": [
            "2023-12-19 09:47:30,371 - root - INFO - Building dictionary\n"
          ]
        },
        {
          "output_type": "stream",
          "name": "stdout",
          "text": [
            "Wow! all topics\n"
          ]
        },
        {
          "output_type": "stream",
          "name": "stderr",
          "text": [
            "20it [00:00, 587.87it/s]\n",
            "0it [00:00, ?it/s]\n",
            "1it [00:00, 1078.50it/s]\n",
            "0it [00:00, ?it/s]\n"
          ]
        },
        {
          "output_type": "stream",
          "name": "stdout",
          "text": [
            "COMPONENTS:  0.7280175468715666 0.46956034853575446\n"
          ]
        },
        {
          "output_type": "stream",
          "name": "stderr",
          "text": [
            "20it [00:00, 6647.60it/s]\n",
            "0it [00:00, ?it/s]\n",
            "20it [00:00, 4675.40it/s]\n",
            "0it [00:00, ?it/s]\n",
            "20it [00:00, 3324.20it/s]\n",
            "0it [00:00, ?it/s]\n",
            "20it [00:00, 1269.85it/s]\n",
            "0it [00:00, ?it/s]\n",
            "20it [00:00, 1100.79it/s]\n",
            "0it [00:00, ?it/s]\n",
            "20it [00:00, 964.31it/s]\n",
            "0it [00:00, ?it/s]\n",
            "20it [00:00, 831.86it/s]\n",
            "0it [00:00, ?it/s]\n",
            "20it [00:00, 620.66it/s]\n",
            "0it [00:00, ?it/s]\n",
            "20it [00:00, 531.50it/s]\n",
            "0it [00:00, ?it/s]\n",
            "20it [00:00, 455.89it/s]\n",
            "0it [00:00, ?it/s]\n",
            "2023-12-19 09:47:31,417 - root - INFO - Fitness estimation took  10.24\n",
            "2023-12-19 09:47:32,099 - root - INFO - Deleting bigartm logs: []\n",
            "2023-12-19 09:47:32,139 - root - INFO - Doing fitness calculating with individual {\"id\": \"ded4021e-5de7-4e3b-8ff6-0383fbf0d23f\", \"data_path\": \"autotm_artifacts/1659e6bd-8d17-49de-9ba8-9790c2047501\", \"params\": [96882.18428801122, 30, 0, 0.0, 0.0, 137.76484011435943, -1000.0, 30.0, -543.1934286083244, 834.4557634924797, 26.0, 1.0, 0.5202512404944241, 0.3353393609599058, 0.05647051138561909, 95234.30393351424], \"exp_id\": null, \"alg_id\": \"ga\", \"iteration_id\": 4, \"tag\": \"v0\", \"fitness_value\": {\"avg_coherence_score\": 1.1956884025562058, \"perplexityScore\": 1404.160888671875, \"backgroundTokensRatioScore\": 0.7440740466117859, \"contrast\": 0.8850318193435669, \"purity\": 0.9048301577568054, \"kernelSize\": 123.6500015258789, \"npmi_50_list\": null, \"npmi_50\": null, \"sparsity_phi\": 0.6651296019554138, \"sparsity_theta\": 0.0, \"topic_significance_uni\": null, \"topic_significance_vacuous\": null, \"topic_significance_back\": null, \"switchP_list\": [NaN], \"switchP\": NaN, \"all_topics\": true, \"coherence_10_list\": [0.31903521280939834, 0.8758205683080579, 0.28763487718125974, 0.882107189256187, 0.1921592785322912, 0.5290623310486292, 0.6840006850830136, 0.5643803197501599, 0.51737208052135, 0.2733091189752115, 0.431901601431943, 0.18063048981962065, 0.2512547161358304, 0.8127051740230897, 0.14584961617757847, 0.9086968445100421, 0.653339172247262, 0.4619530866788673, 0.43513609319554075, 0.18081363112934612], \"coherence_10\": 0.47935810434073395, \"coherence_15_list\": [0.32842926650678955, 1.0656398709901513, 0.29654143109920156, 1.1382348839082697, 0.2616262109216796, 0.5062116537761764, 0.7533097734005976, 0.3595262989881546, 0.5127420654802957, 0.3024880753245088, 0.6071176679396283, 0.20860257708981897, 0.283195699175262, 0.6788884206844773, 0.269338327356621, 0.8179934582871992, 0.8072972449156613, 0.41730441021634274, 0.4978218199606577, 0.25096790835097116], \"coherence_15\": 0.5181638532186231, \"coherence_20_list\": [0.44908860579802096, 1.1624977651268071, 0.415080799038729, 1.0287762301209449, 0.5461819115574996, 0.540926304032627, 0.6112630216772951, 0.4363185879323501, 0.5163337236471164, 0.3105709068480017, 0.7043288597690157, 0.2945869816927608, 0.28093931533706945, 0.8287295566195586, 0.4042117049563767, 0.6683994436499937, 0.6975430211866304, 0.4719229658031789, 0.6655640106759904, 0.34584612525954783], \"coherence_20\": 0.5689554920364757, \"coherence_25_list\": [0.5483491154811373, 1.1972809557635022, 0.5057192849553124, 1.0305012020405, 0.6590566869553075, 0.5330618268501179, 0.6150979454617072, 0.46814504116629446, 0.7549236153377695, 0.4138316424722279, 0.9191293934850092, 0.368455940014798, 0.34714470138988285, 0.8292493547121247, 0.481843035507384, 0.6955464904491284, 0.8171572422143125, 0.5725095389647654, 0.7778197716473514, 0.4152130001447017], \"coherence_25\": 0.6475017892506668, \"coherence_30_list\": [0.680532297098614, 1.1718122191026203, 0.5005385623849903, 0.9295623122677277, 0.7513496669174355, 0.6170673051728749, 0.5711557811022472, 0.48626453443361944, 0.8285093411404598, 0.4521605987988969, 0.9903022053090565, 0.46324012862791586, 0.3969388445977519, 0.8887386747465716, 0.5305123785085416, 0.8018378014132744, 0.9361042357623608, 0.6237980581938625, 0.6919444948900594, 0.4976764531428918], \"coherence_30\": 0.6905022946805887, \"coherence_35_list\": [0.6638078419365459, 1.1523688581624212, 0.545363505044258, 0.8252409187126265, 0.7741346939270745, 0.7588886097746389, 0.5741474473781808, 0.5369468046828477, 0.8336863718668035, 0.4610791565425948, 1.1225646059441734, 0.5852832668165023, 0.4420334919755614, 0.9543652194953294, 0.5618500945131678, 0.73928265484464, 0.9482581716338404, 0.7317911778801193, 0.5791819880681083, 0.5386970213537716], \"coherence_35\": 0.7164485950276601, \"coherence_40_list\": [0.8143326923148796, 1.0604986041273692, 0.5280891532815046, 0.8778633557031048, 0.7663597710997007, 0.8188123256342388, 0.5647907501463788, 0.5541030823748765, 0.8878171238706306, 0.46826327651332467, 1.0959027092195268, 0.6995030075005058, 0.44706254844740456, 1.0413869122092534, 0.5688537404181061, 0.7358283616144893, 0.9591152643783402, 0.7541533757694443, 0.5408984088272203, 0.5485824252396577], \"coherence_40\": 0.7366108444344979, \"coherence_45_list\": [0.822180546147737, 0.9977785947355086, 0.5100010026689679, 0.8876365513738252, 0.7758158218247682, 0.8523955018850001, 0.5695863473705401, 0.582120505537574, 0.9210766593186342, 0.478916013279108, 1.0598783305270747, 0.747269540214479, 0.4756809544688713, 1.0071761236054073, 0.667718192715286, 0.7096050338029982, 0.9553726372145448, 0.7528103170326637, 0.5065086574780329, 0.6036033068920854], \"coherence_45\": 0.7441565319046554, \"coherence_50_list\": [0.7913337503810207, 0.9316535944422704, 0.4807817709898339, 0.790795472086496, 0.7897938012267648, 0.8801397911867812, 0.5942481741433795, 0.5865880953880872, 0.9535466474376285, 0.49180792890038094, 0.9913094464420888, 0.7198528281776994, 0.4647669518864409, 0.9774247653295061, 0.6395916255286046, 0.7073387883390064, 0.9170093890965926, 0.8082534499141586, 0.48694185486114844, 0.6152508876374103], \"coherence_50\": 0.730921450669765, \"coherence_55_list\": [0.7719333136729994, 0.9077537465622473, 0.4919813836038141, 0.7408601491394332, 0.8022491305858016, 0.8897139379849383, 0.5611032125246044, 0.6064117169187111, 1.0069683154580573, 0.4667104936365177, 0.9566228876158043, 0.6677165722314129, 0.479678639693413, 0.9384350264222864, 0.7019830129865294, 0.6663168969058845, 0.8943778158404602, 0.7764500377958476, 0.48945356643096516, 0.6020890424338295], \"coherence_55\": 0.7209404449221779, \"npmi_15\": null, \"npmi_25\": null}, \"fitness_name\": \"default\", \"dataset\": \"__noname__\", \"topic_count\": 20, \"train_option\": \"offline\", \"force_dataset_settings_checkout\": false}\n",
            "2023-12-19 09:47:32,140 - root - INFO - Loading dataset entities\n",
            "2023-12-19 09:47:32,142 - root - INFO - Reading dictionary from autotm_artifacts/1659e6bd-8d17-49de-9ba8-9790c2047501/dictionary.txt\n",
            "2023-12-19 09:47:32,740 - root - INFO - Dataset entities initialization took  0.60\n",
            "2023-12-19 09:47:32,741 - root - INFO - Using TM model: <class 'autotm.fitness.tm.TopicModel'> according to fitness name: default, topics count: 20\n",
            "20it [00:00, 625.42it/s]\n",
            "0it [00:00, ?it/s]\n",
            "1it [00:00, 382.48it/s]\n",
            "0it [00:00, ?it/s]\n",
            "20it [00:00, 627.98it/s]\n",
            "0it [00:00, ?it/s]\n",
            "1it [00:00, 472.70it/s]\n",
            "0it [00:00, ?it/s]\n",
            "20it [00:00, 465.55it/s]\n",
            "0it [00:00, ?it/s]\n",
            "1it [00:00, 504.55it/s]\n",
            "0it [00:00, ?it/s]\n",
            "20it [00:00, 657.33it/s]\n",
            "0it [00:00, ?it/s]\n",
            "1it [00:00, 2029.17it/s]\n",
            "0it [00:00, ?it/s]\n"
          ]
        },
        {
          "output_type": "stream",
          "name": "stdout",
          "text": [
            "Training is complete\n"
          ]
        },
        {
          "output_type": "stream",
          "name": "stderr",
          "text": [
            "2023-12-19 09:47:41,865 - root - INFO - Building dictionary\n"
          ]
        },
        {
          "output_type": "stream",
          "name": "stdout",
          "text": [
            "Wow! all topics\n"
          ]
        },
        {
          "output_type": "stream",
          "name": "stderr",
          "text": [
            "20it [00:00, 668.81it/s]\n",
            "0it [00:00, ?it/s]\n",
            "1it [00:00, 2340.57it/s]\n",
            "0it [00:00, ?it/s]\n"
          ]
        },
        {
          "output_type": "stream",
          "name": "stdout",
          "text": [
            "COMPONENTS:  0.730921450669765 0.4647669518864409\n"
          ]
        },
        {
          "output_type": "stream",
          "name": "stderr",
          "text": [
            "20it [00:00, 14256.64it/s]\n",
            "0it [00:00, ?it/s]\n",
            "20it [00:00, 1942.75it/s]\n",
            "0it [00:00, ?it/s]\n",
            "20it [00:00, 3162.05it/s]\n",
            "0it [00:00, ?it/s]\n",
            "20it [00:00, 1190.48it/s]\n",
            "0it [00:00, ?it/s]\n",
            "20it [00:00, 1149.79it/s]\n",
            "0it [00:00, ?it/s]\n",
            "20it [00:00, 1008.68it/s]\n",
            "0it [00:00, ?it/s]\n",
            "20it [00:00, 811.21it/s]\n",
            "0it [00:00, ?it/s]\n",
            "20it [00:00, 561.00it/s]\n",
            "0it [00:00, ?it/s]\n",
            "20it [00:00, 407.50it/s]\n",
            "0it [00:00, ?it/s]\n",
            "20it [00:00, 356.41it/s]\n",
            "0it [00:00, ?it/s]\n",
            "2023-12-19 09:47:43,005 - root - INFO - Fitness estimation took  10.86\n",
            "2023-12-19 09:47:43,686 - root - INFO - Deleting bigartm logs: []\n",
            "2023-12-19 09:47:43,727 - root - INFO - Doing fitness calculating with individual {\"id\": \"77f7fd0c-2935-492a-845d-69bea88c42ec\", \"data_path\": \"autotm_artifacts/1659e6bd-8d17-49de-9ba8-9790c2047501\", \"params\": [23.555482833537585, 29.0, 25.377311184537145, 0.0, 0.0, 100.0, -1000.0, 30.0, -468.33570344449936, 834.7828330270435, 26.0, 1.0, 0.9306060634954084, 0.3382581659148661, 0.7286558208865347, 92749.2698003328], \"exp_id\": 0, \"alg_id\": \"ga\", \"iteration_id\": 4, \"tag\": \"v0\", \"fitness_value\": null, \"fitness_name\": \"default\", \"dataset\": \"__noname__\", \"topic_count\": 20, \"train_option\": \"offline\", \"force_dataset_settings_checkout\": false}\n",
            "2023-12-19 09:47:43,728 - root - INFO - Loading dataset entities\n",
            "2023-12-19 09:47:43,730 - root - INFO - Reading dictionary from autotm_artifacts/1659e6bd-8d17-49de-9ba8-9790c2047501/dictionary.txt\n",
            "2023-12-19 09:47:44,316 - root - INFO - Dataset entities initialization took  0.59\n",
            "2023-12-19 09:47:44,317 - root - INFO - Using TM model: <class 'autotm.fitness.tm.TopicModel'> according to fitness name: default, topics count: 20\n",
            "20it [00:00, 649.76it/s]\n",
            "0it [00:00, ?it/s]\n",
            "1it [00:00, 199.98it/s]\n",
            "0it [00:00, ?it/s]\n",
            "20it [00:00, 695.76it/s]\n",
            "0it [00:00, ?it/s]\n",
            "1it [00:00, 251.19it/s]\n",
            "0it [00:00, ?it/s]\n",
            "20it [00:00, 536.97it/s]\n",
            "0it [00:00, ?it/s]\n",
            "1it [00:00, 555.02it/s]\n",
            "0it [00:00, ?it/s]\n",
            "20it [00:00, 491.43it/s]\n",
            "0it [00:00, ?it/s]\n",
            "1it [00:00, 491.02it/s]\n",
            "0it [00:00, ?it/s]\n"
          ]
        },
        {
          "output_type": "stream",
          "name": "stdout",
          "text": [
            "Training is complete\n"
          ]
        },
        {
          "output_type": "stream",
          "name": "stderr",
          "text": [
            "2023-12-19 09:47:54,723 - root - INFO - Building dictionary\n"
          ]
        },
        {
          "output_type": "stream",
          "name": "stdout",
          "text": [
            "Wow! all topics\n"
          ]
        },
        {
          "output_type": "stream",
          "name": "stderr",
          "text": [
            "20it [00:00, 657.74it/s]\n",
            "0it [00:00, ?it/s]\n",
            "1it [00:00, 472.23it/s]\n",
            "0it [00:00, ?it/s]\n"
          ]
        },
        {
          "output_type": "stream",
          "name": "stdout",
          "text": [
            "COMPONENTS:  0.5279323765551479 0.16768064887259881\n"
          ]
        },
        {
          "output_type": "stream",
          "name": "stderr",
          "text": [
            "20it [00:00, 14799.94it/s]\n",
            "0it [00:00, ?it/s]\n",
            "20it [00:00, 5724.84it/s]\n",
            "0it [00:00, ?it/s]\n",
            "20it [00:00, 3365.00it/s]\n",
            "0it [00:00, ?it/s]\n",
            "20it [00:00, 2410.87it/s]\n",
            "0it [00:00, ?it/s]\n",
            "20it [00:00, 1229.44it/s]\n",
            "0it [00:00, ?it/s]\n",
            "20it [00:00, 836.37it/s]\n",
            "0it [00:00, ?it/s]\n",
            "20it [00:00, 720.18it/s]\n",
            "0it [00:00, ?it/s]\n",
            "20it [00:00, 541.45it/s]\n",
            "0it [00:00, ?it/s]\n",
            "20it [00:00, 514.57it/s]\n",
            "0it [00:00, ?it/s]\n",
            "20it [00:00, 388.35it/s]\n",
            "0it [00:00, ?it/s]\n",
            "2023-12-19 09:47:55,818 - root - INFO - Fitness estimation took  12.09\n",
            "2023-12-19 09:47:56,458 - root - INFO - Deleting bigartm logs: []\n",
            "2023-12-19 09:47:56,495 - root - INFO - Doing fitness calculating with individual {\"id\": \"63ca3fec-30b7-46fa-a7a1-1c7c514600b6\", \"data_path\": \"autotm_artifacts/1659e6bd-8d17-49de-9ba8-9790c2047501\", \"params\": [96892.96210322552, 30.0, 100.0, 25.33964980115296, 30.0, -521.9391954579232, -1000.0, 0.0, -436.7328764805822, 835.0280247663012, 25.0, 1.0, 0.5202512404944241, 0.3353393609599058, 0.05647051138561909, 92795.55168031694], \"exp_id\": 0, \"alg_id\": \"ga\", \"iteration_id\": 4, \"tag\": \"v0\", \"fitness_value\": null, \"fitness_name\": \"default\", \"dataset\": \"__noname__\", \"topic_count\": 20, \"train_option\": \"offline\", \"force_dataset_settings_checkout\": false}\n",
            "2023-12-19 09:47:56,497 - root - INFO - Loading dataset entities\n",
            "2023-12-19 09:47:56,500 - root - INFO - Reading dictionary from autotm_artifacts/1659e6bd-8d17-49de-9ba8-9790c2047501/dictionary.txt\n",
            "2023-12-19 09:47:57,083 - root - INFO - Dataset entities initialization took  0.58\n",
            "2023-12-19 09:47:57,085 - root - INFO - Using TM model: <class 'autotm.fitness.tm.TopicModel'> according to fitness name: default, topics count: 20\n",
            "20it [00:00, 599.13it/s]\n",
            "0it [00:00, ?it/s]\n",
            "1it [00:00, 523.63it/s]\n",
            "0it [00:00, ?it/s]\n",
            "20it [00:00, 663.17it/s]\n",
            "0it [00:00, ?it/s]\n",
            "1it [00:00, 198.11it/s]\n",
            "0it [00:00, ?it/s]\n",
            "20it [00:00, 504.77it/s]\n",
            "0it [00:00, ?it/s]\n",
            "1it [00:00, 331.30it/s]\n",
            "0it [00:00, ?it/s]\n",
            "2023-12-19 09:48:05,277 - root - WARNING - Fitness calculation problem\n",
            "2023-12-19 09:48:05,278 - root - INFO - Fitness estimation took  8.78\n",
            "2023-12-19 09:48:06,088 - root - INFO - Deleting bigartm logs: []\n",
            "2023-12-19 09:48:06,140 - root - INFO - Doing fitness calculating with individual {\"id\": \"644b97a9-80d9-4878-a014-d8794a26f72d\", \"data_path\": \"autotm_artifacts/1659e6bd-8d17-49de-9ba8-9790c2047501\", \"params\": [96892.96136708837, 30.0, 100.0, 25.339655804767446, 0.0, -521.6838358255683, -1000.0, 29.0, -436.70759454985085, 835.0279856801991, 25.0, 1.0, 0.5202512404944241, 0.3353393609599058, 0.05647051138561909, 92793.18303130777], \"exp_id\": null, \"alg_id\": \"ga\", \"iteration_id\": 4, \"tag\": \"v0\", \"fitness_value\": {\"avg_coherence_score\": 1.1925784963467019, \"perplexityScore\": 1276.257080078125, \"backgroundTokensRatioScore\": 0.737407386302948, \"contrast\": 0.8817039728164673, \"purity\": 0.893881618976593, \"kernelSize\": 121.5, \"npmi_50_list\": null, \"npmi_50\": null, \"sparsity_phi\": 0.6629074215888977, \"sparsity_theta\": 0.0, \"topic_significance_uni\": null, \"topic_significance_vacuous\": null, \"topic_significance_back\": null, \"switchP_list\": [NaN], \"switchP\": NaN, \"all_topics\": true, \"coherence_10_list\": [0.31903521280939834, 0.8758205683080579, 0.28763487718125974, 0.882107189256187, 0.1921592785322912, 0.5958033922951873, 0.6840006850830135, 0.5643803197501599, 0.51737208052135, 0.2733091189752115, 0.431901601431943, 0.18063048981962065, 0.25125471613583034, 0.8127051740230897, 0.14584961617757847, 0.9086968445100421, 0.653339172247262, 0.3983758555588546, 0.4351360931955407, 0.18081363112934612], \"coherence_10\": 0.4795162958470612, \"coherence_15_list\": [0.32258051494917006, 1.0656398709901513, 0.29654143109920156, 1.1382348839082697, 0.2616262109216796, 0.5062116537761764, 0.7500492716560148, 0.3595262989881546, 0.5127420654802957, 0.3024880753245088, 0.6071176679396283, 0.20860257708981897, 0.283195699175262, 0.6788884206844773, 0.269338327356621, 0.8179934582871992, 0.8072972449156613, 0.41730441021634274, 0.4978218199606578, 0.25096790835097116], \"coherence_15\": 0.517708390553513, \"coherence_20_list\": [0.44908860579802096, 1.1037951375596513, 0.415080799038729, 1.0287762301209449, 0.5461819115574996, 0.540926304032627, 0.6112630216772951, 0.46759950898523184, 0.5163337236471164, 0.40900471016713985, 0.6695257538162931, 0.30775691955963214, 0.38156619330027836, 0.8287295566195586, 0.47884023276141, 0.6683994436499937, 0.6975430211866304, 0.5753116932959256, 0.6655640106759904, 0.34584612525954783], \"coherence_20\": 0.5853566451354757, \"coherence_25_list\": [0.5621485010659998, 1.1165689700007857, 0.5193748951814813, 1.0305012020405, 0.6590566869553075, 0.5330618268501179, 0.5767708226728978, 0.46814504116629446, 0.7549236153377695, 0.3750422085029907, 0.8745454981911841, 0.36845594001479803, 0.3471447013898829, 0.8292493547121247, 0.4818430355073839, 0.6955464904491284, 0.8171572422143125, 0.5725095389647654, 0.7778197716473514, 0.42359652211986376], \"coherence_25\": 0.6391730932492469, \"coherence_30_list\": [0.642870862214244, 1.2051300662936215, 0.5156554432200416, 0.9295623122677277, 0.7513496669174355, 0.6170673051728749, 0.5711557811022472, 0.5039053675126376, 0.7939697738026368, 0.41393921365023245, 0.9823665808552893, 0.46324012862791586, 0.36816578700731667, 0.8887386747465715, 0.5308933136442022, 0.743609221415891, 0.9361042357623608, 0.6398755985359756, 0.6919444948900594, 0.4976764531428917], \"coherence_30\": 0.6843610140391088, \"coherence_35_list\": [0.730341944416346, 1.140350137563999, 0.536447572681599, 0.929324829893507, 0.7741346939270745, 0.7588886097746389, 0.5741474473781806, 0.5144483776778697, 0.8224352043573127, 0.4525633560771964, 1.1150763847140168, 0.5848124217421329, 0.44203349197556124, 0.9543652194953292, 0.5553225241347487, 0.7554235729196433, 0.9482581716338404, 0.7327805781131953, 0.5791819880681083, 0.5125548228667554], \"coherence_35\": 0.7206445674705526, \"coherence_40_list\": [0.7448956703493766, 1.057426030878085, 0.5227307635002147, 0.8778633557031048, 0.7802630301454225, 0.8188123256342388, 0.5647907501463789, 0.5541030823748764, 0.9104905706464292, 0.45727982286629343, 1.0601784244077173, 0.6995030075005059, 0.46999403015628854, 1.0413869122092532, 0.5656825697613581, 0.7151466286190119, 0.9159893894360543, 0.7368375894246725, 0.5581496814689842, 0.5802072515012059], \"coherence_40\": 0.7315865443364735, \"coherence_45_list\": [0.7943693094928139, 0.9977785947355087, 0.5100010026689679, 0.8876365513738252, 0.7841526890089556, 0.8523955018850001, 0.5695863473705401, 0.5890460721928958, 0.9523648590841973, 0.4612966847778936, 1.0598783305270745, 0.7453789992260548, 0.4756809544688713, 1.0071761236054073, 0.6264589974864009, 0.721275203602149, 0.9309280121753619, 0.7538127610275349, 0.5016627013380506, 0.6036033068920854], \"coherence_45\": 0.7412241501469794, \"coherence_50_list\": [0.7700762557136946, 0.9302101718156464, 0.49112632084781965, 0.7838666962999339, 0.775474676052397, 0.8801397911867812, 0.604571439935599, 0.5865880953880874, 0.9680241237150483, 0.47937360177803506, 0.9969978002810964, 0.7082249064505343, 0.46476695188644085, 0.9445657583715841, 0.6281785232716599, 0.6944652873945842, 0.9423200784940142, 0.8082534499141585, 0.4926993854980225, 0.6063075749100837], \"coherence_50\": 0.727811544460261, \"coherence_55_list\": [0.7581404385654995, 0.9412223258829324, 0.4973175625990317, 0.707551713378943, 0.7853759189744743, 0.8993015772814195, 0.5576869504777087, 0.5891543803544768, 0.9790884777588884, 0.46104793297027274, 0.9367097429077224, 0.6904161838485035, 0.4656606973933527, 0.9308577771104469, 0.6833137788582557, 0.6781720719663724, 0.894408244364888, 0.775425075106808, 0.4898558222922798, 0.600756711633596], \"coherence_55\": 0.7160731691862935, \"npmi_15\": null, \"npmi_25\": null}, \"fitness_name\": \"default\", \"dataset\": \"__noname__\", \"topic_count\": 20, \"train_option\": \"offline\", \"force_dataset_settings_checkout\": false}\n",
            "2023-12-19 09:48:06,143 - root - INFO - Loading dataset entities\n",
            "2023-12-19 09:48:06,145 - root - INFO - Reading dictionary from autotm_artifacts/1659e6bd-8d17-49de-9ba8-9790c2047501/dictionary.txt\n",
            "2023-12-19 09:48:07,084 - root - INFO - Dataset entities initialization took  0.94\n",
            "2023-12-19 09:48:07,086 - root - INFO - Using TM model: <class 'autotm.fitness.tm.TopicModel'> according to fitness name: default, topics count: 20\n",
            "20it [00:00, 657.35it/s]\n",
            "0it [00:00, ?it/s]\n",
            "1it [00:00, 544.36it/s]\n",
            "0it [00:00, ?it/s]\n",
            "20it [00:00, 658.67it/s]\n",
            "0it [00:00, ?it/s]\n",
            "1it [00:00, 518.52it/s]\n",
            "0it [00:00, ?it/s]\n",
            "20it [00:00, 460.60it/s]\n",
            "0it [00:00, ?it/s]\n",
            "1it [00:00, 393.06it/s]\n",
            "0it [00:00, ?it/s]\n",
            "20it [00:00, 774.26it/s]\n",
            "0it [00:00, ?it/s]\n",
            "1it [00:00, 1978.45it/s]\n",
            "0it [00:00, ?it/s]\n"
          ]
        },
        {
          "output_type": "stream",
          "name": "stdout",
          "text": [
            "Training is complete\n"
          ]
        },
        {
          "output_type": "stream",
          "name": "stderr",
          "text": [
            "2023-12-19 09:48:15,151 - root - INFO - Building dictionary\n"
          ]
        },
        {
          "output_type": "stream",
          "name": "stdout",
          "text": [
            "Wow! all topics\n"
          ]
        },
        {
          "output_type": "stream",
          "name": "stderr",
          "text": [
            "20it [00:00, 574.19it/s]\n",
            "0it [00:00, ?it/s]\n",
            "1it [00:00, 2273.34it/s]\n",
            "0it [00:00, ?it/s]\n"
          ]
        },
        {
          "output_type": "stream",
          "name": "stdout",
          "text": [
            "COMPONENTS:  0.727811544460261 0.46476695188644085\n"
          ]
        },
        {
          "output_type": "stream",
          "name": "stderr",
          "text": [
            "20it [00:00, 8777.45it/s]\n",
            "0it [00:00, ?it/s]\n",
            "20it [00:00, 5333.89it/s]\n",
            "0it [00:00, ?it/s]\n",
            "20it [00:00, 3310.94it/s]\n",
            "0it [00:00, ?it/s]\n",
            "20it [00:00, 1297.06it/s]\n",
            "0it [00:00, ?it/s]\n",
            "20it [00:00, 1074.04it/s]\n",
            "0it [00:00, ?it/s]\n",
            "20it [00:00, 698.45it/s]\n",
            "0it [00:00, ?it/s]\n",
            "20it [00:00, 724.86it/s]\n",
            "0it [00:00, ?it/s]\n",
            "20it [00:00, 685.66it/s]\n",
            "0it [00:00, ?it/s]\n",
            "20it [00:00, 548.59it/s]\n",
            "0it [00:00, ?it/s]\n",
            "20it [00:00, 445.49it/s]\n",
            "0it [00:00, ?it/s]\n",
            "2023-12-19 09:48:16,226 - root - INFO - Fitness estimation took  10.08\n",
            "2023-12-19 09:48:16,917 - root - INFO - Deleting bigartm logs: []\n",
            "2023-12-19 09:48:16,958 - root - INFO - Doing fitness calculating with individual {\"id\": \"29b9d8bb-9387-4af0-a7a3-a29033b78729\", \"data_path\": \"autotm_artifacts/1659e6bd-8d17-49de-9ba8-9790c2047501\", \"params\": [96892.9624762765, 30.0, 100.0, 25.339646758711357, 0.0, -1000.0, -522.0686036286845, 30.0, -436.74568856203416, 835.0280445738995, 25.0, 1.0, 0.5202512404944241, 0.3353393609599058, 0.05647051138561909, 92796.75203658559], \"exp_id\": 0, \"alg_id\": \"ga\", \"iteration_id\": 4, \"tag\": \"v0\", \"fitness_value\": null, \"fitness_name\": \"default\", \"dataset\": \"__noname__\", \"topic_count\": 20, \"train_option\": \"offline\", \"force_dataset_settings_checkout\": false}\n",
            "2023-12-19 09:48:16,959 - root - INFO - Loading dataset entities\n",
            "2023-12-19 09:48:16,961 - root - INFO - Reading dictionary from autotm_artifacts/1659e6bd-8d17-49de-9ba8-9790c2047501/dictionary.txt\n",
            "2023-12-19 09:48:17,555 - root - INFO - Dataset entities initialization took  0.59\n",
            "2023-12-19 09:48:17,556 - root - INFO - Using TM model: <class 'autotm.fitness.tm.TopicModel'> according to fitness name: default, topics count: 20\n",
            "20it [00:00, 437.83it/s]\n",
            "0it [00:00, ?it/s]\n",
            "1it [00:00, 499.92it/s]\n",
            "0it [00:00, ?it/s]\n",
            "20it [00:00, 676.36it/s]\n",
            "0it [00:00, ?it/s]\n",
            "1it [00:00, 525.27it/s]\n",
            "0it [00:00, ?it/s]\n",
            "20it [00:00, 657.13it/s]\n",
            "0it [00:00, ?it/s]\n",
            "1it [00:00, 522.65it/s]\n",
            "0it [00:00, ?it/s]\n",
            "20it [00:00, 633.87it/s]\n",
            "0it [00:00, ?it/s]\n",
            "1it [00:00, 2267.19it/s]\n",
            "0it [00:00, ?it/s]\n"
          ]
        },
        {
          "output_type": "stream",
          "name": "stdout",
          "text": [
            "Training is complete\n"
          ]
        },
        {
          "output_type": "stream",
          "name": "stderr",
          "text": [
            "2023-12-19 09:48:27,928 - root - INFO - Building dictionary\n"
          ]
        },
        {
          "output_type": "stream",
          "name": "stdout",
          "text": [
            "Wow! all topics\n"
          ]
        },
        {
          "output_type": "stream",
          "name": "stderr",
          "text": [
            "20it [00:00, 634.77it/s]\n",
            "0it [00:00, ?it/s]\n",
            "1it [00:00, 2019.40it/s]\n",
            "0it [00:00, ?it/s]\n"
          ]
        },
        {
          "output_type": "stream",
          "name": "stdout",
          "text": [
            "COMPONENTS:  0.727811544460261 0.46476695188644085\n"
          ]
        },
        {
          "output_type": "stream",
          "name": "stderr",
          "text": [
            "20it [00:00, 6473.19it/s]\n",
            "0it [00:00, ?it/s]\n",
            "20it [00:00, 4275.10it/s]\n",
            "0it [00:00, ?it/s]\n",
            "20it [00:00, 3731.09it/s]\n",
            "0it [00:00, ?it/s]\n",
            "20it [00:00, 1242.09it/s]\n",
            "0it [00:00, ?it/s]\n",
            "20it [00:00, 1096.41it/s]\n",
            "0it [00:00, ?it/s]\n",
            "20it [00:00, 795.64it/s]\n",
            "0it [00:00, ?it/s]\n",
            "20it [00:00, 736.47it/s]\n",
            "0it [00:00, ?it/s]\n",
            "20it [00:00, 562.47it/s]\n",
            "0it [00:00, ?it/s]\n",
            "20it [00:00, 526.92it/s]\n",
            "0it [00:00, ?it/s]\n",
            "20it [00:00, 421.01it/s]\n",
            "0it [00:00, ?it/s]\n",
            "2023-12-19 09:48:29,013 - root - INFO - Fitness estimation took  12.05\n",
            "2023-12-19 09:48:29,704 - root - INFO - Deleting bigartm logs: []\n",
            "2023-12-19 09:48:29,741 - root - INFO - Doing fitness calculating with individual {\"id\": \"10e74a65-d2a1-4690-934b-1aecf9f225cb\", \"data_path\": \"autotm_artifacts/1659e6bd-8d17-49de-9ba8-9790c2047501\", \"params\": [96895.30153060838, 30.0, 100.0, 38.17678062521663, 0.0, -837.015168463004, -1000.0, 30.0, -420.7228042290078, 835.1522395229583, 24.0, 1.0, 0.5202512404944241, 0.3353393609599058, 0.05647051138561909, 92818.99819803928], \"exp_id\": null, \"alg_id\": \"ga\", \"iteration_id\": 4, \"tag\": \"v0\", \"fitness_value\": {\"avg_coherence_score\": 1.1898163123142071, \"perplexityScore\": 1274.9779052734375, \"backgroundTokensRatioScore\": 0.734074056148529, \"contrast\": 0.8797516822814941, \"purity\": 0.887137770652771, \"kernelSize\": 120.6500015258789, \"npmi_50_list\": null, \"npmi_50\": null, \"sparsity_phi\": 0.6617777943611145, \"sparsity_theta\": 0.0, \"topic_significance_uni\": null, \"topic_significance_vacuous\": null, \"topic_significance_back\": null, \"switchP_list\": [NaN], \"switchP\": NaN, \"all_topics\": true, \"coherence_10_list\": [0.31903521280939834, 0.8758205683080579, 0.28763487718125974, 0.882107189256187, 0.1921592785322912, 0.5958033922951873, 0.6840006850830135, 0.5643803197501599, 0.51737208052135, 0.2733091189752115, 0.431901601431943, 0.18063048981962065, 0.25125471613583034, 0.8127051740230897, 0.14584961617757847, 0.9086968445100421, 0.653339172247262, 0.4607040150523455, 0.4503048041478834, 0.18081363112934612], \"coherence_10\": 0.4833911393693529, \"coherence_15_list\": [0.3225805149491701, 1.0656398709901513, 0.35712180622958023, 1.1382348839082697, 0.2616262109216796, 0.5497567889959557, 0.7500492716560148, 0.3595262989881546, 0.5127420654802957, 0.3024880753245088, 0.6071176679396283, 0.20860257708981897, 0.26894326662007645, 0.6788884206844773, 0.269338327356621, 0.8179934582871992, 0.8072972449156613, 0.41730441021634274, 0.6235474371743099, 0.25096790835097116], \"coherence_15\": 0.5284883253039443, \"coherence_20_list\": [0.44908860579802096, 0.9787329804365101, 0.41508079903872896, 1.0287762301209449, 0.5461819115574996, 0.540926304032627, 0.6112630216772951, 0.46759950898523184, 0.5432133520521285, 0.4090047101671399, 0.6695257538162931, 0.30775691955963214, 0.38156619330027836, 0.8287295566195586, 0.47884023276141, 0.6683994436499937, 0.6975430211866304, 0.5753116932959256, 0.8553568964042012, 0.34584612525954783], \"coherence_20\": 0.58993716298598, \"coherence_25_list\": [0.562148501066, 1.116568970000786, 0.5193748951814813, 1.0305012020405, 0.6590566869553075, 0.5330618268501179, 0.5767708226728978, 0.46814504116629435, 0.7549236153377696, 0.37504220850299075, 0.8745454981911841, 0.36845594001479803, 0.3471447013898829, 0.8292493547121247, 0.4489253136087687, 0.6955464904491284, 0.8171572422143125, 0.6127976203738198, 0.7778197716473514, 0.42359652211986376], \"coherence_25\": 0.639541611224769, \"coherence_30_list\": [0.642870862214244, 1.2051300662936213, 0.5005385623849903, 0.9295623122677277, 0.7238382063230125, 0.6170673051728749, 0.5711557811022472, 0.5039053675126376, 0.8285093411404598, 0.41393921365023245, 0.9823665808552893, 0.46324012862791586, 0.41314877752269935, 0.8887386747465715, 0.5308933136442022, 0.7671347421168841, 0.9506245053298624, 0.6398755985359756, 0.6919444948900593, 0.5157416257118895], \"coherence_30\": 0.6890112730021698, \"coherence_35_list\": [0.730341944416346, 1.140350137563999, 0.536447572681599, 0.929324829893507, 0.7511373480907917, 0.7588886097746389, 0.5741474473781806, 0.5144483776778697, 0.8224352043573127, 0.4525633560771964, 1.1150763847140166, 0.5848124217421329, 0.4420334919755614, 0.9543652194953292, 0.5553225241347487, 0.7554235729196433, 0.9482581716338404, 0.7327805781131953, 0.5791819880681083, 0.5125548228667554], \"coherence_35\": 0.7194947001787386, \"coherence_40_list\": [0.7448956703493766, 1.039486639958991, 0.5227307635002147, 0.8778633557031048, 0.7802630301454228, 0.8188123256342388, 0.5885711310342165, 0.5541030823748764, 0.9104905706464292, 0.47616582515120237, 1.0601784244077175, 0.6995030075005059, 0.46999403015628854, 1.0413869122092532, 0.5656825697613581, 0.7151466286190119, 0.9159893894360543, 0.7368375894246721, 0.5440486594106916, 0.5802072515012059], \"coherence_40\": 0.7321178428462416, \"coherence_45_list\": [0.8009326834521384, 0.9977785947355087, 0.5100010026689679, 0.8876365513738252, 0.792619256198236, 0.840911490919557, 0.56958634737054, 0.5890460721928958, 0.952364859084197, 0.4652997785091363, 1.0574246592310623, 0.7449269889140596, 0.4756809544688713, 1.0071761236054073, 0.6029609107919274, 0.7180188005609224, 0.9309280121753619, 0.7538127610275349, 0.5016627013380507, 0.5922993564844509], \"coherence_45\": 0.7395533952551325, \"coherence_50_list\": [0.7700762557136946, 0.9183822295600339, 0.49112632084781965, 0.7838666962999339, 0.7754746760523972, 0.8604216943574023, 0.60847112053115, 0.5865880953880873, 0.9593926593931222, 0.4800179065093882, 0.9969978002810964, 0.6983982594289158, 0.46476695188644085, 0.9445657583715841, 0.6281785232716599, 0.6846817718463218, 0.9423200784940142, 0.8082534499141586, 0.4926993854980224, 0.6063075749100837], \"coherence_50\": 0.7250493604277662, \"coherence_55_list\": [0.7581404385654995, 0.9412223258829323, 0.49497827966551555, 0.707551713378943, 0.7853759189744745, 0.9139455563564212, 0.5576869504777087, 0.5891543803544768, 0.9790884777588884, 0.4687654063029658, 0.913726686144811, 0.6904161838485035, 0.47432217384314124, 0.9317641970684326, 0.6833137788582557, 0.6755568075312487, 0.8944082443648881, 0.775425075106808, 0.4898558222922798, 0.6116695415502539], \"coherence_55\": 0.7168183979163224, \"npmi_15\": null, \"npmi_25\": null}, \"fitness_name\": \"default\", \"dataset\": \"__noname__\", \"topic_count\": 20, \"train_option\": \"offline\", \"force_dataset_settings_checkout\": false}\n",
            "2023-12-19 09:48:29,743 - root - INFO - Loading dataset entities\n",
            "2023-12-19 09:48:29,745 - root - INFO - Reading dictionary from autotm_artifacts/1659e6bd-8d17-49de-9ba8-9790c2047501/dictionary.txt\n",
            "2023-12-19 09:48:30,333 - root - INFO - Dataset entities initialization took  0.59\n",
            "2023-12-19 09:48:30,335 - root - INFO - Using TM model: <class 'autotm.fitness.tm.TopicModel'> according to fitness name: default, topics count: 20\n",
            "20it [00:00, 328.13it/s]\n",
            "0it [00:00, ?it/s]\n",
            "1it [00:00, 519.55it/s]\n",
            "0it [00:00, ?it/s]\n",
            "20it [00:00, 388.83it/s]\n",
            "0it [00:00, ?it/s]\n",
            "1it [00:00, 342.56it/s]\n",
            "0it [00:00, ?it/s]\n",
            "20it [00:00, 398.87it/s]\n",
            "0it [00:00, ?it/s]\n",
            "1it [00:00, 206.44it/s]\n",
            "0it [00:00, ?it/s]\n",
            "20it [00:00, 642.97it/s]\n",
            "0it [00:00, ?it/s]\n",
            "1it [00:00, 2256.22it/s]\n",
            "0it [00:00, ?it/s]\n"
          ]
        },
        {
          "output_type": "stream",
          "name": "stdout",
          "text": [
            "Training is complete\n"
          ]
        },
        {
          "output_type": "stream",
          "name": "stderr",
          "text": [
            "2023-12-19 09:48:39,192 - root - INFO - Building dictionary\n"
          ]
        },
        {
          "output_type": "stream",
          "name": "stdout",
          "text": [
            "Wow! all topics\n"
          ]
        },
        {
          "output_type": "stream",
          "name": "stderr",
          "text": [
            "20it [00:00, 365.87it/s]\n",
            "0it [00:00, ?it/s]\n",
            "1it [00:00, 2334.06it/s]\n",
            "0it [00:00, ?it/s]\n"
          ]
        },
        {
          "output_type": "stream",
          "name": "stdout",
          "text": [
            "COMPONENTS:  0.7250493604277662 0.46476695188644085\n"
          ]
        },
        {
          "output_type": "stream",
          "name": "stderr",
          "text": [
            "20it [00:00, 10601.05it/s]\n",
            "0it [00:00, ?it/s]\n",
            "20it [00:00, 2487.13it/s]\n",
            "0it [00:00, ?it/s]\n",
            "20it [00:00, 3213.66it/s]\n",
            "0it [00:00, ?it/s]\n",
            "20it [00:00, 1111.91it/s]\n",
            "0it [00:00, ?it/s]\n",
            "20it [00:00, 1160.09it/s]\n",
            "0it [00:00, ?it/s]\n",
            "20it [00:00, 1004.12it/s]\n",
            "0it [00:00, ?it/s]\n",
            "20it [00:00, 743.84it/s]\n",
            "0it [00:00, ?it/s]\n",
            "20it [00:00, 688.96it/s]\n",
            "0it [00:00, ?it/s]\n",
            "20it [00:00, 543.28it/s]\n",
            "0it [00:00, ?it/s]\n",
            "20it [00:00, 451.41it/s]\n",
            "0it [00:00, ?it/s]\n",
            "2023-12-19 09:48:40,251 - root - INFO - Fitness estimation took  10.51\n",
            "2023-12-19 09:48:40,945 - root - INFO - Deleting bigartm logs: []\n",
            "2023-12-19 09:48:40,986 - root - INFO - Doing fitness calculating with individual {\"id\": \"f52c65ef-99b7-4603-89e9-37d6b58ec85d\", \"data_path\": \"autotm_artifacts/1659e6bd-8d17-49de-9ba8-9790c2047501\", \"params\": [96892.43485383395, 30.0, 0.0, 0.0, 0.0, 100.0, 25.34394981788416, 30.0, -418.6249974135577, 835.000029815335, 26.0, 1.0, 0.9306060634954084, 0.3382581659148661, 0.7286558208865347, 91099.03529212289], \"exp_id\": 0, \"alg_id\": \"ga\", \"iteration_id\": 4, \"tag\": \"v0\", \"fitness_value\": null, \"fitness_name\": \"default\", \"dataset\": \"__noname__\", \"topic_count\": 20, \"train_option\": \"offline\", \"force_dataset_settings_checkout\": false}\n",
            "2023-12-19 09:48:40,987 - root - INFO - Loading dataset entities\n",
            "2023-12-19 09:48:40,989 - root - INFO - Reading dictionary from autotm_artifacts/1659e6bd-8d17-49de-9ba8-9790c2047501/dictionary.txt\n",
            "2023-12-19 09:48:41,606 - root - INFO - Dataset entities initialization took  0.62\n",
            "2023-12-19 09:48:41,609 - root - INFO - Using TM model: <class 'autotm.fitness.tm.TopicModel'> according to fitness name: default, topics count: 20\n",
            "20it [00:00, 638.74it/s]\n",
            "0it [00:00, ?it/s]\n",
            "1it [00:00, 453.68it/s]\n",
            "0it [00:00, ?it/s]\n",
            "20it [00:00, 669.16it/s]\n",
            "0it [00:00, ?it/s]\n",
            "1it [00:00, 421.37it/s]\n",
            "0it [00:00, ?it/s]\n",
            "20it [00:00, 637.04it/s]\n",
            "0it [00:00, ?it/s]\n",
            "1it [00:00, 427.73it/s]\n",
            "0it [00:00, ?it/s]\n",
            "20it [00:00, 491.32it/s]\n",
            "0it [00:00, ?it/s]\n",
            "1it [00:00, 2402.24it/s]\n",
            "0it [00:00, ?it/s]\n"
          ]
        },
        {
          "output_type": "stream",
          "name": "stdout",
          "text": [
            "Training is complete\n"
          ]
        },
        {
          "output_type": "stream",
          "name": "stderr",
          "text": [
            "2023-12-19 09:48:50,707 - root - INFO - Building dictionary\n"
          ]
        },
        {
          "output_type": "stream",
          "name": "stdout",
          "text": [
            "Wow! all topics\n"
          ]
        },
        {
          "output_type": "stream",
          "name": "stderr",
          "text": [
            "20it [00:00, 665.56it/s]\n",
            "0it [00:00, ?it/s]\n",
            "1it [00:00, 2283.24it/s]\n",
            "0it [00:00, ?it/s]\n"
          ]
        },
        {
          "output_type": "stream",
          "name": "stdout",
          "text": [
            "COMPONENTS:  0.7265703699934913 0.46476695188644085\n"
          ]
        },
        {
          "output_type": "stream",
          "name": "stderr",
          "text": [
            "20it [00:00, 6846.17it/s]\n",
            "0it [00:00, ?it/s]\n",
            "20it [00:00, 5022.52it/s]\n",
            "0it [00:00, ?it/s]\n",
            "20it [00:00, 3343.54it/s]\n",
            "0it [00:00, ?it/s]\n",
            "20it [00:00, 1369.48it/s]\n",
            "0it [00:00, ?it/s]\n",
            "20it [00:00, 1157.42it/s]\n",
            "0it [00:00, ?it/s]\n",
            "20it [00:00, 945.48it/s]\n",
            "0it [00:00, ?it/s]\n",
            "20it [00:00, 841.89it/s]\n",
            "0it [00:00, ?it/s]\n",
            "20it [00:00, 688.39it/s]\n",
            "0it [00:00, ?it/s]\n",
            "20it [00:00, 514.77it/s]\n",
            "0it [00:00, ?it/s]\n",
            "20it [00:00, 460.88it/s]\n",
            "0it [00:00, ?it/s]\n",
            "2023-12-19 09:48:51,765 - root - INFO - Fitness estimation took  10.78\n",
            "2023-12-19 09:48:52,471 - root - INFO - Deleting bigartm logs: []\n",
            "2023-12-19 09:48:52,514 - root - INFO - Doing fitness calculating with individual {\"id\": \"643a6027-f043-4647-acd5-c38db152386d\", \"data_path\": \"autotm_artifacts/1659e6bd-8d17-49de-9ba8-9790c2047501\", \"params\": [30.017253783386877, 28.0, 0.0, 0.0, 0.0, 414.67420851662337, -1000.0, 30.0, -484.3447253295297, 834.6587454882463, 26.0, 1.0, 0.9306060634954084, 0.3382581659148661, 0.7286558208865347, 92727.04248734162], \"exp_id\": 0, \"alg_id\": \"ga\", \"iteration_id\": 4, \"tag\": \"v0\", \"fitness_value\": null, \"fitness_name\": \"default\", \"dataset\": \"__noname__\", \"topic_count\": 20, \"train_option\": \"offline\", \"force_dataset_settings_checkout\": false}\n",
            "2023-12-19 09:48:52,515 - root - INFO - Loading dataset entities\n",
            "2023-12-19 09:48:52,518 - root - INFO - Reading dictionary from autotm_artifacts/1659e6bd-8d17-49de-9ba8-9790c2047501/dictionary.txt\n",
            "2023-12-19 09:48:53,096 - root - INFO - Dataset entities initialization took  0.58\n",
            "2023-12-19 09:48:53,098 - root - INFO - Using TM model: <class 'autotm.fitness.tm.TopicModel'> according to fitness name: default, topics count: 20\n",
            "20it [00:00, 670.42it/s]\n",
            "0it [00:00, ?it/s]\n",
            "1it [00:00, 523.57it/s]\n",
            "0it [00:00, ?it/s]\n",
            "20it [00:00, 664.05it/s]\n",
            "0it [00:00, ?it/s]\n",
            "1it [00:00, 506.07it/s]\n",
            "0it [00:00, ?it/s]\n",
            "20it [00:00, 571.84it/s]\n",
            "0it [00:00, ?it/s]\n",
            "1it [00:00, 516.60it/s]\n",
            "0it [00:00, ?it/s]\n",
            "20it [00:00, 413.70it/s]\n",
            "0it [00:00, ?it/s]\n",
            "1it [00:00, 509.33it/s]\n",
            "0it [00:00, ?it/s]\n"
          ]
        },
        {
          "output_type": "stream",
          "name": "stdout",
          "text": [
            "Training is complete\n"
          ]
        },
        {
          "output_type": "stream",
          "name": "stderr",
          "text": [
            "2023-12-19 09:49:00,816 - root - INFO - Building dictionary\n"
          ]
        },
        {
          "output_type": "stream",
          "name": "stdout",
          "text": [
            "Wow! all topics\n"
          ]
        },
        {
          "output_type": "stream",
          "name": "stderr",
          "text": [
            "20it [00:00, 384.69it/s]\n",
            "0it [00:00, ?it/s]\n",
            "1it [00:00, 489.07it/s]\n",
            "0it [00:00, ?it/s]\n"
          ]
        },
        {
          "output_type": "stream",
          "name": "stdout",
          "text": [
            "COMPONENTS:  0.5303709721408287 0.1676806488725988\n"
          ]
        },
        {
          "output_type": "stream",
          "name": "stderr",
          "text": [
            "20it [00:00, 8824.54it/s]\n",
            "0it [00:00, ?it/s]\n",
            "20it [00:00, 5624.28it/s]\n",
            "0it [00:00, ?it/s]\n",
            "20it [00:00, 2541.00it/s]\n",
            "0it [00:00, ?it/s]\n",
            "20it [00:00, 1404.96it/s]\n",
            "0it [00:00, ?it/s]\n",
            "20it [00:00, 801.31it/s]\n",
            "0it [00:00, ?it/s]\n",
            "20it [00:00, 643.44it/s]\n",
            "0it [00:00, ?it/s]\n",
            "20it [00:00, 466.05it/s]\n",
            "0it [00:00, ?it/s]\n",
            "20it [00:00, 423.14it/s]\n",
            "0it [00:00, ?it/s]\n",
            "20it [00:00, 365.13it/s]\n",
            "0it [00:00, ?it/s]\n",
            "20it [00:00, 382.10it/s]\n",
            "0it [00:00, ?it/s]\n",
            "2023-12-19 09:49:02,429 - root - INFO - Fitness estimation took  9.91\n",
            "2023-12-19 09:49:03,256 - root - INFO - Deleting bigartm logs: []\n",
            "2023-12-19 09:49:03,314 - root - INFO - Doing fitness calculating with individual {\"id\": \"2acedd07-62ed-4095-a695-5f06234577d2\", \"data_path\": \"autotm_artifacts/1659e6bd-8d17-49de-9ba8-9790c2047501\", \"params\": [96887.1876058615, 23.0, 98.80448285976293, 25.38674409026143, 0.0, 17.968628717110676, -752.5488164011348, 30.0, -383.7117924383422, 834.7214207698994, 27.0, 1.0, 0.9609792888292359, 0.13056841268079034, 0.9253274209331299, 87779.95536237671], \"exp_id\": 0, \"alg_id\": \"ga\", \"iteration_id\": 4, \"tag\": \"v0\", \"fitness_value\": null, \"fitness_name\": \"default\", \"dataset\": \"__noname__\", \"topic_count\": 20, \"train_option\": \"offline\", \"force_dataset_settings_checkout\": false}\n",
            "2023-12-19 09:49:03,316 - root - INFO - Loading dataset entities\n",
            "2023-12-19 09:49:03,317 - root - INFO - Reading dictionary from autotm_artifacts/1659e6bd-8d17-49de-9ba8-9790c2047501/dictionary.txt\n",
            "2023-12-19 09:49:04,014 - root - INFO - Dataset entities initialization took  0.70\n",
            "2023-12-19 09:49:04,016 - root - INFO - Using TM model: <class 'autotm.fitness.tm.TopicModel'> according to fitness name: default, topics count: 20\n",
            "20it [00:00, 611.02it/s]\n",
            "0it [00:00, ?it/s]\n",
            "1it [00:00, 536.63it/s]\n",
            "0it [00:00, ?it/s]\n",
            "20it [00:00, 580.59it/s]\n",
            "0it [00:00, ?it/s]\n",
            "1it [00:00, 486.80it/s]\n",
            "0it [00:00, ?it/s]\n",
            "20it [00:00, 589.69it/s]\n",
            "0it [00:00, ?it/s]\n",
            "1it [00:00, 519.68it/s]\n",
            "0it [00:00, ?it/s]\n",
            "20it [00:00, 607.86it/s]\n",
            "0it [00:00, ?it/s]\n",
            "1it [00:00, 2270.87it/s]\n",
            "0it [00:00, ?it/s]\n"
          ]
        },
        {
          "output_type": "stream",
          "name": "stdout",
          "text": [
            "Training is complete\n"
          ]
        },
        {
          "output_type": "stream",
          "name": "stderr",
          "text": [
            "2023-12-19 09:49:10,954 - root - INFO - Building dictionary\n"
          ]
        },
        {
          "output_type": "stream",
          "name": "stdout",
          "text": [
            "Wow! all topics\n"
          ]
        },
        {
          "output_type": "stream",
          "name": "stderr",
          "text": [
            "20it [00:00, 629.60it/s]\n",
            "0it [00:00, ?it/s]\n",
            "1it [00:00, 2396.75it/s]\n",
            "0it [00:00, ?it/s]\n"
          ]
        },
        {
          "output_type": "stream",
          "name": "stdout",
          "text": [
            "COMPONENTS:  0.7229624812585361 0.45674500358089537\n"
          ]
        },
        {
          "output_type": "stream",
          "name": "stderr",
          "text": [
            "20it [00:00, 10607.75it/s]\n",
            "0it [00:00, ?it/s]\n",
            "20it [00:00, 4933.31it/s]\n",
            "0it [00:00, ?it/s]\n",
            "20it [00:00, 3020.96it/s]\n",
            "0it [00:00, ?it/s]\n",
            "20it [00:00, 1027.63it/s]\n",
            "0it [00:00, ?it/s]\n",
            "20it [00:00, 946.53it/s]\n",
            "0it [00:00, ?it/s]\n",
            "20it [00:00, 820.70it/s]\n",
            "0it [00:00, ?it/s]\n",
            "20it [00:00, 641.26it/s]\n",
            "0it [00:00, ?it/s]\n",
            "20it [00:00, 511.04it/s]\n",
            "0it [00:00, ?it/s]\n",
            "20it [00:00, 498.76it/s]\n",
            "0it [00:00, ?it/s]\n",
            "20it [00:00, 422.42it/s]\n",
            "0it [00:00, ?it/s]\n",
            "2023-12-19 09:49:12,018 - root - INFO - Fitness estimation took  8.70\n",
            "2023-12-19 09:49:12,673 - root - INFO - Deleting bigartm logs: []\n",
            "2023-12-19 09:49:12,714 - root - INFO - Doing fitness calculating with individual {\"id\": \"cc36894c-2e55-4218-8051-4f06a4f0ec1d\", \"data_path\": \"autotm_artifacts/1659e6bd-8d17-49de-9ba8-9790c2047501\", \"params\": [77.75430506700127, 0.0, 0.0, 0.0, 30.0, 656.1953625881292, -1000.0, 30.0, -493.0004395894432, 834.8933699593863, 26.0, 1.0, 0.9306060634954084, 0.3382581659148661, 0.7286558208865347, 93586.91506415952], \"exp_id\": 0, \"alg_id\": \"ga\", \"iteration_id\": 4, \"tag\": \"v0\", \"fitness_value\": null, \"fitness_name\": \"default\", \"dataset\": \"__noname__\", \"topic_count\": 20, \"train_option\": \"offline\", \"force_dataset_settings_checkout\": false}\n",
            "2023-12-19 09:49:12,715 - root - INFO - Loading dataset entities\n",
            "2023-12-19 09:49:12,718 - root - INFO - Reading dictionary from autotm_artifacts/1659e6bd-8d17-49de-9ba8-9790c2047501/dictionary.txt\n",
            "2023-12-19 09:49:13,352 - root - INFO - Dataset entities initialization took  0.63\n",
            "2023-12-19 09:49:13,354 - root - INFO - Using TM model: <class 'autotm.fitness.tm.TopicModel'> according to fitness name: default, topics count: 20\n",
            "20it [00:00, 622.94it/s]\n",
            "0it [00:00, ?it/s]\n",
            "1it [00:00, 453.93it/s]\n",
            "0it [00:00, ?it/s]\n",
            "20it [00:00, 663.81it/s]\n",
            "0it [00:00, ?it/s]\n",
            "1it [00:00, 499.32it/s]\n",
            "0it [00:00, ?it/s]\n",
            "20it [00:00, 774.59it/s]\n",
            "0it [00:00, ?it/s]\n",
            "1it [00:00, 515.78it/s]\n",
            "0it [00:00, ?it/s]\n"
          ]
        },
        {
          "output_type": "stream",
          "name": "stdout",
          "text": [
            "Training is complete\n"
          ]
        },
        {
          "output_type": "stream",
          "name": "stderr",
          "text": [
            "2023-12-19 09:49:22,162 - root - INFO - Building dictionary\n"
          ]
        },
        {
          "output_type": "stream",
          "name": "stdout",
          "text": [
            "Wow! all topics\n"
          ]
        },
        {
          "output_type": "stream",
          "name": "stderr",
          "text": [
            "20it [00:00, 668.75it/s]\n",
            "0it [00:00, ?it/s]\n",
            "1it [00:00, 475.60it/s]\n",
            "0it [00:00, ?it/s]\n"
          ]
        },
        {
          "output_type": "stream",
          "name": "stdout",
          "text": [
            "COMPONENTS:  0.5322226045729359 0.1676806488725988\n"
          ]
        },
        {
          "output_type": "stream",
          "name": "stderr",
          "text": [
            "20it [00:00, 11475.52it/s]\n",
            "0it [00:00, ?it/s]\n",
            "20it [00:00, 5498.92it/s]\n",
            "0it [00:00, ?it/s]\n",
            "20it [00:00, 2468.18it/s]\n",
            "0it [00:00, ?it/s]\n",
            "20it [00:00, 1428.87it/s]\n",
            "0it [00:00, ?it/s]\n",
            "20it [00:00, 1148.68it/s]\n",
            "0it [00:00, ?it/s]\n",
            "20it [00:00, 976.41it/s]\n",
            "0it [00:00, ?it/s]\n",
            "20it [00:00, 946.17it/s]\n",
            "0it [00:00, ?it/s]\n",
            "20it [00:00, 642.97it/s]\n",
            "0it [00:00, ?it/s]\n",
            "20it [00:00, 570.97it/s]\n",
            "0it [00:00, ?it/s]\n",
            "20it [00:00, 481.62it/s]\n",
            "0it [00:00, ?it/s]\n",
            "2023-12-19 09:49:23,190 - root - INFO - Fitness estimation took  10.48\n",
            "2023-12-19 09:49:23,887 - root - INFO - Deleting bigartm logs: []\n",
            "2023-12-19 09:49:23,929 - root - INFO - The fitness results have been obtained\n",
            "2023-12-19 09:49:23,931 - GA_algo - INFO - TIME OF THE FITNESS FUNCTION IN MUTATION: 122.76565074920654\n",
            "2023-12-19 09:49:23,933 - GA_algo - INFO - MUTATION IS OVER\n",
            "2023-12-19 09:49:23,935 - GA_algo - INFO - Population len 11. Best params so far: [96893.23157223957, 29.0, 100.0, 38.290353126619756, 0.0, -801.647151373432, -1000.0, 29.0, -445.98753356900784, 835.0423325530077, 24.0, 1.0, 0.5202512404944241, 0.3353393609599058, 0.05647051138561909, 93662.61498240306], with fitness: 1.197577895407321.ITERATION TIME: 200.74766945838928DATASET __noname__.TOPICS NUM 20.RUN ID 36f347f7-954e-433c-a4a6-0f4090f060e3.\n",
            "2023-12-19 09:49:23,937 - root - INFO - Sending a best individual to be logged\n",
            "2023-12-19 09:49:23,940 - root - INFO - Doing fitness calculating with individual {\"id\": \"c76a5b41-488f-4421-bf3d-6ad742afd7df\", \"data_path\": \"autotm_artifacts/1659e6bd-8d17-49de-9ba8-9790c2047501\", \"params\": [96893.23157223957, 29.0, 100.0, 38.290353126619756, 0.0, -801.647151373432, -1000.0, 29.0, -445.98753356900784, 835.0423325530077, 24.0, 1.0, 0.5202512404944241, 0.3353393609599058, 0.05647051138561909, 93662.61498240306], \"exp_id\": null, \"alg_id\": \"ga\", \"iteration_id\": 4, \"tag\": \"v0\", \"fitness_value\": {\"avg_coherence_score\": 1.197577895407321, \"perplexityScore\": 1266.1639404296875, \"backgroundTokensRatioScore\": 0.7448148131370544, \"contrast\": 0.8800679445266724, \"purity\": 0.8887553215026855, \"kernelSize\": 120.9000015258789, \"npmi_50_list\": null, \"npmi_50\": null, \"sparsity_phi\": 0.6590555310249329, \"sparsity_theta\": 0.0, \"topic_significance_uni\": null, \"topic_significance_vacuous\": null, \"topic_significance_back\": null, \"switchP_list\": [NaN], \"switchP\": NaN, \"all_topics\": true, \"coherence_10_list\": [0.31903521280939834, 0.8758205683080579, 0.28763487718125974, 0.882107189256187, 0.1921592785322912, 0.5958033922951873, 0.6840006850830136, 0.5643803197501599, 0.51737208052135, 0.2733091189752115, 0.431901601431943, 0.18063048981962065, 0.25125471613583034, 0.8127051740230897, 0.1647791845273118, 0.9086968445100421, 0.653339172247262, 0.4607040150523455, 0.4351360931955407, 0.18081363112934612], \"coherence_10\": 0.4835791822392224, \"coherence_15_list\": [0.32258051494917006, 1.0656398709901513, 0.35712180622958023, 1.1382348839082697, 0.2616262109216796, 0.5062116537761764, 0.7500492716560148, 0.3595262989881546, 0.5127420654802957, 0.3024880753245088, 0.6071176679396283, 0.20860257708981897, 0.26894326662007645, 0.6788884206844773, 0.26933832735662105, 0.8179934582871992, 0.8072972449156613, 0.41730441021634274, 0.6235474371743099, 0.25096790835097116], \"coherence_15\": 0.5263110685429553, \"coherence_20_list\": [0.44908860579802096, 1.1244642813961225, 0.41508079903872896, 1.0287762301209449, 0.5461819115574996, 0.540926304032627, 0.6112630216772951, 0.46759950898523184, 0.5163337236471164, 0.4090047101671399, 0.6695257538162931, 0.30775691955963214, 0.34124456377455115, 0.8287295566195586, 0.4042117049563766, 0.6683994436499937, 0.6975430211866304, 0.5753116932959256, 0.8553568964042012, 0.34584612525954783], \"coherence_20\": 0.5901322387471718, \"coherence_25_list\": [0.562148501066, 1.116568970000786, 0.5193748951814813, 1.0305012020405, 0.6590566869553075, 0.5330618268501179, 0.5767708226728978, 0.5063414029934117, 0.7549236153377695, 0.3960913758674069, 0.8745454981911841, 0.36845594001479803, 0.3471447013898829, 0.8292493547121247, 0.4818430355073839, 0.6955464904491284, 0.8171572422143125, 0.6127976203738198, 0.7778197716473514, 0.42359652211986376], \"coherence_25\": 0.6441497737792764, \"coherence_30_list\": [0.6428708622142443, 1.2051300662936213, 0.5005385623849904, 0.9295623122677277, 0.7513496669174355, 0.6170673051728749, 0.5711557811022472, 0.5039053675126376, 0.8285093411404595, 0.4193178211383602, 0.9823665808552893, 0.46324012862791586, 0.41314877752269935, 0.8887386747465715, 0.5308933136442022, 0.7671347421168841, 0.9361042357623608, 0.6398755985359756, 0.6919444948900593, 0.47247392840874985], \"coherence_30\": 0.6877663780627653, \"coherence_35_list\": [0.730341944416346, 1.140350137563999, 0.545363505044258, 0.929324829893507, 0.7848953285986192, 0.7588886097746389, 0.5741474473781807, 0.5144483776778697, 0.8224352043573127, 0.44701400039029915, 1.1150763847140168, 0.5848124217421329, 0.45691728429899775, 0.9543652194953292, 0.5553225241347487, 0.7554235729196433, 0.9482581716338404, 0.7327805781131953, 0.5791819880681083, 0.5411088897760218], \"coherence_35\": 0.7235228209995531, \"coherence_40_list\": [0.7758842356553721, 1.039486639958991, 0.5280891532815046, 0.8778633557031048, 0.8030804155084914, 0.8188123256342388, 0.5647907501463788, 0.5541030823748764, 0.9104905706464292, 0.4700397140764959, 1.0959027092195266, 0.6995030075005058, 0.4621483828389914, 1.0413869122092532, 0.5656825697613582, 0.7151466286190119, 0.9266824128951284, 0.7368375894246721, 0.5440486594106915, 0.5742556674430003], \"coherence_40\": 0.7352117391154012, \"coherence_45_list\": [0.8175687709319817, 0.9977785947355087, 0.5100010026689679, 0.8876365513738252, 0.8139282066645626, 0.8523955018850001, 0.56958634737054, 0.5973210602598789, 0.952364859084197, 0.46345705083126854, 1.0598783305270745, 0.7449269889140596, 0.4496194704551656, 1.0071761236054073, 0.6264589974864011, 0.721275203602149, 0.9490215842933846, 0.753812761027535, 0.5016627013380506, 0.5922993564844509], \"coherence_45\": 0.7434084731769705, \"coherence_50_list\": [0.7798734920901798, 0.9183822295600339, 0.49112632084781965, 0.7838666962999339, 0.7768170497200685, 0.8801397911867812, 0.60847112053115, 0.5865880953880874, 0.9680241237150482, 0.47548890497073704, 0.9969978002810962, 0.7082249064505343, 0.46956034853575446, 0.9445657583715841, 0.6281785232716599, 0.6944652873945842, 0.9423200784940146, 0.8082534499141586, 0.4926993854980225, 0.6063075749100837], \"coherence_50\": 0.7280175468715666, \"coherence_55_list\": [0.7581404385654995, 0.9412223258829323, 0.49731756259903165, 0.707551713378943, 0.7858788816449949, 0.8993015772814195, 0.5576869504777087, 0.5891543803544768, 0.9790884777588884, 0.46876540630296576, 0.9367097429077224, 0.6904161838485035, 0.4843880348903779, 0.930857777110447, 0.6833137788582557, 0.6781720719663724, 0.894408244364888, 0.775425075106808, 0.48663117787961324, 0.6159772181434022], \"coherence_55\": 0.7180203509661626, \"npmi_15\": null, \"npmi_25\": null}, \"fitness_name\": \"default\", \"dataset\": \"__noname__\", \"topic_count\": 20, \"train_option\": \"offline\", \"force_dataset_settings_checkout\": false}\n",
            "2023-12-19 09:49:23,942 - root - INFO - Loading dataset entities\n",
            "2023-12-19 09:49:23,943 - root - INFO - Reading dictionary from autotm_artifacts/1659e6bd-8d17-49de-9ba8-9790c2047501/dictionary.txt\n",
            "2023-12-19 09:49:24,578 - root - INFO - Dataset entities initialization took  0.64\n",
            "2023-12-19 09:49:24,580 - root - INFO - Using TM model: <class 'autotm.fitness.tm.TopicModel'> according to fitness name: default, topics count: 20\n",
            "20it [00:00, 468.07it/s]\n",
            "0it [00:00, ?it/s]\n",
            "1it [00:00, 538.77it/s]\n",
            "0it [00:00, ?it/s]\n",
            "20it [00:00, 515.47it/s]\n",
            "0it [00:00, ?it/s]\n",
            "1it [00:00, 552.25it/s]\n",
            "0it [00:00, ?it/s]\n",
            "20it [00:00, 459.42it/s]\n",
            "0it [00:00, ?it/s]\n",
            "1it [00:00, 545.78it/s]\n",
            "0it [00:00, ?it/s]\n",
            "20it [00:00, 765.99it/s]\n",
            "0it [00:00, ?it/s]\n",
            "1it [00:00, 1643.54it/s]\n",
            "0it [00:00, ?it/s]\n"
          ]
        },
        {
          "output_type": "stream",
          "name": "stdout",
          "text": [
            "Training is complete\n"
          ]
        },
        {
          "output_type": "stream",
          "name": "stderr",
          "text": [
            "2023-12-19 09:49:33,193 - root - INFO - Building dictionary\n"
          ]
        },
        {
          "output_type": "stream",
          "name": "stdout",
          "text": [
            "Wow! all topics\n"
          ]
        },
        {
          "output_type": "stream",
          "name": "stderr",
          "text": [
            "20it [00:00, 414.35it/s]\n",
            "0it [00:00, ?it/s]\n",
            "1it [00:00, 1840.41it/s]\n",
            "0it [00:00, ?it/s]\n"
          ]
        },
        {
          "output_type": "stream",
          "name": "stdout",
          "text": [
            "COMPONENTS:  0.7280175468715666 0.46956034853575446\n"
          ]
        },
        {
          "output_type": "stream",
          "name": "stderr",
          "text": [
            "20it [00:00, 11063.85it/s]\n",
            "0it [00:00, ?it/s]\n",
            "20it [00:00, 5609.98it/s]\n",
            "0it [00:00, ?it/s]\n",
            "20it [00:00, 2583.97it/s]\n",
            "0it [00:00, ?it/s]\n",
            "20it [00:00, 1528.87it/s]\n",
            "0it [00:00, ?it/s]\n",
            "20it [00:00, 1184.05it/s]\n",
            "0it [00:00, ?it/s]\n",
            "20it [00:00, 1072.18it/s]\n",
            "0it [00:00, ?it/s]\n",
            "20it [00:00, 824.57it/s]\n",
            "0it [00:00, ?it/s]\n",
            "20it [00:00, 664.28it/s]\n",
            "0it [00:00, ?it/s]\n",
            "20it [00:00, 549.43it/s]\n",
            "0it [00:00, ?it/s]\n",
            "20it [00:00, 414.08it/s]\n",
            "0it [00:00, ?it/s]\n",
            "2023-12-19 09:49:34,260 - root - INFO - Fitness estimation took  10.32\n",
            "2023-12-19 09:49:34,939 - root - INFO - Logging params and artifacts to mlflow\n",
            "2023-12-19 09:49:34,940 - root - INFO - Created experiment_None\n",
            "2023-12-19 09:49:34,956 - root - INFO - Experiment exists, omitting creation\n",
            "2023-12-19 09:49:34,971 - root - DEBUG - Params dict: {'val_decor': 96893.23157223957, 'var_n_0': 29.0, 'var_sm_0': 100.0, 'var_sm_1': 38.290353126619756, 'var_n_1': 0.0, 'var_sp_0': -801.647151373432, 'var_sp_1': -1000.0, 'var_n_2': 29.0, 'var_sp_2': -445.98753356900784, 'var_sp_3': 835.0423325530077, 'var_n_3': 24.0, 'var_n_4': 1.0, 'ext_mutation_prob': 0.5202512404944241, 'ext_elem_mutation_prob': 0.3353393609599058, 'ext_mutation_selector': 0.05647051138561909, 'val_decor_2': 93662.61498240306}\n"
          ]
        },
        {
          "output_type": "stream",
          "name": "stdout",
          "text": [
            "Experiment run name: fitness-__noname__-da5e3a8d-b1a5-4890-b7e1-b8a7d07c4c41_tmp_4\n"
          ]
        },
        {
          "output_type": "stream",
          "name": "stderr",
          "text": [
            "2023-12-19 09:49:35,249 - root - INFO - Logged params and artifacts to mlflow\n",
            "2023-12-19 09:49:35,259 - root - INFO - Deleting bigartm logs: []\n",
            "2023-12-19 09:49:35,311 - GA_algo - INFO - Y: [1.016357123014295, 1.0849871905740711, 1.189785990918807, 1.194805458251576, 1.197577895407321]\n",
            "2023-12-19 09:49:35,312 - root - INFO - Sending a best individual to be logged\n",
            "2023-12-19 09:49:35,315 - root - INFO - Doing fitness calculating with individual {\"id\": \"c76a5b41-488f-4421-bf3d-6ad742afd7df\", \"data_path\": \"autotm_artifacts/1659e6bd-8d17-49de-9ba8-9790c2047501\", \"params\": [96893.23157223957, 29.0, 100.0, 38.290353126619756, 0.0, -801.647151373432, -1000.0, 29.0, -445.98753356900784, 835.0423325530077, 24.0, 1.0, 0.5202512404944241, 0.3353393609599058, 0.05647051138561909, 93662.61498240306], \"exp_id\": null, \"alg_id\": \"ga\", \"iteration_id\": 4, \"tag\": \"v0\", \"fitness_value\": {\"avg_coherence_score\": 1.197577895407321, \"perplexityScore\": 1266.1639404296875, \"backgroundTokensRatioScore\": 0.7448148131370544, \"contrast\": 0.8800679445266724, \"purity\": 0.8887553215026855, \"kernelSize\": 120.9000015258789, \"npmi_50_list\": null, \"npmi_50\": null, \"sparsity_phi\": 0.6590555310249329, \"sparsity_theta\": 0.0, \"topic_significance_uni\": null, \"topic_significance_vacuous\": null, \"topic_significance_back\": null, \"switchP_list\": [NaN], \"switchP\": NaN, \"all_topics\": true, \"coherence_10_list\": [0.31903521280939834, 0.8758205683080579, 0.28763487718125974, 0.882107189256187, 0.1921592785322912, 0.5958033922951873, 0.6840006850830136, 0.5643803197501599, 0.51737208052135, 0.2733091189752115, 0.431901601431943, 0.18063048981962065, 0.25125471613583034, 0.8127051740230897, 0.1647791845273118, 0.9086968445100421, 0.653339172247262, 0.4607040150523455, 0.4351360931955407, 0.18081363112934612], \"coherence_10\": 0.4835791822392224, \"coherence_15_list\": [0.32258051494917006, 1.0656398709901513, 0.35712180622958023, 1.1382348839082697, 0.2616262109216796, 0.5062116537761764, 0.7500492716560148, 0.3595262989881546, 0.5127420654802957, 0.3024880753245088, 0.6071176679396283, 0.20860257708981897, 0.26894326662007645, 0.6788884206844773, 0.26933832735662105, 0.8179934582871992, 0.8072972449156613, 0.41730441021634274, 0.6235474371743099, 0.25096790835097116], \"coherence_15\": 0.5263110685429553, \"coherence_20_list\": [0.44908860579802096, 1.1244642813961225, 0.41508079903872896, 1.0287762301209449, 0.5461819115574996, 0.540926304032627, 0.6112630216772951, 0.46759950898523184, 0.5163337236471164, 0.4090047101671399, 0.6695257538162931, 0.30775691955963214, 0.34124456377455115, 0.8287295566195586, 0.4042117049563766, 0.6683994436499937, 0.6975430211866304, 0.5753116932959256, 0.8553568964042012, 0.34584612525954783], \"coherence_20\": 0.5901322387471718, \"coherence_25_list\": [0.562148501066, 1.116568970000786, 0.5193748951814813, 1.0305012020405, 0.6590566869553075, 0.5330618268501179, 0.5767708226728978, 0.5063414029934117, 0.7549236153377695, 0.3960913758674069, 0.8745454981911841, 0.36845594001479803, 0.3471447013898829, 0.8292493547121247, 0.4818430355073839, 0.6955464904491284, 0.8171572422143125, 0.6127976203738198, 0.7778197716473514, 0.42359652211986376], \"coherence_25\": 0.6441497737792764, \"coherence_30_list\": [0.6428708622142443, 1.2051300662936213, 0.5005385623849904, 0.9295623122677277, 0.7513496669174355, 0.6170673051728749, 0.5711557811022472, 0.5039053675126376, 0.8285093411404595, 0.4193178211383602, 0.9823665808552893, 0.46324012862791586, 0.41314877752269935, 0.8887386747465715, 0.5308933136442022, 0.7671347421168841, 0.9361042357623608, 0.6398755985359756, 0.6919444948900593, 0.47247392840874985], \"coherence_30\": 0.6877663780627653, \"coherence_35_list\": [0.730341944416346, 1.140350137563999, 0.545363505044258, 0.929324829893507, 0.7848953285986192, 0.7588886097746389, 0.5741474473781807, 0.5144483776778697, 0.8224352043573127, 0.44701400039029915, 1.1150763847140168, 0.5848124217421329, 0.45691728429899775, 0.9543652194953292, 0.5553225241347487, 0.7554235729196433, 0.9482581716338404, 0.7327805781131953, 0.5791819880681083, 0.5411088897760218], \"coherence_35\": 0.7235228209995531, \"coherence_40_list\": [0.7758842356553721, 1.039486639958991, 0.5280891532815046, 0.8778633557031048, 0.8030804155084914, 0.8188123256342388, 0.5647907501463788, 0.5541030823748764, 0.9104905706464292, 0.4700397140764959, 1.0959027092195266, 0.6995030075005058, 0.4621483828389914, 1.0413869122092532, 0.5656825697613582, 0.7151466286190119, 0.9266824128951284, 0.7368375894246721, 0.5440486594106915, 0.5742556674430003], \"coherence_40\": 0.7352117391154012, \"coherence_45_list\": [0.8175687709319817, 0.9977785947355087, 0.5100010026689679, 0.8876365513738252, 0.8139282066645626, 0.8523955018850001, 0.56958634737054, 0.5973210602598789, 0.952364859084197, 0.46345705083126854, 1.0598783305270745, 0.7449269889140596, 0.4496194704551656, 1.0071761236054073, 0.6264589974864011, 0.721275203602149, 0.9490215842933846, 0.753812761027535, 0.5016627013380506, 0.5922993564844509], \"coherence_45\": 0.7434084731769705, \"coherence_50_list\": [0.7798734920901798, 0.9183822295600339, 0.49112632084781965, 0.7838666962999339, 0.7768170497200685, 0.8801397911867812, 0.60847112053115, 0.5865880953880874, 0.9680241237150482, 0.47548890497073704, 0.9969978002810962, 0.7082249064505343, 0.46956034853575446, 0.9445657583715841, 0.6281785232716599, 0.6944652873945842, 0.9423200784940146, 0.8082534499141586, 0.4926993854980225, 0.6063075749100837], \"coherence_50\": 0.7280175468715666, \"coherence_55_list\": [0.7581404385654995, 0.9412223258829323, 0.49731756259903165, 0.707551713378943, 0.7858788816449949, 0.8993015772814195, 0.5576869504777087, 0.5891543803544768, 0.9790884777588884, 0.46876540630296576, 0.9367097429077224, 0.6904161838485035, 0.4843880348903779, 0.930857777110447, 0.6833137788582557, 0.6781720719663724, 0.894408244364888, 0.775425075106808, 0.48663117787961324, 0.6159772181434022], \"coherence_55\": 0.7180203509661626, \"npmi_15\": null, \"npmi_25\": null}, \"fitness_name\": \"default\", \"dataset\": \"__noname__\", \"topic_count\": 20, \"train_option\": \"offline\", \"force_dataset_settings_checkout\": false}\n",
            "2023-12-19 09:49:35,318 - root - INFO - Loading dataset entities\n",
            "2023-12-19 09:49:35,320 - root - INFO - Reading dictionary from autotm_artifacts/1659e6bd-8d17-49de-9ba8-9790c2047501/dictionary.txt\n",
            "2023-12-19 09:49:35,936 - root - INFO - Dataset entities initialization took  0.62\n",
            "2023-12-19 09:49:35,938 - root - INFO - Using TM model: <class 'autotm.fitness.tm.TopicModel'> according to fitness name: default, topics count: 20\n",
            "20it [00:00, 621.61it/s]\n",
            "0it [00:00, ?it/s]\n",
            "1it [00:00, 453.49it/s]\n",
            "0it [00:00, ?it/s]\n",
            "20it [00:00, 598.65it/s]\n",
            "0it [00:00, ?it/s]\n",
            "1it [00:00, 498.61it/s]\n",
            "0it [00:00, ?it/s]\n",
            "20it [00:00, 633.24it/s]\n",
            "0it [00:00, ?it/s]\n",
            "1it [00:00, 537.66it/s]\n",
            "0it [00:00, ?it/s]\n",
            "20it [00:00, 581.67it/s]\n",
            "0it [00:00, ?it/s]\n",
            "1it [00:00, 1824.40it/s]\n",
            "0it [00:00, ?it/s]\n"
          ]
        },
        {
          "output_type": "stream",
          "name": "stdout",
          "text": [
            "Training is complete\n"
          ]
        },
        {
          "output_type": "stream",
          "name": "stderr",
          "text": [
            "2023-12-19 09:49:44,632 - root - INFO - Building dictionary\n"
          ]
        },
        {
          "output_type": "stream",
          "name": "stdout",
          "text": [
            "Wow! all topics\n"
          ]
        },
        {
          "output_type": "stream",
          "name": "stderr",
          "text": [
            "20it [00:00, 577.86it/s]\n",
            "0it [00:00, ?it/s]\n",
            "1it [00:00, 1683.11it/s]\n",
            "0it [00:00, ?it/s]\n"
          ]
        },
        {
          "output_type": "stream",
          "name": "stdout",
          "text": [
            "COMPONENTS:  0.7280175468715666 0.46956034853575446\n"
          ]
        },
        {
          "output_type": "stream",
          "name": "stderr",
          "text": [
            "20it [00:00, 10634.65it/s]\n",
            "0it [00:00, ?it/s]\n",
            "20it [00:00, 5565.69it/s]\n",
            "0it [00:00, ?it/s]\n",
            "20it [00:00, 3462.65it/s]\n",
            "0it [00:00, ?it/s]\n",
            "20it [00:00, 1370.82it/s]\n",
            "0it [00:00, ?it/s]\n",
            "20it [00:00, 962.43it/s]\n",
            "0it [00:00, ?it/s]\n",
            "20it [00:00, 968.84it/s]\n",
            "0it [00:00, ?it/s]\n",
            "20it [00:00, 718.87it/s]\n",
            "0it [00:00, ?it/s]\n",
            "20it [00:00, 552.44it/s]\n",
            "0it [00:00, ?it/s]\n",
            "20it [00:00, 546.81it/s]\n",
            "0it [00:00, ?it/s]\n",
            "20it [00:00, 443.94it/s]\n",
            "0it [00:00, ?it/s]\n",
            "2023-12-19 09:49:45,717 - root - INFO - Fitness estimation took  10.40\n",
            "2023-12-19 09:49:46,399 - root - INFO - Logging params and artifacts to mlflow\n",
            "2023-12-19 09:49:46,400 - root - INFO - Created experiment_None\n",
            "2023-12-19 09:49:46,412 - root - INFO - Experiment exists, omitting creation\n",
            "2023-12-19 09:49:46,429 - root - DEBUG - Params dict: {'val_decor': 96893.23157223957, 'var_n_0': 29.0, 'var_sm_0': 100.0, 'var_sm_1': 38.290353126619756, 'var_n_1': 0.0, 'var_sp_0': -801.647151373432, 'var_sp_1': -1000.0, 'var_n_2': 29.0, 'var_sp_2': -445.98753356900784, 'var_sp_3': 835.0423325530077, 'var_n_3': 24.0, 'var_n_4': 1.0, 'ext_mutation_prob': 0.5202512404944241, 'ext_elem_mutation_prob': 0.3353393609599058, 'ext_mutation_selector': 0.05647051138561909, 'val_decor_2': 93662.61498240306}\n"
          ]
        },
        {
          "output_type": "stream",
          "name": "stdout",
          "text": [
            "Experiment run name: fitness-__noname__-e74c2d26-3dfe-47a0-9c6f-2e93c7491925\n"
          ]
        },
        {
          "output_type": "stream",
          "name": "stderr",
          "text": [
            "2023-12-19 09:49:46,710 - root - INFO - Logged params and artifacts to mlflow\n",
            "2023-12-19 09:49:46,721 - root - INFO - Deleting bigartm logs: []\n",
            "2023-12-19 09:49:46,761 - GA_algo - INFO - Logged the best solution. Obtained fitness is 1.197577895407321\n",
            "2023-12-19 09:49:46,763 - root - INFO - Loading dataset entities\n",
            "2023-12-19 09:49:46,766 - root - INFO - Reading dictionary from autotm_artifacts/1659e6bd-8d17-49de-9ba8-9790c2047501/dictionary.txt\n",
            "2023-12-19 09:49:47,357 - root - INFO - Dataset entities initialization took  0.59\n",
            "20it [00:00, 620.78it/s]\n",
            "0it [00:00, ?it/s]\n",
            "1it [00:00, 540.16it/s]\n",
            "0it [00:00, ?it/s]\n",
            "20it [00:00, 646.74it/s]\n",
            "0it [00:00, ?it/s]\n",
            "1it [00:00, 432.45it/s]\n",
            "0it [00:00, ?it/s]\n",
            "20it [00:00, 586.06it/s]\n",
            "0it [00:00, ?it/s]\n",
            "1it [00:00, 482.71it/s]\n",
            "0it [00:00, ?it/s]\n",
            "20it [00:00, 453.39it/s]\n",
            "0it [00:00, ?it/s]\n",
            "1it [00:00, 1706.39it/s]\n",
            "0it [00:00, ?it/s]\n"
          ]
        },
        {
          "output_type": "stream",
          "name": "stdout",
          "text": [
            "Training is complete\n",
            "Starting...\n"
          ]
        }
      ]
    },
    {
      "cell_type": "code",
      "source": [
        "print(autotm.topics['main1'])"
      ],
      "metadata": {
        "colab": {
          "base_uri": "https://localhost:8080/"
        },
        "id": "UyNIgPHyzEpr",
        "outputId": "0961c4fc-f45c-4725-faf2-2a55fb07b193"
      },
      "execution_count": 26,
      "outputs": [
        {
          "output_type": "stream",
          "name": "stdout",
          "text": [
            "['рубль', 'валюта', 'доллар', 'курс', 'мск', 'октябрь', 'продавать', 'валютный', 'предыдущий', 'евро', 'купить', 'юань', 'отметка', 'экспортер', 'ослабление', 'укрепление', 'наиболее', 'сессия', 'курсы', 'регулятор', 'московский', 'пара', 'сообщаться', 'укрепляться', 'курская', 'спортивный', 'обязательный', 'фрунзенский', 'приморье', 'способствовать', 'обменный', 'александр', 'бюджетный', 'обменник', 'финам', 'потавин', 'rub', 'васильев', 'стабилизация', 'импортер', 'рублевый', 'публиковаться', 'посещение', 'позвонить', 'меняться', 'ноябрьский', 'репатриация', 'способный', 'наталия', 'опускаться']\n"
          ]
        }
      ]
    },
    {
      "cell_type": "code",
      "source": [
        "mixtures.head(1)"
      ],
      "metadata": {
        "colab": {
          "base_uri": "https://localhost:8080/",
          "height": 110
        },
        "id": "7BMAC8bi2rOq",
        "outputId": "c5aeb32e-9a2c-401a-f4f8-b85257730d2f"
      },
      "execution_count": 27,
      "outputs": [
        {
          "output_type": "execute_result",
          "data": {
            "text/plain": [
              "        main0     main1     main2     main3     main4     main5     main6  \\\n",
              "300  0.048978  0.048711  0.049686  0.049014  0.048761  0.049821  0.049298   \n",
              "\n",
              "        main7     main8     main9  ...    main11    main12    main13  \\\n",
              "300  0.049054  0.049059  0.049788  ...  0.049372  0.049093  0.048821   \n",
              "\n",
              "       main14    main15    main16    main17    main18   main19     back0  \n",
              "300  0.049016  0.049107  0.048981  0.048906  0.049028  0.04895  0.017683  \n",
              "\n",
              "[1 rows x 21 columns]"
            ],
            "text/html": [
              "\n",
              "  <div id=\"df-c9e53e7c-d822-41bc-8932-0638921a157f\" class=\"colab-df-container\">\n",
              "    <div>\n",
              "<style scoped>\n",
              "    .dataframe tbody tr th:only-of-type {\n",
              "        vertical-align: middle;\n",
              "    }\n",
              "\n",
              "    .dataframe tbody tr th {\n",
              "        vertical-align: top;\n",
              "    }\n",
              "\n",
              "    .dataframe thead th {\n",
              "        text-align: right;\n",
              "    }\n",
              "</style>\n",
              "<table border=\"1\" class=\"dataframe\">\n",
              "  <thead>\n",
              "    <tr style=\"text-align: right;\">\n",
              "      <th></th>\n",
              "      <th>main0</th>\n",
              "      <th>main1</th>\n",
              "      <th>main2</th>\n",
              "      <th>main3</th>\n",
              "      <th>main4</th>\n",
              "      <th>main5</th>\n",
              "      <th>main6</th>\n",
              "      <th>main7</th>\n",
              "      <th>main8</th>\n",
              "      <th>main9</th>\n",
              "      <th>...</th>\n",
              "      <th>main11</th>\n",
              "      <th>main12</th>\n",
              "      <th>main13</th>\n",
              "      <th>main14</th>\n",
              "      <th>main15</th>\n",
              "      <th>main16</th>\n",
              "      <th>main17</th>\n",
              "      <th>main18</th>\n",
              "      <th>main19</th>\n",
              "      <th>back0</th>\n",
              "    </tr>\n",
              "  </thead>\n",
              "  <tbody>\n",
              "    <tr>\n",
              "      <th>300</th>\n",
              "      <td>0.048978</td>\n",
              "      <td>0.048711</td>\n",
              "      <td>0.049686</td>\n",
              "      <td>0.049014</td>\n",
              "      <td>0.048761</td>\n",
              "      <td>0.049821</td>\n",
              "      <td>0.049298</td>\n",
              "      <td>0.049054</td>\n",
              "      <td>0.049059</td>\n",
              "      <td>0.049788</td>\n",
              "      <td>...</td>\n",
              "      <td>0.049372</td>\n",
              "      <td>0.049093</td>\n",
              "      <td>0.048821</td>\n",
              "      <td>0.049016</td>\n",
              "      <td>0.049107</td>\n",
              "      <td>0.048981</td>\n",
              "      <td>0.048906</td>\n",
              "      <td>0.049028</td>\n",
              "      <td>0.04895</td>\n",
              "      <td>0.017683</td>\n",
              "    </tr>\n",
              "  </tbody>\n",
              "</table>\n",
              "<p>1 rows × 21 columns</p>\n",
              "</div>\n",
              "    <div class=\"colab-df-buttons\">\n",
              "\n",
              "  <div class=\"colab-df-container\">\n",
              "    <button class=\"colab-df-convert\" onclick=\"convertToInteractive('df-c9e53e7c-d822-41bc-8932-0638921a157f')\"\n",
              "            title=\"Convert this dataframe to an interactive table.\"\n",
              "            style=\"display:none;\">\n",
              "\n",
              "  <svg xmlns=\"http://www.w3.org/2000/svg\" height=\"24px\" viewBox=\"0 -960 960 960\">\n",
              "    <path d=\"M120-120v-720h720v720H120Zm60-500h600v-160H180v160Zm220 220h160v-160H400v160Zm0 220h160v-160H400v160ZM180-400h160v-160H180v160Zm440 0h160v-160H620v160ZM180-180h160v-160H180v160Zm440 0h160v-160H620v160Z\"/>\n",
              "  </svg>\n",
              "    </button>\n",
              "\n",
              "  <style>\n",
              "    .colab-df-container {\n",
              "      display:flex;\n",
              "      gap: 12px;\n",
              "    }\n",
              "\n",
              "    .colab-df-convert {\n",
              "      background-color: #E8F0FE;\n",
              "      border: none;\n",
              "      border-radius: 50%;\n",
              "      cursor: pointer;\n",
              "      display: none;\n",
              "      fill: #1967D2;\n",
              "      height: 32px;\n",
              "      padding: 0 0 0 0;\n",
              "      width: 32px;\n",
              "    }\n",
              "\n",
              "    .colab-df-convert:hover {\n",
              "      background-color: #E2EBFA;\n",
              "      box-shadow: 0px 1px 2px rgba(60, 64, 67, 0.3), 0px 1px 3px 1px rgba(60, 64, 67, 0.15);\n",
              "      fill: #174EA6;\n",
              "    }\n",
              "\n",
              "    .colab-df-buttons div {\n",
              "      margin-bottom: 4px;\n",
              "    }\n",
              "\n",
              "    [theme=dark] .colab-df-convert {\n",
              "      background-color: #3B4455;\n",
              "      fill: #D2E3FC;\n",
              "    }\n",
              "\n",
              "    [theme=dark] .colab-df-convert:hover {\n",
              "      background-color: #434B5C;\n",
              "      box-shadow: 0px 1px 3px 1px rgba(0, 0, 0, 0.15);\n",
              "      filter: drop-shadow(0px 1px 2px rgba(0, 0, 0, 0.3));\n",
              "      fill: #FFFFFF;\n",
              "    }\n",
              "  </style>\n",
              "\n",
              "    <script>\n",
              "      const buttonEl =\n",
              "        document.querySelector('#df-c9e53e7c-d822-41bc-8932-0638921a157f button.colab-df-convert');\n",
              "      buttonEl.style.display =\n",
              "        google.colab.kernel.accessAllowed ? 'block' : 'none';\n",
              "\n",
              "      async function convertToInteractive(key) {\n",
              "        const element = document.querySelector('#df-c9e53e7c-d822-41bc-8932-0638921a157f');\n",
              "        const dataTable =\n",
              "          await google.colab.kernel.invokeFunction('convertToInteractive',\n",
              "                                                    [key], {});\n",
              "        if (!dataTable) return;\n",
              "\n",
              "        const docLinkHtml = 'Like what you see? Visit the ' +\n",
              "          '<a target=\"_blank\" href=https://colab.research.google.com/notebooks/data_table.ipynb>data table notebook</a>'\n",
              "          + ' to learn more about interactive tables.';\n",
              "        element.innerHTML = '';\n",
              "        dataTable['output_type'] = 'display_data';\n",
              "        await google.colab.output.renderOutput(dataTable, element);\n",
              "        const docLink = document.createElement('div');\n",
              "        docLink.innerHTML = docLinkHtml;\n",
              "        element.appendChild(docLink);\n",
              "      }\n",
              "    </script>\n",
              "  </div>\n",
              "\n",
              "    </div>\n",
              "  </div>\n"
            ]
          },
          "metadata": {},
          "execution_count": 27
        }
      ]
    },
    {
      "cell_type": "code",
      "source": [
        "y = mixtures.index.values\n",
        "x = mixtures.values"
      ],
      "metadata": {
        "id": "Kv58To-3286h"
      },
      "execution_count": 28,
      "outputs": []
    },
    {
      "cell_type": "code",
      "source": [
        "standardized_x = StandardScaler().fit_transform(x)"
      ],
      "metadata": {
        "id": "l47Y95mV3Ayy"
      },
      "execution_count": 29,
      "outputs": []
    },
    {
      "cell_type": "code",
      "source": [
        "y_kmeans = KMeans(n_clusters=10, random_state=0).fit(standardized_x)"
      ],
      "metadata": {
        "id": "wXLGp9DF3CYh"
      },
      "execution_count": 30,
      "outputs": []
    },
    {
      "cell_type": "code",
      "source": [
        "tsne = TSNE(n_components=2).fit_transform(standardized_x)"
      ],
      "metadata": {
        "id": "DVDwh-fI3ED6"
      },
      "execution_count": 31,
      "outputs": []
    },
    {
      "cell_type": "code",
      "source": [
        "plt.scatter(tsne[:, 0], tsne[:, 1],  c=y_kmeans.labels_, s=6, cmap='Spectral')\n",
        "plt.gca().set_aspect('equal', 'datalim')\n",
        "plt.colorbar(boundaries=np.arange(11)-0.5).set_ticks(np.arange(10))\n",
        "plt.title('Scatterplot of rbc data', fontsize=24)"
      ],
      "metadata": {
        "colab": {
          "base_uri": "https://localhost:8080/",
          "height": 886
        },
        "id": "WPTroZRm3Gty",
        "outputId": "6db7ea94-9486-4026-9f06-89de2863a77d"
      },
      "execution_count": 32,
      "outputs": [
        {
          "output_type": "execute_result",
          "data": {
            "text/plain": [
              "Text(0.5, 1.0, 'Scatterplot of rbc data')"
            ]
          },
          "metadata": {},
          "execution_count": 32
        },
        {
          "output_type": "display_data",
          "data": {
            "text/plain": [
              "<Figure size 1400x1000 with 2 Axes>"
            ],
            "image/png": "[encoded data removed]"
          },
          "metadata": {}
        }
      ]
    },
    {
      "cell_type": "code",
      "source": [],
      "metadata": {
        "id": "FBpvCT-O3Ksd"
      },
      "execution_count": null,
      "outputs": []
    }
  ]
}